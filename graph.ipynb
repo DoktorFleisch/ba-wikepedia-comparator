{
 "cells": [
  {
   "cell_type": "code",
   "execution_count": 2,
   "id": "initial_id",
   "metadata": {
    "collapsed": true,
    "ExecuteTime": {
     "end_time": "2024-11-29T13:56:40.260434Z",
     "start_time": "2024-11-29T13:56:40.218270Z"
    }
   },
   "outputs": [],
   "source": [
    "import networkx as nx\n",
    "import wikipediaapi\n",
    "#import graphviz"
   ]
  },
  {
   "cell_type": "code",
   "execution_count": 3,
   "outputs": [],
   "source": [
    "user_agent = 'wikipedia-graph (danielwarkus@hotmail.com)'"
   ],
   "metadata": {
    "collapsed": false,
    "ExecuteTime": {
     "end_time": "2024-11-29T13:57:43.828965Z",
     "start_time": "2024-11-29T13:57:43.790614Z"
    }
   },
   "id": "6e1bb31c3fbe942"
  },
  {
   "cell_type": "code",
   "execution_count": 4,
   "outputs": [],
   "source": [
    "wiki = wikipediaapi.Wikipedia(user_agent=user_agent, language='de')"
   ],
   "metadata": {
    "collapsed": false,
    "ExecuteTime": {
     "end_time": "2024-11-29T13:57:44.855171Z",
     "start_time": "2024-11-29T13:57:44.831287Z"
    }
   },
   "id": "247236e677b90351"
  },
  {
   "cell_type": "code",
   "execution_count": 5,
   "outputs": [],
   "source": [
    "python_page = wiki.page('Python (Programmiersprache)')"
   ],
   "metadata": {
    "collapsed": false,
    "ExecuteTime": {
     "end_time": "2024-11-29T13:57:45.271417Z",
     "start_time": "2024-11-29T13:57:45.239877Z"
    }
   },
   "id": "5a991852620ab071"
  },
  {
   "cell_type": "code",
   "execution_count": 6,
   "outputs": [],
   "source": [
    "def get_backlinks(page):\n",
    "    backlinks = []\n",
    "    for link in page.backlinks.values():\n",
    "        backlinks.append(link.title)\n",
    "    return backlinks"
   ],
   "metadata": {
    "collapsed": false,
    "ExecuteTime": {
     "end_time": "2024-11-29T13:57:45.727230Z",
     "start_time": "2024-11-29T13:57:45.697706Z"
    }
   },
   "id": "bc5ab5c090c6e531"
  },
  {
   "cell_type": "code",
   "execution_count": 7,
   "outputs": [],
   "source": [
    "def get_links(page):\n",
    "    links = []\n",
    "    for link in page.links.values():\n",
    "        links.append(link.title)\n",
    "    return links"
   ],
   "metadata": {
    "collapsed": false,
    "ExecuteTime": {
     "end_time": "2024-11-29T13:57:46.423112Z",
     "start_time": "2024-11-29T13:57:46.397887Z"
    }
   },
   "id": "be9673ee497f7d5"
  },
  {
   "cell_type": "code",
   "execution_count": 8,
   "outputs": [],
   "source": [
    "def get_page(link):\n",
    "    return wiki.page(link)"
   ],
   "metadata": {
    "collapsed": false,
    "ExecuteTime": {
     "end_time": "2024-11-29T13:57:46.882517Z",
     "start_time": "2024-11-29T13:57:46.856734Z"
    }
   },
   "id": "cc91aff117ac46f9"
  },
  {
   "cell_type": "code",
   "execution_count": 9,
   "outputs": [],
   "source": [
    "def make_graph(page, depth):\n",
    "    graph = nx.DiGraph()\n",
    "    graph.add_node(page.title) # weg damit\n",
    "    links = get_links(page)\n",
    "    for link in links:\n",
    "        graph.add_edge(page.title, link)\n",
    "        if depth > 0:\n",
    "            next_page = get_page(link)\n",
    "            graph = nx.compose(graph, make_graph(next_page, depth-1))\n",
    "    return graph"
   ],
   "metadata": {
    "collapsed": false,
    "ExecuteTime": {
     "end_time": "2024-11-29T13:57:47.869192Z",
     "start_time": "2024-11-29T13:57:47.823930Z"
    }
   },
   "id": "4c8091e0ebef5ba7"
  },
  {
   "cell_type": "markdown",
   "source": [
    "Optimieren! Liste von Knoten -> Subgraph"
   ],
   "metadata": {
    "collapsed": false
   },
   "id": "46d1447ab2701c2d"
  },
  {
   "cell_type": "code",
   "execution_count": 13,
   "outputs": [],
   "source": [
    "def make_graph_optimized(page):\n",
    "    graph = nx.DiGraph()\n",
    "    page_links = get_links(page)\n",
    "    \n",
    "    for link in page_links:\n",
    "        graph.add_edge(page.title, link)\n",
    "        \n",
    "        new_page = get_page(link)\n",
    "        new_page_links = get_links(new_page)\n",
    "        for link in new_page_links:\n",
    "            graph.add_edge(new_page.title, link)\n",
    "    return graph"
   ],
   "metadata": {
    "collapsed": false,
    "ExecuteTime": {
     "end_time": "2024-11-29T14:04:16.102430Z",
     "start_time": "2024-11-29T14:04:16.066131Z"
    }
   },
   "id": "2424434037822402"
  },
  {
   "cell_type": "code",
   "execution_count": 9,
   "outputs": [],
   "source": [
    "def make_backgraph(page, depth):\n",
    "    backgraph = nx.DiGraph()\n",
    "    backgraph.add_node(page.title)\n",
    "    backlinks = get_backlinks(page)\n",
    "    for link in backlinks:\n",
    "        backgraph.add_edge(page.title, link)\n",
    "        if depth > 0:\n",
    "            next_page = get_page(link)\n",
    "            backgraph = nx.compose(backgraph, get_graph(next_page, depth-1))\n",
    "    return backgraph"
   ],
   "metadata": {
    "collapsed": false,
    "ExecuteTime": {
     "end_time": "2024-11-28T07:17:44.224192700Z",
     "start_time": "2024-11-28T07:17:44.211836800Z"
    }
   },
   "id": "d600421b1f751fba"
  },
  {
   "cell_type": "markdown",
   "source": [
    "# Erstelle den Ursprungsgraphen\n",
    "### Hier wird ein Graph erstellt, der alle Links (und deren Links) von der Bienen-Seite enthält.\n",
    "### Die Artikelnamen sind dabei die Knoten und die Verlinkungen die Kanten. "
   ],
   "metadata": {
    "collapsed": false
   },
   "id": "5e4d04bdbcacf312"
  },
  {
   "cell_type": "code",
   "execution_count": 14,
   "outputs": [],
   "source": [
    "graph = make_graph(python_page, 1)"
   ],
   "metadata": {
    "collapsed": false,
    "ExecuteTime": {
     "end_time": "2024-11-29T14:05:02.895209Z",
     "start_time": "2024-11-29T14:04:20.484980Z"
    }
   },
   "id": "2809b9fa6d47b72b"
  },
  {
   "cell_type": "code",
   "execution_count": 15,
   "outputs": [],
   "source": [
    "graph_optimized = make_graph_optimized(python_page)"
   ],
   "metadata": {
    "collapsed": false,
    "ExecuteTime": {
     "end_time": "2024-11-29T14:05:38.964399Z",
     "start_time": "2024-11-29T14:05:06.676591Z"
    }
   },
   "id": "b91b54f169912559"
  },
  {
   "cell_type": "code",
   "execution_count": 11,
   "outputs": [],
   "source": [
    "backlinks = get_backlinks(python_page)"
   ],
   "metadata": {
    "collapsed": false,
    "ExecuteTime": {
     "end_time": "2024-11-28T07:18:28.334465500Z",
     "start_time": "2024-11-28T07:18:27.396104800Z"
    }
   },
   "id": "b1582df214921baa"
  },
  {
   "cell_type": "code",
   "execution_count": 12,
   "outputs": [
    {
     "name": "stdout",
     "output_type": "stream",
     "text": [
      "['Ada (Programmiersprache)', 'Diskussion:BASIC', 'C (Programmiersprache)', 'C++', 'Garbage Collection', 'JavaScript', 'Julianisches Datum', 'Kommandozeileninterpreter', 'Diskussion:Kommandozeileninterpreter', 'Lisp', 'Linux', 'LaTeX', 'Monty Python', 'Message-Digest Algorithm 5', 'Makroökonomie', 'Apache OpenOffice', 'Zeittafel der Programmiersprachen', 'Java (Programmiersprache)', 'Perl (Programmiersprache)', 'Quelltext', 'Regulärer Ausdruck', 'Rekursion', 'Scalable Vector Graphics', 'Sprache', 'Smalltalk (Programmiersprache)', 'Skriptsprache', 'Diskussion:Skriptsprache', 'Tcl', 'World Wide Web', 'Extensible Markup Language', 'XSL Transformation', 'Zwischenablage', 'Zeichenkette', 'At-Zeichen', 'Python', 'Tk (Toolkit)', 'Gnome', 'CAD', 'Dijkstra-Algorithmus', 'Potenz (Mathematik)', 'Freie Software', 'Interpreter', 'Präsentationsprogramm', 'Vollständiger Graph', 'Isomorphie von Graphen', 'Qt (Bibliothek)', 'KDevelop', 'Diskussion:Ebolafieber', 'GTK (Programmbibliothek)', 'Make', 'Stapelspeicher', 'Webdesign', 'Website', 'Samba (Software)', 'Microsoft Foundation Classes', 'Softwareentwickler', 'GNU Privacy Guard', 'Ruby (Programmiersprache)', 'Objektorientierte Programmierung', 'PostgreSQL', 'Generische Programmierung', 'Normalverteilung', 'Kommandozeile', 'Vega Strike', 'Relationale Datenbank', 'Apache HTTP Server', 'Filesharing', 'Funktionale Programmierung', 'Zope (Webanwendungsserver)', 'Sid Meier’s Civilization', 'Digitale Kunst', 'Vim', 'Content-Management-System', 'Nullwert', 'XChat', 'SOAP', 'Common Gateway Interface', 'Plattformunabhängigkeit', 'Strukturierte Programmierung', 'Benutzer:Soonix', 'Bytecode', 'Calligra Suite', 'Mehrfachvererbung', 'Haskell (Programmiersprache)', 'Wikipedia:Löschkandidaten/Archiv:Lösch-Logbuch/20031204', 'PaintShop Pro', 'Gini-Koeffizient', 'Zuordnungstabelle', 'Webmaster', 'Höhere Programmiersprache', 'Diskussion:Pseudocode', 'PY', 'Ultima Online', 'Lineare Suche', 'Diskussion:LaTeX', 'Metasyntaktische Variable', 'Eclipse (IDE)', 'Tupel', 'Kontrollstruktur', 'Virtual Reality Modeling Language', 'JEdit', 'Diskussion:Ruby (Programmiersprache)', 'Blender (Software)', 'Unix-Shell', 'NetCDF', 'PHP Extension and Application Repository', 'Hybridsprache', 'Diskussion:Werkzeug', 'Just-in-time-Kompilierung', 'Boolean', 'Funktionenplotter', 'Pythagoreisches Tripel', 'Diskussion:Quersumme', 'ColdFusion', 'Vektorraum-Retrieval', 'Microsoft SQL Server', 'Benutzer:Zwobot', 'Damenproblem', 'Liste von Programmiersprachen', 'Fedora (Linux-Distribution)', 'GRASS GIS', 'Field Programmable Gate Array', 'Benutzer:Glglgl', 'Benutzer Diskussion:MH~dewiki', 'Ausnahmebehandlung', 'Konstruktoren und Destruktoren', 'Schrägstrich', 'Benutzer Diskussion:Stern/Archiv/1', 'Benutzer:Leo.Math', 'Diffie-Hellman-Schlüsselaustausch', 'Binäre Suche', 'Plone', 'WxWidgets', 'Midgard (Software)', 'Firebird (Datenbank)', 'LPC (Programmiersprache)', 'Oktalsystem', 'Webdesigner', 'Diskussion:TeX', 'Benutzer:Flacus', 'Nassi-Shneiderman-Diagramm', 'Diskussion:Zeittafel der Programmiersprachen', 'Wikipedia:WikiReader/Freie Software und Freie Inhalte', 'Benutzer:Elvis untot/alt', 'Nächste-Nachbarn-Klassifikation', 'Unterprogramm', 'MoinMoin (Software)', 'CART (Algorithmus)', 'Cinema 4D', 'Webspace', 'Nmap', 'WSJT', 'Diskussion:Lambda-Kalkül', 'Microsoft Excel', 'Visual Studio', 'XML User Interface Language', 'ArcView', 'Diskussion:Gauß-Krüger-Koordinatensystem', 'LilyPond', 'Star-Trek-Spiele', 'Apache Subversion', 'Modul (Software)', 'Doppelpunkt', 'BSCW', 'Richtlinie 76/211/EWG (Fertigpackungsrichtlinie)', 'GNU Debugger', 'Diskussion:Mandelbrot-Menge/Archiv/1', 'Auslassungspunkte', 'Whitespace (Programmiersprache)', 'Benutzer:Horst F JENS', 'Parallele Virtuelle Maschine', 'Benutzer Diskussion:Manfred Kuzel', 'Maya (Software)', 'NetBeans IDE', 'Parrot', 'Leerraum', 'Diskussion:Lisp', 'Benutzer:Weetwat', 'Quine (Computerprogramm)', 'GIMP', 'Matlab', 'Computerunterstützte Übersetzung', 'Log4j', 'PSYCED', 'Microchip AVR', 'Jython', 'Benutzer:Panzi', 'Symbian-Plattform', 'Cocoa (API)', 'Benutzer:WonderBlood', 'Webanwendung', 'Elliptische Integrale', 'YafaRay', 'Computerphysik', 'Benutzerin:WiseWoman', 'Pure Data', 'Wikipedia:Archiv/Kategorien/Zwei-Level-System', 'Linux-Einsatzbereiche', 'Bellman-Ford-Algorithmus', 'Vergleichsoperator', 'Wikipedia:Treffen der Wikipedianer/Hannover/Berichte2004', 'Ports (Paketverwaltung)', 'Benutzer Diskussion:Kategobot', 'Wikipedia:Bots', 'Linux Standard Base', 'Benutzer:Kristjan', 'Kodi (Software)', 'Inkrement und Dekrement', 'Amoeba (Betriebssystem)', 'Signal (Unix)', 'Dylan (Programmiersprache)', 'Shebang', 'Klammer (Zeichen)', 'Poser (Software)', 'Kommentar (Programmierung)', 'R (Programmiersprache)', 'Statistische Versuchsplanung', 'Flexible Image Transport System', 'Closure (Funktion)', 'Portal:Informatik', 'For-Schleife', 'Bankieralgorithmus', 'Guido van Rossum', 'Open System Integration', 'SkyOS', 'Wikipedia:Archiv/Seitenstatistik/Top 1000', 'CrossOver', 'Vererbung (Programmierung)', 'BeanShell', 'Groovy', 'Plucker', 'Benutzer:Botteler', 'A-A-P', 'SharpDevelop', 'Diskussion:Annotation (Programmierung)', 'SQLite', 'Benutzer:Ulrich Hühn', 'Yellowdog Updater, Modified', 'Rhythmbox', 'Benutzer:Denis~dewiki', 'Aho-Corasick-Algorithmus', 'Metazeichen', 'Asterisk (Telefonanlage)', 'D (Programmiersprache)', 'N-Gramm', 'Visuelle Programmiersprache', 'Enigmail', 'Reflexion (Programmierung)', 'Mod perl', 'Message Passing Interface', 'Currying', 'AviSynth', 'Wikipedia:Kandidaten für exzellente Artikel/Archiv 2004 9', 'Benutzer:Das-g', 'Turtle-Grafik', 'Benutzer:MGla', 'Tor (Netzwerk)', 'Dynamische Typisierung', 'GEDA (Software)', 'Magisches Sechseck', 'Wikipedia:Kandidaten für exzellente Artikel/Archiv 2004 10', 'Wikipedia:Fragen zur Wikipedia/Archiv/2004/Dezember/1', 'Scribus', 'Pattern Matching', 'Benutzer:PyBot/FAQ', 'Virtuelle Methode', 'Sternchen (Schriftzeichen)', 'Diskussion:GW-BASIC', 'Benutzer:Mike@experimentelles.org', 'Honeypot', 'Typisierung (Informatik)', 'Statische Typisierung', 'Typverletzung', 'Smart Package Manager', 'External Data Representation', 'Beagle (Software)', 'Benutzer:Kamikaze28', 'Benutzer:Ookami', 'MusicBrainz', 'Testabdeckung', 'Sieve', 'Hardware in the Loop', 'Kolab', 'Referenzzählung', 'Benutzer:WanjaChresta', 'SuperKaramba', 'F-Sharp', 'Diskussion:Dynamische Typisierung', 'Wikipedia:Exzellente Artikel/nach Datum', 'Audacity', 'WxPython', 'Benutzer:Jpr65', 'International Conference on Functional Programming Contest', 'Tkinter', 'CLIPS', 'GNU Mailman', 'FSF Award', 'Wikipedia:Pywikibot', 'Kürzester Pfad', 'Benutzer:Hans Genten', 'Benutzer:BrunoHo', 'PyMusique', 'Wikipedia:Lesenswerte Artikel', 'Portal Diskussion:Biologie/Archiv 7', 'Quelltextformatierung', 'ADOdb', 'Doxygen', 'Variable (Programmierung)', 'Nagios', 'Einrückungsstil', 'Diskussion:Einrückungsstil', 'Benutzer:HV', 'Apache Lucene', 'KNX-Standard', 'Diskussion:Sissa ibn Dahir', 'Plan 9 (Betriebssystem)', 'Git', 'Boo (Programmiersprache)', 'Anaconda (Software)', 'Mixminion', 'PyObjC', 'Bluefish', 'HTML-Editor Phase 5', 'Processing', 'Ook!', 'Benutzer:Wilhans/Ook', 'KeePass', 'Stata', 'Wikipedia:Löschkandidaten/22. Juni 2005', 'GnuCash', 'Universally Unique Identifier', 'Lempel-Ziv-Oberhumer', 'GCompris', 'ReStructuredText', 'Liste der Datenbankmanagementsysteme', 'Liste von Webframeworks', 'YAML', 'Ansys (Software)', 'Anjuta (Software)', 'Stuttgart Neural Network Simulator', 'Schaltungssimulation', 'Benutzer:Sorin~dewiki', 'Zwei-Zettel-Spiel', 'Diskussion:Damenproblem', 'Benutzer:DerPetzi', 'Benutzer:Tksali', 'PowerShell', 'Euler-Maruyama-Verfahren', 'Gajim', 'Benutzer:Brue', 'Benutzer Diskussion:Tilla', 'The Fall: Last Days of Gaia', 'Wikipedia:Wikipedianer/nach Wissensgebieten/Computer', 'Wikipedia:Wikipedianer/nach Wissensgebieten/Informatik', 'Screener (Informatik)', 'Rekursiver Abstieg', 'Java-Technologie', 'KVIrc', 'Arctan2', 'Tabelle virtueller Methoden', 'Scilab', 'Coco/R', 'Metaklasse', 'Crystal Space', 'Mod python', 'Wikipedia:Wie erstelle ich Strukturformeln?', 'Benutzer:SyneX', 'ANTLR', 'Benutzer:Lime butterfly', 'ArcGIS', 'Clientseitige Skriptsprachen', 'Benutzer Diskussion:Nikater', 'Wikipedia:Falsches Datumsformat/Ausschlussliste', 'Affenformular', 'Cairo (Grafikbibliothek)', 'Diskussion:Decorator', 'Liste von Dateinamenserweiterungen/P', 'Benutzer:Ingofabbri', 'Mehrfache Deallokation', 'CRUD', 'OpenCV', 'Systems Biology Markup Language', 'IRC-Client', 'GD Library', 'LINQ', 'FontForge', 'Fontlab', 'Homebrew', 'Methodenzeiger', 'Berkeley DB', 'Interactive Disassembler', 'GStreamer', 'Wilcoxon-Mann-Whitney-Test', 'Testautomatisierung', 'Machine Identification Code', 'Maple (Software)', 'Liste von GUI-Bibliotheken', 'Portal:Informatik/Lesenswerte Artikel', 'ISWIM', 'OGRE', 'Nebula Device', 'Dislin', 'Typinferenz', 'Benutzer Diskussion:KV 28/Archiv 1', 'Diskussion:Funktionale Programmierung', 'Domänenspezifische Sprache', 'Template-Engine', 'Benutzer:B.Borys', 'GNU gettext', 'Zenwalk Linux', 'Screen Scraping', 'DAZ Studio', 'Diskussion:Anonyme Funktion', 'Pathfinding', 'GmailFS', 'Benutzer:AndreasSchreiber', 'WideStudio', 'Gedit', 'Master/Slave', 'Benutzer:Kronf', 'Multidimensionale Skalierung', 'Standard-Datenströme', 'ABC (Yet Another BitTorrent Client)', 'Portal:Freie Software/Lesenswerte Artikel', 'Portal:Freie Software/Beispiele für freie Software', 'PDB', 'Benutzer Diskussion:Cyper', 'Benutzer:Orienterare', 'Wikipedia:Lesenswerte Artikel/nach Datum', 'Roberta – Lernen mit Robotern', 'Benutzer:Optimale', 'Benutzer:Ratatosk/Vorlagen', 'PyGreSQL', 'Liste objektorientierter Programmiersprachen', 'Benutzer:Goetz', 'Notepad++', 'Benutzer:Ratatosk/Vorlage:User Python', 'Benutzer Diskussion:Joystick~dewiki', 'Konfidenzintervall für die Erfolgswahrscheinlichkeit der Binomialverteilung', 'Google', 'Wikipedia:Grafiktipps/Diagramme', 'Benutzer:Roklein', 'Java Command Language', 'SME Server', 'Stackless Python', 'CPython', 'Benutzer:Johannes Bausch', 'YouTube', 'Salome (Software)', 'Open CASCADE Technology', 'OpenFOAM', 'Benutzer:Schwarze', 'Benutzerin Diskussion:Oefe', 'Google Summer of Code', 'Launchpad', 'CLU (Programmiersprache)', 'Rekurrentes neuronales Netz', 'Zuweisung', 'Elephants Dream', 'Forkbomb', 'Lighttpd', 'Liste von integrierten Entwicklungsumgebungen', 'Multi-User Chat', 'Benutzer:LoTek', 'Zope Object Database', 'Menge (Datenstruktur)', 'Dreieckstausch', 'Kara (Programmierumgebung)', 'Benutzer:ZOiDberg/Vorlagen', 'Benutzer Diskussion:ZOiDberg/Vorlagen', 'Benutzer:Olliminatore', 'IntelliJ IDEA', 'BitTorrent (Client)', 'SCons', 'Widelands', 'AppArmor', 'Bruce Eckel', 'Trac', 'PureFTPd', 'Benutzer:Gfi1/Notizbrett', 'IronPython', '389 Directory Server', 'Miro Media Player', 'Benutzer:D0ktorz/Jabber-Server', 'XMPP-Transport', 'Benutzer:Kauan/Vorlage:Python', 'Standardbibliothek', 'CSpace', 'ERP5', 'Django (Framework)', 'PEP', 'Glicko-System', 'Data Display Debugger', 'End User Development', 'Benutzer:Lame r', 'Benutzer:Miko007', 'Wiederverwendbarkeit', 'Benutzer:Assarbad', 'Benutzer:Ratman~dewiki/Werkstatt', 'Wikipedia:Lesenswerte Artikel/Wissenschaft', 'Iterator', 'Koroutine', 'Nuke (Software)', 'Benutzer:Vertigo-1', 'Dangling else', 'Benutzer:Wikip€di@', 'KiCad', 'GDesklets', 'Pygame', 'IMSL', 'Frets on Fire', 'Vectorworks', 'Umbrello', 'Kexi', 'Geany', 'Wikipedia:Lesenswerte Artikel/nach Datum/2005', 'QF-Test', 'Diskussion:Polyglottes Programm', 'Division mit Rest', 'Benutzer Diskussion:Stefan Majewsky/ Archiv 1', 'Vipul’s Razor', 'MusicBrainz Picard', 'Notepad2', 'Rough Auditing Tool for Security', 'Liste von Modultest-Software', 'Psyco', 'QGIS', 'Benutzer:Killmag10', 'Benutzer:WStephan/Dodge Ram', 'Skencil', 'Benutzer:Mazoro/Visualization Toolkit', 'BitTorrent', 'Hoover-Ungleichverteilung', 'LDE(X)', 'PyPy', 'Benutzer:Dawn', 'Benutzer:KramNick', 'TPT (Software)', 'VirtualBox', 'Levenberg-Marquardt-Algorithmus', 'Cross Platform Component Object Model', 'Diskussion:Java (Programmiersprache)/Archiv/1', 'Diskussion:PHP/Archiv', 'HTL Anichstraße', 'Benutzer:ZOiDberg/Vorlage:user py', 'Benutzer:ZOiDberg/Vorlage:user py-4', 'Benutzer:ZOiDberg/Vorlage:user py-3', 'Benutzer:ZOiDberg/Vorlage:user py-2', 'Benutzer:ZOiDberg/Vorlage:user py-1', 'Benutzer:ZOiDberg/Vorlage:user py-0', 'Benutzer:ZOiDberg/Kategorie:user py', 'Benutzer:ZOiDberg/Vorlage:user py-w', 'Benutzer:ZOiDberg/Vorlage:user py-4-w', 'Benutzer:ZOiDberg/Vorlage:user py-3-w', 'Benutzer:ZOiDberg/Vorlage:user py-2-w', 'Benutzer:ZOiDberg/Vorlage:user py-1-w', 'Benutzer:ZOiDberg/Vorlage:user py-0-w', 'Exaile', 'PyMOL', 'Benutzer Diskussion:Matthias Süßen/Archiv', 'RubyGems', 'Benutzer:Kölsche Jung/Portal:Informatik', 'Benutzer:Kölsche Jung/Portal:Informatik2/Angewandte Informatik', 'Shogun (Toolbox)', 'Benutzer:Kölsche Jung/Portal:Informatik2', 'BeckerCAD', 'EPICS', 'CUDA', 'McAfee WebAdvisor', 'Eingebettetes Datenbanksystem', 'Microsoft Silverlight', 'Wikipedia:Redaktion Medizin/Archiv/2007/02', 'Benutzer:KGF', 'Benutzer:Olliminatore/Vorlage:User py-3', 'Lint (Programmierwerkzeug)', 'TorrentFlux', 'Nuxeo EP', 'GConf', 'OCRopus', 'Benutzer Diskussion:Kantor.JH/Archiv/2007/Mrz', 'Synset', 'Wikipedia:Löschkandidaten/10. April 2007', 'Wikipedia:WikiProjekt Kategorien/Diskussionen/2007/April/10', 'REAPER', 'Benutzer:Das-g/Babel', 'Roundup (Bugtracker)', 'Template Attribute Language', 'O’Reilly Open Source Convention', 'Template Attribute Language Expression Syntax', 'Zope Page Templates', 'Benutzer:RouL', 'Benutzer:TobiasHerp', 'Mercurial', 'Benutzer:DirkHoffmann', 'Wikipedia:Redaktion Chemie/Archiv/2007/Mai', 'Benutzer Diskussion:Usquam/Archiv', 'Benutzer:Chrugel', 'Tupel (Informatik)', 'Web-Desktop', 'Hilfe:Syntaxhighlight', 'Natural Docs', 'Python-3', 'Benutzer:BugsB/Babel', 'Adenine', 'Prozentzeichen', 'Insight Segmentation and Registration Toolkit', 'Benutzer Diskussion:PDD/Archiv/2007-06', 'Wikipedia:Auskunft/Archiv/2007/Jun', 'Benutzerin Diskussion:Sechmet', 'Benevolent Dictator for Life', \"Benutzer:Ba'el\", 'Growl (Software)', 'Allzweck-Programmiersprache', 'CKEditor', 'Benutzer:Rupp.de/Autoreview Lesenswert', 'Quod Libet (Medienspieler)', 'Benutzer:WhiteTimberwolf', 'Cryptlib', 'Benutzer Diskussion:Wolff-BI', 'Boost (C++-Bibliothek)', 'Benutzer:SoylentGreen/Blender (Software)', 'Benutzer Diskussion:Sister Ray/Archiv/2007/Juli', 'Benutzer:Seppukuh', 'Pardus (Linux-Distribution)', 'Benutzer:Petca', 'SQL Phrase Index', 'Benutzer:Cawado', 'SWIG', 'Xkcd', 'Web Server Gateway Interface', 'MySQL Workbench', 'Freevo', 'Liste von Hallo-Welt-Programmen/Höhere Programmiersprachen', 'Diskussion:C++/Archiv/2', 'Ming (Softwarebibliothek)', 'Portal:Freie Software/Ausgezeichnete Artikel', 'Salesforce', 'Benutzer:Kilessan', 'Anwendungsfassade', 'Benutzer:Falk Steinhauer', 'Twisted', 'Benutzer:Benatrevqre/backup2/H.W.', 'Liste von .NET-Sprachen', 'Divmod', 'Benutzer:Michederoide', 'MacOS', 'Vue', 'Benutzer:Dapete/Datenbankabfragen/Verwaiste Artikeldiskussionen', 'Duck-Typing', 'Design-Expert', 'Objektrelationale Abbildung', 'Selenium', 'Benutzer:Bowling-liga', 'Betacode', 'Wikipedia:Fragen zur Wikipedia/Archiv/2007/Woche 44', 'OpenSocial', 'Benutzer:Gerrit H.', 'TI-Nspire', 'Csound', 'Benutzer:Chorpita/Spielwiese', 'Benutzer:Posaunenschlumpf', 'Benutzer:Besjaner', 'Benutzer:TheOnce', 'Benutzer:Dutch damager/Typisierung (Informatik)', 'XCB', 'Conduit (GNOME)', 'Benutzer Diskussion:NeonZero/Hacker', 'Internet Communications Engine', 'SciTE', 'Indigo Renderer', 'Citation Style Language', 'Deluge', 'NonVisual Desktop Access', 'Benutzer:Foobla', 'ROX Desktop', 'Vala (Programmiersprache)', 'Wikipedia:Bots/Anfragen/Archiv/2008-2', 'Bazaar', 'Pickle', 'Benutzer:Xschakalx', 'Benutzer:Zykure', 'Wikipedia:Hauptseite/Artikel des Tages/Verwaltung/Lesenswerte Artikel', 'Benutzer:Henon~dewiki', 'NX (Siemens)', 'Pfeilschreibweise', 'Benutzer Diskussion:Mautpreller/Archiv 2005–2009', 'BLOSUM', 'Enterprise Architect', 'Big Buck Bunny', 'MetaKit', 'Benutzer Diskussion:DLiebisch/Archiv/2008', 'LINA', 'Benutzer:Christoph Burgmer/topiclist.py', 'Benutzer Diskussion:Jcornelius/Archiv/1', 'Amazon Web Services', 'XForms (Toolkit)', 'Benutzer Diskussion:Biezl', 'Benutzer:Hecht sven', 'GNAT Programming Studio', 'Benutzer Diskussion:Berliner Schildkröte/Archiv', 'Diskussion:Python-3', 'Google App Engine', 'Benutzer Diskussion:Der Buckesfelder', 'Benutzer:Stummi/Baustelle', 'Diskussion:Duck-Typing', 'Nasal (Programmiersprache)', 'Benutzer:DrTrigon', 'Benutzer Diskussion:Codeispoetry/Kosmetika', 'Benutzer:SteveMcKracken', 'Benutzer:Euphoriceyes/Teeworlds', 'LLVM', 'PLANTA Project', 'Sensor Observation Service', 'WDDX', 'PackageKit', 'Diskussion:Blender (Software)/Archiv', 'Wikipedia:Hauptseite/Artikel des Tages/Zeittafel', 'Panda3D', 'Benutzer:Zumthie/Mathematisches', 'Skelettierung (Bildverarbeitung)', 'Benutzer:Mae.Timmae', 'Wikipedia:Löschkandidaten/17. August 2008', 'Benutzer Diskussion:Null Drei Null', 'Liste von Texteditoren', 'Wikipedia:Huggle', 'Wikipedia Diskussion:Weblinks/Archiv/2008/Quartal 3', 'Benutzer:DrTrigonBot', 'Rubyripper', 'LXDE', 'Wikipedia:Auskunft/Archiv/2008/Woche 34', 'Benutzer:ThorBot', 'Benutzer:TobiasHerp/Lambda-Funktion (Python)', 'Benutzer:Dr. Azrael Tod', 'PyGTK', 'Google Chrome', 'Markdown', 'Protocol Buffers', 'Wikipedia:Einbänder/Stichworte', 'Wikipedia:Einbänder/Stichworte/P', 'Diskussion:C (Programmiersprache)/Archiv/2007', 'Server Name Indication', 'Benutzer:NVer', 'Liste von BitTorrent-Clients', 'Berufsförderungsinstitut', 'Env', 'Benutzer:Tzgermany', 'Agilo for Trac', 'Benutzer:Xqbot', 'Nao (Roboter)', 'Mod wsgi', 'Wicd', 'Computervirus', 'Heredoc', 'Benutzer Diskussion:Gamma127', 'Spotify', 'Web2py', 'FreeIPA', 'Simple Common Gateway Interface', 'Benutzer:Haeber/Kladde/ADOdb', 'Open Library', 'Yo Frankie!', 'Gaphor', 'LabWindows/CVI', '7-Zip', 'Wikipedia:Grafikwerkstatt/Archiv/2009/Januar', 'Rubinius', 'Decibel', '.run', 'Diskussion:Programmiersprache/Archiv/001', 'WikidPad', 'Pootle', 'Eric (Software)', 'AsciiDoc', 'Orca (Screenreader)', 'Benutzer Diskussion:Atlasowa', 'Liste von Spiel-Engines', 'Diskussion:RPM Fusion', 'Squirrel (Programmiersprache)', 'SageMath', 'Wikipedia:Bücher/Das Informatikstudium', 'Benutzer:Nerdonator/Bücher/Programmierung', 'Devil’s Pie', 'Benutzer:Gw13/Bücher/EDVAllgemein', 'Benutzer:Gw13/Bücher/EdvEinarbeitung', 'Libxml2', 'Wikipedia:Bots/Anträge auf Botflag/Archiv/2009', 'Wikipedia:Auskunft/Archiv/2009/Woche 07', 'Benutzer:M.Zaun/Bücher/Objektorientierte Programmiersprachen', 'Benutzer:Blumi00gt', 'Benutzer:Leo.Math/Bücher/Informatik', 'Benutzer:Red Rooster/Bücher/Programmiersprachen', 'Benutzer:Dj-Empire', 'Benutzer:Leo.Math/Babel-2', 'Benutzer:Mylittlepony', 'Benutzer:Andreas.schawo/Bücher/Python', 'Benutzer:CopperBot', 'Benutzer:Mitja/Babel', 'Benutzer:WonderBlood/Bücher/Python und Django', 'BKChem', 'Benutzer:Leo.Math/Bücher/Programmiersprachen', 'Diskussion:Python (Programmiersprache)/Archiv/1', 'Nova Linux', 'Benutzer:Themli', 'Benutzer:Trainbird', 'Benutzer Diskussion:Visitator/Archiv/2012', 'Root-Raised-Cosine-Filter', 'Planet (Software)', 'Jabbim', 'Benutzer Diskussion:S3r0', 'XSLT-Prozessor', 'Aldor', 'Benutzer:Bettercom', 'Diskussion:Little Brother (Roman)', 'Strukturgleichungsmodell', 'BitTornado', 'Benutzer:Sage~dewiki', 'GNU TeXmacs', 'CouchDB', 'Benutzer:Chschlue', 'Benutzer:Daniel2037/Bücher/My-Wiki-Book', 'Benutzer:Chsterz', 'Peter J. Landin', 'Benutzer:Flekstro', 'Benutzer Diskussion:Freimut Bahlo/Archiv', 'Diskussion:Hacker/Archiv', 'Benutzer Diskussion:Hannibal21/Archiv', 'Benutzer:Randombot', 'Benutzer Diskussion:Hermux/Archiv', 'CDemu', 'Benutzer:M3t0r', 'Cantera', 'Wikipedia:Löschkandidaten/28. August 2009', 'Hessian (Webprotokoll)', 'Dropbox', 'Benutzer:Jogo.obb', 'Benutzer:Martiz/Bücher/IT/Programmierung', 'Benutzer Diskussion:Cvf-ps/Archiv 2009 II', 'Benutzer:Daniel L.F./Bücher/Softwaretechnik', 'Benutzer:Particle~dewiki', 'Uzbl', 'RDFa', 'WeeChat', 'Benutzer:SpeckFleck', 'Benutzer:Cl4udi0', 'Monade (Informatik)', 'Liste von Anwendungsservern', 'Benutzer:Adri3011', 'Ubuntu One', 'Benutzer:B2ag', 'Bikemap.net', 'Server Side Scripting', 'Benutzer Diskussion:Fthobe', 'Benutzer:Peterpall', 'RecordMyDesktop', 'HebOCR', 'Tiling (Computer)', 'Mydeskfriend', 'Benutzer:Horron/Spielwiese/Informatikportal', 'Benutzer Diskussion:Magnummandel/Archiv/2010', 'SonarQube', 'Centrum Wiskunde & Informatica', 'Benutzer:Helstar~dewiki/Bücher/Informatik', 'SpatiaLite', 'PyLoad', 'Wikipedia:Auskunft/Archiv/2010/Woche 04', 'Benutzer:Düsentrieb/Bücher/OOPuDatenBank', 'Benutzer Diskussion:CeGe/Archiv/2010', 'Geometry Engine Open Source', 'Benutzer Diskussion:Sk!d', 'Vorlage Diskussion:Episodenlisteneintrag', 'Wubi (Ubuntu)', 'Benutzer:Manfred.herrmann/Bücher/Open Enterprise Services - Enterprise 2.0 Entwicklung', 'Rautezeichen', 'Benutzer:Sensorpixel', 'Robot Operating System', 'Benutzer:Hæggis/Kandidaten für den Artikel des Tages', 'Benutzer:Yurilein', 'Benutzer:Famnex', 'Benutzer:Micdi2', 'Mftrace', 'Quelltextklon', 'SQLAlchemy', 'Benutzer Diskussion:Rick Latimer', 'Anki', 'Code Aster', 'Mnemosyne (Software)', 'Variadische Funktion', 'Waikato Environment for Knowledge Analysis', 'JetBrains', 'Benutzer:Daniel2037/Bücher/my-wiki', 'Benutzer:Terrorbaby92/Bücher/Prog', 'TortoiseHg', 'Cython', 'Zenoss', 'Benutzer:Ibuwan', 'Benutzer:Heinrich Puschmann/NLTK', 'Phusion Passenger', 'OpenMAPI', 'Titanium (Spiel-Engine)', 'Benutzer:Paradoxxx185/Bücher/Büchlein', 'Diskussion:C-Sharp/Archiv', 'Getmail', 'BALL', 'Benutzer:KPhilipp', 'Ceph', 'Benutzer Diskussion:Anticaesar', 'Benutzer:Klonkind Ulli/Bücher/Informatik', 'Diskussion:Potenz (Mathematik)/Archiv', 'Eval', 'Benutzer Diskussion:Geierkrächz/Archiv 2', 'Benutzer:Klonkind Ulli/Bücher/Informatik:Ketter-A-B.C.D', 'Benutzer:Klonkind Ulli/Bücher/Informatik:Letter-A.B.C.D.E.FInformatik', 'Benutzer:Klonkind Ulli/Bücher/informatk ab.26.August', 'Benutzer:Klonkind Ulli/Bücher/Keep On Loving You', 'Benutzer Diskussion:Suhadi Sadono/Archiv', 'Lucas-Lehmer-Test', 'MirrorBrain', 'MapServer', 'Calibre', 'Zim (Software)', 'Benutzer:Develord/Bücher/AE-1', 'Fraktalgenerator', 'Benutzer:Daniel L.F./Bücher/oop', 'Benutzer:Mfnalex', 'Caffeine', 'Comix (Software)', 'Diskussion:Homöopathie/Archiv/2010/kleine Statistik', 'Gwibber', 'Benutzer:Daniel L.F./Bücher/oops', 'Benutzer:Ghostwriter2010', 'Zero Install', 'DataFinder', 'Reddit', 'Benutzer:Botix 1998', 'Wikipedia:Auskunft/Archiv/2011/Woche 03', 'JavaOne', 'Benutzer Diskussion:Livemusic', 'Bildungsorientierte Programmiersprache', 'Benutzer:Troubled asset', 'PCAP', 'OpenStack', 'Viber', 'Disqus', 'MyPaint', 'Benutzer:Moomoc', 'Gabor-Filter', 'Bitcoin', 'Benutzer:Arilou', 'Benutzer Diskussion:Polarlys/Archiv6', 'Gwyddion', 'Langzahlarithmetik', 'Benutzer:Wandynsky', 'Benutzer:Kaldaen', 'TagLib', 'GNU Compact Disc Input and Control Library', 'Benutzer:Thomas rudin', 'Benutzer:Mineo', 'Apport (Software)', 'Benutzer:Alissem', 'Sublime Text', 'Dynamische Programmiersprache', 'JSON-RPC', 'Benutzerin Diskussion:Nicola/Archiv/2011', 'OnlyOffice', 'Fail2ban', 'DenyHosts', 'Benutzer Diskussion:Christian1985/Archiv/2011', 'Diskussion:Googol/Archiv', 'Wikipedia:Auskunft/Archiv/2011/Woche 18', 'Benutzer:Devsheeep/CoffeeScript', 'Zeitgeist (Software)', 'Raspberry Pi', 'Benutzer Diskussion:Enomine/Ausrufer', 'Benutzer:EMPee584', 'Gerrit (Software)', 'Timsort', 'Benutzer Diskussion:Ironwing', 'Portal:Freie Software/Ausgezeichnete Artikel/Python', 'Benutzer Diskussion:Lexikon-Duff/Archiv2014', 'Benutzer:The metalgamer', 'Benutzer:Metrokles/Diskussionen', 'Benutzerin:Artin', 'Portal:Informatik/AngewandteInformatik', 'Benutzer:Ne discere cessa!/Ausrufer', 'Adhocracy', 'Diskussion:Rekursion/Archiv/1', 'Diskussion:Python (Programmiersprache)/Archiv/2', 'Benutzer:SebBue/Bücher/SoftwareArchitektur', 'Benutzer:SebBue/Bücher/SoftwareArchitektur2', 'Wikipedia:Wie erstelle ich Strukturformeln?/Tutorial Strukturformeln', 'Advanced Vector Extensions', 'Benutzer Diskussion:Engeltr/Archiv', 'Benutzer:Toshiki', 'Benutzer:Gharren', 'Ren’Py', 'Benutzer:Saule Focke', 'Benutzer Diskussion:Deyass/Archiv', 'CoffeeScript', 'Trait (Programmierung)', 'PgAdmin', 'PyCharm', 'Riva Celso', 'Benutzer:Morkin', 'Diskussion:Job Control Language', 'Python Software Foundation', 'Benutzer Diskussion:Pixelfire/Archiv/2012', 'MongoDB', 'Benutzer:Egostrum', 'Programmiersprache Python', 'Gramps', 'Benutzer Diskussion:Sönke Rahn', 'MapProxy', 'Robot Framework', 'Just van Rossum', 'Benutzer:Minsbot', 'Benutzer:Minsbot/Header bar', 'Benutzer:Troopers/Wikipedia:Löschkandidaten', 'Benutzer Diskussion:Elvaube/Archiv/2012/1', 'Benutzer Diskussion:Elvaube/Archiv/2012/2', 'Wikipedia:Fragen zur Wikipedia/Archiv/2011/Woche 51', 'Kiwix', 'RealFlow', 'Benutzer Diskussion:Pfieffer Latsch/Archiv 2012/1', 'Benutzer Diskussion:JD/archiv16', 'Benutzer Diskussion:Inkowik/Archiv/2012/1', 'Benutzer Diskussion:Hephaion/Archiv/2012', 'Cobra (Programmiersprache)', 'Benutzer:BenjaminK1/Bücher/Informatik Allgemein', 'Benutzer Diskussion:Svebert/Archiv', 'Benutzer Diskussion:Gamma127/Archiv/2012/1. Quartal', 'Benutzer Diskussion:Lutheraner/Archiv/2012', 'Apache Avro', 'Benutzer Diskussion:Nyan Dog/Archiv/2012', 'Benutzer Diskussion:Gravitophoton/Archiv/2012', 'Wikipedia Diskussion:WikiProjekt Commons-Transfer/Archiv/2011', 'Benutzer Diskussion:Der Buckesfelder/Archiv/2012/1. Quartal', 'Benutzer Diskussion:Syrcro/Archiv/2012/I', 'Benutzer:Florian Snow', 'Benutzer Diskussion:Xayax/Archiv/2012/1', 'Rack (Webserver-Interface)', 'Benutzer:Marco74', 'Benutzer:Thorsten 1996', 'Benutzer Diskussion:Lukas1602/Archiv/2012', 'Benutzer Diskussion:Hyperdieter/Archiv/2012/1', 'Benutzer Diskussion:Waerfelu/Archiv 2012', 'TIOBE-Index', 'Benutzer Diskussion:Ticketautomat/Archiv/2012-1', 'Benutzer Diskussion:Times/Archiv/2012', 'Benutzerin Diskussion:Belladonna*/Archiv/2012', 'Benutzer Diskussion:Hartmann Linge/Archiv/2012', 'Benutzer Diskussion:Ambross07/Archiv/2012', 'Etch (Protokoll)', 'Sinatra (Software)', 'Wikipedia:Bots/Anträge auf Botflag/Archiv/2012', 'Benutzer:Strugglez/Bücher/PHYTON', 'Benutzer Diskussion:Ahellwig/Archiv/2012/1', 'Benutzer Diskussion:Klapper/Archiv/2012', 'Benutzer Diskussion:-WolliWolli-/Archiv/2012', 'Benutzer Diskussion:Z thomas/Archiv2012', 'Benutzer Diskussion:LZ6387/Ausrufer-Archiv', 'Benutzerin Diskussion:Emma7stern/Archiv/2012', 'Benutzer Diskussion:Justus Nussbaum/Archiv2012', 'Benutzer:Wronnay', 'Benutzer Diskussion:Eli.P/Archiv/2012 1. Quartal', 'Benutzer Diskussion:Toter Alter Mann/Archiv/2012', 'Benutzer:Stoyno/Liste von Template Engines', 'Benutzer Diskussion:Rob Irgendwer/Archiv/2012', 'Debconf (Software)', 'Benutzer Diskussion:Grand-Duc/Archiv/2012', 'Benutzer Diskussion:Derschueler/Ausrufer', 'Benutzer Diskussion:Krokofant/Ausrufer', 'Benutzer:Hhb', 'Benutzer:Welt-der-Form/about', 'HTTPS Everywhere', 'Benutzer:Dirk Teschner/Bücher/Linux Kompendium', 'Benutzer:Dirk Teschner/Bücher/Linux-Administration', 'Benutzer:Geitost/Ausrufer/Archiv/2012', 'Benutzer Diskussion:Graphikus/Archiv/2012/März', 'Benutzer Diskussion:Wikijunkie/Archiv/2012/März', 'Benutzer Diskussion:Avaholic/Archiv/2012/März', 'Benutzer Diskussion:HUBA1515/Archiv/2012', 'Benutzer Diskussion:Yoursmile/Archiv/2012', 'Tinkerforge', 'Benutzer Diskussion:Leithian/Archiv/2012/Mrz', 'Benutzer Diskussion:Odeesi/Archiv/2012/März', 'Benutzer Diskussion:JARU/Archiv/2012', 'Benutzer Diskussion:Leuchtschnabelbeutelschabe/Archiv/2012', 'Natural Language Toolkit', 'Benutzer Diskussion:Achim Raschka/Archiv/2012/Mrz', 'Benutzer Diskussion:Clemensfranz/Archiv/2012', 'Benutzer Diskussion:Kghbln/Archiv/2012', 'Benutzer Diskussion:Hadi/Archiv/2012', 'Benutzer Diskussion:Ptolusque/Archiv/2012', 'Benutzer:TunnelWicht/Unknown Horizons', 'Unknown Horizons', 'Benutzer Diskussion:Lukas²³/Archiv/2012/1. Quartal', 'Benutzer Diskussion:Hedwig in Washington/Archiv/2012/03', 'Benutzerin Diskussion:Catrin/Archiv/2012/Mrz', 'Benutzer:Madgyver', 'Stack Overflow (Website)', 'Wikipedia:Projektneuheiten/Archiv/2012-1', 'Sphinx (Software)', 'FreeCAD', 'Benutzer Diskussion:Gorlingor/Archiv/2012', 'Diskussion:Rekurrentes neuronales Netz', 'Zenity', 'Benutzer Diskussion:Commander-pirx/Archiv/2012', 'Benutzer:Fanir-thuban/Babel', 'Clique (Graphentheorie)', 'Benutzer Diskussion:Pfieffer Latsch/Archiv 2012/2', 'Flask', 'Canorus', 'F-Droid', 'Benutzer:Stefan1973HB/Diskussions-Archiv/2012', 'Benutzer Diskussion:Jakob Gottfried/Archiv 2012', 'SocketCAN', 'Benutzer Diskussion:HylgeriaK/Archiv/2012', 'MATE Desktop Environment', 'Benutzer:Tux Torvalds', 'Benutzer:MyRobotron', 'Benutzer:Ossi1967/RDFa', 'Benutzer:BlechiRC', 'Benutzer Diskussion:JD/archiv17', 'Benutzer Diskussion:MX8/Archiv/2012/März', 'Duplicity (Software)', 'Benutzer Diskussion:Hyperdieter/Archiv/2012/3', 'Benutzer Diskussion:Lukas²³/Archiv/2012/3. Quartal', 'Benutzer Diskussion:Inkowik/Archiv/2012/3', 'Benutzer Diskussion:Der Buckesfelder/Archiv/2012/3. Quartal', 'Führende Null und Füllnull', 'Benutzer Diskussion:Ticketautomat/Archiv/2012-2', 'Benutzer Diskussion:Gamma127/Archiv/2012/3. Quartal', 'Benutzer:Dosensuppe', 'Benutzer:T§/Ausrufer', 'Benutzer Diskussion:Ahellwig/Archiv/2012/3', 'Benutzer Diskussion:Graphikus/Archiv/2012/August', 'Benutzer Diskussion:MaxEddi/Archiv2012/August', 'Virtaal', 'Benutzer:MartinThoma/Babel', 'Hilfe Diskussion:GND/Archiv/1', 'Benutzer Diskussion:Avaholic/Archiv/2012/August', 'OpenShot', 'Benutzer Diskussion:Leithian/Archiv/2012/Aug', 'Benutzer:Vogone/Neuigkeiten/Archiv', 'Benutzer Diskussion:Geierkrächz/Archiv 3', 'Apache Thrift', 'Kivy', 'Benutzer Diskussion:Wikijunkie/Archiv/2012/August', 'Benutzer Diskussion:Achim Raschka/Archiv/2012/Aug', 'Benutzerin Diskussion:Catrin/Archiv/2012/08M', 'Hartmut Ring', 'Ecu.test', 'Cinnamon (Desktop-Umgebung)', 'Open Worldwide Application Security Project', 'Benutzer:Fehlicks/Bücher/Prüfungsvorbereitung', 'Benutzer:RookJameson', 'Benutzer Diskussion:Freak222/Archiv/2012/August', 'Benutzer Diskussion:Hedwig in Washington/Archiv/2012/08', 'Wikipedia:Projektneuheiten/Archiv/2012-2', 'Benutzer Diskussion:Xayax/Archiv/2012/3', 'Frescobaldi (Software)', 'Benutzer:Haringw/Bücher/Programmierung2', 'Ampache', 'Benutzer Diskussion:Morrrpheus/Archiv', 'Falkon (Browser)', 'Benutzer:Moritzmoritz98', 'Benutzer:Robin.goerlach/Ganglia (Software)', 'Benutzer:Robin.goerlach/Entwürfe/Ganglia', 'Ganglia (Software)', 'Mocking Framework', 'Benutzer:MichaelSchoenitzer/News', 'Wikipedia:Qualitätssicherung/2. Januar 2013', 'Benutzer:Sonderwonder', 'Wikipedia:Artikel, die es in allen Wikipedias geben sollte/Erweitert', 'Wikipedia:Artikel, die es in allen Wikipedias geben sollte/Erweitert/Technologie', 'Benutzer:DunkleAura/Bücher/Webentwicklung', 'Benutzer Diskussion:Chz/Archiv', 'Diskussion:Tupel/Archiv', 'Liste von Dependency Injection Frameworks', 'Wikipedia:Fragen von Neulingen/Archiv/2013/Januar', 'Benutzer:FischBot', 'Riak', 'Wikipedia:Löschkandidaten/1. Februar 2013', 'Wikipedia:WikiProjekt Kategorien/Diskussionen/2013/Februar/1', 'Benutzer Diskussion:MX8/Archiv/2012/August', 'Benutzer Diskussion:Aschroet/Archiv/2012', 'Faddeeva-Funktion', 'Apache ActiveMQ', 'Kategorie:Python (Programmiersprache)', 'Benutzer:Sebbot/Log/2013-02-14/15:00', 'Icinga', 'Ansible', 'Benutzer:Filousoph', 'Benutzer:InkoBot/Listen/Kurze Lesenswerte Artikel', 'Liste von Singleton-Implementierungen', 'Benutzer:Archandha', 'Benutzer:JasperO', 'Benutzer:Trustable/Liste von Computerprogrammen', 'Benutzer:An3k/Babel', 'Benutzer:An3k', 'Benutzer:Troubled asset/Babel', 'Benutzer:Sven1999', 'Benutzer:ẞ qwertz', 'Benutzer Diskussion:Kein Einstein/Archiv/2013-1', 'Benutzer:Eest9', 'Tornado (Webserver)', 'Benutzer Diskussion:Laberkiste/Archiv/1', 'Liste von Werkzeugen zur statischen Codeanalyse', 'Wikipedia:Archiv/Datenbankabfragen/Liste der meistbeobachteten Artikel', 'Unipps', 'Benutzer:AsuraBot', 'Lightning Talk', 'Liste niederländischer Erfinder und Entdecker', 'Checkmk', 'Transbase', 'QUIC', 'Liste von Operatoren für den Rest einer Division', 'Benutzer Diskussion:Bwbuz/Archiv/1', 'Benutzer:Chewbacca2205/Baustelle', 'Airtime (Software)', 'RabbitMQ', 'Hadamard-Produkt', 'Liste von Amazon Web Services', 'Benutzer Diskussion:Nirakka/Archiv/2012', 'Wikipedia:Löschkandidaten/23. September 2013', 'Benutzer:Henning Schwarz/optiSLang Artikelentwurf', 'Benutzer:Franzl aus tirol/latex2wiki', 'Benutzer:Yukeli', 'Trelby', 'Julia (Programmiersprache)', 'Benutzer Diskussion:Semper/Archiv 2009', 'Benutzer Diskussion:Ivla/Archiv/bis 2012', 'AFNI', 'RFEM', 'Benutzer:Pstigerid', 'Benutzer:ScotXW', 'Threema', 'Firefox Sync', 'Benutzer Diskussion:Polarlys/Archiv7', 'Wikipedia:Auskunft/Archiv/2013/Woche 50', 'Benutzer:Bin im Garten/A++', 'CPLEX', 'Project Euler', 'Benutzer Diskussion:Matthias Süßen/Archiv/2012und13', 'LXC', 'Benutzer:Bomberzocker/Liste von Spiel-Engines', 'Meld', 'Abaqus', 'OpenShift', 'Functional Mock-up Interface', 'Benutzer Diskussion:Plenz/Ausrufer', 'Benutzer:Ifixplanes/Newsticker', 'Benutzer:MeincraftManu', 'Benutzer:Barramundi/Bücher/Programmieren', 'Benutzer:Sinuhe20/Programmierung/Charts', 'Benutzer:Findus23', 'Benutzer:Agruwie/Newsliste/Archiv/Archiv2011', 'Benutzer:Agruwie/Newsliste/Archiv/Archiv2012', 'Benutzer:VHeller', 'Benutzer:Worthülsenentrümpelungsdienst', 'Vert.x', 'Swift (Programmiersprache)', 'Benutzer:Christian2003/OpenERP', 'Libvirt', 'Bullet (Physik-Engine)', 'CUBRID', 'Captcp', 'Neuron (Software)', 'Benutzer:Andreas Möllenkamp/Ausrufer', 'JSON-LD', 'Benutzer:Mrknowitall', 'Benutzer:Tidoni/Spielwiese', 'Benutzer:Bobbl/Division mit Rest', 'Benutzer:Tidoni/Babel Sammlung', 'SecureDrop', 'Wikipedia:Grafikwerkstatt/Archiv/2014/August', 'Matplotlib', 'Convolutional Neural Network', 'Saltstack', 'Wyvern (Programmiersprache)', 'Benutzer:Null Drei Null', 'Benutzer:Cpt ahag', 'Portal Diskussion:Freie Software/Ausgezeichnete Artikel', 'GNU Health', 'Benutzer:SiljaJ/Entwurf', 'OpenSlides', 'Seafile', 'OptiSLang', 'SciPy', 'Rdiff-backup', 'Benutzer:Se4598/BA NamedRefs/complex/1', 'Tryton', 'Benutzer:MartinPhysicist/ipython de', 'Benutzer:MGChecker/Ausrufer', 'Open Roberta', 'Benutzer:Jonsger/Rust', 'Detekt', 'Benutzer:Pechristener/Karten erstellen', 'Benutzer:Shazandra/Bücher/Programmieren in verschiedenen Sprachen', 'Benutzer Diskussion:Chricho/Archiv/2013', 'Benutzer:Excolis/Ausrufer', 'IPython', 'DevOps', 'Benutzer:Bakeey', 'Wikipedia Diskussion:Kandidaten für lesenswerte Artikel/Archiv/2015', 'Benutzer Diskussion:Schotterebene/Archiv/1', 'DNF (Dandified Yum)', 'Spyder', 'Skyscanner', 'Python 3', 'Benutzer:Pointhi/searx', 'Pip (Python)', 'Benutzer:TVB55', 'Benutzer:Enst38/Ausrufer', 'Viola-Jones-Methode', 'Benutzer:Chewbacca2205/Zu tun', 'Wikipedia:Urheberrechtsfragen/Archiv/2015/03', 'Liste von Genealogie-Programmen', 'Benutzer Diskussion:MEW/Archiv', 'Objektbasierte Programmiersprache', 'Diskussion:Liste von Genealogie-Programmen', 'Benutzer:Cypherfox', 'Ranger (Dateimanager)', 'Benutzer:Garvitor', 'Benutzer:Titus Telearis/Levenberg-Marquardt-Algorithmus', 'Benutzer:Da.arnold2/OSL', 'Stern-Brocot-Folge', 'Benutzer:Maformatiker', 'ZNC', 'Godot', 'Apache Spark', 'WebAssembly', 'MediaGoblin', 'Atom (Texteditor)', 'IBM Cloud', 'Benutzer:ẞ qwertz/Benutzerseitenüberarbeitung', 'Benutzer:Fit/Django', 'Benutzer:Drekamu/Briefkasten', 'Benutzer Diskussion:Feldkurat Katz/Archiv/1', 'Mpv', 'Benutzer:ToBeFree/Vorlage:user py-1', 'Wikipedia:Auskunft/Archiv/2015/Woche 34', 'CS50 (Computerkurs)', 'Let’s Encrypt', 'Wikipedia:Auskunft/Archiv/2015/Woche 35', 'Codecademy', 'Benutzer:JogoBot', 'Wikipedia:Auskunft/Archiv/2015/Woche 39', 'GNU Radio', 'ESP8266', 'Gnome Builder', 'PlayOnLinux', 'DHTMLX', 'Wikipedia:Bücher/MyWiki', 'Benutzer:SantaWinsAgain/Blend4Web', 'Virtual Machine Manager', '.NET (Oberbegriff)', 'Benutzer:Konrad Stein/Bücher/Computer', 'Benutzer:Konrad Stein/Bücher/Programmiersprachen', 'Visual Studio Code', 'Wikipedia:Bücher/Programmiersprachen', 'Benutzer:Konrad Stein/Bücher/Perl2', 'Redshift (Software)', 'Wikipedia:Auskunft/Archiv/2016/Woche 01', 'Benutzer:Andrioshe/Swift (Programmiersprache)', 'Benutzerin Diskussion:IvaBerlin/Archiv', 'Benutzer:Satellitis', 'Benutzer:Alexander-93', 'Benutzer:Cmuelle8/Bücher/Artikel des Tages', 'Benutzer:ThBachm/Bücher/MyWiki', 'Wikipedia Diskussion:Meinungsbilder/Punktekonto für Löschanträge', 'Benutzer:Makikatze', 'Benutzer Diskussion:Adnon/Archiv', 'BigWorld', 'Blender Game Engine', 'Django CMS', 'Hilfe:Syntaxhighlight/entry', 'Benutzer Diskussion:Kmheide/Archiv/1', 'Benutzer:FNBot', 'PrivacyIDEA', 'HexChat', 'Blend4Web', 'Gregorio (Software)', 'Assetto Corsa', 'Benutzer:Laserlicht', 'Benutzer:Speedpera/Babel', 'Video Multi-Method Assessment Fusion', 'Benutzer:Rene2278/Bücher/SW-Entwicklung', 'RStudio', 'DASYLab', 'MonetDB', 'Stan (Software)', 'H2O (Software)', 'Eureqa', 'Benutzerin:Wikiuka/ausrufer', 'Google Vermisstensuche', 'Beautiful Soup', 'Benutzer:Tbbttbbt', 'Solidity', 'Benutzer Diskussion:Hodsha', 'Benutzer:VonHaarberg', 'Ausdrucksorientierte Programmiersprache', 'Util-linux', 'Deep Learning', 'IBus', 'Benutzer Diskussion:Beyond Remedy', 'Benutzer:GimliGlider', 'Synaptic (Software)', 'Discord', 'Benutzer:MagicMarvMan', 'Benutzer:Philscience', 'Benutzer Diskussion:BrunoBoehmler/Archiv', 'Benutzer:Cmoxi/cavok DAM-System', 'Benutzer:Schumaml/Bücher/GIMP & Co', 'Benutzer:Alexander Elvers', 'Benutzer Diskussion:Rübenkopf/Newsletter/Ausrufer', 'Benutzer:Almonzer/GNUHealth-Arabisch', 'NumPy', 'TestComplete', 'OPALS', 'GlobaLeaks', 'Benutzer:Phit s/JCMsuite', 'Open vSwitch', 'Benutzer:Felix00186', 'JCMsuite', 'Benutzer:Qwert üpoiuz', 'Benutzer:Thomas Kinz', 'Benutzer:Nkonde/Bücher/Computertechnik verstehen, Informatik und Programmieren', 'Benutzer:Sheldor 2000', 'TensorFlow', 'Wikipedia:Löschkandidaten/21. Februar 2017', 'Benutzer Diskussion:Xqt/Archiv/2017-1', 'Apache Flink', 'Benutzer:Agruwie/Newsliste', 'Deeplearning4j', 'GNU Solfege', 'ABC (Programmiersprache)', 'GenGIS', 'Kategorie:Python-Bibliothek', 'Math Kernel Library', 'Gurobi', 'LabKey-Server', 'Caffe', 'Softwarestack', 'Benutzer:Pfeiffer3f/Ausrufer', 'Travis CI', 'Ns-3', 'Application Bundle', 'Benutzer:GiftBot/KLA', 'Angular', 'Metamath', 'Wikipedia:Exzellente Artikel/nach Datum/2003', 'Benutzer:HirnSpuk/Star-Trek-Spiele-unstable', 'Benutzer Diskussion:Struppi/Archiv', 'Cdist', 'ESpeak NG', 'Portal Diskussion:Wetter und Klima/Archiv/2017', 'Benutzer:TheMexxx', 'Benutzer Diskussion:Bernd Winnig/Archiv', 'Benutzer:MagHoxpox', 'Benutzer Diskussion:TheAmerikaner/Ausrufer', 'Benutzer:Giramo/Bücher/Strategy', 'Benutzer:Giramo/Bücher/StrategyTool', 'Benutzer:WiFox', 'Wikipedia:Bücher/EDV für Einsteiger', 'Benutzer Diskussion:Korus Makra/Newsletter', 'Benutzer:Gravity Assist/Bücher/Skriptsprachen', 'Yandex.Translate', 'Liste esoterischer Programmiersprachen', 'Benutzer:Alexander-93/Babel', 'Normaliz', 'Benutzer:H3xc0d3r/Mutationstest', 'Benutzer Diskussion:FF-11/Archiv/1', 'Blockly', 'ZeroNet', 'Benutzer Diskussion:Egidius~dewiki/Archiv/1', 'Universal Radio Hacker', 'Anaconda (Python-Distribution)', 'Benutzer Diskussion:Tröte/Archiv', 'Benutzer:Simon.eller', 'PyTorch', 'Benutzer:Easelpeasel/j2', 'Benutzer:JohnWilliamDoe/Spielwiese2', 'Wikipedia:WikiMUC/2018-02-08 Einführung in Python', 'Stable Marriage Problem', 'InterPlanetary File System', 'Benutzer Diskussion:Daniel Mietchen/Archiv/1', 'Benutzer Diskussion:Girwidz/Archiv/1', 'Benutzer:Ne-ro82', 'Liste von Content-Management-Systemen', 'Benutzer:LynxBot', 'Benutzer:Rmcharb/Sonstiges', 'Benutzer:D3d9', 'Benutzer:Wikiserv/Bücher/new Book', 'Verge3D', 'Pandas (Software)', 'Benutzer:Steindy/News', 'Benutzer:Liebeskind/CudaText', 'Keras', 'CudaText', 'Benutzer:DieserGorilla/Babel/Python', 'List Comprehension', 'Benutzer Diskussion:Dostojewskij/Archiv/2', 'SymPy', 'Scikit-learn', 'Scikit-image', 'ZeroMQ', 'Benutzer:DieserGorilla/Bottle', 'Benutzer:DieserGorilla/PySide', 'Benutzer:InformaticFreak', 'Benutzer Diskussion:Frozen Hippopotamus/Archiv', 'Benutzer:GreenLampion/Artikel', 'Benutzer:Trustable/Liste von Programmiersprachen-Implementierungen', 'Lyndsey Scott', 'Odoo', 'NetworkX', 'Lightning Memory-Mapped Database', 'GraphQL', 'Benutzer:Twistios', 'Benutzer:Messerjokke79/Archiv/Vergleichsoperator', 'Benutzer:Walter Anton/Neuigkeiten', 'ERPNext', 'Benutzer Diskussion:Chondrocladia/Archiv/2019', 'Benutzer Diskussion:JD/archiv29', 'Benutzer Diskussion:Berihert/Archiv/3', 'Benutzer:Schiffpa', 'Benutzer Diskussion:DonPedro71/Archiv 2019', 'Benutzer Diskussion:Elvaube/Archiv/2019/1', 'Benutzer Diskussion:Chewbacca2205/Archiv/2019', 'Benutzer Diskussion:Funky Man/Archiv/2019', 'Benutzer Diskussion:Yanikor/Archiv/2019', 'Benutzer Diskussion:Lutheraner/Archiv/2019', 'Benutzerin Diskussion:Maimaid/Archiv/2019', 'Dlib', 'Stock-Flow Consistent Model', 'Benutzer Diskussion:Patchall/Archiv/altv2', 'Benutzer Diskussion:Manfred Kuzel/Archiv/2019', 'Benutzer Diskussion:Label5/Archiv/2019', 'Benutzer:SkelatronWP', 'Benutzer Diskussion:Wikiolo/Archiv/2019', 'Benutzer Diskussion:TheLuk/Archiv/2019', 'IDLE', 'Benutzer:कार/Ausrufer/Archiv/2019', 'Benutzer Diskussion:Hoefler50/Archiv/2019', 'Benutzer Diskussion:Hemeier/Archiv/2019', 'Benutzer Diskussion:LutzBruno/Archiv 2019', 'Benutzer Diskussion:Mikered/Archiv/2019', 'Benutzer Diskussion:DCB/Archiv/2019–1', 'Benutzer Diskussion:Geolina163/Archiv/2019', 'Benutzer Diskussion:WhoisWhoME/Archiv/2019', 'Benutzer Diskussion:Hadi/Archiv/2019', 'Benutzer Diskussion:Olaf Kosinsky/Archiv/2019', 'Benutzer Diskussion:Jonaes02/Archiv/2019', 'ONNX', 'Benutzer Diskussion:Doc Taxon/Archiv/2019', 'Benutzer Diskussion:Serienfan2010/Archiv/2019', 'Celery', 'Benutzer Diskussion:DerMaxdorfer/Newsletter/2019', 'Benutzer Diskussion:Aalfons/Archiv/2019', 'Benutzer Diskussion:Steinsplitter/Archiv/2019', 'Benutzer Diskussion:MitchOfBavaria/Archiv/2019', 'Benutzer:Heitersberg/Briefkasten/Archiv/2019', 'Benutzer Diskussion:Yoursmile/Archiv/2019', 'Benutzer Diskussion:JonskiC/Archiv/2019', 'Benutzer Diskussion:MrDarkLynx/Archiv/2019', 'Benutzer Diskussion:O.Koslowski/Archiv/2019/', 'Benutzer Diskussion:Schraubenbürschchen/Archiv/2019', 'Benutzer Diskussion:Justus Nussbaum/Archiv2019', 'Benutzer Diskussion:Kghbln/Archiv/2019', 'Benutzer Diskussion:Ptolusque/Archiv/2019', 'Benutzer Diskussion:Ticketautomat/Archiv/2019-1', 'Benutzer Diskussion:Graphikus/Archiv/2019/Februar', 'Benutzer Diskussion:Ambross07/Archiv/2019', 'Benutzer Diskussion:XenonX3/Archiv/2019/Februar', 'Benutzer Diskussion:Wikijunkie/Archiv/2019/Februar', 'Benutzer Diskussion:Nikater/Archiv/2019', 'Benutzer Diskussion:Z thomas/Archiv2019', 'Benutzer Diskussion:Siphonarius/Archiv/2019', 'Benutzer Diskussion:Samiclaus/Archiv/2019', 'Benutzer Diskussion:Pearli/Archiv 2019', 'Lutris', 'Benutzer Diskussion:FNDE/Archiv/2019', 'Benutzer Diskussion:Fundriver/Archiv/2019/Feb', 'Benutzer Diskussion:Pfieffer Latsch/Archiv 2019/1', 'Benutzer Diskussion:Der Buckesfelder/Archiv/2019/1. Quartal', 'Puddletag', 'Benutzer:LauNigma', 'Benutzer Diskussion:PKautz/Ausrufer/Archiv/2019', 'Benutzer Diskussion:Xneb20/Archiv/2019/Feb.', 'Benutzer Diskussion:Guineabayer/Archiv/2019', 'Benutzer Diskussion:XenonX3/Archiv/2019/März', 'Benutzer Diskussion:Graphikus/Archiv/2019/März', 'Benutzerin Diskussion:Catrin/Archiv/2019/Feb', 'Benutzer Diskussion:MX8/Archiv/2019/Februar', 'Benutzer Diskussion:Wikijunkie/Archiv/2019/März', 'Benutzer Diskussion:Martin Kraft/Archiv/2019', 'Gestalt Pattern Matching', 'Benutzer Diskussion:SamIX/Archiv/2019', 'Benutzer:Fritzober/Ausrufer', 'Benutzer Diskussion:Fundriver/Archiv/2019/Mrz', 'Benutzer Diskussion:Richard Lenzen/Archiv/2019/Februar', 'Benutzer Diskussion:Dr.Mabuse99/Archiv/2019', 'Benutzer:NadirSH/Ausrufer/Archiv/2019', 'Benutzer Diskussion:Xneb20/Archiv/2019/Mrz.', 'Benutzer Diskussion:Clemensfranz/Archiv/2019', 'Stefan Funken', 'Benutzerin Diskussion:Catrin/Archiv/2019/Mrz', 'Benutzer Diskussion:MX8/Archiv/2019/März', 'Protogrid', 'Benutzer Diskussion:Watzmann/Archiv/2019', 'Benutzer:Sprachraum/Ausrufer/Archiv/2019', 'Liste von Git-GUIs', 'Benutzer Diskussion:Rübenkopf/Newsletter/Ausrufer/2019', 'Benutzer Diskussion:Richard Lenzen/Archiv/2019/März', 'Nuitka', 'Benutzer:Diaspomod/currying', 'Benutzer:MTheiler/PyWikiLemmaTranslator', 'Armin Ronacher', 'Wikipedia:Projektneuheiten/Archiv/2019-1', 'Wikipedia:Wartungsbausteinwettbewerb/Frühling 2019', 'Benutzer:Jannes Althoff', 'Benutzer Diskussion:Rote4132/Ausrufer', 'Benutzer:SaureGurke05', 'MacOS Catalina', 'Benutzer:DieserBot', 'Benutzer Diskussion:Grand-Duc/Archiv/2019', 'Benutzer Diskussion:Leithian/Archiv/2019/Feb', 'Benutzer Diskussion:Leithian/Archiv/2019/Mrz', 'Android-Softwareentwicklung', 'Google Cloud Platform', 'UWSGI', 'Benutzer:M2u germany', 'Benutzer:Horald007/Entwurf Spracherkennung Linux', 'Pi-hole', 'Wikipedia:Hannover/Wiki KnowHow', 'SoX', 'Numba (Softwarepaket)', 'Benutzer Diskussion:Tilla/Archiv/2012/März', 'Benutzer Diskussion:Tilla/Archiv/2012/August', 'Distributed Application Runtime', 'IoT-Plattform', 'Benutzer Diskussion:HerrSonderbar/Archiv/2020', 'Benutzer Diskussion:Oottaz/Archiv', 'Wikipedia:WikiProjekt Begrüßung von Neulingen/Technik', 'Wikipedia:Löschkandidaten/7. Dezember 2019', 'MicroPython', 'Benutzer:TheJ300/Bücher/Programmierung', 'Rosetta Code', 'Project Jupyter', 'Benutzer Diskussion:SamIX/Archiv/2020', 'Benutzer:DORpapst', 'Benutzer Diskussion:Rübenkopf/Newsletter/Ausrufer/2020', 'Benutzer:Cabfdb/Spielwiese', 'Benutzer Diskussion:Chondrocladia/Archiv/2020', 'Benutzer Diskussion:Pfieffer Latsch/Archiv 2020/1', 'Benutzer Diskussion:JD/archiv31', 'Diskussion:Shellskript', 'Wikipedia:Hauptseite/Artikel des Tages/Chronologie 2020', 'Benutzer Diskussion:RoBri/Archiv/2020', 'Benutzer Diskussion:Graphikus/Archiv/2020/Januar', 'Benutzer Diskussion:Yanikor/Archiv/2020', 'Benutzer Diskussion:Lutheraner/Archiv/2020', 'Benutzer Diskussion:Wikiolo/Archiv/2020', 'Benutzer Diskussion:Grand-Duc/Archiv/2020', 'Benutzer Diskussion:Patchall/Archiv/altv3', 'NaCl (Software)', 'Benutzer:Altsprachenfreund/Briefkasten/2019', 'Benutzer Diskussion:Elvaube/Archiv/2020/1', 'Benutzer Diskussion:PaulT/Archiv/2020', 'Benutzer Diskussion:Siphonarius/Archiv/2020', 'Benutzer Diskussion:Label5/Archiv/2020', 'Benutzer Diskussion:Ameisenigel/Archiv/2020', 'Benutzer Diskussion:Geolina163/Archiv/2020', 'Benutzer Diskussion:SteEis/Archiv/2020/1', 'Benutzerin Diskussion:Maimaid/Archiv/2020', 'Benutzer Diskussion:Funky Man/Archiv/2020', 'Benutzer:कार/Ausrufer/Archiv/2020', 'Benutzer:NadirSH/Ausrufer/Archiv/2020', 'Benutzer Diskussion:Hoefler50/Archiv/2020', 'Benutzer Diskussion:Hemeier/Archiv/2020', 'Benutzer Diskussion:LutzBruno/Archiv 2020', 'Benutzer Diskussion:Mikered/Archiv/2020', 'Benutzer Diskussion:DCB/Archiv/2020–1', 'Benutzer Diskussion:XenonX3/Archiv/2020/Januar', 'Benutzer Diskussion:Victor Schmidt/Archiv/2020', 'Benutzer Diskussion:Tilla/Archiv/2019/März', 'Benutzer Diskussion:Tilla/Archiv/2019/Februar', 'Wikipedia:Projektneuheiten/Archiv/2019-2', 'Benutzer Diskussion:DerMaxdorfer/Newsletter/2020', 'Benutzer Diskussion:DonPedro71/Archiv 2020', 'Raku (Programmiersprache)', 'Benutzer Diskussion:Ambross07/Archiv/2020', 'Benutzer Diskussion:Fundriver/Archiv/2020/Jan', 'Benutzer Diskussion:Aalfons/Archiv/2020', 'Benutzer Diskussion:Doc Taxon/Archiv/2020', 'Benutzer Diskussion:Schraubenbürschchen/Archiv/2020', 'Benutzer Diskussion:Olaf Kosinsky/Archiv/2020', 'Benutzer Diskussion:WhoisWhoME/Archiv/2020', 'Benutzer Diskussion:Steinsplitter/Archiv/2020', 'Benutzer Diskussion:MitchOfBavaria/Archiv/2020', 'Benutzer Diskussion:Jonaes02/Archiv/2020', 'Benutzer Diskussion:Serienfan2010/Archiv/2020', 'Benutzer:Heitersberg/Briefkasten/Archiv/2020', 'Benutzer Diskussion:Yoursmile/Archiv/2020', 'Benutzer Diskussion:MrDarkLynx/Archiv/2020', 'Benutzer Diskussion:Peter Gröbner/Archiv/2020', 'Benutzer Diskussion:O.Koslowski/Archiv/2020/', 'Benutzer Diskussion:Wikijunkie/Archiv/2020/Januar', 'Benutzer Diskussion:Hadi/Archiv/2020', 'Benutzer Diskussion:Berihert/Archiv/4', 'Benutzer Diskussion:Leithian/Archiv/2020/Jan', 'Benutzer Diskussion:Z thomas/Archiv2020', 'Benutzer Diskussion:Xneb20/Archiv/2020/Jan.', 'Benutzer Diskussion:Kghbln/Archiv/2020', 'Benutzer Diskussion:TheLuk/Archiv/2020', 'Benutzer:BartelLuis', 'Benutzer Diskussion:Ticketautomat/Archiv/2020-1', 'Benutzer Diskussion:Der Buckesfelder/Archiv/2020/1. Quartal', 'Benutzerin Diskussion:Catrin/Archiv/2020/Jan', 'Benutzer Diskussion:Ptolusque/Archiv/2020', 'Benutzer Diskussion:MX8/Archiv/2020/Januar', 'Benutzer Diskussion:Buenoveniste/Archiv', 'Benutzer Diskussion:Samiclaus/Archiv/2020', 'Benutzer Diskussion:Pearli/Archiv 2020', 'Ubuntu Software Center', 'Benutzer:Sprachraum/Ausrufer/Archiv/2020', 'Benutzer Diskussion:Justus Nussbaum/Archiv2020', 'Benutzer Diskussion:Wurgl/Archiv/2020', 'Benutzer Diskussion:Richard Lenzen/Archiv/2020/Januar', 'Spyder (Software)', 'Benutzer Diskussion:Toter Alter Mann/Archiv/2019', 'Benutzer Diskussion:Xqt/Archiv/2020-1', 'Benutzer Diskussion:PKautz/Ausrufer/Archiv/2020', 'Wikipedia:Projektneuheiten/Archiv/2020-1', 'Twine (Software)', 'Benutzer Diskussion:Wikijunkie/Archiv/2020/März', 'Benutzer Diskussion:Der-Wir-Ing/Archiv/2020', 'Electrum Bitcoin Wallet', 'Benutzer Diskussion:Martin Kraft/Archiv/2020', 'Benutzer Diskussion:SteEis/Archiv/2020/3', 'Benutzer Diskussion:Guineabayer/Archiv/2020', 'Benutzer Diskussion:XenonX3/Archiv/2020/März', 'Benutzer Diskussion:Graphikus/Archiv/2020/März', 'Benutzer:Danielsabinasz', 'Benutzer:Danielsabinasz/Vorlage:user Python', 'Benutzer:Danielsabinasz/Kategorie:user P', 'Benutzer:Danielsabinasz/Vorlage:user Py', 'Benutzer:Danielsabinasz/Kategorie:user Py', 'Benutzer:Danielsabinasz/Vorlage:user Py-4', 'Benutzer:Danielsabinasz/Vorlage:user Py-3', 'Benutzer:Danielsabinasz/Vorlage:user Py-2', 'Benutzer:Danielsabinasz/Vorlage:user Py-1', 'Benutzer:Danielsabinasz/Vorlage:user Py-0', 'Benutzer Diskussion:Fundriver/Archiv/2020/Mrz', 'Benutzer:Thomas Kinz/Babelkram', 'Benutzer:Mad melone/wiki-tennis', 'Benutzer Diskussion:Dr.Mabuse99/Archiv/2020', 'Benutzer Diskussion:Xneb20/Archiv/2020/Mrz.', 'Benutzer Diskussion:Clemensfranz/Archiv/2020', 'Benutzerin Diskussion:Catrin/Archiv/2020/Mrz', 'Benutzer Diskussion:MX8/Archiv/2020/März', 'Benutzer Diskussion:El Yudkin/Archiv', 'Benutzer:OgygisUndae', 'Benutzer Diskussion:Watzmann/Archiv/2020', 'Benutzer Diskussion:Elvaube/Archiv/2020/2', 'Benutzer Diskussion:Leithian/Archiv/2020/Mrz', 'Benutzer Diskussion:Leithian/Archiv/2020/Apr', 'ANSA (Präprozessor)', 'Benutzer Diskussion:SteEis/Archiv/2020/4', 'Benutzer Diskussion:DCB/Archiv/2020–2', 'Benutzer Diskussion:XenonX3/Archiv/2020/April', 'Benutzer Diskussion:ExtremPilotHD/Archiv/2020', 'Benutzer Diskussion:Richard Lenzen/Archiv/2020/März', 'Benutzer Diskussion:Graphikus/Archiv/2020/April', 'Benutzer Diskussion:Fundriver/Archiv/2020/Apr', 'Benutzer Diskussion:Commander Shran/Archiv/2019', 'Benutzer Diskussion:Xneb20/Archiv/2020/Apr.', 'Benutzer:Doozer85/Hostpoint', 'Direct Mode', 'Benutzerin Diskussion:Catrin/Archiv/2020/Apr', 'Benutzer Diskussion:MX8/Archiv/2020/April', 'Benutzer Diskussion:Jakob Gottfried/Archiv 2019', 'Benutzer Diskussion:SteEis/Archiv/2020/5', 'Benutzer Diskussion:Graphikus/Archiv/2020/Mai', 'Benutzer Diskussion:XenonX3/Archiv/2020/Mai', 'Benutzer:Leonry', 'Benutzer Diskussion:Fundriver/Archiv/2020/Mai', 'DeepFaceLab', 'Philipp Kalweit', 'Benutzer Diskussion:Xneb20/Archiv/2020/Mai.', 'Benutzer Diskussion:Richard Lenzen/Archiv/2020/April', 'Benutzerin Diskussion:Catrin/Archiv/2020/Mai', 'Benutzer Diskussion:MX8/Archiv/2020/Mai', 'Benutzer Diskussion:Wikijunkie/Archiv/2020/Mai', 'Benutzer Diskussion:Wikijunkie/Archiv/2020/April', 'Benutzer Diskussion:Richard Lenzen/Archiv/2020/Mai', 'Theano (Deep Learning)', 'Scrapy (Software)', 'Benutzer:Diaspomod/lambda', 'Benutzerin:Asozialebohne', 'Benutzer Diskussion:Commander Shran/Archiv/2020', 'Benutzer:Yuriklim', 'Benutzer Diskussion:Leithian/Archiv/2020/Mai', 'Benutzer:Felix2510', 'Wikipedia Diskussion:Hauptseite/Artikel des Tages/Archiv/Vorschläge/2020/Q4', 'Kig', 'Wikipedia:Hauptseite/Archiv/16. Oktober 2020', 'YARA', 'Liste von Blender-Versionen', 'Selbstüberwachtes Lernen', 'Avogadro (Moleküleditor)', 'Wikipedia:Projektneuheiten/Archiv/2020-2', 'Home Assistant', 'Portal:Gesprochene Wikipedia/2010', 'Youtube-dl', 'Wikipedia:Auskunft/Archiv/2020/Woche 51', 'Benutzer:Kleinesfilmröllchen', 'Benutzer:MW0711', 'Typhoon HIL', 'Benutzer:StefanMachwirth', 'Benutzer:Mawoka', 'Benutzer Diskussion:Jakob Gottfried/Archiv 2020', 'Benutzer:Altsprachenfreund/Briefkasten/2020', 'Benutzer Diskussion:Chewbacca2205/Archiv/2021', 'PlanetarySystemStacker', 'Photon OS', 'Wikipedia:Auskunft/Archiv/2021/Woche 09', 'Benutzer Diskussion:Nordprinz/Archiv/1', 'Verzögerte Initialisierung', 'LanguageTool', 'La page Crypto de Jean-François Bouchaudy', 'Snakemake', 'Roman Anin', 'FreeCodeCamp', 'Benutzer:Cmuelle8/Bücher/Artikel des Tages 2020', 'Benutzer:Mombacher/Ausrufer/Archiv/2020', 'Pocket', 'Bad Apple!!', 'Benutzer:Gardini/Arbeitsseite/Algorithmen zur Matrizenmultiplikation', 'OpenBIS', 'Code Injection', 'Benutzer Diskussion:Koyaanis/Archiv/2019', 'Meson (Build-System)', 'SnapPy', 'Benutzer:Sebastian.Dietrich/Hazelcast', 'Benutzer Diskussion:RacoonyRE/Archiv/2012', 'Benutzer Diskussion:Toter Alter Mann/Archiv/2020', 'Benutzer:Trustable/Liste von Programmiersprachen nach TIOBE-Index', 'Benutzer:Emberwit/Spieleprogrammierung', 'Benutzer:Mhandschug', 'Age (Verschlüsselung)', 'Language Server Protocol', 'Benutzer:Iranische Gerste', 'Benutzer:MisterSynergy/Stimmberechtigung', 'John Jackson (Hacker)', 'Benutzer:MN77IT/JayMo', 'Benutzer:Pem Velten', 'Vergleich von Programmiersprachen', 'Gunicorn', 'Benutzer Diskussion:Koyaanis/Archiv/2020', 'Komodo IDE', 'TigerJython', 'Wikipedia:WikiProjekt Vorlagen/Werkstatt/Archiv 2022/1', 'Benutzer:ElBe Bot', 'Wikipedia Diskussion:Redaktion Musik/Archiv/2022', 'PlatformIO', 'Benutzer:Georg.f.groissboeck/Portfolio & Showroom', 'Superblock (Stadtplanung)', 'Crystal (Programmiersprache)', 'Benutzer:Joergens.mi/Archiv 2021', 'EScriptorium', 'John Malcolm Stewart', 'Benutzer:AGU67', 'Benutzer:TheEarlyBirdCatchesTheWorm/Open Computer Orchestration', 'PlantUML', 'XGBoost', 'Star Trek: Bridge Commander', 'Benutzer:MuteBefehl', 'Bareos', 'Benutzer:Hans Genten/Python - Anaconda - Qt', 'Benutzer:Hans Genten/Python - Anaconda - Qt/Lösungen', 'Conda (Paketverwaltung)', 'Pyston', 'Seitenvorschub', 'Einzeiler (Informatik)', 'Selbstübersetzung (Compiler)', 'Benutzer:Ruhrgur/Bücher/Hacking', 'Stable Diffusion', 'ChatGPT', 'Benutzer:Germardies/Raptoreum', 'Capella (Ingenieurwesen)', 'PyScript', 'Conan (Software)', 'Gestalter für immersive Medien', 'Wikipedia:Fragen zur Wikipedia/Archiv/2023/Woche 01', 'Wikipedia:Löschkandidaten/16. Januar 2023', 'Benutzer:Baconbeam20', 'Valerie Anita Aurora', 'OpenMS', 'Sue Black (Informatikerin)', 'Prompt Engineering', 'Benutzer:Henry Wentworth Akeley', 'Benutzer:Running-tomy/Deterministischer azyklischer endlicher Automat', 'Deterministischer azyklischer endlicher Automat', 'Benutzer:WolfManfred/Baustelle', 'Benutzer:Popaaa', 'Wikipedia:Auskunft/Archiv/2023/Woche 17', 'Diskussion:Feld (Datentyp)/Archiv/1', 'SimCity (1989)', 'Unvollständige elliptische Integrale', 'Warren Hoburg', 'Benutzer Diskussion:Rolf acker/Archiv/Ausrufer/2019', 'Benutzer Diskussion:Rolf acker/Archiv/Ausrufer/2020', 'Bottle', 'TEA (Texteditor)', 'React Native', 'GNS3', 'Benutzer Diskussion:217.92.62.103', 'Benutzer:Wartungsstube/Digitale Welt', 'Zulip', 'Orthanc (Software)', 'Diskussion:R (Programmiersprache)/Archiv', 'Apollonios-Kreisfüllung', 'Bounds checking', 'Benutzer:ΝιΘοΛε18', 'Benutzer Diskussion:Der Buckesfelder/Archiv/2020/2. Quartal', 'Auto-GPT', 'Yaba (Lagos)', 'Schwertlilien-Datensatz', 'Tesla Dojo', 'Pycsw', 'Apache Superset', 'Benutzer:Alva2004/Programme', 'Benutzer:Chewbacca2205/Überarbeitet', 'Gaël Varoquaux', 'Benutzer:Twistios/Pygame-CE', 'Benutzer:Seaking08', 'Portal Diskussion:Astronomie/Archiv/3', 'Meshtastic', 'Remember Me (Software)', 'Benutzer Diskussion:Ameisenigel/Archiv/2024/III', 'Valeriepieris-Kreis', 'Shimmer (Kommunikationsprotokoll)', 'Wikifunctions', 'François Chollet', 'Benutzer:ΝιΘοΛε18/Vorlage:Python', 'Benutzer:David Ingendorf/Unterseiten/Informatik', 'Benutzer:AusleseBeeren', 'Creative Coding', 'PrePoMax', 'Benutzer:Wartungsstube/Informatik', 'Linguistic Society of America', 'Evcc', 'Playwright (Software)', 'Benutzer:Oligarch NYC/Wissenschaft', 'Benutzer:1982navita/DorisSylviaFolini']\n"
     ]
    }
   ],
   "source": [
    "print(backlinks)"
   ],
   "metadata": {
    "collapsed": false,
    "ExecuteTime": {
     "end_time": "2024-11-28T07:18:28.339906700Z",
     "start_time": "2024-11-28T07:18:28.334465500Z"
    }
   },
   "id": "394fa514d764e2ad"
  },
  {
   "cell_type": "code",
   "execution_count": 13,
   "outputs": [],
   "source": [
    "backgraph = get_backgraph(python_page, 1)"
   ],
   "metadata": {
    "collapsed": false,
    "ExecuteTime": {
     "end_time": "2024-11-28T07:42:55.130229500Z",
     "start_time": "2024-11-28T07:18:28.339906700Z"
    }
   },
   "id": "b84f2086765b8e3a"
  },
  {
   "cell_type": "code",
   "execution_count": 14,
   "outputs": [],
   "source": [
    "complete_graph = nx.compose(graph, backgraph)\n",
    "# ANMERKUNG: ZUM TEST WURDE COMPLETE_GRAPH VERWENDET;; SONST NUR GRAPH"
   ],
   "metadata": {
    "collapsed": false,
    "ExecuteTime": {
     "end_time": "2024-11-28T07:42:56.223017200Z",
     "start_time": "2024-11-28T07:42:55.135438800Z"
    }
   },
   "id": "872edddc2ae6d521"
  },
  {
   "cell_type": "code",
   "execution_count": 15,
   "outputs": [],
   "source": [
    "# from graph, export edges as a tuple to a csv file\n",
    "edges = graph.edges\n",
    "with open('edges_original.csv', 'w', encoding='utf-8') as f:\n",
    "    for edge in edges:\n",
    "        f.write(f'{edge[0]},{edge[1]}\\n')"
   ],
   "metadata": {
    "collapsed": false,
    "ExecuteTime": {
     "end_time": "2024-11-28T07:42:56.245997500Z",
     "start_time": "2024-11-28T07:42:56.223017200Z"
    }
   },
   "id": "90686d00cb16275c"
  },
  {
   "cell_type": "markdown",
   "source": [
    "# Versuchserklärung\n",
    "#### Ziel ist es, Artikelvorschläge zu generieren, die thematisch zu Bienen passen. Dabei werde ich 4 verschiedene Ansätze testen (dabei wird immer der höchste Grad der Knoten betrachtet):\n",
    "#### 1. Extrahiere die Knoten mit dem höchsten Grad (ungefiltert)\n",
    "#### 2. Betrachte nur die direkten Nachfolger von Bienen\n",
    "#### 3. Betrachte nur die Knoten, die zu Bienen verlinkt sind\n",
    "#### 4. Betrachte nur die direkten Nachfolger von Bienen, die auch eine Verbindung zurück zu Bienen haben (beide Bedingungen)\n",
    "\n",
    "#### Die Tests 2-4 wurde ich sowohl am Hauptgraphen, als auch an einem Subgraphen durchführen, um zu schauen ob dies ein Unterschied macht."
   ],
   "metadata": {
    "collapsed": false
   },
   "id": "2383b2dee7e06da8"
  },
  {
   "cell_type": "markdown",
   "source": [
    "# Versuch 1: Extrahiere die Knoten mit dem höchsten Grad\n",
    "#### Im ersten Versuch werden die Knoten mit dem höchsten Grad extrahiert. Man kann erkennen, dass die Artikelvorschläge zu oberflächlich sind. "
   ],
   "metadata": {
    "collapsed": false
   },
   "id": "7ef8a3b36869698c"
  },
  {
   "cell_type": "code",
   "execution_count": 16,
   "outputs": [
    {
     "name": "stdout",
     "output_type": "stream",
     "text": [
      "[('Benutzer:Dapete/Datenbankabfragen/Verwaiste Artikeldiskussionen', 40045), ('Wikipedia:Einbänder/Stichworte', 19370), ('Wikipedia:Artikel, die es in allen Wikipedias geben sollte/Erweitert', 9619)]\n"
     ]
    }
   ],
   "source": [
    "# print the top 3 nodes with the highest degree\n",
    "top_3_nodes = sorted(complete_graph.degree, key=lambda x: x[1], reverse=True)[:3]\n",
    "print(top_3_nodes)"
   ],
   "metadata": {
    "collapsed": false,
    "ExecuteTime": {
     "end_time": "2024-11-28T07:42:56.342212900Z",
     "start_time": "2024-11-28T07:42:56.245997500Z"
    }
   },
   "id": "225409fbb91437cb"
  },
  {
   "cell_type": "markdown",
   "source": [
    "# Versuch 2: Extrahiere die direkten Nachfolger von Bienen\n",
    "#### Um die Auswahl passender Artikel einzuschränken, werden nur die direkten Nachfolger von Bienen betrachtet.\n",
    "#### Diese neue Bedingung soll dazu führen, nur Artikel in Betracht zu ziehen, die auch von der Biene refenziert werden.\n",
    "\n",
    "#### Getestet habe ich diese Bedinung an zwei Graphen:\n",
    "#### 1. Der ursprüngliche Graph\n",
    "#### 2. Ein Subgraph, der nur die Knoten enthält, die von Bienen referenziert werden.\n",
    " "
   ],
   "metadata": {
    "collapsed": false
   },
   "id": "4ecf83959c4a3895"
  },
  {
   "cell_type": "code",
   "execution_count": 17,
   "outputs": [],
   "source": [
    "links_python = get_links(python_page)"
   ],
   "metadata": {
    "collapsed": false,
    "ExecuteTime": {
     "end_time": "2024-11-28T07:42:56.346223300Z",
     "start_time": "2024-11-28T07:42:56.335993800Z"
    }
   },
   "id": "465b96295624890a"
  },
  {
   "cell_type": "code",
   "execution_count": 18,
   "outputs": [],
   "source": [
    "reduced_node_list = [node for node in complete_graph.nodes() if node in links_python]"
   ],
   "metadata": {
    "collapsed": false,
    "ExecuteTime": {
     "end_time": "2024-11-28T07:42:56.552812700Z",
     "start_time": "2024-11-28T07:42:56.346223300Z"
    }
   },
   "id": "b152ba4c2f58b3be"
  },
  {
   "cell_type": "markdown",
   "source": [
    "## Erstelle Subgraphen und extrahiere die Knoten mit dem höchsten Grad\n",
    "#### Hier wird ein Subgraph erstellt, der nur die Knoten enthält, die direkte Nachfolger von Bienen sind.\n",
    "#### Die Ergebnisse sind besser, als die des ursprünglichen Graphen."
   ],
   "metadata": {
    "collapsed": false
   },
   "id": "e5e65ada1b4330e9"
  },
  {
   "cell_type": "code",
   "execution_count": 19,
   "outputs": [],
   "source": [
    "# create a subgraph\n",
    "subgraph = complete_graph.subgraph(reduced_node_list)"
   ],
   "metadata": {
    "collapsed": false,
    "ExecuteTime": {
     "end_time": "2024-11-28T07:42:56.558763900Z",
     "start_time": "2024-11-28T07:42:56.552812700Z"
    }
   },
   "id": "acf0c55938207a96"
  },
  {
   "cell_type": "code",
   "execution_count": 20,
   "outputs": [
    {
     "name": "stdout",
     "output_type": "stream",
     "text": [
      "[('Java (Programmiersprache)', 113), ('C++', 109), ('Betriebssystem', 104)]\n"
     ]
    }
   ],
   "source": [
    "top_3_reduced_nodes = sorted(subgraph.degree(), key=lambda x: x[1], reverse=True)[:3]\n",
    "print(top_3_reduced_nodes)"
   ],
   "metadata": {
    "collapsed": false,
    "ExecuteTime": {
     "end_time": "2024-11-28T07:42:56.582985400Z",
     "start_time": "2024-11-28T07:42:56.558763900Z"
    }
   },
   "id": "a62f0beaa28f76c1"
  },
  {
   "cell_type": "markdown",
   "source": [
    "## Extrahiere Knoten mit dem höchsten Grad aus Hauptgraphen\n",
    "#### Hier zeigt die Zusatzbedingung keine Verbesserung."
   ],
   "metadata": {
    "collapsed": false
   },
   "id": "2d7f3c23e61bc87c"
  },
  {
   "cell_type": "code",
   "execution_count": 21,
   "outputs": [
    {
     "name": "stdout",
     "output_type": "stream",
     "text": [
      "[('Wikipedia:Lesenswerte Artikel', 4448), ('Betriebssystem', 888), ('Java (Programmiersprache)', 791)]\n"
     ]
    }
   ],
   "source": [
    "top_3_reduced_nodes = sorted(complete_graph.degree(reduced_node_list), key=lambda x: x[1], reverse=True)[:3]\n",
    "print(top_3_reduced_nodes)"
   ],
   "metadata": {
    "collapsed": false,
    "ExecuteTime": {
     "end_time": "2024-11-28T07:42:56.586002Z",
     "start_time": "2024-11-28T07:42:56.576876600Z"
    }
   },
   "id": "f2a213c91a21883e"
  },
  {
   "cell_type": "markdown",
   "source": [
    "## Zusammenfassung Versuch 2\n",
    "#### Man kann sehen, dass die reine Bedingung an den Knoten des Hauptgraphen noch nicht aussreicht für gute Ergebnisse. -> Zu oberflächliche Themen. Der Subgraph hingegen, schlägt zu spezifische Artikel vor.  "
   ],
   "metadata": {
    "collapsed": false
   },
   "id": "708d75ae0297702d"
  },
  {
   "cell_type": "code",
   "execution_count": 22,
   "outputs": [],
   "source": [
    "# export the subgraph to a csv file\n",
    "edges = subgraph.edges\n",
    "with open('edges_reduced.csv', 'w', encoding='utf-8') as f:\n",
    "    for edge in edges:\n",
    "        f.write(f'{edge[0]},{edge[1]}\\n')"
   ],
   "metadata": {
    "collapsed": false,
    "ExecuteTime": {
     "end_time": "2024-11-28T07:42:56.655597700Z",
     "start_time": "2024-11-28T07:42:56.582985400Z"
    }
   },
   "id": "87c048996690dc8c"
  },
  {
   "cell_type": "markdown",
   "source": [
    "# Versuch 3: Extrahiere Knoten, die zu Bienen verlinkt sind\n",
    "#### Hier wird die Bedingung getestet, dass nur die Knoten betrachtet werden die zu Bienen verlinkt sind.\n",
    "\n",
    "#### Ebenfalls werde ich dies hier am Hauptgraphen und an einem Subgraphen testen."
   ],
   "metadata": {
    "collapsed": false
   },
   "id": "8f3fc4cd2676df85"
  },
  {
   "cell_type": "code",
   "execution_count": 23,
   "outputs": [],
   "source": [
    "nodes_with_edge_to_python = [node for node in complete_graph.nodes() if complete_graph.has_edge(node, 'Python (Programmiersprache)')]"
   ],
   "metadata": {
    "collapsed": false,
    "ExecuteTime": {
     "end_time": "2024-11-28T07:42:56.669160800Z",
     "start_time": "2024-11-28T07:42:56.602865800Z"
    }
   },
   "id": "27b6e4c2d7b6bd49"
  },
  {
   "cell_type": "markdown",
   "source": [
    "## Mit Ursprungsgaphen\n",
    "#### Es zeigt sich, dass wir ein durchwegs gute Themenvorschläge erhalten."
   ],
   "metadata": {
    "collapsed": false
   },
   "id": "559973a54a5c9380"
  },
  {
   "cell_type": "code",
   "execution_count": 24,
   "outputs": [
    {
     "name": "stdout",
     "output_type": "stream",
     "text": [
      "[('Benutzer:Dapete/Datenbankabfragen/Verwaiste Artikeldiskussionen', 40045), ('Wikipedia:Einbänder/Stichworte', 19370), ('Wikipedia:Artikel, die es in allen Wikipedias geben sollte/Erweitert', 9619)]\n"
     ]
    }
   ],
   "source": [
    "top_3_linked = sorted(complete_graph.degree(nodes_with_edge_to_python), key=lambda x: x[1], reverse=True)[:3]\n",
    "print(top_3_linked)"
   ],
   "metadata": {
    "collapsed": false,
    "ExecuteTime": {
     "end_time": "2024-11-28T07:42:56.681138100Z",
     "start_time": "2024-11-28T07:42:56.659822600Z"
    }
   },
   "id": "73105f60a37bd511"
  },
  {
   "cell_type": "markdown",
   "source": [
    "## Mit Subgraphen\n",
    "#### Deutlich erkennt man, dass die Themenvorschläge zu spezifisch sind."
   ],
   "metadata": {
    "collapsed": false
   },
   "id": "24030d4faa8d345c"
  },
  {
   "cell_type": "code",
   "execution_count": 25,
   "outputs": [
    {
     "name": "stdout",
     "output_type": "stream",
     "text": [
      "[('Java (Programmiersprache)', 98), ('C++', 95), ('Perl (Programmiersprache)', 79), ('C (Programmiersprache)', 76), ('Ruby (Programmiersprache)', 73)]\n"
     ]
    }
   ],
   "source": [
    "subgraph_linked = graph.subgraph(nodes_with_edge_to_python)\n",
    "top_3_linked = sorted(subgraph_linked.degree(), key=lambda x: x[1], reverse=True)[:5]\n",
    "print(top_3_linked)"
   ],
   "metadata": {
    "collapsed": false,
    "ExecuteTime": {
     "end_time": "2024-11-28T07:42:56.689074300Z",
     "start_time": "2024-11-28T07:42:56.671772400Z"
    }
   },
   "id": "6cc3d6d555099f98"
  },
  {
   "cell_type": "code",
   "execution_count": 26,
   "outputs": [],
   "source": [
    "# export the subgraph to a csv file\n",
    "edges = subgraph_linked.edges\n",
    "with open('edges_linked.csv', 'w', encoding='utf-8') as f:\n",
    "    for edge in edges:\n",
    "        f.write(f'{edge[0]},{edge[1]}\\n')"
   ],
   "metadata": {
    "collapsed": false,
    "ExecuteTime": {
     "end_time": "2024-11-28T07:42:56.755247Z",
     "start_time": "2024-11-28T07:42:56.689074300Z"
    }
   },
   "id": "2717ee272f3d51ff"
  },
  {
   "cell_type": "markdown",
   "source": [
    "## Zusammenfassung Versuch 3\n",
    "#### Diese Bedingung sorgt für signifikant bessere Vorschläge am Hauptgraphen. Der Subgraph hingegen, schlägt zu spezifische Artikel vor."
   ],
   "metadata": {
    "collapsed": false
   },
   "id": "231fcef340d0316e"
  },
  {
   "cell_type": "markdown",
   "source": [
    "# Versuch 4: Extrahiere Knoten mit beiden Bedingungen\n",
    "#### Zum Schluss setzten wir beide Bedingungen vorraus. Auch hier wird dies am Hauptgraphen und an einem Subgraphen getestet."
   ],
   "metadata": {
    "collapsed": false
   },
   "id": "7622447e781d8b0b"
  },
  {
   "cell_type": "code",
   "execution_count": 27,
   "outputs": [
    {
     "name": "stdout",
     "output_type": "stream",
     "text": [
      "['C++', 'C (Programmiersprache)', 'Garbage Collection', 'Java (Programmiersprache)', 'Just-in-time-Kompilierung', 'Kommandozeile', 'MacOS', 'Plattformunabhängigkeit', 'Reflexion (Programmierung)', 'Skriptsprache', 'Zeichenkette', 'Wikipedia:Lesenswerte Artikel', 'ABC (Programmiersprache)', 'Centrum Wiskunde & Informatica', 'Guido van Rossum', 'Höhere Programmiersprache', 'Interpreter', 'Strukturierte Programmierung', 'Typisierung (Informatik)', 'Funktionale Programmierung', 'Allzweck-Programmiersprache', 'Kommandozeileninterpreter', 'Vim', 'Amoeba (Betriebssystem)', 'Anaconda (Python-Distribution)', 'Conda (Paketverwaltung)', 'IPython', 'Project Jupyter', 'Spyder (Software)', 'Apache OpenOffice', 'Relationale Datenbank', 'Ausnahmebehandlung', 'Objektorientierte Programmierung', 'Vererbung (Programmierung)', 'Haskell (Programmiersprache)', 'Perl (Programmiersprache)', 'Tcl', 'Smalltalk (Programmiersprache)', 'Blender (Software)', 'YouTube', 'Einrückungsstil', 'Boost (C++-Bibliothek)', 'CLU (Programmiersprache)', 'Eclipse (IDE)', 'IntelliJ IDEA', 'Mehrfachvererbung', 'NetBeans IDE', 'Regulärer Ausdruck', 'Standardbibliothek', 'Tupel (Informatik)', 'Visual Studio', 'Lisp', 'Ruby (Programmiersprache)', 'PyPy', 'Cinema 4D', 'Maya (Software)', 'Closure (Funktion)', 'Currying', 'Groovy', 'Cobra (Programmiersprache)', 'Dynamische Typisierung', 'Common Gateway Interface', 'Web Server Gateway Interface', 'Leerraum', 'Pip (Python)', 'Stapelspeicher', 'Cython', 'Duck-Typing', 'NumPy', 'Dynamische Programmiersprache', 'Menge (Datenstruktur)', 'Deep Learning', 'Keras', 'PyTorch', 'TensorFlow', 'Django (Framework)', 'Flask', 'SQLAlchemy', 'Web2py', 'Dylan (Programmiersprache)', 'GIMP', 'Tk (Toolkit)', 'Referenzzählung', 'IDLE', 'Python Software Foundation', 'Tkinter', 'Matplotlib', 'PyCharm', 'IronPython', 'Jython', 'Pattern Matching', 'KiCad', 'Kivy', 'MicroPython', 'Symbian-Plattform', 'Monty Python', 'SciPy', 'Parrot', 'Peter J. Landin', 'PyGTK', 'WxPython', 'PyMOL', 'PyObjC', 'Scikit-learn', 'QGIS', 'Raspberry Pi', 'Turtle-Grafik', 'Zope (Webanwendungsserver)']\n"
     ]
    }
   ],
   "source": [
    "nodes_with_edge_to_bienen_reduced = [node for node in reduced_node_list if complete_graph.has_edge(node, 'Python (Programmiersprache)')]\n",
    "print(nodes_with_edge_to_bienen_reduced)"
   ],
   "metadata": {
    "collapsed": false,
    "ExecuteTime": {
     "end_time": "2024-11-28T07:42:56.765961800Z",
     "start_time": "2024-11-28T07:42:56.706239100Z"
    }
   },
   "id": "ff6d54ae636d177d"
  },
  {
   "cell_type": "markdown",
   "source": [
    "## Extraktion mit beiden Bedingungen am Hauptgraphen\n",
    "#### Hier wird die Kombination von beiden Bedingungen am Hauptgraphen getestet. Diese Erbnisse unterschieden sich jedoch nicht von den Ergebnissen des dritten Versuchs."
   ],
   "metadata": {
    "collapsed": false
   },
   "id": "e588821a704d1bb6"
  },
  {
   "cell_type": "code",
   "execution_count": 28,
   "outputs": [
    {
     "name": "stdout",
     "output_type": "stream",
     "text": [
      "[('Wikipedia:Lesenswerte Artikel', 4448), ('Java (Programmiersprache)', 791), ('C++', 727)]\n"
     ]
    }
   ],
   "source": [
    "top_3_clean = sorted(complete_graph.degree(nodes_with_edge_to_bienen_reduced), key=lambda x: x[1], reverse=True)[:3]\n",
    "print(top_3_clean)"
   ],
   "metadata": {
    "collapsed": false,
    "ExecuteTime": {
     "end_time": "2024-11-28T07:42:56.770967400Z",
     "start_time": "2024-11-28T07:42:56.715971800Z"
    }
   },
   "id": "b872704e0014af2b"
  },
  {
   "cell_type": "markdown",
   "source": [
    "## Erstellung und Extraktion mit beiden Bedingungen an eines Subgraphen\n",
    "#### Dieser Subgraph enthält nur die Knoten, die beide Bedingungen.\n",
    "#### Hier sind die ebenso wie in Versuch 3 die Themenvorschläge identisch. Das Einzige worin sich die Ergebnisse unterscheiden, ist eine abnahme im Degree."
   ],
   "metadata": {
    "collapsed": false
   },
   "id": "ae0f6fa43448b4c1"
  },
  {
   "cell_type": "code",
   "execution_count": 29,
   "outputs": [],
   "source": [
    "subgraph_clean = complete_graph.subgraph(nodes_with_edge_to_bienen_reduced)"
   ],
   "metadata": {
    "collapsed": false,
    "ExecuteTime": {
     "end_time": "2024-11-28T07:42:56.776222900Z",
     "start_time": "2024-11-28T07:42:56.726141800Z"
    }
   },
   "id": "39d1917cdb74bb07"
  },
  {
   "cell_type": "code",
   "execution_count": 30,
   "outputs": [
    {
     "name": "stdout",
     "output_type": "stream",
     "text": [
      "[('C++', 74), ('Java (Programmiersprache)', 72), ('C (Programmiersprache)', 62), ('Ruby (Programmiersprache)', 55), ('Perl (Programmiersprache)', 54)]\n"
     ]
    }
   ],
   "source": [
    "top_3_clean = sorted(subgraph_clean.degree(nodes_with_edge_to_bienen_reduced), key=lambda x: x[1], reverse=True)[:5]\n",
    "print(top_3_clean)"
   ],
   "metadata": {
    "collapsed": false,
    "ExecuteTime": {
     "end_time": "2024-11-28T07:42:56.781227600Z",
     "start_time": "2024-11-28T07:42:56.732339600Z"
    }
   },
   "id": "eb21aec6fb544da8"
  },
  {
   "cell_type": "code",
   "execution_count": 31,
   "outputs": [],
   "source": [
    "# export the subgraph to a csv file\n",
    "edges = subgraph_clean.edges\n",
    "with open('edges_predecessors.csv', 'w', encoding='utf-8') as f:\n",
    "    for edge in edges:\n",
    "        f.write(f'{edge[0]},{edge[1]}\\n')"
   ],
   "metadata": {
    "collapsed": false,
    "ExecuteTime": {
     "end_time": "2024-11-28T07:42:56.781227600Z",
     "start_time": "2024-11-28T07:42:56.751301500Z"
    }
   },
   "id": "5f8ee229d3b46f61"
  },
  {
   "cell_type": "markdown",
   "source": [
    "## Zusammenfassung Versuch 4:\n",
    "#### Auch hier schneidet der Hauptgraph besser ab als der Subgraph.    "
   ],
   "metadata": {
    "collapsed": false
   },
   "id": "b3348f884a6a7276"
  },
  {
   "cell_type": "markdown",
   "source": [
    "# Fazit\n",
    "#### Die besten Ergebnissen wurden am Hauptgraphen mit der Bedingung erzielt, dass nur die Knoten betrachtet werden, die zu Bienen verlinkt sind. Dass beide Bedungungen erfüllt sein müssen, hat keinen Unterschied gemacht.\n",
    "#### Der Subgraph hat bei allen Versuchen zu spezifische Artikel vorgeschlagen. Dies könnte man damit erklären, dass Informationen vom Hauptgraphen verloren gehen, da nur ein Teil der Knoten betrachtet wird. Dadurch fehlen Ingoing und Outgoing Links, die den Degree beeinflussen.   "
   ],
   "metadata": {
    "collapsed": false
   },
   "id": "412e0ca76c144c90"
  },
  {
   "cell_type": "code",
   "execution_count": 32,
   "outputs": [],
   "source": [
    "backlinks = python_page.backlinks\n"
   ],
   "metadata": {
    "collapsed": false,
    "ExecuteTime": {
     "end_time": "2024-11-28T07:42:56.781227600Z",
     "start_time": "2024-11-28T07:42:56.761036700Z"
    }
   },
   "id": "549b4ec57cb9434f"
  },
  {
   "cell_type": "code",
   "execution_count": 33,
   "outputs": [
    {
     "name": "stdout",
     "output_type": "stream",
     "text": [
      "['O’Reilly Open Source Convention', 'Kürzester Pfad', 'Führende Null und Füllnull', 'Höhere Programmiersprache', 'Nächste-Nachbarn-Klassifikation']\n"
     ]
    }
   ],
   "source": [
    "top_x_backlinks = sorted(backlinks, key=lambda x: x[1], reverse=True)[:5]\n",
    "print(top_x_backlinks)"
   ],
   "metadata": {
    "collapsed": false,
    "ExecuteTime": {
     "end_time": "2024-11-28T07:42:56.796203900Z",
     "start_time": "2024-11-28T07:42:56.765961800Z"
    }
   },
   "id": "4205a88956bbb4b0"
  },
  {
   "cell_type": "code",
   "execution_count": 34,
   "outputs": [],
   "source": [
    "pr_result = nx.pagerank(complete_graph)"
   ],
   "metadata": {
    "collapsed": false,
    "ExecuteTime": {
     "end_time": "2024-11-28T07:42:58.026183900Z",
     "start_time": "2024-11-28T07:42:56.774703900Z"
    }
   },
   "id": "f70c8a5ee5a5e9f0"
  },
  {
   "cell_type": "code",
   "execution_count": 35,
   "outputs": [],
   "source": [
    "top_n_pr = sorted(pr_result, key=lambda x: pr_result[x], reverse=True)[:5]"
   ],
   "metadata": {
    "collapsed": false,
    "ExecuteTime": {
     "end_time": "2024-11-28T07:42:58.073154500Z",
     "start_time": "2024-11-28T07:42:58.026183900Z"
    }
   },
   "id": "3730b305d073f40b"
  },
  {
   "cell_type": "code",
   "execution_count": 36,
   "outputs": [
    {
     "name": "stdout",
     "output_type": "stream",
     "text": [
      "['Python (Programmiersprache)', 'Programmiersprache', 'Betriebssystem', 'Version (Software)', 'Softwareentwickler']\n"
     ]
    }
   ],
   "source": [
    "print(top_n_pr)"
   ],
   "metadata": {
    "collapsed": false,
    "ExecuteTime": {
     "end_time": "2024-11-28T07:42:58.083717500Z",
     "start_time": "2024-11-28T07:42:58.073154500Z"
    }
   },
   "id": "8fcdb094eb0083f5"
  },
  {
   "cell_type": "code",
   "execution_count": 37,
   "outputs": [
    {
     "name": "stdout",
     "output_type": "stream",
     "text": [
      "['Programmiersprache', 'Python (Programmiersprache)', 'Betriebssystem', 'Version (Software)', 'C (Programmiersprache)']\n"
     ]
    }
   ],
   "source": [
    "filtered_pr = nx.pagerank(graph)\n",
    "top_n_filtered_pr = sorted(filtered_pr, key=lambda x: filtered_pr[x], reverse=True)[:5]\n",
    "print(top_n_filtered_pr)"
   ],
   "metadata": {
    "collapsed": false,
    "ExecuteTime": {
     "end_time": "2024-11-28T07:45:24.139072400Z",
     "start_time": "2024-11-28T07:45:24.067674100Z"
    }
   },
   "id": "4a7413ef91f652a3"
  },
  {
   "cell_type": "code",
   "execution_count": null,
   "outputs": [],
   "source": [],
   "metadata": {
    "collapsed": false
   },
   "id": "5f710cc730214f6d"
  }
 ],
 "metadata": {
  "kernelspec": {
   "display_name": "Python 3",
   "language": "python",
   "name": "python3"
  },
  "language_info": {
   "codemirror_mode": {
    "name": "ipython",
    "version": 2
   },
   "file_extension": ".py",
   "mimetype": "text/x-python",
   "name": "python",
   "nbconvert_exporter": "python",
   "pygments_lexer": "ipython2",
   "version": "2.7.6"
  }
 },
 "nbformat": 4,
 "nbformat_minor": 5
}
