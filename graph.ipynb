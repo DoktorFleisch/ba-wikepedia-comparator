{
 "cells": [
  {
   "cell_type": "code",
   "execution_count": 1,
   "id": "initial_id",
   "metadata": {
    "collapsed": true,
    "ExecuteTime": {
     "end_time": "2025-01-17T08:44:33.024280700Z",
     "start_time": "2025-01-17T08:44:32.254114100Z"
    }
   },
   "outputs": [],
   "source": [
    "import networkx as nx\n",
    "import wikipediaapi\n",
    "#import graphviz"
   ]
  },
  {
   "cell_type": "code",
   "execution_count": 2,
   "outputs": [],
   "source": [
    "user_agent = 'wikipedia-graph (danielwarkus@hotmail.com)'"
   ],
   "metadata": {
    "collapsed": false,
    "ExecuteTime": {
     "end_time": "2025-01-17T08:44:33.869994200Z",
     "start_time": "2025-01-17T08:44:33.847444500Z"
    }
   },
   "id": "6e1bb31c3fbe942"
  },
  {
   "cell_type": "code",
   "execution_count": 3,
   "outputs": [],
   "source": [
    "wiki = wikipediaapi.Wikipedia(user_agent=user_agent, language='de')"
   ],
   "metadata": {
    "collapsed": false,
    "ExecuteTime": {
     "end_time": "2025-01-17T08:44:39.738337600Z",
     "start_time": "2025-01-17T08:44:39.714748900Z"
    }
   },
   "id": "247236e677b90351"
  },
  {
   "cell_type": "code",
   "execution_count": 4,
   "outputs": [],
   "source": [
    "python_page = wiki.page('Python (Programmiersprache)')"
   ],
   "metadata": {
    "collapsed": false,
    "ExecuteTime": {
     "end_time": "2025-01-17T08:45:13.690060300Z",
     "start_time": "2025-01-17T08:45:13.666497900Z"
    }
   },
   "id": "5a991852620ab071"
  },
  {
   "cell_type": "code",
   "execution_count": 10,
   "outputs": [],
   "source": [
    "section = python_page.section_by_title(\"Ausnahmebehandlung\")"
   ],
   "metadata": {
    "collapsed": false,
    "ExecuteTime": {
     "end_time": "2025-01-17T09:57:44.237087900Z",
     "start_time": "2025-01-17T09:57:44.204229600Z"
    }
   },
   "id": "213013b8696eaf36"
  },
  {
   "cell_type": "code",
   "execution_count": 13,
   "outputs": [
    {
     "name": "stdout",
     "output_type": "stream",
     "text": [
      "<class 'str'>\n"
     ]
    }
   ],
   "source": [
    "print(type(section.text))"
   ],
   "metadata": {
    "collapsed": false,
    "ExecuteTime": {
     "end_time": "2025-01-17T10:01:23.366130300Z",
     "start_time": "2025-01-17T10:01:23.339789Z"
    }
   },
   "id": "49198658725c3b5f"
  },
  {
   "cell_type": "code",
   "execution_count": 9,
   "outputs": [],
   "source": [
    "excluded_namespaces = ['Benutzer:', 'Wikipedia:', 'Hilfe:', 'Portal:', \n",
    "                          'Kategorie:', 'MediaWiki:', 'Vorlage:', 'Spezial:', 'Datei:', 'Modul:', 'Wikipedia Diskussion:', 'Kategorie Diskussion:', 'Hilfe Diskussion:', 'Portal Diskussion:', 'Benutzer Diskussion:', 'MediaWiki Diskussion:', 'Vorlage Diskussion:', 'Modul Diskussion:', 'Datei Diskussion:', 'Spezial:', 'Diskussion:']"
   ],
   "metadata": {
    "collapsed": false,
    "ExecuteTime": {
     "end_time": "2025-01-16T09:21:51.488190Z",
     "start_time": "2025-01-16T09:21:51.480433600Z"
    }
   },
   "id": "97a9daa68ad26251"
  },
  {
   "cell_type": "code",
   "execution_count": 10,
   "outputs": [],
   "source": [
    "def get_backlinks(page):\n",
    "    backlinks = []\n",
    "    for link in page.backlinks.values():\n",
    "        # Prüfe ob der Link-Titel mit einem der ausgeschlossenen Namespaces beginnt\n",
    "        if not any(link.title.startswith(ns) for ns in excluded_namespaces):\n",
    "            backlinks.append(link.title)\n",
    "            \n",
    "    return backlinks"
   ],
   "metadata": {
    "collapsed": false,
    "ExecuteTime": {
     "end_time": "2025-01-16T09:21:51.513518900Z",
     "start_time": "2025-01-16T09:21:51.488190Z"
    }
   },
   "id": "bc5ab5c090c6e531"
  },
  {
   "cell_type": "code",
   "execution_count": 11,
   "outputs": [],
   "source": [
    "def get_links(page):\n",
    "    links = []\n",
    "    for link in page.links.values():\n",
    "        if not any(link.title.startswith(ns) for ns in excluded_namespaces):\n",
    "            links.append(link.title)\n",
    "    return links"
   ],
   "metadata": {
    "collapsed": false,
    "ExecuteTime": {
     "end_time": "2025-01-16T09:21:51.513518900Z",
     "start_time": "2025-01-16T09:21:51.497305500Z"
    }
   },
   "id": "be9673ee497f7d5"
  },
  {
   "cell_type": "code",
   "execution_count": 12,
   "outputs": [],
   "source": [
    "def get_page(link):\n",
    "    return wiki.page(link)"
   ],
   "metadata": {
    "collapsed": false,
    "ExecuteTime": {
     "end_time": "2025-01-16T09:21:51.522277900Z",
     "start_time": "2025-01-16T09:21:51.505569400Z"
    }
   },
   "id": "cc91aff117ac46f9"
  },
  {
   "cell_type": "code",
   "execution_count": 13,
   "outputs": [],
   "source": [
    "def make_graph(page, depth):\n",
    "    graph = nx.DiGraph()\n",
    "    links = get_links(page)\n",
    "    for link in links:\n",
    "        graph.add_edge(page.title, link)\n",
    "        if depth > 0:\n",
    "            next_page = get_page(link)\n",
    "            graph = nx.compose(graph, make_graph(next_page, depth-1))\n",
    "    return graph"
   ],
   "metadata": {
    "collapsed": false,
    "ExecuteTime": {
     "end_time": "2025-01-16T09:21:51.529121500Z",
     "start_time": "2025-01-16T09:21:51.513518900Z"
    }
   },
   "id": "4c8091e0ebef5ba7"
  },
  {
   "cell_type": "markdown",
   "source": [
    "Optimieren! Liste von Knoten -> Subgraph"
   ],
   "metadata": {
    "collapsed": false
   },
   "id": "46d1447ab2701c2d"
  },
  {
   "cell_type": "code",
   "execution_count": 14,
   "outputs": [],
   "source": [
    "def make_graph_optimized(page):\n",
    "    graph = nx.DiGraph()\n",
    "    page_links = get_links(page)\n",
    "    \n",
    "    for link in page_links:\n",
    "        graph.add_edge(page.title, link)\n",
    "        \n",
    "        new_page = get_page(link)\n",
    "        new_page_links = get_links(new_page)\n",
    "        for link in new_page_links:\n",
    "            graph.add_edge(new_page.title, link)\n",
    "    return graph"
   ],
   "metadata": {
    "collapsed": false,
    "ExecuteTime": {
     "end_time": "2025-01-16T09:21:51.540086600Z",
     "start_time": "2025-01-16T09:21:51.522781900Z"
    }
   },
   "id": "2424434037822402"
  },
  {
   "cell_type": "code",
   "execution_count": 15,
   "outputs": [],
   "source": [
    "def make_backgraph(page):\n",
    "    backgraph = nx.DiGraph()\n",
    "    backgraph.add_node(page.title)\n",
    "    backlinks = get_backlinks(page)\n",
    "    for link in backlinks:\n",
    "        backgraph.add_edge(page.title, link)\n",
    "        new_page = get_page(link)\n",
    "        new_page_links = get_links(new_page)\n",
    "       \n",
    "        for link in new_page_links:\n",
    "            backgraph.add_edge(new_page.title, link)\n",
    "  \n",
    "    return backgraph"
   ],
   "metadata": {
    "collapsed": false,
    "ExecuteTime": {
     "end_time": "2025-01-16T09:21:51.547810100Z",
     "start_time": "2025-01-16T09:21:51.529121500Z"
    }
   },
   "id": "d600421b1f751fba"
  },
  {
   "cell_type": "markdown",
   "source": [
    "# Erstelle den Ursprungsgraphen\n",
    "### Hier wird ein Graph erstellt, der alle Links (und deren Links) von der Python-Seite enthält.\n",
    "### Die Artikelnamen sind dabei die Knoten und die Verlinkungen die Kanten. "
   ],
   "metadata": {
    "collapsed": false
   },
   "id": "5e4d04bdbcacf312"
  },
  {
   "cell_type": "code",
   "execution_count": 16,
   "outputs": [],
   "source": [
    "#graph = make_graph(python_page, 1)"
   ],
   "metadata": {
    "collapsed": false,
    "ExecuteTime": {
     "end_time": "2025-01-16T09:21:51.563434700Z",
     "start_time": "2025-01-16T09:21:51.540086600Z"
    }
   },
   "id": "2809b9fa6d47b72b"
  },
  {
   "cell_type": "code",
   "execution_count": 17,
   "outputs": [],
   "source": [
    "graph = make_graph_optimized(python_page)"
   ],
   "metadata": {
    "collapsed": false,
    "ExecuteTime": {
     "end_time": "2025-01-16T09:22:22.532036Z",
     "start_time": "2025-01-16T09:21:51.547810100Z"
    }
   },
   "id": "b91b54f169912559"
  },
  {
   "cell_type": "code",
   "execution_count": 18,
   "outputs": [],
   "source": [
    "backlinks = get_backlinks(python_page)"
   ],
   "metadata": {
    "collapsed": false,
    "ExecuteTime": {
     "end_time": "2025-01-16T09:22:23.526785700Z",
     "start_time": "2025-01-16T09:22:22.547668300Z"
    }
   },
   "id": "b1582df214921baa"
  },
  {
   "cell_type": "code",
   "execution_count": 19,
   "outputs": [
    {
     "name": "stdout",
     "output_type": "stream",
     "text": [
      "['Ada (Programmiersprache)', 'C (Programmiersprache)', 'C++', 'Garbage Collection', 'INTERCAL', 'JavaScript', 'Julianisches Datum', 'Kommandozeileninterpreter', 'Lisp', 'Linux', 'LaTeX', 'Monty Python', 'Message-Digest Algorithm 5', 'Makroökonomie', 'Apache OpenOffice', 'Zeittafel der Programmiersprachen', 'Java (Programmiersprache)', 'Perl (Programmiersprache)', 'Quelltext', 'Regulärer Ausdruck', 'Rekursion', 'Scalable Vector Graphics', 'Sprache', 'Smalltalk (Programmiersprache)', 'Skriptsprache', 'Tcl', 'World Wide Web', 'Extensible Markup Language', 'XSL Transformation', 'Zwischenablage', 'Zeichenkette', 'At-Zeichen', 'Python', 'Tk (Toolkit)', 'Gnome', 'CAD', 'Dijkstra-Algorithmus', 'Potenz (Mathematik)', 'Freie Software', 'Interpreter', 'Präsentationsprogramm', 'Vollständiger Graph', 'Isomorphie von Graphen', 'Qt (Bibliothek)', 'KDevelop', 'GTK (Programmbibliothek)', 'Make', 'Stapelspeicher', 'Webdesign', 'Website', 'Samba (Software)', 'Microsoft Foundation Classes', 'Softwareentwickler', 'GNU Privacy Guard', 'Ruby (Programmiersprache)', 'Objektorientierte Programmierung', 'PostgreSQL', 'Generische Programmierung', 'Normalverteilung', 'Kommandozeile', 'Vega Strike', 'Relationale Datenbank', 'Apache HTTP Server', 'Filesharing', 'Funktionale Programmierung', 'Zope (Webanwendungsserver)', 'Sid Meier’s Civilization', 'Digitale Kunst', 'Vim', 'Content-Management-System', 'Nullwert', 'XChat', 'SOAP', 'Common Gateway Interface', 'Plattformunabhängigkeit', 'Strukturierte Programmierung', 'Bytecode', 'Calligra Suite', 'Mehrfachvererbung', 'Haskell (Programmiersprache)', 'PaintShop Pro', 'Gini-Koeffizient', 'Zuordnungstabelle', 'Webmaster', 'Höhere Programmiersprache', 'PY', 'Ultima Online', 'Lineare Suche', 'Metasyntaktische Variable', 'Eclipse (IDE)', 'Tupel', 'Kontrollstruktur', 'Virtual Reality Modeling Language', 'JEdit', 'Blender (Software)', 'Unix-Shell', 'NetCDF', 'PHP Extension and Application Repository', 'Hybridsprache', 'Just-in-time-Kompilierung', 'Boolean', 'Funktionenplotter', 'Pythagoreisches Tripel', 'ColdFusion', 'Vektorraum-Retrieval', 'Microsoft SQL Server', 'Damenproblem', 'Liste von Programmiersprachen', 'Fedora (Linux-Distribution)', 'GRASS GIS', 'Field Programmable Gate Array', 'Ausnahmebehandlung', 'Konstruktoren und Destruktoren', 'Schrägstrich', 'Diffie-Hellman-Schlüsselaustausch', 'Binäre Suche', 'Plone', 'WxWidgets', 'Midgard (Software)', 'Firebird (Datenbank)', 'LPC (Programmiersprache)', 'Oktalsystem', 'Webdesigner', 'Nassi-Shneiderman-Diagramm', 'Nächste-Nachbarn-Klassifikation', 'Unterprogramm', 'MoinMoin (Software)', 'CART (Algorithmus)', 'Cinema 4D', 'Webspace', 'Nmap', 'WSJT', 'Microsoft Excel', 'Visual Studio', 'XML User Interface Language', 'ArcView', 'LilyPond', 'Star-Trek-Spiele', 'Apache Subversion', 'Modul (Software)', 'Doppelpunkt', 'BSCW', 'Richtlinie 76/211/EWG (Fertigpackungsrichtlinie)', 'GNU Debugger', 'Auslassungspunkte', 'Whitespace (Programmiersprache)', 'Parallele Virtuelle Maschine', 'Maya (Software)', 'NetBeans IDE', 'Parrot', 'Leerraum', 'Quine (Computerprogramm)', 'GIMP', 'Matlab', 'Computerunterstützte Übersetzung', 'Log4j', 'PSYCED', 'Microchip AVR', 'Jython', 'Symbian-Plattform', 'Cocoa (API)', 'Webanwendung', 'Elliptische Integrale', 'YafaRay', 'Computerphysik', 'Benutzerin:WiseWoman', 'Pure Data', 'Linux-Einsatzbereiche', 'Bellman-Ford-Algorithmus', 'Vergleichsoperator', 'Ports (Paketverwaltung)', 'Linux Standard Base', 'Kodi (Software)', 'Inkrement und Dekrement', 'Amoeba (Betriebssystem)', 'Lamp', 'Signal (Unix)', 'Dylan (Programmiersprache)', 'Shebang', 'Klammer (Zeichen)', 'Poser (Software)', 'Kommentar (Programmierung)', 'R (Programmiersprache)', 'Statistische Versuchsplanung', 'Flexible Image Transport System', 'Closure (Funktion)', 'Zwischencode', 'For-Schleife', 'Bankieralgorithmus', 'Guido van Rossum', 'Open System Integration', 'SkyOS', 'CrossOver', 'Vererbung (Programmierung)', 'BeanShell', 'Groovy', 'Plucker', 'A-A-P', 'SharpDevelop', 'SQLite', 'Yellowdog Updater, Modified', 'Rhythmbox', 'Aho-Corasick-Algorithmus', 'Metazeichen', 'Asterisk (Telefonanlage)', 'D (Programmiersprache)', 'N-Gramm', 'Visuelle Programmiersprache', 'Enigmail', 'Reflexion (Programmierung)', 'Mod perl', 'Message Passing Interface', 'Currying', 'AviSynth', 'Turtle-Grafik', 'Tor (Netzwerk)', 'Dynamische Typisierung', 'GEDA (Software)', 'Magisches Sechseck', 'Scribus', 'Pattern Matching', 'Virtuelle Methode', 'Sternchen (Schriftzeichen)', 'Honeypot', 'Typisierung (Informatik)', 'Statische Typisierung', 'Typverletzung', 'Smart Package Manager', 'External Data Representation', 'Beagle (Software)', 'MusicBrainz', 'Testabdeckung', 'Sieve', 'Hardware in the Loop', 'Kolab', 'Referenzzählung', 'SuperKaramba', 'F-Sharp', 'Audacity', 'WxPython', 'International Conference on Functional Programming Contest', 'Tkinter', 'CLIPS', 'GNU Mailman', 'FSF Award', 'Kürzester Pfad', 'PyMusique', 'Quelltextformatierung', 'ADOdb', 'Doxygen', 'Variable (Programmierung)', 'Nagios', 'Einrückungsstil', 'Apache Lucene', 'KNX-Standard', 'Plan 9 (Betriebssystem)', 'Git', 'Boo (Programmiersprache)', 'Anaconda (Software)', 'Mixminion', 'PyObjC', 'Bluefish', 'HTML-Editor Phase 5', 'Processing', 'Ook!', 'KeePass', 'Stata', 'GnuCash', 'Universally Unique Identifier', 'Lempel-Ziv-Oberhumer', 'GCompris', 'ReStructuredText', 'Liste der Datenbankmanagementsysteme', 'Liste von Webframeworks', 'YAML', 'Ansys (Software)', 'Anjuta (Software)', 'Stuttgart Neural Network Simulator', 'Schaltungssimulation', 'Zwei-Zettel-Spiel', 'PowerShell', 'Euler-Maruyama-Verfahren', 'Gajim', 'The Fall: Last Days of Gaia', 'Screener (Informatik)', 'Rekursiver Abstieg', 'Java-Technologie', 'KVIrc', 'Arctan2', 'Tabelle virtueller Methoden', 'Scilab', 'Coco/R', 'Metaklasse', 'Crystal Space', 'Mod python', 'ANTLR', 'ArcGIS', 'Clientseitige Skriptsprachen', 'Affenformular', 'Cairo (Grafikbibliothek)', 'Liste von Dateinamenserweiterungen/P', 'Mehrfache Deallokation', 'CRUD', 'OpenCV', 'Systems Biology Markup Language', 'IRC-Client', 'GD Library', 'LINQ', 'FontForge', 'Fontlab', 'Homebrew', 'Methodenzeiger', 'Berkeley DB', 'Interactive Disassembler', 'GStreamer', 'Wilcoxon-Mann-Whitney-Test', 'Testautomatisierung', 'Machine Identification Code', 'Maple (Software)', 'Liste von GUI-Bibliotheken', 'ISWIM', 'OGRE', 'Nebula Device', 'Dislin', 'Typinferenz', 'Domänenspezifische Sprache', 'Template-Engine', 'GNU gettext', 'Zenwalk Linux', 'Screen Scraping', 'DAZ Studio', 'Pathfinding', 'GmailFS', 'WideStudio', 'Gedit', 'Master/Slave', 'Multidimensionale Skalierung', 'Standard-Datenströme', 'ABC (Yet Another BitTorrent Client)', 'PDB', 'Roberta – Lernen mit Robotern', 'PyGreSQL', 'Liste objektorientierter Programmiersprachen', 'Notepad++', 'Konfidenzintervall für die Erfolgswahrscheinlichkeit der Binomialverteilung', 'Google', 'Java Command Language', 'SME Server', 'Stackless Python', 'CPython', 'YouTube', 'Salome (Software)', 'Open CASCADE Technology', 'OpenFOAM', 'Benutzerin Diskussion:Oefe', 'Google Summer of Code', 'Launchpad', 'CLU (Programmiersprache)', 'Rekurrentes neuronales Netz', 'Zuweisung', 'Elephants Dream', 'Forkbomb', 'Lighttpd', 'Liste von integrierten Entwicklungsumgebungen', 'Multi-User Chat', 'Zope Object Database', 'Menge (Datenstruktur)', 'Dreieckstausch', 'Kara (Programmierumgebung)', 'IntelliJ IDEA', 'BitTorrent (Client)', 'SCons', 'Widelands', 'AppArmor', 'Bruce Eckel', 'Trac', 'PureFTPd', 'IronPython', '389 Directory Server', 'Miro Media Player', 'XMPP-Transport', 'Standardbibliothek', 'CSpace', 'ERP5', 'Django (Framework)', 'PEP', 'Glicko-System', 'Data Display Debugger', 'End User Development', 'Wiederverwendbarkeit', 'Iterator', 'Koroutine', 'Nuke (Software)', 'Dangling else', 'KiCad', 'GDesklets', 'Pygame', 'IMSL', 'Frets on Fire', 'Vectorworks', 'Umbrello', 'Kexi', 'Geany', 'QF-Test', 'Division mit Rest', 'Vipul’s Razor', 'MusicBrainz Picard', 'Notepad2', 'Rough Auditing Tool for Security', 'Liste von Modultest-Software', 'Psyco', 'QGIS', 'Skencil', 'BitTorrent', 'Hoover-Ungleichverteilung', 'LDE(X)', 'PyPy', 'TPT (Software)', 'VirtualBox', 'Levenberg-Marquardt-Algorithmus', 'Cross Platform Component Object Model', 'HTL Anichstraße', 'Exaile', 'PyMOL', 'RubyGems', 'Shogun (Toolbox)', 'BeckerCAD', 'EPICS', 'CUDA', 'McAfee WebAdvisor', 'Eingebettetes Datenbanksystem', 'Microsoft Silverlight', 'Lint (Programmierwerkzeug)', 'TorrentFlux', 'Nuxeo EP', 'GConf', 'OCRopus', 'Synset', 'REAPER', 'Roundup (Bugtracker)', 'Template Attribute Language', 'O’Reilly Open Source Convention', 'Template Attribute Language Expression Syntax', 'Zope Page Templates', 'Mercurial', 'Tupel (Informatik)', 'Web-Desktop', 'Natural Docs', 'Python-3', 'Adenine', 'Prozentzeichen', 'Insight Segmentation and Registration Toolkit', 'Benutzerin Diskussion:Sechmet', 'Benevolent Dictator for Life', 'Growl (Software)', 'Allzweck-Programmiersprache', 'CKEditor', 'Quod Libet (Medienspieler)', 'Cryptlib', 'Boost (C++-Bibliothek)', 'Pardus (Linux-Distribution)', 'SQL Phrase Index', 'SWIG', 'Xkcd', 'Web Server Gateway Interface', 'MySQL Workbench', 'Freevo', 'Liste von Hallo-Welt-Programmen/Höhere Programmiersprachen', 'Ming (Softwarebibliothek)', 'Salesforce', 'Anwendungsfassade', 'Twisted', 'Liste von .NET-Sprachen', 'Divmod', 'MacOS', 'Vue', 'Duck-Typing', 'Design-Expert', 'Objektrelationale Abbildung', 'Selenium', 'Betacode', 'OpenSocial', 'TI-Nspire', 'Csound', 'XCB', 'Conduit (GNOME)', 'Internet Communications Engine', 'SciTE', 'Indigo Renderer', 'Citation Style Language', 'Deluge', 'NonVisual Desktop Access', 'ROX Desktop', 'Vala (Programmiersprache)', 'Bazaar', 'Pickle', 'NX (Siemens)', 'Pfeilschreibweise', 'BLOSUM', 'Enterprise Architect', 'Big Buck Bunny', 'MetaKit', 'LINA', 'Amazon Web Services', 'XForms (Toolkit)', 'GNAT Programming Studio', 'Google App Engine', 'Nasal (Programmiersprache)', 'LLVM', 'PLANTA Project', 'Sensor Observation Service', 'WDDX', 'PackageKit', 'Panda3D', 'Skelettierung (Bildverarbeitung)', 'Liste von Texteditoren', 'Rubyripper', 'LXDE', 'PyGTK', 'Google Chrome', 'Markdown', 'Protocol Buffers', 'Server Name Indication', 'Liste von BitTorrent-Clients', 'Berufsförderungsinstitut', 'Env', 'Agilo for Trac', 'Nao (Roboter)', 'Mod wsgi', 'Wicd', 'Computervirus', 'Heredoc', 'Spotify', 'Web2py', 'FreeIPA', 'Simple Common Gateway Interface', 'Open Library', 'Yo Frankie!', 'Gaphor', 'LabWindows/CVI', '7-Zip', 'Rubinius', 'Decibel', '.run', 'WikidPad', 'Pootle', 'Eric (Software)', 'AsciiDoc', 'Orca (Screenreader)', 'Liste von Spiel-Engines', 'Squirrel (Programmiersprache)', 'SageMath', 'Devil’s Pie', 'Libxml2', 'BKChem', 'Nova Linux', 'Root-Raised-Cosine-Filter', 'Planet (Software)', 'Jabbim', 'XSLT-Prozessor', 'Aldor', 'Strukturgleichungsmodell', 'BitTornado', 'GNU TeXmacs', 'CouchDB', 'Peter J. Landin', 'CDemu', 'Cantera', 'Hessian (Webprotokoll)', 'Dropbox', 'Uzbl', 'RDFa', 'WeeChat', 'Monade (Informatik)', 'Liste von Anwendungsservern', 'Ubuntu One', 'Bikemap.net', 'Server Side Scripting', 'RecordMyDesktop', 'HebOCR', 'Tiling (Computer)', 'Mydeskfriend', 'SonarQube', 'Centrum Wiskunde & Informatica', 'SpatiaLite', 'PyLoad', 'Geometry Engine Open Source', 'Wubi (Ubuntu)', 'Rautezeichen', 'Robot Operating System', 'Mftrace', 'Quelltextklon', 'SQLAlchemy', 'Anki', 'Code Aster', 'Mnemosyne (Software)', 'Variadische Funktion', 'Waikato Environment for Knowledge Analysis', 'JetBrains', 'TortoiseHg', 'Cython', 'Zenoss', 'Phusion Passenger', 'OpenMAPI', 'Titanium (Spiel-Engine)', 'Getmail', 'BALL', 'Ceph', 'Eval', 'Lucas-Lehmer-Test', 'MirrorBrain', 'MapServer', 'Calibre', 'Zim (Software)', 'Fraktalgenerator', 'Caffeine', 'Comix (Software)', 'Gwibber', 'Zero Install', 'DataFinder', 'Reddit', 'JavaOne', 'Bildungsorientierte Programmiersprache', 'PCAP', 'OpenStack', 'Viber', 'Disqus', 'MyPaint', 'Gabor-Filter', 'Bitcoin', 'Gwyddion', 'Langzahlarithmetik', 'TagLib', 'GNU Compact Disc Input and Control Library', 'Apport (Software)', 'Sublime Text', 'Dynamische Programmiersprache', 'JSON-RPC', 'OnlyOffice', 'Fail2ban', 'DenyHosts', 'Zeitgeist (Software)', 'Raspberry Pi', 'Gerrit (Software)', 'Timsort', 'Benutzerin:Artin', 'Adhocracy', 'Advanced Vector Extensions', 'Ren’Py', 'CoffeeScript', 'Trait (Programmierung)', 'PgAdmin', 'PyCharm', 'Riva Celso', 'Python Software Foundation', 'MongoDB', 'Programmiersprache Python', 'Gramps', 'MapProxy', 'Robot Framework', 'Just van Rossum', 'Kiwix', 'RealFlow', 'Cobra (Programmiersprache)', 'Apache Avro', 'Rack (Webserver-Interface)', 'TIOBE-Index', 'Benutzerin Diskussion:Belladonna*/Archiv/2012', 'Etch (Protokoll)', 'Sinatra (Software)', 'Benutzerin Diskussion:Emma7stern/Archiv/2012', 'Debconf (Software)', 'HTTPS Everywhere', 'Tinkerforge', 'Natural Language Toolkit', 'Unknown Horizons', 'Benutzerin Diskussion:Catrin/Archiv/2012/Mrz', 'Stack Overflow (Website)', 'Sphinx (Software)', 'FreeCAD', 'Zenity', 'Clique (Graphentheorie)', 'Flask', 'Canorus', 'F-Droid', 'SocketCAN', 'MATE Desktop Environment', 'Duplicity (Software)', 'Führende Null und Füllnull', 'Virtaal', 'OpenShot', 'Apache Thrift', 'Kivy', 'Benutzerin Diskussion:Catrin/Archiv/2012/08M', 'Hartmut Ring', 'Ecu.test', 'Cinnamon (Desktop-Umgebung)', 'Open Worldwide Application Security Project', 'Frescobaldi (Software)', 'Ampache', 'Falkon (Browser)', 'Ganglia (Software)', 'Mocking Framework', 'Liste von Dependency Injection Frameworks', 'Riak', 'Faddeeva-Funktion', 'Apache ActiveMQ', 'Icinga', 'Ansible', 'Liste von Singleton-Implementierungen', 'Tornado (Webserver)', 'Liste von Werkzeugen zur statischen Codeanalyse', 'Unipps', 'Lightning Talk', 'Liste niederländischer Erfinder und Entdecker', 'Checkmk', 'Transbase', 'QUIC', 'Liste von Operatoren für den Rest einer Division', 'Airtime (Software)', 'RabbitMQ', 'Hadamard-Produkt', 'Liste von Amazon Web Services', 'Trelby', 'Julia (Programmiersprache)', 'AFNI', 'RFEM', 'Threema', 'Firefox Sync', 'CPLEX', 'Project Euler', 'LXC', 'Meld', 'Abaqus', 'OpenShift', 'Functional Mock-up Interface', 'Vert.x', 'Swift (Programmiersprache)', 'Libvirt', 'Bullet (Physik-Engine)', 'CUBRID', 'Captcp', 'Neuron (Software)', 'JSON-LD', 'SecureDrop', 'HP Prime', 'Matplotlib', 'Convolutional Neural Network', 'Saltstack', 'Wyvern (Programmiersprache)', 'GNU Health', 'OpenSlides', 'Seafile', 'OptiSLang', 'SciPy', 'Rdiff-backup', 'Tryton', 'Open Roberta', 'Detekt', 'IPython', 'DevOps', 'DNF (Dandified Yum)', 'Spyder', 'Skyscanner', 'Python 3', 'Pip (Python)', 'Viola-Jones-Methode', 'Liste von Genealogie-Programmen', 'Objektbasierte Programmiersprache', 'Ranger (Dateimanager)', 'Stern-Brocot-Folge', 'ZNC', 'Godot', 'Apache Spark', 'WebAssembly', 'MediaGoblin', 'Atom (Texteditor)', 'IBM Cloud', 'Mpv', 'CS50 (Computerkurs)', 'Let’s Encrypt', 'Codecademy', 'GNU Radio', 'ESP8266', 'Gnome Builder', 'PlayOnLinux', 'DHTMLX', 'Virtual Machine Manager', '.NET (Oberbegriff)', 'Visual Studio Code', 'Redshift (Software)', 'Benutzerin Diskussion:IvaBerlin/Archiv', 'BigWorld', 'Blender Game Engine', 'Django CMS', 'PrivacyIDEA', 'HexChat', 'Blend4Web', 'Gregorio (Software)', 'Assetto Corsa', 'Video Multi-Method Assessment Fusion', 'RStudio', 'DASYLab', 'MonetDB', 'Stan (Software)', 'H2O (Software)', 'Eureqa', 'Benutzerin:Wikiuka/ausrufer', 'Google Vermisstensuche', 'Beautiful Soup', 'Solidity', 'Ausdrucksorientierte Programmiersprache', 'Util-linux', 'Deep Learning', 'IBus', 'Synaptic (Software)', 'Discord', 'NumPy', 'TestComplete', 'OPALS', 'GlobaLeaks', 'Open vSwitch', 'JCMsuite', 'TensorFlow', 'Apache Flink', 'Deeplearning4j', 'GNU Solfege', 'ABC (Programmiersprache)', 'GenGIS', 'Math Kernel Library', 'Gurobi', 'LabKey-Server', 'Caffe', 'Softwarestack', 'Travis CI', 'Ns-3', 'Application Bundle', 'Angular', 'Metamath', 'Cdist', 'ESpeak NG', 'Yandex.Translate', 'Liste esoterischer Programmiersprachen', 'Normaliz', 'Blockly', 'ZeroNet', 'Universal Radio Hacker', 'Anaconda (Python-Distribution)', 'PyTorch', 'Stable Marriage Problem', 'InterPlanetary File System', 'Liste von Content-Management-Systemen', 'Verge3D', 'Pandas (Software)', 'Keras', 'CudaText', 'List Comprehension', 'SymPy', 'Scikit-learn', 'Scikit-image', 'ZeroMQ', 'Lyndsey Scott', 'Odoo', 'NetworkX', 'Lightning Memory-Mapped Database', 'GraphQL', 'ERPNext', 'Benutzerin Diskussion:Maimaid/Archiv/2019', 'Dlib', 'Stock-Flow Consistent Model', 'IDLE', 'ONNX', 'Celery', 'Lutris', 'Puddletag', 'Benutzerin Diskussion:Catrin/Archiv/2019/Feb', 'Gestalt Pattern Matching', 'Stefan Funken', 'Benutzerin Diskussion:Catrin/Archiv/2019/Mrz', 'Protogrid', 'Liste von Git-GUIs', 'Nuitka', 'Armin Ronacher', 'MacOS Catalina', 'Android-Softwareentwicklung', 'Google Cloud Platform', 'UWSGI', 'Pi-hole', 'SoX', 'Numba (Softwarepaket)', 'Distributed Application Runtime', 'IoT-Plattform', 'MicroPython', 'Rosetta Code', 'Project Jupyter', 'NaCl (Software)', 'Benutzerin Diskussion:Maimaid/Archiv/2020', 'Raku (Programmiersprache)', 'Benutzerin Diskussion:Catrin/Archiv/2020/Jan', 'Ubuntu Software Center', 'Spyder (Software)', 'Twine (Software)', 'Electrum Bitcoin Wallet', 'Benutzerin Diskussion:Catrin/Archiv/2020/Mrz', 'ANSA (Präprozessor)', 'Direct Mode', 'Benutzerin Diskussion:Catrin/Archiv/2020/Apr', 'DeepFaceLab', 'Philipp Kalweit', 'Benutzerin Diskussion:Catrin/Archiv/2020/Mai', 'Theano (Deep Learning)', 'Scrapy (Software)', 'Benutzerin:Asozialebohne', 'Kig', 'YARA', 'Liste von Blender-Versionen', 'Selbstüberwachtes Lernen', 'Avogadro (Moleküleditor)', 'Home Assistant', 'Youtube-dl', 'Typhoon HIL', 'PlanetarySystemStacker', 'Photon OS', 'Verzögerte Initialisierung', 'LanguageTool', 'La page Crypto de Jean-François Bouchaudy', 'Snakemake', 'Roman Anin', 'FreeCodeCamp', 'Pocket', 'Bad Apple!!', 'OpenBIS', 'Code Injection', 'Meson (Build-System)', 'SnapPy', 'Age (Verschlüsselung)', 'Language Server Protocol', 'John Jackson (Hacker)', 'Vergleich von Programmiersprachen', 'Gunicorn', 'Komodo IDE', 'TigerJython', 'PlatformIO', 'Superblock (Stadtplanung)', 'Crystal (Programmiersprache)', 'EScriptorium', 'John Malcolm Stewart', 'PlantUML', 'XGBoost', 'Star Trek: Bridge Commander', 'Bareos', 'Conda (Paketverwaltung)', 'Pyston', 'Seitenvorschub', 'Einzeiler (Informatik)', 'Selbstübersetzung (Compiler)', 'Stable Diffusion', 'ChatGPT', 'Capella (Ingenieurwesen)', 'PyScript', 'Conan (Software)', 'Valerie Anita Aurora', 'OpenMS', 'Sue Black (Informatikerin)', 'Prompt Engineering', 'Deterministischer azyklischer endlicher Automat', 'SimCity (1989)', 'Unvollständige elliptische Integrale', 'Warren Hoburg', 'Bottle', 'TEA (Texteditor)', 'React Native', 'GNS3', 'Zulip', 'Orthanc (Software)', 'Apollonios-Kreisfüllung', 'Bounds checking', 'Auto-GPT', 'Yaba (Lagos)', 'Schwertlilien-Datensatz', 'Tesla Dojo', 'Pycsw', 'Apache Superset', 'Gaël Varoquaux', 'Meshtastic', 'Remember Me (Software)', 'Valeriepieris-Kreis', 'Shimmer (Kommunikationsprotokoll)', 'Wikifunctions', 'François Chollet', 'Creative Coding', 'Linguistic Society of America', 'Back In Time', 'Playwright (Software)', 'GPTZero', 'Algebraische Operationen', 'MzIdentML', 'Impressive', 'Hexagonale Kreispackung']\n"
     ]
    }
   ],
   "source": [
    "print(backlinks)"
   ],
   "metadata": {
    "collapsed": false,
    "ExecuteTime": {
     "end_time": "2025-01-16T09:22:23.531452300Z",
     "start_time": "2025-01-16T09:22:23.526785700Z"
    }
   },
   "id": "1052cc47136a146b"
  },
  {
   "cell_type": "code",
   "execution_count": 20,
   "outputs": [
    {
     "name": "stdout",
     "output_type": "stream",
     "text": [
      "212 999 4.712264150943396\n"
     ]
    }
   ],
   "source": [
    "print(len(python_page.links), len(backlinks), (len(backlinks)/len(python_page.links)))"
   ],
   "metadata": {
    "collapsed": false,
    "ExecuteTime": {
     "end_time": "2025-01-16T09:22:23.540211100Z",
     "start_time": "2025-01-16T09:22:23.531452300Z"
    }
   },
   "id": "a7c1a1880e828dbe"
  },
  {
   "cell_type": "code",
   "execution_count": 21,
   "outputs": [],
   "source": [
    "backgraph = make_backgraph(python_page)"
   ],
   "metadata": {
    "collapsed": false,
    "ExecuteTime": {
     "end_time": "2025-01-16T09:24:48.121128100Z",
     "start_time": "2025-01-16T09:22:23.540211100Z"
    }
   },
   "id": "b84f2086765b8e3a"
  },
  {
   "cell_type": "code",
   "execution_count": 22,
   "outputs": [],
   "source": [
    "complete_graph = nx.compose(graph, backgraph)\n",
    "# ANMERKUNG: ZUM TEST WURDE COMPLETE_GRAPH VERWENDET;; SONST NUR GRAPH"
   ],
   "metadata": {
    "collapsed": false,
    "ExecuteTime": {
     "end_time": "2025-01-16T09:24:48.316551200Z",
     "start_time": "2025-01-16T09:24:48.140867100Z"
    }
   },
   "id": "872edddc2ae6d521"
  },
  {
   "cell_type": "code",
   "execution_count": 23,
   "outputs": [],
   "source": [
    "# from graph, export edges as a tuple to a csv file\n",
    "edges = graph.edges\n",
    "with open('edges_original.csv', 'w', encoding='utf-8') as f:\n",
    "    for edge in edges:\n",
    "        f.write(f'{edge[0]},{edge[1]}\\n')"
   ],
   "metadata": {
    "collapsed": false,
    "ExecuteTime": {
     "end_time": "2025-01-16T09:24:48.334924800Z",
     "start_time": "2025-01-16T09:24:48.316551200Z"
    }
   },
   "id": "b097709586f69200"
  },
  {
   "cell_type": "markdown",
   "source": [
    "# Versuchserklärung\n",
    "#### Ziel ist es, Artikelvorschläge zu generieren, die thematisch zu Python passen. Dabei werde ich 4 verschiedene Ansätze testen (dabei wird immer der höchste Grad der Knoten betrachtet):\n",
    "#### 1. Extrahiere die Knoten mit dem höchsten Grad (ungefiltert)\n",
    "#### 2. Betrachte nur die direkten Nachfolger von Python\n",
    "#### 3. Betrachte nur die Knoten, die zu Python verlinkt sind\n",
    "#### 4. Betrachte nur die direkten Nachfolger von Python, die auch eine Verbindung zurück zu Python haben (beide Bedingungen)\n",
    "\n",
    "#### Die Tests 2-4 wurde ich sowohl am Hauptgraphen, als auch an einem Subgraphen durchführen, um zu schauen ob dies ein Unterschied macht."
   ],
   "metadata": {
    "collapsed": false
   },
   "id": "2383b2dee7e06da8"
  },
  {
   "cell_type": "markdown",
   "source": [
    "# Versuch 1: Extrahiere die Knoten mit dem höchsten Grad\n",
    "#### Im ersten Versuch werden die Knoten mit dem höchsten Grad extrahiert. Man kann erkennen, dass die Artikelvorschläge zu oberflächlich sind. "
   ],
   "metadata": {
    "collapsed": false
   },
   "id": "7ef8a3b36869698c"
  },
  {
   "cell_type": "code",
   "execution_count": 24,
   "outputs": [
    {
     "name": "stdout",
     "output_type": "stream",
     "text": [
      "[('Python (Programmiersprache)', 2096), ('Betriebssystem', 825), ('Unicode', 728), ('Amsterdam', 671), ('Linux', 657)]\n"
     ]
    }
   ],
   "source": [
    "# print the top 3 nodes with the highest degree\n",
    "top_5_nodes = sorted(complete_graph.degree, key=lambda x: x[1], reverse=True)[:5]\n",
    "print(top_5_nodes)"
   ],
   "metadata": {
    "collapsed": false,
    "ExecuteTime": {
     "end_time": "2025-01-16T09:24:48.370675Z",
     "start_time": "2025-01-16T09:24:48.334924800Z"
    }
   },
   "id": "225409fbb91437cb"
  },
  {
   "cell_type": "markdown",
   "source": [
    "# Versuch 2: Extrahiere die direkten Nachfolger von Python\n",
    "#### Um die Auswahl passender Artikel einzuschränken, werden nur die direkten Nachfolger von Python betrachtet.\n",
    "#### Diese neue Bedingung soll dazu führen, nur Artikel in Betracht zu ziehen, die auch von Python refenziert werden.\n",
    "\n",
    "#### Getestet habe ich diese Bedinung an zwei Graphen:\n",
    "#### 1. Der ursprüngliche Graph\n",
    "#### 2. Ein Subgraph, der nur die Knoten enthält, die von Python referenziert werden.\n",
    " "
   ],
   "metadata": {
    "collapsed": false
   },
   "id": "4ecf83959c4a3895"
  },
  {
   "cell_type": "code",
   "execution_count": 25,
   "outputs": [],
   "source": [
    "links_python = get_links(python_page)"
   ],
   "metadata": {
    "collapsed": false,
    "ExecuteTime": {
     "end_time": "2025-01-16T09:24:48.370675Z",
     "start_time": "2025-01-16T09:24:48.351460200Z"
    }
   },
   "id": "465b96295624890a"
  },
  {
   "cell_type": "code",
   "execution_count": 26,
   "outputs": [],
   "source": [
    "reduced_node_list = [node for node in complete_graph.nodes() if node in links_python]"
   ],
   "metadata": {
    "collapsed": false,
    "ExecuteTime": {
     "end_time": "2025-01-16T09:24:48.394800100Z",
     "start_time": "2025-01-16T09:24:48.356646900Z"
    }
   },
   "id": "b152ba4c2f58b3be"
  },
  {
   "cell_type": "markdown",
   "source": [
    "## Erstelle Subgraphen und extrahiere die Knoten mit dem höchsten Grad\n",
    "#### Hier wird ein Subgraph erstellt, der nur die Knoten enthält, die direkte Nachfolger von Python sind.\n",
    "#### Die Ergebnisse sind besser, als die des ursprünglichen Graphen."
   ],
   "metadata": {
    "collapsed": false
   },
   "id": "e5e65ada1b4330e9"
  },
  {
   "cell_type": "code",
   "execution_count": 27,
   "outputs": [],
   "source": [
    "# create a subgraph\n",
    "subgraph = complete_graph.subgraph(reduced_node_list)"
   ],
   "metadata": {
    "collapsed": false,
    "ExecuteTime": {
     "end_time": "2025-01-16T09:24:48.398519700Z",
     "start_time": "2025-01-16T09:24:48.394800100Z"
    }
   },
   "id": "acf0c55938207a96"
  },
  {
   "cell_type": "code",
   "execution_count": 28,
   "outputs": [
    {
     "name": "stdout",
     "output_type": "stream",
     "text": [
      "[('Java (Programmiersprache)', 112), ('C++', 110), ('Betriebssystem', 105), ('C (Programmiersprache)', 102), ('Perl (Programmiersprache)', 76)]\n"
     ]
    }
   ],
   "source": [
    "top_5_reduced_nodes = sorted(subgraph.degree(), key=lambda x: x[1], reverse=True)[:5]\n",
    "print(top_5_reduced_nodes)"
   ],
   "metadata": {
    "collapsed": false,
    "ExecuteTime": {
     "end_time": "2025-01-16T09:24:48.480957600Z",
     "start_time": "2025-01-16T09:24:48.398519700Z"
    }
   },
   "id": "a62f0beaa28f76c1"
  },
  {
   "cell_type": "markdown",
   "source": [
    "## Extrahiere Knoten mit dem höchsten Grad aus Hauptgraphen\n",
    "#### Hier zeigt die Zusatzbedingung keine Verbesserung."
   ],
   "metadata": {
    "collapsed": false
   },
   "id": "2d7f3c23e61bc87c"
  },
  {
   "cell_type": "code",
   "execution_count": 29,
   "outputs": [
    {
     "name": "stdout",
     "output_type": "stream",
     "text": [
      "[('Betriebssystem', 825), ('Unicode', 728), ('Amsterdam', 671), ('MacOS', 638), ('Java (Programmiersprache)', 612)]\n"
     ]
    }
   ],
   "source": [
    "top_5_reduced_nodes = sorted(complete_graph.degree(reduced_node_list), key=lambda x: x[1], reverse=True)[:5]\n",
    "print(top_5_reduced_nodes)"
   ],
   "metadata": {
    "collapsed": false,
    "ExecuteTime": {
     "end_time": "2025-01-16T09:24:48.480957600Z",
     "start_time": "2025-01-16T09:24:48.411915100Z"
    }
   },
   "id": "f2a213c91a21883e"
  },
  {
   "cell_type": "markdown",
   "source": [
    "## Zusammenfassung Versuch 2\n",
    "#### Man kann sehen, dass die reine Bedingung an den Knoten des Hauptgraphen noch nicht aussreicht für gute Ergebnisse. -> Zu oberflächliche Themen. Der Subgraph hingegen, schlägt zu spezifische Artikel vor.  "
   ],
   "metadata": {
    "collapsed": false
   },
   "id": "708d75ae0297702d"
  },
  {
   "cell_type": "code",
   "execution_count": 30,
   "outputs": [],
   "source": [
    "# export the subgraph to a csv file\n",
    "edges = subgraph.edges\n",
    "with open('edges_reduced.csv', 'w', encoding='utf-8') as f:\n",
    "    for edge in edges:\n",
    "        f.write(f'{edge[0]},{edge[1]}\\n')"
   ],
   "metadata": {
    "collapsed": false,
    "ExecuteTime": {
     "end_time": "2025-01-16T09:24:48.483166Z",
     "start_time": "2025-01-16T09:24:48.420927700Z"
    }
   },
   "id": "87c048996690dc8c"
  },
  {
   "cell_type": "markdown",
   "source": [
    "# Versuch 3: Extrahiere Knoten, die zu Python verlinkt sind\n",
    "#### Hier wird die Bedingung getestet, dass nur die Knoten betrachtet werden die zu Python verlinkt sind.\n",
    "\n",
    "#### Ebenfalls werde ich dies hier am Hauptgraphen und an einem Subgraphen testen."
   ],
   "metadata": {
    "collapsed": false
   },
   "id": "8f3fc4cd2676df85"
  },
  {
   "cell_type": "code",
   "execution_count": 31,
   "outputs": [],
   "source": [
    "nodes_with_edge_to_article = [node for node in complete_graph.nodes() if complete_graph.has_edge(node, 'Python (Programmiersprache)')]"
   ],
   "metadata": {
    "collapsed": false,
    "ExecuteTime": {
     "end_time": "2025-01-16T09:24:48.483166Z",
     "start_time": "2025-01-16T09:24:48.434080200Z"
    }
   },
   "id": "27b6e4c2d7b6bd49"
  },
  {
   "cell_type": "markdown",
   "source": [
    "## Mit Ursprungsgaphen\n",
    "#### Es zeigt sich, dass wir ein durchwegs gute Themenvorschläge erhalten."
   ],
   "metadata": {
    "collapsed": false
   },
   "id": "559973a54a5c9380"
  },
  {
   "cell_type": "code",
   "execution_count": 32,
   "outputs": [
    {
     "name": "stdout",
     "output_type": "stream",
     "text": [
      "[('Linux', 657), ('R (Programmiersprache)', 657), ('MacOS', 638), ('Java (Programmiersprache)', 612), ('C++', 567)]\n"
     ]
    }
   ],
   "source": [
    "top_5_linked = sorted(complete_graph.degree(nodes_with_edge_to_article), key=lambda x: x[1], reverse=True)[:5]\n",
    "print(top_5_linked)"
   ],
   "metadata": {
    "collapsed": false,
    "ExecuteTime": {
     "end_time": "2025-01-16T09:24:48.483675800Z",
     "start_time": "2025-01-16T09:24:48.446113900Z"
    }
   },
   "id": "73105f60a37bd511"
  },
  {
   "cell_type": "markdown",
   "source": [
    "## Mit Subgraphen\n",
    "#### Deutlich erkennt man, dass die Themenvorschläge zu spezifisch sind."
   ],
   "metadata": {
    "collapsed": false
   },
   "id": "24030d4faa8d345c"
  },
  {
   "cell_type": "code",
   "execution_count": 33,
   "outputs": [
    {
     "name": "stdout",
     "output_type": "stream",
     "text": [
      "[('Softwareentwickler', 428), ('C++', 401), ('Linux', 384), ('Java (Programmiersprache)', 383), ('C (Programmiersprache)', 377)]\n"
     ]
    }
   ],
   "source": [
    "subgraph_linked = complete_graph.subgraph(nodes_with_edge_to_article)\n",
    "top_5_linked = sorted(subgraph_linked.degree(), key=lambda x: x[1], reverse=True)[:5]\n",
    "print(top_5_linked)"
   ],
   "metadata": {
    "collapsed": false,
    "ExecuteTime": {
     "end_time": "2025-01-16T09:24:48.521785800Z",
     "start_time": "2025-01-16T09:24:48.453895100Z"
    }
   },
   "id": "6cc3d6d555099f98"
  },
  {
   "cell_type": "code",
   "execution_count": 34,
   "outputs": [],
   "source": [
    "# export the subgraph to a csv file\n",
    "edges = subgraph_linked.edges\n",
    "with open('edges_linked.csv', 'w', encoding='utf-8') as f:\n",
    "    for edge in edges:\n",
    "        f.write(f'{edge[0]},{edge[1]}\\n')"
   ],
   "metadata": {
    "collapsed": false,
    "ExecuteTime": {
     "end_time": "2025-01-16T09:24:48.610870400Z",
     "start_time": "2025-01-16T09:24:48.483675800Z"
    }
   },
   "id": "2717ee272f3d51ff"
  },
  {
   "cell_type": "markdown",
   "source": [
    "## Zusammenfassung Versuch 3\n",
    "#### Diese Bedingung sorgt für signifikant bessere Vorschläge am Hauptgraphen. Der Subgraph hingegen, schlägt zu spezifische Artikel vor."
   ],
   "metadata": {
    "collapsed": false
   },
   "id": "231fcef340d0316e"
  },
  {
   "cell_type": "markdown",
   "source": [
    "# Versuch 4: Extrahiere Knoten mit beiden Bedingungen\n",
    "#### Zum Schluss setzten wir beide Bedingungen vorraus. Auch hier wird dies am Hauptgraphen und an einem Subgraphen getestet."
   ],
   "metadata": {
    "collapsed": false
   },
   "id": "7622447e781d8b0b"
  },
  {
   "cell_type": "code",
   "execution_count": 35,
   "outputs": [],
   "source": [
    "nodes_with_edge_to_article_reduced = [node for node in reduced_node_list if complete_graph.has_edge(node, 'Python (Programmiersprache)')]\n",
    "#print(nodes_with_edge_to_bienen_reduced)"
   ],
   "metadata": {
    "collapsed": false,
    "ExecuteTime": {
     "end_time": "2025-01-16T09:24:48.610870400Z",
     "start_time": "2025-01-16T09:24:48.510756Z"
    }
   },
   "id": "ff6d54ae636d177d"
  },
  {
   "cell_type": "markdown",
   "source": [
    "## Extraktion mit beiden Bedingungen am Hauptgraphen\n",
    "#### Hier wird die Kombination von beiden Bedingungen am Hauptgraphen getestet. Diese Erbnisse unterschieden sich jedoch nicht von den Ergebnissen des dritten Versuchs."
   ],
   "metadata": {
    "collapsed": false
   },
   "id": "e588821a704d1bb6"
  },
  {
   "cell_type": "code",
   "execution_count": 36,
   "outputs": [
    {
     "name": "stdout",
     "output_type": "stream",
     "text": [
      "[('MacOS', 638), ('Java (Programmiersprache)', 612), ('C++', 567), ('C (Programmiersprache)', 527), ('Perl (Programmiersprache)', 478)]\n"
     ]
    }
   ],
   "source": [
    "top_5_clean = sorted(complete_graph.degree(nodes_with_edge_to_article_reduced), key=lambda x: x[1], reverse=True)[:5]\n",
    "print(top_5_clean)"
   ],
   "metadata": {
    "collapsed": false,
    "ExecuteTime": {
     "end_time": "2025-01-16T09:24:48.610870400Z",
     "start_time": "2025-01-16T09:24:48.514877300Z"
    }
   },
   "id": "b872704e0014af2b"
  },
  {
   "cell_type": "markdown",
   "source": [
    "## Erstellung und Extraktion mit beiden Bedingungen an eines Subgraphen\n",
    "#### Dieser Subgraph enthält nur die Knoten, die beide Bedingungen.\n",
    "#### Hier sind die ebenso wie in Versuch 3 die Themenvorschläge identisch. Das Einzige worin sich die Ergebnisse unterscheiden, ist eine abnahme im Degree."
   ],
   "metadata": {
    "collapsed": false
   },
   "id": "ae0f6fa43448b4c1"
  },
  {
   "cell_type": "code",
   "execution_count": 37,
   "outputs": [],
   "source": [
    "subgraph_clean = complete_graph.subgraph(nodes_with_edge_to_article_reduced)"
   ],
   "metadata": {
    "collapsed": false,
    "ExecuteTime": {
     "end_time": "2025-01-16T09:24:48.610870400Z",
     "start_time": "2025-01-16T09:24:48.521785800Z"
    }
   },
   "id": "39d1917cdb74bb07"
  },
  {
   "cell_type": "code",
   "execution_count": 38,
   "outputs": [
    {
     "name": "stdout",
     "output_type": "stream",
     "text": [
      "[('C++', 75), ('Java (Programmiersprache)', 72), ('C (Programmiersprache)', 62), ('Ruby (Programmiersprache)', 54), ('Perl (Programmiersprache)', 52)]\n"
     ]
    }
   ],
   "source": [
    "top_5_clean = sorted(subgraph_clean.degree(nodes_with_edge_to_article_reduced), key=lambda x: x[1], reverse=True)[:5]\n",
    "print(top_5_clean)"
   ],
   "metadata": {
    "collapsed": false,
    "ExecuteTime": {
     "end_time": "2025-01-16T09:24:48.630922900Z",
     "start_time": "2025-01-16T09:24:48.526764400Z"
    }
   },
   "id": "eb21aec6fb544da8"
  },
  {
   "cell_type": "code",
   "execution_count": 39,
   "outputs": [],
   "source": [
    "# export the subgraph to a csv file\n",
    "edges = subgraph_clean.edges\n",
    "with open('edges_predecessors.csv', 'w', encoding='utf-8') as f:\n",
    "    for edge in edges:\n",
    "        f.write(f'{edge[0]},{edge[1]}\\n')"
   ],
   "metadata": {
    "collapsed": false,
    "ExecuteTime": {
     "end_time": "2025-01-16T09:24:48.630922900Z",
     "start_time": "2025-01-16T09:24:48.536302500Z"
    }
   },
   "id": "5f8ee229d3b46f61"
  },
  {
   "cell_type": "markdown",
   "source": [
    "## Zusammenfassung Versuch 4:\n",
    "#### Auch hier schneidet der Hauptgraph besser ab als der Subgraph.    "
   ],
   "metadata": {
    "collapsed": false
   },
   "id": "b3348f884a6a7276"
  },
  {
   "cell_type": "markdown",
   "source": [
    "# Fazit\n",
    "#### Die besten Ergebnissen wurden am Hauptgraphen mit der Bedingung erzielt, dass nur die Knoten betrachtet werden, die zu Bienen verlinkt sind. Dass beide Bedungungen erfüllt sein müssen, hat keinen Unterschied gemacht.\n",
    "#### Der Subgraph hat bei allen Versuchen zu spezifische Artikel vorgeschlagen. Dies könnte man damit erklären, dass Informationen vom Hauptgraphen verloren gehen, da nur ein Teil der Knoten betrachtet wird. Dadurch fehlen Ingoing und Outgoing Links, die den Degree beeinflussen.   "
   ],
   "metadata": {
    "collapsed": false
   },
   "id": "412e0ca76c144c90"
  },
  {
   "cell_type": "code",
   "execution_count": 40,
   "outputs": [],
   "source": [
    "backlinks = python_page.backlinks\n"
   ],
   "metadata": {
    "collapsed": false,
    "ExecuteTime": {
     "end_time": "2025-01-16T09:24:48.630922900Z",
     "start_time": "2025-01-16T09:24:48.546993700Z"
    }
   },
   "id": "549b4ec57cb9434f"
  },
  {
   "cell_type": "code",
   "execution_count": 41,
   "outputs": [
    {
     "name": "stdout",
     "output_type": "stream",
     "text": [
      "['O’Reilly Open Source Convention', 'Kürzester Pfad', 'Führende Null und Füllnull', 'Höhere Programmiersprache', 'Nächste-Nachbarn-Klassifikation']\n"
     ]
    }
   ],
   "source": [
    "top_x_backlinks = sorted(backlinks, key=lambda x: x[1], reverse=True)[:5]\n",
    "print(top_x_backlinks)"
   ],
   "metadata": {
    "collapsed": false,
    "ExecuteTime": {
     "end_time": "2025-01-16T09:24:48.630922900Z",
     "start_time": "2025-01-16T09:24:48.552719500Z"
    }
   },
   "id": "4205a88956bbb4b0"
  },
  {
   "cell_type": "code",
   "execution_count": 42,
   "outputs": [],
   "source": [
    "pr_result = nx.pagerank(complete_graph)"
   ],
   "metadata": {
    "collapsed": false,
    "ExecuteTime": {
     "end_time": "2025-01-16T09:24:49.171181400Z",
     "start_time": "2025-01-16T09:24:48.560729700Z"
    }
   },
   "id": "f70c8a5ee5a5e9f0"
  },
  {
   "cell_type": "code",
   "execution_count": 43,
   "outputs": [],
   "source": [
    "top_n_pr = sorted(pr_result, key=lambda x: pr_result[x], reverse=True)[:5]"
   ],
   "metadata": {
    "collapsed": false,
    "ExecuteTime": {
     "end_time": "2025-01-16T09:24:49.181330900Z",
     "start_time": "2025-01-16T09:24:49.171181400Z"
    }
   },
   "id": "3730b305d073f40b"
  },
  {
   "cell_type": "code",
   "execution_count": 44,
   "outputs": [
    {
     "name": "stdout",
     "output_type": "stream",
     "text": [
      "['Python (Programmiersprache)', 'Programmiersprache', 'Betriebssystem', 'Version (Software)', 'Softwareentwickler']\n"
     ]
    }
   ],
   "source": [
    "print(top_n_pr)"
   ],
   "metadata": {
    "collapsed": false,
    "ExecuteTime": {
     "end_time": "2025-01-16T09:24:49.186494500Z",
     "start_time": "2025-01-16T09:24:49.181330900Z"
    }
   },
   "id": "8fcdb094eb0083f5"
  },
  {
   "cell_type": "code",
   "execution_count": 45,
   "outputs": [
    {
     "name": "stdout",
     "output_type": "stream",
     "text": [
      "['Programmiersprache', 'Python (Programmiersprache)', 'Betriebssystem', 'Version (Software)', 'C (Programmiersprache)']\n"
     ]
    }
   ],
   "source": [
    "filtered_pr = nx.pagerank(graph)\n",
    "top_n_filtered_pr = sorted(filtered_pr, key=lambda x: filtered_pr[x], reverse=True)[:5]\n",
    "print(top_n_filtered_pr)"
   ],
   "metadata": {
    "collapsed": false,
    "ExecuteTime": {
     "end_time": "2025-01-16T09:24:49.270711300Z",
     "start_time": "2025-01-16T09:24:49.191006700Z"
    }
   },
   "id": "4a7413ef91f652a3"
  },
  {
   "cell_type": "markdown",
   "source": [
    "# Evaluation"
   ],
   "metadata": {
    "collapsed": false
   },
   "id": "4b13d45f58f2bc18"
  },
  {
   "cell_type": "markdown",
   "source": [
    "Hier wird mit den Artikel \"Katzen\" getestet, ob die Vorschläge thematisch passen.\n"
   ],
   "metadata": {
    "collapsed": false
   },
   "id": "e2db8e21ea1e6c71"
  },
  {
   "cell_type": "code",
   "execution_count": 46,
   "outputs": [],
   "source": [
    "cat_page = wiki.page('Katzen')"
   ],
   "metadata": {
    "collapsed": false,
    "ExecuteTime": {
     "end_time": "2025-01-16T09:24:49.270711300Z",
     "start_time": "2025-01-16T09:24:49.221101800Z"
    }
   },
   "id": "8b56a95cdf238b7b"
  },
  {
   "cell_type": "code",
   "execution_count": 47,
   "outputs": [],
   "source": [
    "katzen_graph = make_graph_optimized(cat_page)"
   ],
   "metadata": {
    "collapsed": false,
    "ExecuteTime": {
     "end_time": "2025-01-16T09:25:26.494884700Z",
     "start_time": "2025-01-16T09:24:49.226114Z"
    }
   },
   "id": "4dd595fa146c0c30"
  },
  {
   "cell_type": "code",
   "execution_count": 48,
   "outputs": [],
   "source": [
    "katzen_backgraph = make_backgraph(cat_page)"
   ],
   "metadata": {
    "collapsed": false,
    "ExecuteTime": {
     "end_time": "2025-01-16T09:26:55.673727100Z",
     "start_time": "2025-01-16T09:25:26.500916100Z"
    }
   },
   "id": "f27e7d95f4829764"
  },
  {
   "cell_type": "code",
   "execution_count": 49,
   "outputs": [
    {
     "name": "stdout",
     "output_type": "stream",
     "text": [
      "236 811 3.4364406779661016\n"
     ]
    }
   ],
   "source": [
    "print(len(cat_page.links), len(cat_page.backlinks), (len(cat_page.backlinks)/len(cat_page.links))) "
   ],
   "metadata": {
    "collapsed": false,
    "ExecuteTime": {
     "end_time": "2025-01-16T09:26:55.677407100Z",
     "start_time": "2025-01-16T09:26:55.673727100Z"
    }
   },
   "id": "2df0027dbcda7034"
  },
  {
   "cell_type": "code",
   "execution_count": 50,
   "outputs": [],
   "source": [
    "katzen_complete_graph = nx.compose(katzen_graph, katzen_backgraph)"
   ],
   "metadata": {
    "collapsed": false,
    "ExecuteTime": {
     "end_time": "2025-01-16T09:26:55.924547900Z",
     "start_time": "2025-01-16T09:26:55.677407100Z"
    }
   },
   "id": "a05837b0bc28af72"
  },
  {
   "cell_type": "markdown",
   "source": [
    "Evaluation 1: Extrahiere die Knoten mit dem höchsten Grad"
   ],
   "metadata": {
    "collapsed": false
   },
   "id": "f94dbaf08f6324ed"
  },
  {
   "cell_type": "code",
   "execution_count": 51,
   "outputs": [
    {
     "name": "stdout",
     "output_type": "stream",
     "text": [
      "[('Euro-Umlaufmünzen-Motivliste', 1772), ('Liste fiktionaler Tiere', 1357), ('Kanada', 1300), ('Katzen', 1292), ('Hauskatze', 796)]\n"
     ]
    }
   ],
   "source": [
    "top_5_cat_nodes = sorted(katzen_complete_graph.degree, key=lambda x: x[1], reverse=True)[:5]\n",
    "print(top_5_cat_nodes)"
   ],
   "metadata": {
    "collapsed": false,
    "ExecuteTime": {
     "end_time": "2025-01-16T09:26:55.975750600Z",
     "start_time": "2025-01-16T09:26:55.924547900Z"
    }
   },
   "id": "27734351c4808350"
  },
  {
   "cell_type": "markdown",
   "source": [
    "Evaluation 2: Extrahiere die direkten Nachfolger "
   ],
   "metadata": {
    "collapsed": false
   },
   "id": "49258c5f0de6379"
  },
  {
   "cell_type": "code",
   "execution_count": 52,
   "outputs": [],
   "source": [
    "links_katze = get_links(cat_page)\n",
    "reduced_node_cat_list = [node for node in katzen_complete_graph.nodes() if node in links_katze]"
   ],
   "metadata": {
    "collapsed": false,
    "ExecuteTime": {
     "end_time": "2025-01-16T09:26:56.055766200Z",
     "start_time": "2025-01-16T09:26:55.950980200Z"
    }
   },
   "id": "89537cbd33373668"
  },
  {
   "cell_type": "code",
   "execution_count": 53,
   "outputs": [
    {
     "name": "stdout",
     "output_type": "stream",
     "text": [
      "[('Gemeinsame Normdatei', 126), ('Raubtiere', 119), ('Kleinkatzen', 118), ('Systematik (Biologie)', 101), ('Hauskatze', 101)]\n"
     ]
    }
   ],
   "source": [
    "# subgraph\n",
    "subgraph_katze = katzen_complete_graph.subgraph(reduced_node_cat_list)\n",
    "top_5_reduced_cat_nodes = sorted(subgraph_katze.degree(), key=lambda x: x[1], reverse=True)[:5]\n",
    "print(top_5_reduced_cat_nodes)"
   ],
   "metadata": {
    "collapsed": false,
    "ExecuteTime": {
     "end_time": "2025-01-16T09:26:56.065784200Z",
     "start_time": "2025-01-16T09:26:56.018073900Z"
    }
   },
   "id": "c9f2201b6c6edc37"
  },
  {
   "cell_type": "code",
   "execution_count": 54,
   "outputs": [
    {
     "name": "stdout",
     "output_type": "stream",
     "text": [
      "[('Kanada', 1300), ('Hauskatze', 796), ('Peru', 674), ('Säugetiere', 670), ('Schottland', 655)]\n"
     ]
    }
   ],
   "source": [
    "# graph\n",
    "top_5_reduced_cat_nodes = sorted(katzen_complete_graph.degree(reduced_node_cat_list), key=lambda x: x[1], reverse=True)[:5]\n",
    "print(top_5_reduced_cat_nodes)"
   ],
   "metadata": {
    "collapsed": false,
    "ExecuteTime": {
     "end_time": "2025-01-16T09:26:56.065784200Z",
     "start_time": "2025-01-16T09:26:56.031489900Z"
    }
   },
   "id": "f00d00ac1013ae5b"
  },
  {
   "cell_type": "markdown",
   "source": [
    "Evaluation 3: Extrahiere Knoten, die zu Katzen verlinkt sind"
   ],
   "metadata": {
    "collapsed": false
   },
   "id": "7d03cb4a7d7a1921"
  },
  {
   "cell_type": "code",
   "execution_count": 55,
   "outputs": [],
   "source": [
    "nodes_with_edge_to_katze = [node for node in katzen_complete_graph.nodes() if katzen_complete_graph.has_edge(node, 'Katzen')]"
   ],
   "metadata": {
    "collapsed": false,
    "ExecuteTime": {
     "end_time": "2025-01-16T09:26:56.065784200Z",
     "start_time": "2025-01-16T09:26:56.036511600Z"
    }
   },
   "id": "29d4f6b2c9be0539"
  },
  {
   "cell_type": "code",
   "execution_count": 56,
   "outputs": [
    {
     "name": "stdout",
     "output_type": "stream",
     "text": [
      "[('Hypertext Transfer Protocol', 163), ('Miozän', 2), ('Zunge', 2), ('Versuch und Irrtum', 2), ('Elster', 1)]\n"
     ]
    }
   ],
   "source": [
    "# graph\n",
    "top_5_cat_linked = sorted(complete_graph.degree(nodes_with_edge_to_katze), key=lambda x: x[1], reverse=True)[:5]\n",
    "print(top_5_cat_linked)"
   ],
   "metadata": {
    "collapsed": false,
    "ExecuteTime": {
     "end_time": "2025-01-16T09:26:56.070800Z",
     "start_time": "2025-01-16T09:26:56.050747300Z"
    }
   },
   "id": "9209093d16f99ff1"
  },
  {
   "cell_type": "code",
   "execution_count": 57,
   "outputs": [
    {
     "name": "stdout",
     "output_type": "stream",
     "text": [
      "[('Familie (Biologie)', 234), ('Raubtiere', 180), ('Hauskatze', 145), ('Katzenartige', 143), ('Säugetiere', 132)]\n"
     ]
    }
   ],
   "source": [
    "# subgraph\n",
    "subgraph_linked_katze = katzen_complete_graph.subgraph(nodes_with_edge_to_katze)\n",
    "top_5_cat_linked = sorted(subgraph_linked_katze.degree(), key=lambda x: x[1], reverse=True)[:5]\n",
    "print(top_5_cat_linked)"
   ],
   "metadata": {
    "collapsed": false,
    "ExecuteTime": {
     "end_time": "2025-01-16T09:26:56.105705Z",
     "start_time": "2025-01-16T09:26:56.055766200Z"
    }
   },
   "id": "3fdfb293917fcd6d"
  },
  {
   "cell_type": "markdown",
   "source": [
    "Evaluation 4: Extrahiere Knoten mit beiden Bedingungen"
   ],
   "metadata": {
    "collapsed": false
   },
   "id": "68ee8426b44a66cd"
  },
  {
   "cell_type": "code",
   "execution_count": 58,
   "outputs": [
    {
     "name": "stdout",
     "output_type": "stream",
     "text": [
      "[('Hauskatze', 796), ('Säugetiere', 670), ('Urin', 472), ('Tiger', 368), ('Löwe', 361)]\n"
     ]
    }
   ],
   "source": [
    "# graph\n",
    "nodes_with_edge_to_katze_reduced = [node for node in reduced_node_cat_list if katzen_complete_graph.has_edge(node, 'Katzen')]\n",
    "top_5_clean_cat = sorted(katzen_complete_graph.degree(nodes_with_edge_to_katze_reduced), key=lambda x: x[1], reverse=True)[:5]\n",
    "print(top_5_clean_cat)"
   ],
   "metadata": {
    "collapsed": false,
    "ExecuteTime": {
     "end_time": "2025-01-16T09:26:56.105705Z",
     "start_time": "2025-01-16T09:26:56.077591700Z"
    }
   },
   "id": "bc8e1caf72aea74"
  },
  {
   "cell_type": "code",
   "execution_count": 59,
   "outputs": [
    {
     "name": "stdout",
     "output_type": "stream",
     "text": [
      "[('Kleinkatzen', 109), ('Raubtiere', 82), ('Katzenartige', 79), ('Familie (Biologie)', 71), ('Hauskatze', 55)]\n"
     ]
    }
   ],
   "source": [
    "# subgraph\n",
    "subgraph_clean_katze = katzen_complete_graph.subgraph(nodes_with_edge_to_katze_reduced)\n",
    "top_5_clean_cat = sorted(subgraph_clean_katze.degree(nodes_with_edge_to_katze_reduced), key=lambda x: x[1], reverse=True)[:5]\n",
    "print(top_5_clean_cat)"
   ],
   "metadata": {
    "collapsed": false,
    "ExecuteTime": {
     "end_time": "2025-01-16T09:26:56.201177100Z",
     "start_time": "2025-01-16T09:26:56.083312300Z"
    }
   },
   "id": "857c9fa40410f92c"
  },
  {
   "cell_type": "markdown",
   "source": [
    "PageRank"
   ],
   "metadata": {
    "collapsed": false
   },
   "id": "3a6bc2bea68096e8"
  },
  {
   "cell_type": "code",
   "execution_count": 60,
   "outputs": [
    {
     "name": "stdout",
     "output_type": "stream",
     "text": [
      "['Katzen', 'Gemeinsame Normdatei', 'Systematik (Biologie)', 'Raubtiere', 'Familie (Biologie)']\n"
     ]
    }
   ],
   "source": [
    "filtered_pr_katze = nx.pagerank(katzen_graph)\n",
    "top_5_filtered_pr_katze = sorted(filtered_pr_katze, key=lambda x: filtered_pr_katze[x], reverse=True)[:5]\n",
    "print(top_5_filtered_pr_katze)"
   ],
   "metadata": {
    "collapsed": false,
    "ExecuteTime": {
     "end_time": "2025-01-16T09:26:56.240807900Z",
     "start_time": "2025-01-16T09:26:56.093179Z"
    }
   },
   "id": "d6155ddd9b8e0934"
  },
  {
   "cell_type": "code",
   "execution_count": 61,
   "outputs": [
    {
     "name": "stdout",
     "output_type": "stream",
     "text": [
      "['Katzen', 'Systematik (Biologie)', 'Nomenklatur (Biologie)', 'Gattung (Biologie)', 'Familie (Biologie)']\n"
     ]
    }
   ],
   "source": [
    "pr_result_katze = nx.pagerank(katzen_complete_graph)\n",
    "top_5_pr_katze = sorted(pr_result_katze, key=lambda x: pr_result_katze[x], reverse=True)[:5]\n",
    "print(top_5_pr_katze)"
   ],
   "metadata": {
    "collapsed": false,
    "ExecuteTime": {
     "end_time": "2025-01-16T09:26:56.310731200Z",
     "start_time": "2025-01-16T09:26:56.140945900Z"
    }
   },
   "id": "c5fb599876fb7351"
  },
  {
   "cell_type": "code",
   "execution_count": 62,
   "outputs": [],
   "source": [
    "article_list = ['Muay Thai', 'Hunde', 'Pferde']"
   ],
   "metadata": {
    "collapsed": false,
    "ExecuteTime": {
     "end_time": "2025-01-16T09:26:56.310731200Z",
     "start_time": "2025-01-16T09:26:56.271143300Z"
    }
   },
   "id": "a1236e078c5280b0"
  },
  {
   "cell_type": "code",
   "execution_count": 66,
   "outputs": [],
   "source": [
    "with open('output.txt', 'w', encoding='utf-8') as f:\n",
    "    for each in article_list:\n",
    "        article = wiki.page(each)\n",
    "        article_graph = make_graph_optimized(article)\n",
    "        article_backgraph = make_backgraph(article)\n",
    "        article_complete_graph = nx.compose(article_graph, article_backgraph)\n",
    "        \n",
    "        links_article = get_links(article)\n",
    "        reduced_node_list = [node for node in complete_graph.nodes() if node in links_article]\n",
    "        \n",
    "        f.write(\"Article: \" + article.title + \"\\n\")\n",
    "        \n",
    "        # V1\n",
    "        top_5_article_nodes = sorted(article_complete_graph.degree, key=lambda x: x[1], reverse=True)[:5]\n",
    "        f.write(\"V1\\n\")\n",
    "        f.write(str(top_5_article_nodes) + \"\\n\")\n",
    "        \n",
    "        # V2\n",
    "        top_5_reduced_nodes = sorted(article_complete_graph.degree(reduced_node_list), key=lambda x: x[1], reverse=True)[:5]\n",
    "        f.write(\"V2\\n\")\n",
    "        f.write(str(top_5_reduced_nodes) + \"\\n\")\n",
    "        \n",
    "        f.write(\"Subgraph\\n\")\n",
    "        subgraph = article_complete_graph.subgraph(reduced_node_list)\n",
    "        top_5_reduced_nodes = sorted(subgraph.degree(), key=lambda x: x[1], reverse=True)[:5]\n",
    "        f.write(str(top_5_reduced_nodes) + \"\\n\")\n",
    "        \n",
    "        # V3\n",
    "        nodes_with_edge_to_article = [node for node in article_complete_graph.nodes() if article_complete_graph.has_edge(node, article.title)]\n",
    "        top_5_linked = sorted(article_complete_graph.degree(nodes_with_edge_to_article), key=lambda x: x[1], reverse=True)[:5]\n",
    "        f.write(\"V3\\n\")\n",
    "        f.write(str(top_5_linked) + \"\\n\")\n",
    "        \n",
    "        f.write(\"Subgraph\\n\")\n",
    "        subgraph_linked = article_complete_graph.subgraph(nodes_with_edge_to_article)\n",
    "        top_5_linked = sorted(subgraph_linked.degree(), key=lambda x: x[1], reverse=True)[:5]\n",
    "        f.write(str(top_5_linked) + \"\\n\")\n",
    "        \n",
    "        # V4\n",
    "        nodes_with_edge_to_article_reduced = [node for node in reduced_node_list if article_complete_graph.has_edge(node, article.title)]\n",
    "        top_5_clean = sorted(article_complete_graph.degree(nodes_with_edge_to_article_reduced), key=lambda x: x[1], reverse=True)[:5]\n",
    "        f.write(\"V4\\n\")\n",
    "        f.write(str(top_5_clean) + \"\\n\")\n",
    "        \n",
    "        f.write(\"Subgraph\\n\")\n",
    "        subgraph_clean = article_complete_graph.subgraph(nodes_with_edge_to_article_reduced)\n",
    "        top_5_clean = sorted(subgraph_clean.degree(nodes_with_edge_to_article_reduced), key=lambda x: x[1], reverse=True)[:5]\n",
    "        f.write(str(top_5_clean) + \"\\n\")\n",
    "        \n",
    "        # PageRank\n",
    "        f.write(\"PageRank\\n\")\n",
    "        pr_result = nx.pagerank(article_complete_graph)\n",
    "        top_n_pr = sorted(pr_result, key=lambda x: pr_result[x], reverse=True)[:5]\n",
    "        f.write(str(top_n_pr) + \"\\n\")\n",
    "        \n",
    "        f.write(\"Filtered PageRank\\n\")\n",
    "        filtered_pr = nx.pagerank(article_graph)\n",
    "        top_n_filtered_pr = sorted(filtered_pr, key=lambda x: filtered_pr[x], reverse=True)[:5]\n",
    "        f.write(str(top_n_filtered_pr) + \"\\n\")\n",
    "        \n",
    "        f.write(\"Link Faktor: \" + str(len(article.links)) + \", \" + str(len(article.backlinks)) + \", \" + str((len(article.backlinks)/len(article.links))) + \"\\n\")"
   ],
   "metadata": {
    "collapsed": false,
    "ExecuteTime": {
     "end_time": "2025-01-16T10:00:38.576101800Z",
     "start_time": "2025-01-16T09:53:32.081050500Z"
    }
   },
   "id": "b67e4efce78e0724"
  },
  {
   "cell_type": "code",
   "execution_count": null,
   "outputs": [],
   "source": [],
   "metadata": {
    "collapsed": false,
    "ExecuteTime": {
     "start_time": "2025-01-16T09:27:51.634714500Z"
    }
   },
   "id": "99fbad14901e2ca6"
  }
 ],
 "metadata": {
  "kernelspec": {
   "display_name": "Python 3",
   "language": "python",
   "name": "python3"
  },
  "language_info": {
   "codemirror_mode": {
    "name": "ipython",
    "version": 2
   },
   "file_extension": ".py",
   "mimetype": "text/x-python",
   "name": "python",
   "nbconvert_exporter": "python",
   "pygments_lexer": "ipython2",
   "version": "2.7.6"
  }
 },
 "nbformat": 4,
 "nbformat_minor": 5
}
