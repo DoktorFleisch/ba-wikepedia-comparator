{
 "cells": [
  {
   "cell_type": "code",
   "execution_count": 2,
   "id": "initial_id",
   "metadata": {
    "collapsed": true,
    "ExecuteTime": {
     "end_time": "2024-11-18T08:17:22.930955100Z",
     "start_time": "2024-11-18T08:17:21.410155400Z"
    }
   },
   "outputs": [],
   "source": [
    "import networkx as nx\n",
    "import wikipediaapi\n",
    "import graphviz"
   ]
  },
  {
   "cell_type": "code",
   "execution_count": 3,
   "outputs": [],
   "source": [
    "user_agent = 'wikipedia-graph (danielwarkus@hotmail.com)'"
   ],
   "metadata": {
    "collapsed": false,
    "ExecuteTime": {
     "end_time": "2024-11-18T08:17:22.940299Z",
     "start_time": "2024-11-18T08:17:22.932950100Z"
    }
   },
   "id": "6e1bb31c3fbe942"
  },
  {
   "cell_type": "code",
   "execution_count": 4,
   "outputs": [],
   "source": [
    "wiki = wikipediaapi.Wikipedia(user_agent=user_agent, language='de')"
   ],
   "metadata": {
    "collapsed": false,
    "ExecuteTime": {
     "end_time": "2024-11-18T08:17:22.942291300Z",
     "start_time": "2024-11-18T08:17:22.936751200Z"
    }
   },
   "id": "247236e677b90351"
  },
  {
   "cell_type": "code",
   "execution_count": 5,
   "outputs": [],
   "source": [
    "bienen_page = wiki.page('Bienen')"
   ],
   "metadata": {
    "collapsed": false,
    "ExecuteTime": {
     "end_time": "2024-11-18T08:17:22.952040400Z",
     "start_time": "2024-11-18T08:17:22.942291300Z"
    }
   },
   "id": "5a991852620ab071"
  },
  {
   "cell_type": "code",
   "execution_count": 34,
   "outputs": [],
   "source": [
    "def get_backlinks(page):\n",
    "    backlinks = []\n",
    "    for link in page.backlinks.values():\n",
    "        backlinks.append(link.title)\n",
    "    return backlinks"
   ],
   "metadata": {
    "collapsed": false,
    "ExecuteTime": {
     "end_time": "2024-11-18T08:33:12.101593800Z",
     "start_time": "2024-11-18T08:33:12.094137500Z"
    }
   },
   "id": "bc5ab5c090c6e531"
  },
  {
   "cell_type": "code",
   "execution_count": 6,
   "outputs": [],
   "source": [
    "def get_links(page):\n",
    "    links = []\n",
    "    for link in page.links.values():\n",
    "        links.append(link.title)\n",
    "    return links"
   ],
   "metadata": {
    "collapsed": false,
    "ExecuteTime": {
     "end_time": "2024-11-18T08:17:22.970657Z",
     "start_time": "2024-11-18T08:17:22.948051600Z"
    }
   },
   "id": "be9673ee497f7d5"
  },
  {
   "cell_type": "code",
   "execution_count": 7,
   "outputs": [],
   "source": [
    "def get_page(link):\n",
    "    return wiki.page(link)"
   ],
   "metadata": {
    "collapsed": false,
    "ExecuteTime": {
     "end_time": "2024-11-18T08:17:22.970657Z",
     "start_time": "2024-11-18T08:17:22.955033700Z"
    }
   },
   "id": "cc91aff117ac46f9"
  },
  {
   "cell_type": "code",
   "execution_count": 8,
   "outputs": [],
   "source": [
    "def get_graph(page, depth):\n",
    "    graph = nx.DiGraph()\n",
    "    graph.add_node(page.title)\n",
    "    links = get_links(page)\n",
    "    for link in links:\n",
    "        graph.add_edge(page.title, link)\n",
    "        if depth > 0:\n",
    "            next_page = get_page(link)\n",
    "            graph = nx.compose(graph, get_graph(next_page, depth-1))\n",
    "    return graph"
   ],
   "metadata": {
    "collapsed": false,
    "ExecuteTime": {
     "end_time": "2024-11-18T08:17:22.971654600Z",
     "start_time": "2024-11-18T08:17:22.960294100Z"
    }
   },
   "id": "4c8091e0ebef5ba7"
  },
  {
   "cell_type": "code",
   "execution_count": 36,
   "outputs": [],
   "source": [
    "def get_backgraph(page, depth):\n",
    "    backgraph = nx.DiGraph()\n",
    "    backgraph.add_node(page.title)\n",
    "    links = get_backlinks(page)\n",
    "    for link in links:\n",
    "        backgraph.add_edge(page.title, link)\n",
    "        if depth > 0:\n",
    "            next_page = get_page(link)\n",
    "            backgraph = nx.compose(backgraph, get_backgraph(next_page, depth-1))\n",
    "    return backgraph"
   ],
   "metadata": {
    "collapsed": false,
    "ExecuteTime": {
     "end_time": "2024-11-18T08:35:48.838277600Z",
     "start_time": "2024-11-18T08:35:48.815172Z"
    }
   },
   "id": "d600421b1f751fba"
  },
  {
   "cell_type": "markdown",
   "source": [
    "# Erstelle den Ursprungsgraphen\n",
    "### Hier wird ein Graph erstellt, der alle Links (und deren Links) von der Bienen-Seite enthält.\n",
    "### Die Artikelnamen sind dabei die Knoten und die Verlinkungen die Kanten. "
   ],
   "metadata": {
    "collapsed": false
   },
   "id": "5e4d04bdbcacf312"
  },
  {
   "cell_type": "code",
   "execution_count": 9,
   "outputs": [],
   "source": [
    "graph = get_graph(bienen_page, 1)"
   ],
   "metadata": {
    "collapsed": false,
    "ExecuteTime": {
     "end_time": "2024-11-18T08:18:13.120026500Z",
     "start_time": "2024-11-18T08:17:22.967664700Z"
    }
   },
   "id": "2809b9fa6d47b72b"
  },
  {
   "cell_type": "code",
   "execution_count": 10,
   "outputs": [],
   "source": [
    "# unix_graph = graphviz.Digraph('unix', filename='unix.gv')\n",
    "# \n",
    "# for edge in graph.edges:\n",
    "#     unix_graph.edge(edge[0], edge[1])"
   ],
   "metadata": {
    "collapsed": false,
    "ExecuteTime": {
     "end_time": "2024-11-18T08:18:13.128121600Z",
     "start_time": "2024-11-18T08:18:13.121025300Z"
    }
   },
   "id": "b6a2b0d4cd2852dc"
  },
  {
   "cell_type": "code",
   "execution_count": 11,
   "outputs": [],
   "source": [
    "# here is error\n",
    "# unix_graph.view()"
   ],
   "metadata": {
    "collapsed": false,
    "ExecuteTime": {
     "end_time": "2024-11-18T08:18:13.130114500Z",
     "start_time": "2024-11-18T08:18:13.125013700Z"
    }
   },
   "id": "d03f576e9ba0ed0f"
  },
  {
   "cell_type": "code",
   "execution_count": 12,
   "outputs": [],
   "source": [
    "# from graph, export edges as a tuple to a csv file\n",
    "edges = graph.edges\n",
    "with open('edges_original.csv', 'w', encoding='utf-8') as f:\n",
    "    for edge in edges:\n",
    "        f.write(f'{edge[0]},{edge[1]}\\n')"
   ],
   "metadata": {
    "collapsed": false,
    "ExecuteTime": {
     "end_time": "2024-11-18T08:18:13.159225Z",
     "start_time": "2024-11-18T08:18:13.130114500Z"
    }
   },
   "id": "90686d00cb16275c"
  },
  {
   "cell_type": "markdown",
   "source": [
    "# Versuchserklärung\n",
    "#### Ziel ist es, Artikelvorschläge zu generieren, die thematisch zu Bienen passen. Dabei werde ich 4 verschiedene Ansätze testen (dabei wird immer der höchste Grad der Knoten betrachtet):\n",
    "#### 1. Extrahiere die Knoten mit dem höchsten Grad (ungefiltert)\n",
    "#### 2. Betrachte nur die direkten Nachfolger von Bienen\n",
    "#### 3. Betrachte nur die Knoten, die zu Bienen verlinkt sind\n",
    "#### 4. Betrachte nur die direkten Nachfolger von Bienen, die auch eine Verbindung zurück zu Bienen haben (beide Bedingungen)\n",
    "\n",
    "#### Die Tests 2-4 wurde ich sowohl am Hauptgraphen, als auch an einem Subgraphen durchführen, um zu schauen ob dies ein Unterschied macht."
   ],
   "metadata": {
    "collapsed": false
   },
   "id": "2383b2dee7e06da8"
  },
  {
   "cell_type": "markdown",
   "source": [
    "# Versuch 1: Extrahiere die Knoten mit dem höchsten Grad\n",
    "#### Im ersten Versuch werden die Knoten mit dem höchsten Grad extrahiert. Man kann erkennen, dass die Artikelvorschläge zu oberflächlich sind. "
   ],
   "metadata": {
    "collapsed": false
   },
   "id": "7ef8a3b36869698c"
  },
  {
   "cell_type": "code",
   "execution_count": 13,
   "outputs": [
    {
     "name": "stdout",
     "output_type": "stream",
     "text": [
      "[('Deutschland', 2368), ('New York City', 871), ('Bernstein', 713)]\n"
     ]
    }
   ],
   "source": [
    "# print the top 3 nodes with the highest degree\n",
    "top_3_nodes = sorted(graph.degree, key=lambda x: x[1], reverse=True)[:3]\n",
    "print(top_3_nodes)"
   ],
   "metadata": {
    "collapsed": false,
    "ExecuteTime": {
     "end_time": "2024-11-18T08:18:13.171193Z",
     "start_time": "2024-11-18T08:18:13.156234Z"
    }
   },
   "id": "225409fbb91437cb"
  },
  {
   "cell_type": "markdown",
   "source": [
    "# Versuch 2: Extrahiere die direkten Nachfolger von Bienen\n",
    "#### Um die Auswahl passender Artikel einzuschränken, werden nur die direkten Nachfolger von Bienen betrachtet.\n",
    "#### Diese neue Bedingung soll dazu führen, nur Artikel in Betracht zu ziehen, die auch von der Biene refenziert werden.\n",
    "\n",
    "#### Getestet habe ich diese Bedinung an zwei Graphen:\n",
    "#### 1. Der ursprüngliche Graph\n",
    "#### 2. Ein Subgraph, der nur die Knoten enthält, die von Bienen referenziert werden.\n",
    " "
   ],
   "metadata": {
    "collapsed": false
   },
   "id": "4ecf83959c4a3895"
  },
  {
   "cell_type": "code",
   "execution_count": 14,
   "outputs": [],
   "source": [
    "links_bienen = get_links(bienen_page)"
   ],
   "metadata": {
    "collapsed": false,
    "ExecuteTime": {
     "end_time": "2024-11-18T08:18:13.180187800Z",
     "start_time": "2024-11-18T08:18:13.171193Z"
    }
   },
   "id": "465b96295624890a"
  },
  {
   "cell_type": "code",
   "execution_count": 15,
   "outputs": [],
   "source": [
    "reduced_node_list = [node for node in graph.nodes() if node in links_bienen]"
   ],
   "metadata": {
    "collapsed": false,
    "ExecuteTime": {
     "end_time": "2024-11-18T08:18:13.232075700Z",
     "start_time": "2024-11-18T08:18:13.178192700Z"
    }
   },
   "id": "b152ba4c2f58b3be"
  },
  {
   "cell_type": "markdown",
   "source": [
    "## Erstelle Subgraphen und extrahiere die Knoten mit dem höchsten Grad\n",
    "#### Hier wird ein Subgraph erstellt, der nur die Knoten enthält, die direkte Nachfolger von Bienen sind.\n",
    "#### Die Ergebnisse sind besser, als die des ursprünglichen Graphen."
   ],
   "metadata": {
    "collapsed": false
   },
   "id": "e5e65ada1b4330e9"
  },
  {
   "cell_type": "code",
   "execution_count": 16,
   "outputs": [],
   "source": [
    "# create a subgraph\n",
    "subgraph = graph.subgraph(reduced_node_list)"
   ],
   "metadata": {
    "collapsed": false,
    "ExecuteTime": {
     "end_time": "2024-11-18T08:18:13.242080300Z",
     "start_time": "2024-11-18T08:18:13.204123700Z"
    }
   },
   "id": "acf0c55938207a96"
  },
  {
   "cell_type": "code",
   "execution_count": 17,
   "outputs": [
    {
     "name": "stdout",
     "output_type": "stream",
     "text": [
      "[('Systematik (Biologie)', 92), ('Gemeinsame Normdatei', 89), ('Nomenklatur (Biologie)', 77)]\n"
     ]
    }
   ],
   "source": [
    "top_3_reduced_nodes = sorted(subgraph.degree(), key=lambda x: x[1], reverse=True)[:3]\n",
    "print(top_3_reduced_nodes)"
   ],
   "metadata": {
    "collapsed": false,
    "ExecuteTime": {
     "end_time": "2024-11-18T08:18:13.243077600Z",
     "start_time": "2024-11-18T08:18:13.213146900Z"
    }
   },
   "id": "a62f0beaa28f76c1"
  },
  {
   "cell_type": "markdown",
   "source": [
    "## Extrahiere Knoten mit dem höchsten Grad aus Hauptgraphen\n",
    "#### Hier zeigt die Zusatzbedingung keine Verbesserung."
   ],
   "metadata": {
    "collapsed": false
   },
   "id": "2d7f3c23e61bc87c"
  },
  {
   "cell_type": "code",
   "execution_count": 18,
   "outputs": [
    {
     "name": "stdout",
     "output_type": "stream",
     "text": [
      "[('Deutschland', 2368), ('New York City', 871), ('Bernstein', 713)]\n"
     ]
    }
   ],
   "source": [
    "top_3_reduced_nodes = sorted(graph.degree(reduced_node_list), key=lambda x: x[1], reverse=True)[:3]\n",
    "print(top_3_reduced_nodes)"
   ],
   "metadata": {
    "collapsed": false,
    "ExecuteTime": {
     "end_time": "2024-11-18T08:18:13.244074900Z",
     "start_time": "2024-11-18T08:18:13.230081300Z"
    }
   },
   "id": "f2a213c91a21883e"
  },
  {
   "cell_type": "markdown",
   "source": [
    "## Zusammenfassung Versuch 2\n",
    "#### Man kann sehen, dass die reine Bedingung an den Knoten des Hauptgraphen noch nicht aussreicht für gute Ergebnisse. -> Zu oberflächliche Themen. Der Subgraph hingegen, schlägt zu spezifische Artikel vor.  "
   ],
   "metadata": {
    "collapsed": false
   },
   "id": "708d75ae0297702d"
  },
  {
   "cell_type": "code",
   "execution_count": 19,
   "outputs": [],
   "source": [
    "# export the subgraph to a csv file\n",
    "edges = subgraph.edges\n",
    "with open('edges_reduced.csv', 'w', encoding='utf-8') as f:\n",
    "    for edge in edges:\n",
    "        f.write(f'{edge[0]},{edge[1]}\\n')"
   ],
   "metadata": {
    "collapsed": false,
    "ExecuteTime": {
     "end_time": "2024-11-18T08:18:13.258038800Z",
     "start_time": "2024-11-18T08:18:13.237094100Z"
    }
   },
   "id": "87c048996690dc8c"
  },
  {
   "cell_type": "markdown",
   "source": [
    "# Versuch 3: Extrahiere Knoten, die zu Bienen verlinkt sind\n",
    "#### Hier wird die Bedingung getestet, dass nur die Knoten betrachtet werden die zu Bienen verlinkt sind.\n",
    "\n",
    "#### Ebenfalls werde ich dies hier am Hauptgraphen und an einem Subgraphen testen."
   ],
   "metadata": {
    "collapsed": false
   },
   "id": "8f3fc4cd2676df85"
  },
  {
   "cell_type": "code",
   "execution_count": 20,
   "outputs": [],
   "source": [
    "nodes_with_edge_to_bienen = [node for node in graph.nodes() if graph.has_edge(node, 'Bienen')]"
   ],
   "metadata": {
    "collapsed": false,
    "ExecuteTime": {
     "end_time": "2024-11-18T08:18:13.324193600Z",
     "start_time": "2024-11-18T08:18:13.256044Z"
    }
   },
   "id": "27b6e4c2d7b6bd49"
  },
  {
   "cell_type": "markdown",
   "source": [
    "## Mit Ursprungsgaphen\n",
    "#### Es zeigt sich, dass wir ein durchwegs gute Themenvorschläge erhalten."
   ],
   "metadata": {
    "collapsed": false
   },
   "id": "559973a54a5c9380"
  },
  {
   "cell_type": "code",
   "execution_count": 21,
   "outputs": [
    {
     "name": "stdout",
     "output_type": "stream",
     "text": [
      "[('Insekten', 492), ('Holzbienen', 464), ('Tropen', 308)]\n"
     ]
    }
   ],
   "source": [
    "top_3_linked = sorted(graph.degree(nodes_with_edge_to_bienen), key=lambda x: x[1], reverse=True)[:3]\n",
    "print(top_3_linked)"
   ],
   "metadata": {
    "collapsed": false,
    "ExecuteTime": {
     "end_time": "2024-11-18T08:18:13.337429Z",
     "start_time": "2024-11-18T08:18:13.264023600Z"
    }
   },
   "id": "73105f60a37bd511"
  },
  {
   "cell_type": "markdown",
   "source": [
    "## Mit Subgraphen\n",
    "#### Deutlich erkennt man, dass die Themenvorschläge zu spezifisch sind."
   ],
   "metadata": {
    "collapsed": false
   },
   "id": "24030d4faa8d345c"
  },
  {
   "cell_type": "code",
   "execution_count": 29,
   "outputs": [
    {
     "name": "stdout",
     "output_type": "stream",
     "text": [
      "[('Apoidea', 80), ('Stechimmen', 73), ('Echte Bienen', 59), ('Taillenwespen', 46), ('Hummeln', 36)]\n"
     ]
    }
   ],
   "source": [
    "subgraph_linked = graph.subgraph(nodes_with_edge_to_bienen)\n",
    "top_3_linked = sorted(subgraph_linked.degree(), key=lambda x: x[1], reverse=True)[:5]\n",
    "print(top_3_linked)"
   ],
   "metadata": {
    "collapsed": false,
    "ExecuteTime": {
     "end_time": "2024-11-18T08:19:44.293210Z",
     "start_time": "2024-11-18T08:19:44.284234400Z"
    }
   },
   "id": "6cc3d6d555099f98"
  },
  {
   "cell_type": "code",
   "execution_count": 23,
   "outputs": [],
   "source": [
    "# export the subgraph to a csv file\n",
    "edges = subgraph_linked.edges\n",
    "with open('edges_linked.csv', 'w', encoding='utf-8') as f:\n",
    "    for edge in edges:\n",
    "        f.write(f'{edge[0]},{edge[1]}\\n')"
   ],
   "metadata": {
    "collapsed": false,
    "ExecuteTime": {
     "end_time": "2024-11-18T08:18:13.338426800Z",
     "start_time": "2024-11-18T08:18:13.279917Z"
    }
   },
   "id": "2717ee272f3d51ff"
  },
  {
   "cell_type": "markdown",
   "source": [
    "## Zusammenfassung Versuch 3\n",
    "#### Diese Bedingung sorgt für signifikant bessere Vorschläge am Hauptgraphen. Der Subgraph hingegen, schlägt zu spezifische Artikel vor."
   ],
   "metadata": {
    "collapsed": false
   },
   "id": "231fcef340d0316e"
  },
  {
   "cell_type": "markdown",
   "source": [
    "# Versuch 4: Extrahiere Knoten mit beiden Bedingungen\n",
    "#### Zum Schluss setzten wir beide Bedingungen vorraus. Auch hier wird dies am Hauptgraphen und an einem Subgraphen getestet."
   ],
   "metadata": {
    "collapsed": false
   },
   "id": "7622447e781d8b0b"
  },
  {
   "cell_type": "code",
   "execution_count": 24,
   "outputs": [
    {
     "name": "stdout",
     "output_type": "stream",
     "text": [
      "['Ackerwinde', 'Insekten', 'Spiralhornbienen', 'Anthophora', 'Apoidea', 'Schmuckbienen', 'Stechimmen', 'Taillenwespen', 'Glanzbienen', 'Halictidae', 'Wildbiene', 'Andrenidae', 'Colletidae', 'Grabwespen', 'Hautflügler', 'Melittidae', 'Stenotritidae', 'Tropen', 'Anthidium', 'Große Wollbiene', 'Fleckenbienen', 'Kegelbienen', 'Trauerbienen', 'Westliche Honigbiene', 'Anthophoridae', 'Holzbienen', 'Apinae', 'Eucera', 'Honigbienen', 'Hummeln', 'Kraftbienen', 'Kuckuckshummeln', 'Kurzhornbienen', 'Körbchensammler', 'Melipona', 'Prachtbienen', 'Stachellose Bienen', 'Tetralonia', 'Triepeolus', 'Trigona (Gattung)', 'Crabronidae', 'Imker', 'Arbeitsteilung', 'Subtropen', 'Biene (Begriffsklärung)', 'Bienen (Begriffsklärung)', 'Bienenkönigin', 'Giftstachel', 'Weltbienentag', 'Blutbienen', 'Halictus', 'Lasioglossum', 'Brut', 'Nest', 'Sandbienen', 'Buntbienen', 'Zottelbienen', 'Charles Duncan Michener', 'Osmia', 'Maskenbienen', 'Seidenbienen', 'Kaltgemäßigte Klimazone', 'Kühlgemäßigte Klimazone', 'Dioxys', 'Hoplitis', 'Gemeine Pelzbiene', 'Mauerbienen', 'Graubienen', 'Schlürfbienen', 'Jürgen Tautz', 'Hosenbiene', 'Sozialparasitismus', 'Randolf Menzel', 'Rote Mauerbiene', 'Lars Chittka', 'Schenkelbienen', 'Megachile pluto', 'Sägehornbienen']\n"
     ]
    }
   ],
   "source": [
    "nodes_with_edge_to_bienen_reduced = [node for node in reduced_node_list if graph.has_edge(node, 'Bienen')]\n",
    "print(nodes_with_edge_to_bienen_reduced)"
   ],
   "metadata": {
    "collapsed": false,
    "ExecuteTime": {
     "end_time": "2024-11-18T08:18:13.339424Z",
     "start_time": "2024-11-18T08:18:13.290522900Z"
    }
   },
   "id": "ff6d54ae636d177d"
  },
  {
   "cell_type": "markdown",
   "source": [
    "## Extraktion mit beiden Bedingungen am Hauptgraphen\n",
    "#### Hier wird die Kombination von beiden Bedingungen am Hauptgraphen getestet. Diese Erbnisse unterschieden sich jedoch nicht von den Ergebnissen des dritten Versuchs."
   ],
   "metadata": {
    "collapsed": false
   },
   "id": "e588821a704d1bb6"
  },
  {
   "cell_type": "code",
   "execution_count": 25,
   "outputs": [
    {
     "name": "stdout",
     "output_type": "stream",
     "text": [
      "[('Insekten', 492), ('Holzbienen', 464), ('Tropen', 308)]\n"
     ]
    }
   ],
   "source": [
    "top_3_clean = sorted(graph.degree(nodes_with_edge_to_bienen_reduced), key=lambda x: x[1], reverse=True)[:3]\n",
    "print(top_3_clean)"
   ],
   "metadata": {
    "collapsed": false,
    "ExecuteTime": {
     "end_time": "2024-11-18T08:18:13.339424Z",
     "start_time": "2024-11-18T08:18:13.298905600Z"
    }
   },
   "id": "b872704e0014af2b"
  },
  {
   "cell_type": "markdown",
   "source": [
    "## Erstellung und Extraktion mit beiden Bedingungen an eines Subgraphen\n",
    "#### Dieser Subgraph enthält nur die Knoten, die beide Bedingungen.\n",
    "#### Hier sind die ebenso wie in Versuch 3 die Themenvorschläge identisch. Das Einzige worin sich die Ergebnisse unterscheiden, ist eine abnahme im Degree."
   ],
   "metadata": {
    "collapsed": false
   },
   "id": "ae0f6fa43448b4c1"
  },
  {
   "cell_type": "code",
   "execution_count": 26,
   "outputs": [],
   "source": [
    "subgraph_clean = graph.subgraph(nodes_with_edge_to_bienen_reduced)"
   ],
   "metadata": {
    "collapsed": false,
    "ExecuteTime": {
     "end_time": "2024-11-18T08:18:13.340421400Z",
     "start_time": "2024-11-18T08:18:13.308954100Z"
    }
   },
   "id": "39d1917cdb74bb07"
  },
  {
   "cell_type": "code",
   "execution_count": 27,
   "outputs": [
    {
     "name": "stdout",
     "output_type": "stream",
     "text": [
      "[('Apoidea', 66), ('Stechimmen', 59), ('Taillenwespen', 35), ('Hummeln', 32), ('Halictidae', 27)]\n"
     ]
    }
   ],
   "source": [
    "top_3_clean = sorted(subgraph_clean.degree(nodes_with_edge_to_bienen_reduced), key=lambda x: x[1], reverse=True)[:5]\n",
    "print(top_3_clean)"
   ],
   "metadata": {
    "collapsed": false,
    "ExecuteTime": {
     "end_time": "2024-11-18T08:18:13.340421400Z",
     "start_time": "2024-11-18T08:18:13.314937700Z"
    }
   },
   "id": "eb21aec6fb544da8"
  },
  {
   "cell_type": "code",
   "execution_count": 28,
   "outputs": [],
   "source": [
    "# export the subgraph to a csv file\n",
    "edges = subgraph_clean.edges\n",
    "with open('edges_predecessors.csv', 'w', encoding='utf-8') as f:\n",
    "    for edge in edges:\n",
    "        f.write(f'{edge[0]},{edge[1]}\\n')"
   ],
   "metadata": {
    "collapsed": false,
    "ExecuteTime": {
     "end_time": "2024-11-18T08:18:13.341418400Z",
     "start_time": "2024-11-18T08:18:13.321202900Z"
    }
   },
   "id": "5f8ee229d3b46f61"
  },
  {
   "cell_type": "markdown",
   "source": [
    "## Zusammenfassung Versuch 4:\n",
    "#### Auch hier schneidet der Hauptgraph besser ab als der Subgraph.    "
   ],
   "metadata": {
    "collapsed": false
   },
   "id": "b3348f884a6a7276"
  },
  {
   "cell_type": "markdown",
   "source": [
    "# Fazit\n",
    "#### Die besten Ergebnissen wurden am Hauptgraphen mit der Bedingung erzielt, dass nur die Knoten betrachtet werden, die zu Bienen verlinkt sind. Dass beide Bedungungen erfüllt sein müssen, hat keinen Unterschied gemacht.\n",
    "#### Der Subgraph hat bei allen Versuchen zu spezifische Artikel vorgeschlagen. Dies könnte man damit erklären, dass Informationen vom Hauptgraphen verloren gehen, da nur ein Teil der Knoten betrachtet wird. Dadurch fehlen Ingoing und Outgoing Links, die den Degree beeinflussen.   "
   ],
   "metadata": {
    "collapsed": false
   },
   "id": "412e0ca76c144c90"
  },
  {
   "cell_type": "code",
   "execution_count": 31,
   "outputs": [],
   "source": [
    "backlinks = bienen_page.backlinks\n"
   ],
   "metadata": {
    "collapsed": false,
    "ExecuteTime": {
     "end_time": "2024-11-18T08:30:15.123281Z",
     "start_time": "2024-11-18T08:30:15.100341800Z"
    }
   },
   "id": "549b4ec57cb9434f"
  },
  {
   "cell_type": "code",
   "execution_count": 33,
   "outputs": [
    {
     "name": "stdout",
     "output_type": "stream",
     "text": [
      "['O’Neill-Zylinder', 'Kürbisgewächse', 'Nützling', 'Rübsen (Pflanze)', 'Würzburger Lügensteine']\n"
     ]
    }
   ],
   "source": [
    "top_x_backlinks = sorted(backlinks, key=lambda x: x[1], reverse=True)[:5]\n",
    "print(top_x_backlinks)"
   ],
   "metadata": {
    "collapsed": false,
    "ExecuteTime": {
     "end_time": "2024-11-18T08:31:10.172627Z",
     "start_time": "2024-11-18T08:31:10.153264500Z"
    }
   },
   "id": "4205a88956bbb4b0"
  },
  {
   "cell_type": "code",
   "execution_count": 35,
   "outputs": [],
   "source": [
    "backlinks_hop_2 = get_backlinks(bienen_page)\n"
   ],
   "metadata": {
    "collapsed": false,
    "ExecuteTime": {
     "end_time": "2024-11-18T08:34:09.400773700Z",
     "start_time": "2024-11-18T08:34:09.365108200Z"
    }
   },
   "id": "777d99cb8cdacaa3"
  },
  {
   "cell_type": "code",
   "execution_count": 37,
   "outputs": [
    {
     "ename": "KeyboardInterrupt",
     "evalue": "",
     "output_type": "error",
     "traceback": [
      "\u001B[1;31m---------------------------------------------------------------------------\u001B[0m",
      "\u001B[1;31mKeyboardInterrupt\u001B[0m                         Traceback (most recent call last)",
      "Cell \u001B[1;32mIn[37], line 1\u001B[0m\n\u001B[1;32m----> 1\u001B[0m backlink_graph \u001B[38;5;241m=\u001B[39m \u001B[43mget_backgraph\u001B[49m\u001B[43m(\u001B[49m\u001B[43mbienen_page\u001B[49m\u001B[43m,\u001B[49m\u001B[43m \u001B[49m\u001B[38;5;241;43m1\u001B[39;49m\u001B[43m)\u001B[49m\n",
      "Cell \u001B[1;32mIn[36], line 9\u001B[0m, in \u001B[0;36mget_backgraph\u001B[1;34m(page, depth)\u001B[0m\n\u001B[0;32m      7\u001B[0m     \u001B[38;5;28;01mif\u001B[39;00m depth \u001B[38;5;241m>\u001B[39m \u001B[38;5;241m0\u001B[39m:\n\u001B[0;32m      8\u001B[0m         next_page \u001B[38;5;241m=\u001B[39m get_page(link)\n\u001B[1;32m----> 9\u001B[0m         backgraph \u001B[38;5;241m=\u001B[39m nx\u001B[38;5;241m.\u001B[39mcompose(backgraph, \u001B[43mget_backgraph\u001B[49m\u001B[43m(\u001B[49m\u001B[43mnext_page\u001B[49m\u001B[43m,\u001B[49m\u001B[43m \u001B[49m\u001B[43mdepth\u001B[49m\u001B[38;5;241;43m-\u001B[39;49m\u001B[38;5;241;43m1\u001B[39;49m\u001B[43m)\u001B[49m)\n\u001B[0;32m     10\u001B[0m \u001B[38;5;28;01mreturn\u001B[39;00m backgraph\n",
      "Cell \u001B[1;32mIn[36], line 4\u001B[0m, in \u001B[0;36mget_backgraph\u001B[1;34m(page, depth)\u001B[0m\n\u001B[0;32m      2\u001B[0m backgraph \u001B[38;5;241m=\u001B[39m nx\u001B[38;5;241m.\u001B[39mDiGraph()\n\u001B[0;32m      3\u001B[0m backgraph\u001B[38;5;241m.\u001B[39madd_node(page\u001B[38;5;241m.\u001B[39mtitle)\n\u001B[1;32m----> 4\u001B[0m links \u001B[38;5;241m=\u001B[39m \u001B[43mget_backlinks\u001B[49m\u001B[43m(\u001B[49m\u001B[43mpage\u001B[49m\u001B[43m)\u001B[49m\n\u001B[0;32m      5\u001B[0m \u001B[38;5;28;01mfor\u001B[39;00m link \u001B[38;5;129;01min\u001B[39;00m links:\n\u001B[0;32m      6\u001B[0m     backgraph\u001B[38;5;241m.\u001B[39madd_edge(page\u001B[38;5;241m.\u001B[39mtitle, link)\n",
      "Cell \u001B[1;32mIn[34], line 3\u001B[0m, in \u001B[0;36mget_backlinks\u001B[1;34m(page)\u001B[0m\n\u001B[0;32m      1\u001B[0m \u001B[38;5;28;01mdef\u001B[39;00m \u001B[38;5;21mget_backlinks\u001B[39m(page):\n\u001B[0;32m      2\u001B[0m     backlinks \u001B[38;5;241m=\u001B[39m []\n\u001B[1;32m----> 3\u001B[0m     \u001B[38;5;28;01mfor\u001B[39;00m link \u001B[38;5;129;01min\u001B[39;00m \u001B[43mpage\u001B[49m\u001B[38;5;241;43m.\u001B[39;49m\u001B[43mbacklinks\u001B[49m\u001B[38;5;241m.\u001B[39mvalues():\n\u001B[0;32m      4\u001B[0m         backlinks\u001B[38;5;241m.\u001B[39mappend(link\u001B[38;5;241m.\u001B[39mtitle)\n\u001B[0;32m      5\u001B[0m     \u001B[38;5;28;01mreturn\u001B[39;00m backlinks\n",
      "File \u001B[1;32m~\\Documents\\Uni\\Semester 15\\BA\\ba-translator\\venv\\Lib\\site-packages\\wikipediaapi\\__init__.py:1028\u001B[0m, in \u001B[0;36mWikipediaPage.backlinks\u001B[1;34m(self)\u001B[0m\n\u001B[0;32m   1017\u001B[0m \u001B[38;5;250m\u001B[39m\u001B[38;5;124;03m\"\"\"\u001B[39;00m\n\u001B[0;32m   1018\u001B[0m \u001B[38;5;124;03mReturns all pages linking to the current page.\u001B[39;00m\n\u001B[0;32m   1019\u001B[0m \n\u001B[1;32m   (...)\u001B[0m\n\u001B[0;32m   1025\u001B[0m \u001B[38;5;124;03m:return: :class:`PagesDict`\u001B[39;00m\n\u001B[0;32m   1026\u001B[0m \u001B[38;5;124;03m\"\"\"\u001B[39;00m\n\u001B[0;32m   1027\u001B[0m \u001B[38;5;28;01mif\u001B[39;00m \u001B[38;5;129;01mnot\u001B[39;00m \u001B[38;5;28mself\u001B[39m\u001B[38;5;241m.\u001B[39m_called[\u001B[38;5;124m\"\u001B[39m\u001B[38;5;124mbacklinks\u001B[39m\u001B[38;5;124m\"\u001B[39m]:\n\u001B[1;32m-> 1028\u001B[0m     \u001B[38;5;28;43mself\u001B[39;49m\u001B[38;5;241;43m.\u001B[39;49m\u001B[43m_fetch\u001B[49m\u001B[43m(\u001B[49m\u001B[38;5;124;43m\"\u001B[39;49m\u001B[38;5;124;43mbacklinks\u001B[39;49m\u001B[38;5;124;43m\"\u001B[39;49m\u001B[43m)\u001B[49m\n\u001B[0;32m   1029\u001B[0m \u001B[38;5;28;01mreturn\u001B[39;00m \u001B[38;5;28mself\u001B[39m\u001B[38;5;241m.\u001B[39m_backlinks\n",
      "File \u001B[1;32m~\\Documents\\Uni\\Semester 15\\BA\\ba-translator\\venv\\Lib\\site-packages\\wikipediaapi\\__init__.py:1065\u001B[0m, in \u001B[0;36mWikipediaPage._fetch\u001B[1;34m(self, call)\u001B[0m\n\u001B[0;32m   1063\u001B[0m \u001B[38;5;28;01mdef\u001B[39;00m \u001B[38;5;21m_fetch\u001B[39m(\u001B[38;5;28mself\u001B[39m, call) \u001B[38;5;241m-\u001B[39m\u001B[38;5;241m>\u001B[39m \u001B[38;5;124m\"\u001B[39m\u001B[38;5;124mWikipediaPage\u001B[39m\u001B[38;5;124m\"\u001B[39m:\n\u001B[0;32m   1064\u001B[0m \u001B[38;5;250m    \u001B[39m\u001B[38;5;124;03m\"\"\"Fetches some data?.\"\"\"\u001B[39;00m\n\u001B[1;32m-> 1065\u001B[0m     \u001B[38;5;28;43mgetattr\u001B[39;49m\u001B[43m(\u001B[49m\u001B[38;5;28;43mself\u001B[39;49m\u001B[38;5;241;43m.\u001B[39;49m\u001B[43mwiki\u001B[49m\u001B[43m,\u001B[49m\u001B[43m \u001B[49m\u001B[43mcall\u001B[49m\u001B[43m)\u001B[49m\u001B[43m(\u001B[49m\u001B[38;5;28;43mself\u001B[39;49m\u001B[43m)\u001B[49m\n\u001B[0;32m   1066\u001B[0m     \u001B[38;5;28mself\u001B[39m\u001B[38;5;241m.\u001B[39m_called[call] \u001B[38;5;241m=\u001B[39m \u001B[38;5;28;01mTrue\u001B[39;00m\n\u001B[0;32m   1067\u001B[0m     \u001B[38;5;28;01mreturn\u001B[39;00m \u001B[38;5;28mself\u001B[39m\n",
      "File \u001B[1;32m~\\Documents\\Uni\\Semester 15\\BA\\ba-translator\\venv\\Lib\\site-packages\\wikipediaapi\\__init__.py:443\u001B[0m, in \u001B[0;36mWikipedia.backlinks\u001B[1;34m(self, page, **kwargs)\u001B[0m\n\u001B[0;32m    440\u001B[0m used_params \u001B[38;5;241m=\u001B[39m kwargs\n\u001B[0;32m    441\u001B[0m used_params\u001B[38;5;241m.\u001B[39mupdate(params)\n\u001B[1;32m--> 443\u001B[0m raw \u001B[38;5;241m=\u001B[39m \u001B[38;5;28;43mself\u001B[39;49m\u001B[38;5;241;43m.\u001B[39;49m\u001B[43m_query\u001B[49m\u001B[43m(\u001B[49m\u001B[43mpage\u001B[49m\u001B[43m,\u001B[49m\u001B[43m \u001B[49m\u001B[43mused_params\u001B[49m\u001B[43m)\u001B[49m\n\u001B[0;32m    445\u001B[0m \u001B[38;5;28mself\u001B[39m\u001B[38;5;241m.\u001B[39m_common_attributes(raw[\u001B[38;5;124m\"\u001B[39m\u001B[38;5;124mquery\u001B[39m\u001B[38;5;124m\"\u001B[39m], page)\n\u001B[0;32m    446\u001B[0m v \u001B[38;5;241m=\u001B[39m raw[\u001B[38;5;124m\"\u001B[39m\u001B[38;5;124mquery\u001B[39m\u001B[38;5;124m\"\u001B[39m]\n",
      "File \u001B[1;32m~\\Documents\\Uni\\Semester 15\\BA\\ba-translator\\venv\\Lib\\site-packages\\wikipediaapi\\__init__.py:529\u001B[0m, in \u001B[0;36mWikipedia._query\u001B[1;34m(self, page, params)\u001B[0m\n\u001B[0;32m    527\u001B[0m params[\u001B[38;5;124m\"\u001B[39m\u001B[38;5;124mformat\u001B[39m\u001B[38;5;124m\"\u001B[39m] \u001B[38;5;241m=\u001B[39m \u001B[38;5;124m\"\u001B[39m\u001B[38;5;124mjson\u001B[39m\u001B[38;5;124m\"\u001B[39m\n\u001B[0;32m    528\u001B[0m params[\u001B[38;5;124m\"\u001B[39m\u001B[38;5;124mredirects\u001B[39m\u001B[38;5;124m\"\u001B[39m] \u001B[38;5;241m=\u001B[39m \u001B[38;5;241m1\u001B[39m\n\u001B[1;32m--> 529\u001B[0m r \u001B[38;5;241m=\u001B[39m \u001B[38;5;28;43mself\u001B[39;49m\u001B[38;5;241;43m.\u001B[39;49m\u001B[43m_session\u001B[49m\u001B[38;5;241;43m.\u001B[39;49m\u001B[43mget\u001B[49m\u001B[43m(\u001B[49m\u001B[43mbase_url\u001B[49m\u001B[43m,\u001B[49m\u001B[43m \u001B[49m\u001B[43mparams\u001B[49m\u001B[38;5;241;43m=\u001B[39;49m\u001B[43mparams\u001B[49m\u001B[43m,\u001B[49m\u001B[43m \u001B[49m\u001B[38;5;241;43m*\u001B[39;49m\u001B[38;5;241;43m*\u001B[39;49m\u001B[38;5;28;43mself\u001B[39;49m\u001B[38;5;241;43m.\u001B[39;49m\u001B[43m_request_kwargs\u001B[49m\u001B[43m)\u001B[49m\n\u001B[0;32m    530\u001B[0m \u001B[38;5;28;01mreturn\u001B[39;00m r\u001B[38;5;241m.\u001B[39mjson()\n",
      "File \u001B[1;32m~\\Documents\\Uni\\Semester 15\\BA\\ba-translator\\venv\\Lib\\site-packages\\requests\\sessions.py:602\u001B[0m, in \u001B[0;36mSession.get\u001B[1;34m(self, url, **kwargs)\u001B[0m\n\u001B[0;32m    594\u001B[0m \u001B[38;5;250m\u001B[39m\u001B[38;5;124mr\u001B[39m\u001B[38;5;124;03m\"\"\"Sends a GET request. Returns :class:`Response` object.\u001B[39;00m\n\u001B[0;32m    595\u001B[0m \n\u001B[0;32m    596\u001B[0m \u001B[38;5;124;03m:param url: URL for the new :class:`Request` object.\u001B[39;00m\n\u001B[0;32m    597\u001B[0m \u001B[38;5;124;03m:param \\*\\*kwargs: Optional arguments that ``request`` takes.\u001B[39;00m\n\u001B[0;32m    598\u001B[0m \u001B[38;5;124;03m:rtype: requests.Response\u001B[39;00m\n\u001B[0;32m    599\u001B[0m \u001B[38;5;124;03m\"\"\"\u001B[39;00m\n\u001B[0;32m    601\u001B[0m kwargs\u001B[38;5;241m.\u001B[39msetdefault(\u001B[38;5;124m\"\u001B[39m\u001B[38;5;124mallow_redirects\u001B[39m\u001B[38;5;124m\"\u001B[39m, \u001B[38;5;28;01mTrue\u001B[39;00m)\n\u001B[1;32m--> 602\u001B[0m \u001B[38;5;28;01mreturn\u001B[39;00m \u001B[38;5;28;43mself\u001B[39;49m\u001B[38;5;241;43m.\u001B[39;49m\u001B[43mrequest\u001B[49m\u001B[43m(\u001B[49m\u001B[38;5;124;43m\"\u001B[39;49m\u001B[38;5;124;43mGET\u001B[39;49m\u001B[38;5;124;43m\"\u001B[39;49m\u001B[43m,\u001B[49m\u001B[43m \u001B[49m\u001B[43murl\u001B[49m\u001B[43m,\u001B[49m\u001B[43m \u001B[49m\u001B[38;5;241;43m*\u001B[39;49m\u001B[38;5;241;43m*\u001B[39;49m\u001B[43mkwargs\u001B[49m\u001B[43m)\u001B[49m\n",
      "File \u001B[1;32m~\\Documents\\Uni\\Semester 15\\BA\\ba-translator\\venv\\Lib\\site-packages\\requests\\sessions.py:589\u001B[0m, in \u001B[0;36mSession.request\u001B[1;34m(self, method, url, params, data, headers, cookies, files, auth, timeout, allow_redirects, proxies, hooks, stream, verify, cert, json)\u001B[0m\n\u001B[0;32m    584\u001B[0m send_kwargs \u001B[38;5;241m=\u001B[39m {\n\u001B[0;32m    585\u001B[0m     \u001B[38;5;124m\"\u001B[39m\u001B[38;5;124mtimeout\u001B[39m\u001B[38;5;124m\"\u001B[39m: timeout,\n\u001B[0;32m    586\u001B[0m     \u001B[38;5;124m\"\u001B[39m\u001B[38;5;124mallow_redirects\u001B[39m\u001B[38;5;124m\"\u001B[39m: allow_redirects,\n\u001B[0;32m    587\u001B[0m }\n\u001B[0;32m    588\u001B[0m send_kwargs\u001B[38;5;241m.\u001B[39mupdate(settings)\n\u001B[1;32m--> 589\u001B[0m resp \u001B[38;5;241m=\u001B[39m \u001B[38;5;28;43mself\u001B[39;49m\u001B[38;5;241;43m.\u001B[39;49m\u001B[43msend\u001B[49m\u001B[43m(\u001B[49m\u001B[43mprep\u001B[49m\u001B[43m,\u001B[49m\u001B[43m \u001B[49m\u001B[38;5;241;43m*\u001B[39;49m\u001B[38;5;241;43m*\u001B[39;49m\u001B[43msend_kwargs\u001B[49m\u001B[43m)\u001B[49m\n\u001B[0;32m    591\u001B[0m \u001B[38;5;28;01mreturn\u001B[39;00m resp\n",
      "File \u001B[1;32m~\\Documents\\Uni\\Semester 15\\BA\\ba-translator\\venv\\Lib\\site-packages\\requests\\sessions.py:703\u001B[0m, in \u001B[0;36mSession.send\u001B[1;34m(self, request, **kwargs)\u001B[0m\n\u001B[0;32m    700\u001B[0m start \u001B[38;5;241m=\u001B[39m preferred_clock()\n\u001B[0;32m    702\u001B[0m \u001B[38;5;66;03m# Send the request\u001B[39;00m\n\u001B[1;32m--> 703\u001B[0m r \u001B[38;5;241m=\u001B[39m \u001B[43madapter\u001B[49m\u001B[38;5;241;43m.\u001B[39;49m\u001B[43msend\u001B[49m\u001B[43m(\u001B[49m\u001B[43mrequest\u001B[49m\u001B[43m,\u001B[49m\u001B[43m \u001B[49m\u001B[38;5;241;43m*\u001B[39;49m\u001B[38;5;241;43m*\u001B[39;49m\u001B[43mkwargs\u001B[49m\u001B[43m)\u001B[49m\n\u001B[0;32m    705\u001B[0m \u001B[38;5;66;03m# Total elapsed time of the request (approximately)\u001B[39;00m\n\u001B[0;32m    706\u001B[0m elapsed \u001B[38;5;241m=\u001B[39m preferred_clock() \u001B[38;5;241m-\u001B[39m start\n",
      "File \u001B[1;32m~\\Documents\\Uni\\Semester 15\\BA\\ba-translator\\venv\\Lib\\site-packages\\requests\\adapters.py:667\u001B[0m, in \u001B[0;36mHTTPAdapter.send\u001B[1;34m(self, request, stream, timeout, verify, cert, proxies)\u001B[0m\n\u001B[0;32m    664\u001B[0m     timeout \u001B[38;5;241m=\u001B[39m TimeoutSauce(connect\u001B[38;5;241m=\u001B[39mtimeout, read\u001B[38;5;241m=\u001B[39mtimeout)\n\u001B[0;32m    666\u001B[0m \u001B[38;5;28;01mtry\u001B[39;00m:\n\u001B[1;32m--> 667\u001B[0m     resp \u001B[38;5;241m=\u001B[39m \u001B[43mconn\u001B[49m\u001B[38;5;241;43m.\u001B[39;49m\u001B[43murlopen\u001B[49m\u001B[43m(\u001B[49m\n\u001B[0;32m    668\u001B[0m \u001B[43m        \u001B[49m\u001B[43mmethod\u001B[49m\u001B[38;5;241;43m=\u001B[39;49m\u001B[43mrequest\u001B[49m\u001B[38;5;241;43m.\u001B[39;49m\u001B[43mmethod\u001B[49m\u001B[43m,\u001B[49m\n\u001B[0;32m    669\u001B[0m \u001B[43m        \u001B[49m\u001B[43murl\u001B[49m\u001B[38;5;241;43m=\u001B[39;49m\u001B[43murl\u001B[49m\u001B[43m,\u001B[49m\n\u001B[0;32m    670\u001B[0m \u001B[43m        \u001B[49m\u001B[43mbody\u001B[49m\u001B[38;5;241;43m=\u001B[39;49m\u001B[43mrequest\u001B[49m\u001B[38;5;241;43m.\u001B[39;49m\u001B[43mbody\u001B[49m\u001B[43m,\u001B[49m\n\u001B[0;32m    671\u001B[0m \u001B[43m        \u001B[49m\u001B[43mheaders\u001B[49m\u001B[38;5;241;43m=\u001B[39;49m\u001B[43mrequest\u001B[49m\u001B[38;5;241;43m.\u001B[39;49m\u001B[43mheaders\u001B[49m\u001B[43m,\u001B[49m\n\u001B[0;32m    672\u001B[0m \u001B[43m        \u001B[49m\u001B[43mredirect\u001B[49m\u001B[38;5;241;43m=\u001B[39;49m\u001B[38;5;28;43;01mFalse\u001B[39;49;00m\u001B[43m,\u001B[49m\n\u001B[0;32m    673\u001B[0m \u001B[43m        \u001B[49m\u001B[43massert_same_host\u001B[49m\u001B[38;5;241;43m=\u001B[39;49m\u001B[38;5;28;43;01mFalse\u001B[39;49;00m\u001B[43m,\u001B[49m\n\u001B[0;32m    674\u001B[0m \u001B[43m        \u001B[49m\u001B[43mpreload_content\u001B[49m\u001B[38;5;241;43m=\u001B[39;49m\u001B[38;5;28;43;01mFalse\u001B[39;49;00m\u001B[43m,\u001B[49m\n\u001B[0;32m    675\u001B[0m \u001B[43m        \u001B[49m\u001B[43mdecode_content\u001B[49m\u001B[38;5;241;43m=\u001B[39;49m\u001B[38;5;28;43;01mFalse\u001B[39;49;00m\u001B[43m,\u001B[49m\n\u001B[0;32m    676\u001B[0m \u001B[43m        \u001B[49m\u001B[43mretries\u001B[49m\u001B[38;5;241;43m=\u001B[39;49m\u001B[38;5;28;43mself\u001B[39;49m\u001B[38;5;241;43m.\u001B[39;49m\u001B[43mmax_retries\u001B[49m\u001B[43m,\u001B[49m\n\u001B[0;32m    677\u001B[0m \u001B[43m        \u001B[49m\u001B[43mtimeout\u001B[49m\u001B[38;5;241;43m=\u001B[39;49m\u001B[43mtimeout\u001B[49m\u001B[43m,\u001B[49m\n\u001B[0;32m    678\u001B[0m \u001B[43m        \u001B[49m\u001B[43mchunked\u001B[49m\u001B[38;5;241;43m=\u001B[39;49m\u001B[43mchunked\u001B[49m\u001B[43m,\u001B[49m\n\u001B[0;32m    679\u001B[0m \u001B[43m    \u001B[49m\u001B[43m)\u001B[49m\n\u001B[0;32m    681\u001B[0m \u001B[38;5;28;01mexcept\u001B[39;00m (ProtocolError, \u001B[38;5;167;01mOSError\u001B[39;00m) \u001B[38;5;28;01mas\u001B[39;00m err:\n\u001B[0;32m    682\u001B[0m     \u001B[38;5;28;01mraise\u001B[39;00m \u001B[38;5;167;01mConnectionError\u001B[39;00m(err, request\u001B[38;5;241m=\u001B[39mrequest)\n",
      "File \u001B[1;32m~\\Documents\\Uni\\Semester 15\\BA\\ba-translator\\venv\\Lib\\site-packages\\urllib3\\connectionpool.py:789\u001B[0m, in \u001B[0;36mHTTPConnectionPool.urlopen\u001B[1;34m(self, method, url, body, headers, retries, redirect, assert_same_host, timeout, pool_timeout, release_conn, chunked, body_pos, preload_content, decode_content, **response_kw)\u001B[0m\n\u001B[0;32m    786\u001B[0m response_conn \u001B[38;5;241m=\u001B[39m conn \u001B[38;5;28;01mif\u001B[39;00m \u001B[38;5;129;01mnot\u001B[39;00m release_conn \u001B[38;5;28;01melse\u001B[39;00m \u001B[38;5;28;01mNone\u001B[39;00m\n\u001B[0;32m    788\u001B[0m \u001B[38;5;66;03m# Make the request on the HTTPConnection object\u001B[39;00m\n\u001B[1;32m--> 789\u001B[0m response \u001B[38;5;241m=\u001B[39m \u001B[38;5;28;43mself\u001B[39;49m\u001B[38;5;241;43m.\u001B[39;49m\u001B[43m_make_request\u001B[49m\u001B[43m(\u001B[49m\n\u001B[0;32m    790\u001B[0m \u001B[43m    \u001B[49m\u001B[43mconn\u001B[49m\u001B[43m,\u001B[49m\n\u001B[0;32m    791\u001B[0m \u001B[43m    \u001B[49m\u001B[43mmethod\u001B[49m\u001B[43m,\u001B[49m\n\u001B[0;32m    792\u001B[0m \u001B[43m    \u001B[49m\u001B[43murl\u001B[49m\u001B[43m,\u001B[49m\n\u001B[0;32m    793\u001B[0m \u001B[43m    \u001B[49m\u001B[43mtimeout\u001B[49m\u001B[38;5;241;43m=\u001B[39;49m\u001B[43mtimeout_obj\u001B[49m\u001B[43m,\u001B[49m\n\u001B[0;32m    794\u001B[0m \u001B[43m    \u001B[49m\u001B[43mbody\u001B[49m\u001B[38;5;241;43m=\u001B[39;49m\u001B[43mbody\u001B[49m\u001B[43m,\u001B[49m\n\u001B[0;32m    795\u001B[0m \u001B[43m    \u001B[49m\u001B[43mheaders\u001B[49m\u001B[38;5;241;43m=\u001B[39;49m\u001B[43mheaders\u001B[49m\u001B[43m,\u001B[49m\n\u001B[0;32m    796\u001B[0m \u001B[43m    \u001B[49m\u001B[43mchunked\u001B[49m\u001B[38;5;241;43m=\u001B[39;49m\u001B[43mchunked\u001B[49m\u001B[43m,\u001B[49m\n\u001B[0;32m    797\u001B[0m \u001B[43m    \u001B[49m\u001B[43mretries\u001B[49m\u001B[38;5;241;43m=\u001B[39;49m\u001B[43mretries\u001B[49m\u001B[43m,\u001B[49m\n\u001B[0;32m    798\u001B[0m \u001B[43m    \u001B[49m\u001B[43mresponse_conn\u001B[49m\u001B[38;5;241;43m=\u001B[39;49m\u001B[43mresponse_conn\u001B[49m\u001B[43m,\u001B[49m\n\u001B[0;32m    799\u001B[0m \u001B[43m    \u001B[49m\u001B[43mpreload_content\u001B[49m\u001B[38;5;241;43m=\u001B[39;49m\u001B[43mpreload_content\u001B[49m\u001B[43m,\u001B[49m\n\u001B[0;32m    800\u001B[0m \u001B[43m    \u001B[49m\u001B[43mdecode_content\u001B[49m\u001B[38;5;241;43m=\u001B[39;49m\u001B[43mdecode_content\u001B[49m\u001B[43m,\u001B[49m\n\u001B[0;32m    801\u001B[0m \u001B[43m    \u001B[49m\u001B[38;5;241;43m*\u001B[39;49m\u001B[38;5;241;43m*\u001B[39;49m\u001B[43mresponse_kw\u001B[49m\u001B[43m,\u001B[49m\n\u001B[0;32m    802\u001B[0m \u001B[43m\u001B[49m\u001B[43m)\u001B[49m\n\u001B[0;32m    804\u001B[0m \u001B[38;5;66;03m# Everything went great!\u001B[39;00m\n\u001B[0;32m    805\u001B[0m clean_exit \u001B[38;5;241m=\u001B[39m \u001B[38;5;28;01mTrue\u001B[39;00m\n",
      "File \u001B[1;32m~\\Documents\\Uni\\Semester 15\\BA\\ba-translator\\venv\\Lib\\site-packages\\urllib3\\connectionpool.py:536\u001B[0m, in \u001B[0;36mHTTPConnectionPool._make_request\u001B[1;34m(self, conn, method, url, body, headers, retries, timeout, chunked, response_conn, preload_content, decode_content, enforce_content_length)\u001B[0m\n\u001B[0;32m    534\u001B[0m \u001B[38;5;66;03m# Receive the response from the server\u001B[39;00m\n\u001B[0;32m    535\u001B[0m \u001B[38;5;28;01mtry\u001B[39;00m:\n\u001B[1;32m--> 536\u001B[0m     response \u001B[38;5;241m=\u001B[39m \u001B[43mconn\u001B[49m\u001B[38;5;241;43m.\u001B[39;49m\u001B[43mgetresponse\u001B[49m\u001B[43m(\u001B[49m\u001B[43m)\u001B[49m\n\u001B[0;32m    537\u001B[0m \u001B[38;5;28;01mexcept\u001B[39;00m (BaseSSLError, \u001B[38;5;167;01mOSError\u001B[39;00m) \u001B[38;5;28;01mas\u001B[39;00m e:\n\u001B[0;32m    538\u001B[0m     \u001B[38;5;28mself\u001B[39m\u001B[38;5;241m.\u001B[39m_raise_timeout(err\u001B[38;5;241m=\u001B[39me, url\u001B[38;5;241m=\u001B[39murl, timeout_value\u001B[38;5;241m=\u001B[39mread_timeout)\n",
      "File \u001B[1;32m~\\Documents\\Uni\\Semester 15\\BA\\ba-translator\\venv\\Lib\\site-packages\\urllib3\\connection.py:507\u001B[0m, in \u001B[0;36mHTTPConnection.getresponse\u001B[1;34m(self)\u001B[0m\n\u001B[0;32m    504\u001B[0m \u001B[38;5;28;01mfrom\u001B[39;00m \u001B[38;5;21;01m.\u001B[39;00m\u001B[38;5;21;01mresponse\u001B[39;00m \u001B[38;5;28;01mimport\u001B[39;00m HTTPResponse\n\u001B[0;32m    506\u001B[0m \u001B[38;5;66;03m# Get the response from http.client.HTTPConnection\u001B[39;00m\n\u001B[1;32m--> 507\u001B[0m httplib_response \u001B[38;5;241m=\u001B[39m \u001B[38;5;28;43msuper\u001B[39;49m\u001B[43m(\u001B[49m\u001B[43m)\u001B[49m\u001B[38;5;241;43m.\u001B[39;49m\u001B[43mgetresponse\u001B[49m\u001B[43m(\u001B[49m\u001B[43m)\u001B[49m\n\u001B[0;32m    509\u001B[0m \u001B[38;5;28;01mtry\u001B[39;00m:\n\u001B[0;32m    510\u001B[0m     assert_header_parsing(httplib_response\u001B[38;5;241m.\u001B[39mmsg)\n",
      "File \u001B[1;32m~\\AppData\\Local\\Programs\\Python\\Python312\\Lib\\http\\client.py:1411\u001B[0m, in \u001B[0;36mHTTPConnection.getresponse\u001B[1;34m(self)\u001B[0m\n\u001B[0;32m   1409\u001B[0m \u001B[38;5;28;01mtry\u001B[39;00m:\n\u001B[0;32m   1410\u001B[0m     \u001B[38;5;28;01mtry\u001B[39;00m:\n\u001B[1;32m-> 1411\u001B[0m         \u001B[43mresponse\u001B[49m\u001B[38;5;241;43m.\u001B[39;49m\u001B[43mbegin\u001B[49m\u001B[43m(\u001B[49m\u001B[43m)\u001B[49m\n\u001B[0;32m   1412\u001B[0m     \u001B[38;5;28;01mexcept\u001B[39;00m \u001B[38;5;167;01mConnectionError\u001B[39;00m:\n\u001B[0;32m   1413\u001B[0m         \u001B[38;5;28mself\u001B[39m\u001B[38;5;241m.\u001B[39mclose()\n",
      "File \u001B[1;32m~\\AppData\\Local\\Programs\\Python\\Python312\\Lib\\http\\client.py:324\u001B[0m, in \u001B[0;36mHTTPResponse.begin\u001B[1;34m(self)\u001B[0m\n\u001B[0;32m    322\u001B[0m \u001B[38;5;66;03m# read until we get a non-100 response\u001B[39;00m\n\u001B[0;32m    323\u001B[0m \u001B[38;5;28;01mwhile\u001B[39;00m \u001B[38;5;28;01mTrue\u001B[39;00m:\n\u001B[1;32m--> 324\u001B[0m     version, status, reason \u001B[38;5;241m=\u001B[39m \u001B[38;5;28;43mself\u001B[39;49m\u001B[38;5;241;43m.\u001B[39;49m\u001B[43m_read_status\u001B[49m\u001B[43m(\u001B[49m\u001B[43m)\u001B[49m\n\u001B[0;32m    325\u001B[0m     \u001B[38;5;28;01mif\u001B[39;00m status \u001B[38;5;241m!=\u001B[39m CONTINUE:\n\u001B[0;32m    326\u001B[0m         \u001B[38;5;28;01mbreak\u001B[39;00m\n",
      "File \u001B[1;32m~\\AppData\\Local\\Programs\\Python\\Python312\\Lib\\http\\client.py:285\u001B[0m, in \u001B[0;36mHTTPResponse._read_status\u001B[1;34m(self)\u001B[0m\n\u001B[0;32m    284\u001B[0m \u001B[38;5;28;01mdef\u001B[39;00m \u001B[38;5;21m_read_status\u001B[39m(\u001B[38;5;28mself\u001B[39m):\n\u001B[1;32m--> 285\u001B[0m     line \u001B[38;5;241m=\u001B[39m \u001B[38;5;28mstr\u001B[39m(\u001B[38;5;28;43mself\u001B[39;49m\u001B[38;5;241;43m.\u001B[39;49m\u001B[43mfp\u001B[49m\u001B[38;5;241;43m.\u001B[39;49m\u001B[43mreadline\u001B[49m\u001B[43m(\u001B[49m\u001B[43m_MAXLINE\u001B[49m\u001B[43m \u001B[49m\u001B[38;5;241;43m+\u001B[39;49m\u001B[43m \u001B[49m\u001B[38;5;241;43m1\u001B[39;49m\u001B[43m)\u001B[49m, \u001B[38;5;124m\"\u001B[39m\u001B[38;5;124miso-8859-1\u001B[39m\u001B[38;5;124m\"\u001B[39m)\n\u001B[0;32m    286\u001B[0m     \u001B[38;5;28;01mif\u001B[39;00m \u001B[38;5;28mlen\u001B[39m(line) \u001B[38;5;241m>\u001B[39m _MAXLINE:\n\u001B[0;32m    287\u001B[0m         \u001B[38;5;28;01mraise\u001B[39;00m LineTooLong(\u001B[38;5;124m\"\u001B[39m\u001B[38;5;124mstatus line\u001B[39m\u001B[38;5;124m\"\u001B[39m)\n",
      "File \u001B[1;32m~\\AppData\\Local\\Programs\\Python\\Python312\\Lib\\socket.py:707\u001B[0m, in \u001B[0;36mSocketIO.readinto\u001B[1;34m(self, b)\u001B[0m\n\u001B[0;32m    705\u001B[0m \u001B[38;5;28;01mwhile\u001B[39;00m \u001B[38;5;28;01mTrue\u001B[39;00m:\n\u001B[0;32m    706\u001B[0m     \u001B[38;5;28;01mtry\u001B[39;00m:\n\u001B[1;32m--> 707\u001B[0m         \u001B[38;5;28;01mreturn\u001B[39;00m \u001B[38;5;28;43mself\u001B[39;49m\u001B[38;5;241;43m.\u001B[39;49m\u001B[43m_sock\u001B[49m\u001B[38;5;241;43m.\u001B[39;49m\u001B[43mrecv_into\u001B[49m\u001B[43m(\u001B[49m\u001B[43mb\u001B[49m\u001B[43m)\u001B[49m\n\u001B[0;32m    708\u001B[0m     \u001B[38;5;28;01mexcept\u001B[39;00m timeout:\n\u001B[0;32m    709\u001B[0m         \u001B[38;5;28mself\u001B[39m\u001B[38;5;241m.\u001B[39m_timeout_occurred \u001B[38;5;241m=\u001B[39m \u001B[38;5;28;01mTrue\u001B[39;00m\n",
      "File \u001B[1;32m~\\AppData\\Local\\Programs\\Python\\Python312\\Lib\\ssl.py:1249\u001B[0m, in \u001B[0;36mSSLSocket.recv_into\u001B[1;34m(self, buffer, nbytes, flags)\u001B[0m\n\u001B[0;32m   1245\u001B[0m     \u001B[38;5;28;01mif\u001B[39;00m flags \u001B[38;5;241m!=\u001B[39m \u001B[38;5;241m0\u001B[39m:\n\u001B[0;32m   1246\u001B[0m         \u001B[38;5;28;01mraise\u001B[39;00m \u001B[38;5;167;01mValueError\u001B[39;00m(\n\u001B[0;32m   1247\u001B[0m           \u001B[38;5;124m\"\u001B[39m\u001B[38;5;124mnon-zero flags not allowed in calls to recv_into() on \u001B[39m\u001B[38;5;132;01m%s\u001B[39;00m\u001B[38;5;124m\"\u001B[39m \u001B[38;5;241m%\u001B[39m\n\u001B[0;32m   1248\u001B[0m           \u001B[38;5;28mself\u001B[39m\u001B[38;5;241m.\u001B[39m\u001B[38;5;18m__class__\u001B[39m)\n\u001B[1;32m-> 1249\u001B[0m     \u001B[38;5;28;01mreturn\u001B[39;00m \u001B[38;5;28;43mself\u001B[39;49m\u001B[38;5;241;43m.\u001B[39;49m\u001B[43mread\u001B[49m\u001B[43m(\u001B[49m\u001B[43mnbytes\u001B[49m\u001B[43m,\u001B[49m\u001B[43m \u001B[49m\u001B[43mbuffer\u001B[49m\u001B[43m)\u001B[49m\n\u001B[0;32m   1250\u001B[0m \u001B[38;5;28;01melse\u001B[39;00m:\n\u001B[0;32m   1251\u001B[0m     \u001B[38;5;28;01mreturn\u001B[39;00m \u001B[38;5;28msuper\u001B[39m()\u001B[38;5;241m.\u001B[39mrecv_into(buffer, nbytes, flags)\n",
      "File \u001B[1;32m~\\AppData\\Local\\Programs\\Python\\Python312\\Lib\\ssl.py:1105\u001B[0m, in \u001B[0;36mSSLSocket.read\u001B[1;34m(self, len, buffer)\u001B[0m\n\u001B[0;32m   1103\u001B[0m \u001B[38;5;28;01mtry\u001B[39;00m:\n\u001B[0;32m   1104\u001B[0m     \u001B[38;5;28;01mif\u001B[39;00m buffer \u001B[38;5;129;01mis\u001B[39;00m \u001B[38;5;129;01mnot\u001B[39;00m \u001B[38;5;28;01mNone\u001B[39;00m:\n\u001B[1;32m-> 1105\u001B[0m         \u001B[38;5;28;01mreturn\u001B[39;00m \u001B[38;5;28;43mself\u001B[39;49m\u001B[38;5;241;43m.\u001B[39;49m\u001B[43m_sslobj\u001B[49m\u001B[38;5;241;43m.\u001B[39;49m\u001B[43mread\u001B[49m\u001B[43m(\u001B[49m\u001B[38;5;28;43mlen\u001B[39;49m\u001B[43m,\u001B[49m\u001B[43m \u001B[49m\u001B[43mbuffer\u001B[49m\u001B[43m)\u001B[49m\n\u001B[0;32m   1106\u001B[0m     \u001B[38;5;28;01melse\u001B[39;00m:\n\u001B[0;32m   1107\u001B[0m         \u001B[38;5;28;01mreturn\u001B[39;00m \u001B[38;5;28mself\u001B[39m\u001B[38;5;241m.\u001B[39m_sslobj\u001B[38;5;241m.\u001B[39mread(\u001B[38;5;28mlen\u001B[39m)\n",
      "\u001B[1;31mKeyboardInterrupt\u001B[0m: "
     ]
    }
   ],
   "source": [
    "#backlink_graph = get_backgraph(bienen_page, 1)"
   ],
   "metadata": {
    "collapsed": false,
    "ExecuteTime": {
     "end_time": "2024-11-18T08:43:54.967380400Z",
     "start_time": "2024-11-18T08:37:11.877757700Z"
    }
   },
   "id": "5b2bd1ea09a3a85b"
  },
  {
   "cell_type": "code",
   "execution_count": null,
   "outputs": [],
   "source": [
    "print(len(backlinks_hop_2))"
   ],
   "metadata": {
    "collapsed": false,
    "ExecuteTime": {
     "start_time": "2024-11-18T08:43:54.967380400Z"
    }
   },
   "id": "d7480b197a324600"
  },
  {
   "cell_type": "code",
   "execution_count": null,
   "outputs": [],
   "source": [],
   "metadata": {
    "collapsed": false
   },
   "id": "f70c8a5ee5a5e9f0"
  }
 ],
 "metadata": {
  "kernelspec": {
   "display_name": "Python 3",
   "language": "python",
   "name": "python3"
  },
  "language_info": {
   "codemirror_mode": {
    "name": "ipython",
    "version": 2
   },
   "file_extension": ".py",
   "mimetype": "text/x-python",
   "name": "python",
   "nbconvert_exporter": "python",
   "pygments_lexer": "ipython2",
   "version": "2.7.6"
  }
 },
 "nbformat": 4,
 "nbformat_minor": 5
}
