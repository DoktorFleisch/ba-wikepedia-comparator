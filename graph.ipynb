{
 "cells": [
  {
   "cell_type": "code",
   "execution_count": 1,
   "id": "initial_id",
   "metadata": {
    "collapsed": true,
    "ExecuteTime": {
     "end_time": "2024-11-26T17:15:30.036320400Z",
     "start_time": "2024-11-26T17:15:29.100955400Z"
    }
   },
   "outputs": [],
   "source": [
    "import networkx as nx\n",
    "import wikipediaapi\n",
    "import graphviz"
   ]
  },
  {
   "cell_type": "code",
   "execution_count": 2,
   "outputs": [],
   "source": [
    "user_agent = 'wikipedia-graph (danielwarkus@hotmail.com)'"
   ],
   "metadata": {
    "collapsed": false,
    "ExecuteTime": {
     "end_time": "2024-11-26T17:15:33.393602500Z",
     "start_time": "2024-11-26T17:15:33.386113600Z"
    }
   },
   "id": "6e1bb31c3fbe942"
  },
  {
   "cell_type": "code",
   "execution_count": 3,
   "outputs": [],
   "source": [
    "wiki = wikipediaapi.Wikipedia(user_agent=user_agent, language='de')"
   ],
   "metadata": {
    "collapsed": false,
    "ExecuteTime": {
     "end_time": "2024-11-26T17:15:34.318129500Z",
     "start_time": "2024-11-26T17:15:34.310639400Z"
    }
   },
   "id": "247236e677b90351"
  },
  {
   "cell_type": "code",
   "execution_count": 4,
   "outputs": [],
   "source": [
    "bienen_page = wiki.page('Bienen')"
   ],
   "metadata": {
    "collapsed": false,
    "ExecuteTime": {
     "end_time": "2024-11-26T17:15:34.852608800Z",
     "start_time": "2024-11-26T17:15:34.845623800Z"
    }
   },
   "id": "5a991852620ab071"
  },
  {
   "cell_type": "code",
   "execution_count": 5,
   "outputs": [],
   "source": [
    "def get_backlinks(page):\n",
    "    backlinks = []\n",
    "    for link in page.backlinks.values():\n",
    "        backlinks.append(link.title)\n",
    "    return backlinks"
   ],
   "metadata": {
    "collapsed": false,
    "ExecuteTime": {
     "end_time": "2024-11-26T17:15:35.376177200Z",
     "start_time": "2024-11-26T17:15:35.369684700Z"
    }
   },
   "id": "bc5ab5c090c6e531"
  },
  {
   "cell_type": "code",
   "execution_count": 6,
   "outputs": [],
   "source": [
    "def get_links(page):\n",
    "    links = []\n",
    "    for link in page.links.values():\n",
    "        links.append(link.title)\n",
    "    return links"
   ],
   "metadata": {
    "collapsed": false,
    "ExecuteTime": {
     "end_time": "2024-11-26T17:15:35.866215300Z",
     "start_time": "2024-11-26T17:15:35.859723400Z"
    }
   },
   "id": "be9673ee497f7d5"
  },
  {
   "cell_type": "code",
   "execution_count": 7,
   "outputs": [],
   "source": [
    "def get_page(link):\n",
    "    return wiki.page(link)"
   ],
   "metadata": {
    "collapsed": false,
    "ExecuteTime": {
     "end_time": "2024-11-26T17:15:37.062604700Z",
     "start_time": "2024-11-26T17:15:37.047469100Z"
    }
   },
   "id": "cc91aff117ac46f9"
  },
  {
   "cell_type": "code",
   "execution_count": 8,
   "outputs": [],
   "source": [
    "def get_graph(page, depth):\n",
    "    graph = nx.DiGraph()\n",
    "    graph.add_node(page.title)\n",
    "    links = get_links(page)\n",
    "    for link in links:\n",
    "        graph.add_edge(page.title, link)\n",
    "        if depth > 0:\n",
    "            next_page = get_page(link)\n",
    "            graph = nx.compose(graph, get_graph(next_page, depth-1))\n",
    "    return graph"
   ],
   "metadata": {
    "collapsed": false,
    "ExecuteTime": {
     "end_time": "2024-11-26T17:15:37.684668900Z",
     "start_time": "2024-11-26T17:15:37.677404700Z"
    }
   },
   "id": "4c8091e0ebef5ba7"
  },
  {
   "cell_type": "code",
   "execution_count": 9,
   "outputs": [],
   "source": [
    "def get_backgraph(page, depth):\n",
    "    backgraph = nx.DiGraph()\n",
    "    backgraph.add_node(page.title)\n",
    "    backlinks = get_backlinks(page)\n",
    "    for link in backlinks:\n",
    "        backgraph.add_edge(page.title, link)\n",
    "        if depth > 0:\n",
    "            next_page = get_page(link)\n",
    "            backgraph = nx.compose(backgraph, get_graph(next_page, depth-1))\n",
    "    return backgraph"
   ],
   "metadata": {
    "collapsed": false,
    "ExecuteTime": {
     "end_time": "2024-11-26T17:15:38.941878400Z",
     "start_time": "2024-11-26T17:15:38.916437800Z"
    }
   },
   "id": "d600421b1f751fba"
  },
  {
   "cell_type": "markdown",
   "source": [
    "# Erstelle den Ursprungsgraphen\n",
    "### Hier wird ein Graph erstellt, der alle Links (und deren Links) von der Bienen-Seite enthält.\n",
    "### Die Artikelnamen sind dabei die Knoten und die Verlinkungen die Kanten. "
   ],
   "metadata": {
    "collapsed": false
   },
   "id": "5e4d04bdbcacf312"
  },
  {
   "cell_type": "code",
   "execution_count": 11,
   "outputs": [],
   "source": [
    "graph = get_graph(bienen_page, 1)"
   ],
   "metadata": {
    "collapsed": false,
    "ExecuteTime": {
     "end_time": "2024-11-26T17:17:24.249041700Z",
     "start_time": "2024-11-26T17:16:35.420770700Z"
    }
   },
   "id": "2809b9fa6d47b72b"
  },
  {
   "cell_type": "code",
   "execution_count": 14,
   "outputs": [],
   "source": [
    "backlinks = get_backlinks(bienen_page)"
   ],
   "metadata": {
    "collapsed": false,
    "ExecuteTime": {
     "end_time": "2024-11-26T17:28:39.767941200Z",
     "start_time": "2024-11-26T17:28:39.747133600Z"
    }
   },
   "id": "b1582df214921baa"
  },
  {
   "cell_type": "code",
   "execution_count": 15,
   "outputs": [
    {
     "name": "stdout",
     "output_type": "stream",
     "text": [
      "['Erbse', 'Elefanten', 'Geist', 'Gewürzvanille', 'Heidekrautgewächse', 'Kürbisgewächse', 'Krieg', 'Lebewesen', 'Mimikry', 'Orchideen', 'Rosengewächse', 'Speierling', 'Salbei', 'Tropen', 'Kakteengewächse', 'Insekten', 'Färöer', 'Jahreszeit', 'Männliches Geschlecht', 'Schwanenblume', 'Weibliches Geschlecht', 'Ultraviolettstrahlung', 'Westliche Honigbiene', 'Akazien', 'Magnetit', 'Wikipedia:Humorarchiv/Leuchtschnabelbeutelschabe', 'Huflattich', 'Subtropen', 'Insektizid', 'Gewöhnliches Hirtentäschel', 'Weiden (Gattung)', 'Nachtschatten', 'Insektenkunde', 'Felsberg (Hessen)', 'Neuntöter', 'Hautflügler', 'Rambutan', 'Bienenkönigin', 'Ameisensäure', 'Schachblume', 'Gonosom', 'R- und S-Sätze', 'Acetylcholin', 'Ambrosius von Mailand', 'Brombeeren', 'Kölner Dom', 'Himbeere', 'Hummeln', 'El Hierro', 'Nest', 'Arbeitsteilung', 'Diskussion:Arbeitsteilung', 'Feuerbrand', 'Gänseblümchen', 'Liste der Schutzpatrone', 'Barfüßigkeit', 'Atrazin', 'Gemeiner Efeu', 'Pseudoskorpione', 'Gurke', 'Gelb', 'Erdmagnetfeld', 'Stachelbeere', 'Amerikanischer Schwarzbär', 'Bienenkunde', 'Achim (Landkreis Verden)', 'Brut', 'Helligkeit', 'Körpertemperatur', 'Winterlinde', 'Silber-Linde', 'Termiten', 'Bauernregel', 'Kohlmeise', 'Echte Wespen', 'Ammen-Dornfinger', 'Blattflöhe', 'Mundwerkzeuge', 'Taufliegen', 'Nützling', 'Taxis', 'Rot', 'Glucosamin', 'Benutzer:Mussklprozz', 'Guaraná', 'Made', 'Karl von Frisch', 'Schwebfliegen', 'Migros', 'Gemeine Akelei', 'Ostafrikanische Hochlandbiene', 'Wölfling', 'Echter Baldrian', 'Malaienbär', 'Allomon', 'Italienische Lira', 'Gewöhnliche Mahonie', 'Winter-Bohnenkraut', 'Gemeine Nachtkerze', 'Schwarze Tollkirsche', 'Kultur in Frankfurt am Main', 'Echter Beinwell', 'Kleiner Wiesenknopf', 'Gewöhnlicher Blutweiderich', 'Echter Eibisch', 'Fieberklee', 'Kaltgemäßigte Klimazone', 'Großblütiger Fingerhut', 'Propolis', 'Ackerhummel', 'Storchschnäbel', 'Schwarzer Laos-Skorpion', 'Luzerne', 'Gewöhnliche Kuhschelle', 'Bixa', 'Eusozialität', 'Kopfweide', 'Johann David Wyss', 'Echte Katzenminze', 'Der Zauberer von Oz', 'Halmfliegen', 'Echtes Mädesüß', 'Pflanzenschutzmittel', 'Maiglöckchen', 'Ruprechtskraut', 'Schneeheide', 'Federsee', 'Rosmarinheide', 'Fleischfliegen', 'Domgymnasium Verden', 'Wilhelma', 'Europäische Stechpalme', 'Echtes Johanniskraut', 'Gewöhnlicher Feldsalat', 'Weiße Taubnessel', 'Tränendes Herz', 'Winterling', 'Knoblauchsrauke', 'Geraniol', 'Gartenkresse', 'Niederliegendes Mastkraut', 'Wasserminze', 'Alpen-Vergissmeinnicht', 'Sumpf-Vergissmeinnicht', 'Wald-Vergissmeinnicht', 'Frühlings-Kuhschelle', 'Ginster', 'Geschlechtsdetermination', 'Stechginster', 'Kakadu-Nationalpark', 'Mannose', 'Gemeiner Augentrost', 'Alpenflora', 'Gewöhnlicher Teufelsabbiss', 'Spardose', 'Wiesensalbei', 'Wikipedia:Artikel, die es in allen Wikipedias geben sollte', 'Taubenkropf-Leimkraut', 'Französischer Ahorn', 'Populationsdynamik', 'Ackerwinde', 'Wilde Malve', 'Wikipedia:Löschkandidaten/Archiv:Lösch-Logbuch/20040707', 'Opuntien', 'Osterseen', 'Biene (Begriffsklärung)', 'Alpen-Lein', 'Naturhistorisches Museum Wien', 'Bienwald', 'Kornblume', 'Rauhaarige Wicke', 'Waldkiefer', 'Melissopalynologie', 'Entomophagie beim Menschen', 'Grabwespen', 'Dichtstoff', 'Mauerbienen', 'Taillenwespen', 'Kulturapfel', 'Goldwespen', 'Echte Bienen', 'Kuckuckshummeln', 'Honigbienen', 'Stechimmen', 'Wildbiene', 'Glockenblumen-Hummel', 'Bombinae', 'Vierfarbige Kuckuckshummel', 'Oblast Moskau', 'Bauchsammlerbienen', 'Totholz', 'Gewöhnliche Moosbeere', 'Echtes Tausendgüldenkraut', 'Gemeine Wegwarte', 'Wollschweber', 'Große Wollbiene', 'Regenbogenpflanzen', 'Ovipositor', 'Apoidea', 'Kuckucks-Lichtnelke', 'Anlage 1 zur Bundesartenschutzverordnung', 'Imker', 'Wiesen-Flockenblume', 'Prunkwinden', 'Magdeburger Straßen/B', 'Magdeburger Straßen/H', 'Kollektive Intelligenz', 'Biologisch-dynamische Landwirtschaft', 'Trophallaxis', 'Zabeltitz', 'Silberdistel', 'Betonien', 'Naturpark Südschwarzwald', 'Echte Brunnenkresse', 'Benutzer:Nerd/Artikel', 'Illertissen', 'Benutzer:Thomas Rabold', 'Schwalbenwurz-Enzian', 'Schlacht bei Tanga', 'Rosskastanienminiermotte', 'Wald-Erdbeere', 'Grüne Hohlzunge', 'Gemeines Fettkraut', 'Jinmeiyō-Kanji', 'Schmetterlingsflieder', 'Wespenspinne', 'Optischer Fluss', 'Benutzer:AndreasPraefcke/Baustelle', 'Diskussion:Schlupfwespen', 'Bienenfresser (Familie)', 'Gewöhnliche Rosskastanie', 'Tierlautbezeichnungen', 'Michael Chabon', 'Organisationsintelligenz', 'Schwarze Krähenbeere', 'Alpen-Waldrebe', 'Holzapfel', 'Liste falscher Freunde', 'Thermoregulation', 'Arbeo von Freising', 'Gerber-Sumach', 'Nistkasten', 'Wiesen-Schaumkraut', 'William Kirby', 'Geschlechterverteilung', 'Spitzels Knabenkraut', 'Portal Diskussion:Lebewesen/Archiv 7', 'Soziale Insekten', 'Gewöhnlicher Liguster', 'Hohe Schlüsselblume', 'Giftstachel', 'Östliche Honigbiene', 'Otto Koehler (Verhaltensforscher)', 'Gewöhnliche Schuppenwurz', 'Gamander', 'Krabbenspinnen', 'Honigwespen', 'Rübsen (Pflanze)', 'Buckfastbiene', 'Drehwurzen', 'Spechtvögel', 'Faulvögel', 'Glanzvögel', 'Kleinblütige Königskerze', 'Kärntner Biene', 'Steinhummel', 'Petunien', 'Wespenbussard', 'Tierseuche', 'Euro-Umlaufmünzen-Motivliste', 'Transport (Biologie)', 'Bettelverhalten', 'Ölkäfer', 'Weidensandbiene', 'Sandbienen', 'Gemeine Wespe', 'Erdbeerfröschchen', 'Gewöhnlicher Wasserschlauch', 'Gehörnte Mauerbiene', 'Italienische Biene', 'Stift Engelszell', 'Rote Mauerbiene', 'Schopfige Kreuzblume', 'Gewöhnliche Kreuzblume', 'Gamander-Ehrenpreis', 'Berg-Sandglöckchen', 'Masurische Seenplatte', 'Verwandtenselektion', 'Sand-Vergissmeinnicht', 'Wiesen-Glockenblume', 'Geflecktes Lungenkraut', 'Veränderliche Krabbenspinne', 'Schwarzblauer Ölkäfer', 'Gewöhnliches Seifenkraut', 'Schwarze Teufelskralle', 'Honiganzeiger', 'Gewimpertes Kreuzlabkraut', 'Wiesen-Bocksbart', 'Eichenmistel', 'Wespenbienen', 'Bienenfresser (Art)', 'Steinklee', 'Felsen-Kugelschötchen', 'Gewöhnlicher Hufeisenklee', 'Dunkle Erdhummel', 'Wikipedia:Löschkandidaten/13. Juli 2005', 'Ährige Teufelskralle', 'Alpen-Glockenblume', 'Spiralhornbienen', 'Zygomorph', 'Rotblatt-Rose', 'Würzburger Lügensteine', 'Imchen', 'Brocchinia reducta', 'Mohn-Mauerbiene', 'Sumpf-Blutauge', 'Schmalblättriges Weidenröschen', 'Fremdbestäubung', 'Nesselblättrige Glockenblume', 'Wiesen-Platterbse', 'Knollen-Platterbse', 'Hasen-Klee', 'Deutsche Schwertlilie', 'Hymenopterenstaat', 'Wald-Wicke', 'Futterwicke', 'Kleinköpfiger Pippau', 'Diskussion:Solling', 'Vogel-Wicke', 'Gewöhnliches Greiskraut', 'Färberkamille', 'Graukresse', 'Benutzer:CrazyD/Bilder/Natur', 'Baumhummel', 'Gemeiner Rainkohl', 'Bernhard Sprute', 'Systropha curvicornis', 'Flachzahn-Spiralhornbiene', 'Zionskirche (Berlin)', 'Dornige Hauhechel', 'Sumpf-Ziest', 'Edel-Gamander', 'Mörtel- und Blattschneiderbienen', 'Teenage Robot', 'Gemeiner Hohlzahn', 'Colletidae', 'Gemeine Seidenbiene', 'Texel', 'Diskussion:Insektenstich', 'Witwenblumen', 'Acker-Witwenblume', 'Alpen-Steinquendel', 'Dreinervige Nabelmiere', 'Drohne (Hautflügler)', 'Knolliger Hahnenfuß', 'Klebriger Salbei', 'Benutzer:Godewind/Bilder/Verschiedenes 1', 'Randolf Menzel', 'Efeu-Seidenbiene', 'Schmalblättrige Ölweide', 'Großes Windröschen', 'Echte Dornfinger', 'Aldrin', 'Silber-Fingerkraut', 'Rotfußfalke', 'Estragon', 'Feinblättrige Wicke', 'Breitblättrige Stendelwurz', 'Gewöhnliche Eselsdistel', 'Schieferrücken-Königstyrann', 'Gewöhnlicher Natternkopf', 'Fauna Australiens', 'Bisamberg (Berg)', 'Barberini', 'Gewöhnliche Traubenkirsche', 'Insektenpheromone', 'Echter Haarstrang', 'Elsässer Haarstrang', 'Pantoffelblumengewächse', 'Fiano (Rebsorte)', 'Pantoffelblumen', 'Alpen-Augenwurz', 'Zwerghonigbiene', 'Hügel-Vergissmeinnicht', 'Flindersia australis', 'Liste der Straßennamen von Wien/Donaustadt', 'Sumpf-Stendelwurz', 'Nördlicher Mannsschild', 'Dreiteiliger Zweizahn', 'Feld-Mannstreu', 'Glasflügler', 'Nihoa', '4-Hydroxybenzoesäuremethylester', 'Hadza', 'Breitblättriges Knabenkraut', 'Schwarznesseln', 'Kleines Immergrün', 'Natureum Niederelbe', 'Wikipedia Diskussion:Hauptseite/Artikel des Tages/Archiv/Beiträge der Vorschlagsseiten ohne Datumsbezug', 'Zwiebel-Zahnwurz', 'Mooshummel', 'Wilde Sumpfkresse', 'Speckkäfer', 'Lechtalheiden', 'Riesen-Goldrute', 'Weg-Distel', 'Gewöhnliche Schneebeere', 'Rotpelzige Sandbiene', 'Weltorganisation für Tiergesundheit', 'Imazalil', 'Wald-Kuckuckshummel', 'Zypressen-Wolfsmilch', 'Zoophilie (Botanik)', 'Bach-Nelkenwurz', 'Färber-Ginster', 'Apiformes', 'Jungfer im Grünen', 'Goldlack', 'Ausdauerndes Silberblatt', 'Acker-Gänsedistel', 'Gemüse-Gänsedistel', 'Sozialparasitismus', 'Gelber Steinklee', 'Ernährung', 'Buntkäfer', 'Liste der Straßennamen von Wien/Simmering', 'Sand-Sommerwurz', 'Dunkle Europäische Biene', 'Schopfige Traubenhyazinthe', 'Sant’Ivo alla Sapienza', 'Belziger Landschaftswiesen', 'Gemeiner Bocksdorn', 'UV-Mal', 'Pfennigkraut', 'Kleine Traubenhyazinthe', 'Benutzer Diskussion:Olei/Archiv01', 'Wikipedia:Auskunft/Archiv/2006/März/2', 'Wiesenhummel', 'Gold-Klee', 'Ostafrikanische Bergbiene', 'Riesenhonigbiene', 'Iberische Biene', 'Stinkende Nieswurz', 'Zimbelkraut', 'Alpen-Ehrenpreis', 'Leindotter', 'Natur-Park Südgelände', 'Pelzbienen', 'Tiergift', 'Krameria', 'Einjähriges Silberblatt', 'Gemeine Pelzbiene', 'Knoblauch-Schnittlauch', 'Anthophoridae', 'Körbchensammler', 'Benutzer:Lorenz kerscher/Barfußlaufen', 'Harz- und Wollbienen', 'Panzerwiese', 'Knotige Braunwurz', 'Wiesen-Pippau', 'Geflecktes Sandröschen', 'Wald-Gelbstern', 'Kartoffel-Rose', 'Was ist was', 'Myrmecia pilosula', 'Wikipedia:Kandidaten für exzellente Bilder/Archiv2006/10', 'Horn-Sauerklee', 'Ameisenwespen', 'Afterweisel', 'Zimt-Rose', 'Blattloser Ehrenpreis', 'Keulenwespen', 'Wald-Habichtskraut', 'Diskussion:Honigbienen', 'Sumpf-Helmkraut', 'Marcgraviaceae', 'Asiatische Bergbiene', 'Asiatische Rote Honigbiene', 'Zwergbuschbiene', 'Melitta (Vorname)', 'Mikrokosmos – Das Volk der Gräser', 'Acker-Senf', 'Scheiden-Gelbstern', 'Gelbes Sonnenröschen', 'Hain-Veilchen', 'Steinbeere', 'Koch International', 'Sumpf-Ruhrkraut', 'Eingriffeliger Weißdorn', 'Hellgelbe Erdhummel', 'Chlorpyrifos', 'Provinz Taroudannt', 'Gelbe Gauklerblume', 'Tierseuchenkasse', 'Gartenhummel', 'Kokardenspecht', 'Saugrüssel', 'Dimethoat', 'Sonic X', 'Zwergspint', 'Zahntroste', 'Glänzende Wiesenraute', 'Acker-Stiefmütterchen', 'HBLA Ursprung', 'Wiesen-Storchschnabel', 'Stachellose Bienen', 'Acker-Hornkraut', 'Waldhummel', 'Nahrungstabu', 'Jürgen Tautz', 'Gewöhnliches Ferkelkraut', 'Schokoladenblume', 'Weißer Steinklee', 'Saat-Esparsette', 'Heckenkirschen', 'Naturpark Sternberger Seenland', 'Geflecktes Knabenkraut', 'Zottelbienen', 'Jacques Lebaudy', 'Wiesen-Wachtelweizen', 'Meschtscherische Sprache', 'Hermann Wurmbach', 'Melonenblatt-Nachtschatten', 'Gewöhnliche Goldrute', 'Pierre Fidèle Bretonneau', 'SpongeBob Schwammkopf', 'Markgrafschaft Mähren', 'Bocks-Hauhechel', 'Benutzer:Dietzel65/chromosom', 'Osmia steinmanni', 'Kliffhonigbiene', 'Geschichte der Imkerei', 'Blau-Gänsekresse', 'Gewöhnliche Simsenlilie', 'Apis nigrocincta', 'Graue Sandbiene', 'Moorlilie', 'Salz-Hornklee', 'Bien', 'Gewöhnliche Nachtviole', 'Liste gefährdeter Nutztierrassen', 'Wikipedia:Vandalismusmeldung/Archiv/2006/12/04', 'Banksia brownii', 'Schneeball-Ahorn', 'Sommer-Drehwurz', 'Tauben-Skabiose', 'Berg-Leinblatt', 'Shikimisäureweg', 'Pseudovanilla foliata', 'Gartenkürbis', 'Wikipedia:Vandalismusmeldung/Archiv/2007/01/24', 'Pinnacles-Nationalpark', 'Portal Diskussion:Lebewesen/Archiv/Februar 2007', 'Quirlblättrige Weißwurz', 'Imkereimuseum Stripeikiai', 'Jüdische Speisegesetze', 'Markus von Arethusa', 'Bodensee-Vergissmeinnicht', 'Holger Heinrich Dathe', 'Benutzer:Neitram/Überraschend unbekannte Fakten', 'Spaltblumen', 'Benutzer Diskussion:Peter200/Archiv/3', 'Feldhummel', 'Wohlriechende Heckenkirsche', 'Insektenbein', 'Fanghafte', 'Bauern-Tabak', 'Schleier', 'Apinae', 'Portal Diskussion:Lebewesen/Archiv/April 2007', 'Fortpflanzungsstrategie', 'Benutzer:Hunding/Archiv 01-03 2006', 'Systematik der Hautflügler', 'Wunder-Veilchen', 'Strand-Platterbse', 'Windkompensation', 'Benutzer:Schönitzer', 'Benutzer:KnightMove/Wikipedia:Widerspruch/Mai 2007', 'Benutzer:Willibaldus', 'Tegeler Fließ', 'Pollinium', 'Portal Diskussion:Lebewesen/Archiv/Juni 2007', 'John Plant (Ethnologe)', 'Fliegenglas', 'Monolektie', 'Duftdrüse', 'Sumpf-Pippau', 'Bartblumen', 'Apis mellifera pomonella', 'Kapbiene', 'Ähriger Ehrenpreis', 'Benutzer:Kuebi/galerie', 'Wikipedia:Vandalismusmeldung/Archiv/2007/07/19', 'Tropilaelapsose', 'Acarapiose', 'Fouquieria splendens', 'Benutzer:Kulac/Insektenliste', 'Benutzer:BrThomas', 'Diskussion:Heimat-Tierpark Olderdissen', 'Wikipedia:Redaktion Biologie/lange Artikel', 'Gurneydrossel', 'Gewöhnliche Hundszunge', 'Benutzer:Joylab/Spielwiese2', 'Heusenkräuter', 'Warwick Kerr', 'Beienbach', 'Blaue Heckenkirsche', 'Liebstöckel', 'Bieneninspektor', 'Benutzer:Fährtenleser/Artikel', 'Portal Diskussion:Lebewesen/Archiv/September 2007', 'Segler (Vögel)', 'Benutzer Diskussion:Tsor/Archiv/2007/Apr', 'Transgener Raps', 'Koblenz-Immendorf', 'Kühlgemäßigte Klimazone', 'Bärtige Kuckuckshummel', 'Trimenia', 'Industrielle Landwirtschaft', 'Schwarze Heckenkirsche', 'Schweizer Schöterich', 'Bergwaldhummel', 'Cullumanushummel', 'Deichhummel', 'Obsthummel', 'Prachtbienen', 'Bletia', 'Weidenblättriger Alant', 'Straußblütiger Gilbweiderich', 'Kegelbienen', 'Vierzähnige Kegelbiene', 'Große Erdhummel', 'Wikipedia:Auskunft/Archiv/2008/Woche 01', 'Vielblättrige Lupine', 'Stachelpalmen', 'Berg-Johanniskraut', 'Wilde Tamarinde', 'Chilenische Guave', 'Datei:Bild-bearbeiten-3.jpg', 'Stegolepis', 'Haplodiploidie', 'Indischer Korallenbaum', 'Diskussion:Westliche Honigbiene/Archiv', 'Diskussion:Imker/Archiv/1', 'Codonopsis', 'Violette Königskerze', 'Cucurbita foetidissima', 'Kraftbienen', 'Schlürfbienen', 'Spiraeanthemum', 'Glanzbienen', 'Schwartzia', 'Gemeine Keulenwespe', 'Wilde Spinnenameise', 'Bienenjagende Knotenwespe', 'Frühlings-Seidenbiene', 'Seidenbienen', 'Rotschopfige Sandbiene', 'Sphecodes albilabris', 'Blauschwanzspint', 'Feld-Kresse', 'Blauroter Steinsame', 'Liste von Bezeichnungen für Haus- und Wildtiere', 'Acker-Steinsame', 'Benutzer:Regiomontanus/Skorpione', 'Wikipedia:Vandalismusmeldung/Archiv/2008/06/26', 'Wiesen-Leinblatt', 'Einjährige Fetthenne', 'Felsen-Kuckuckshummel', 'Benutzer:Buteo/Wespenbussarde', 'Schaben-Königskerze', 'Windblumen-Königskerze', 'Stern-Flockenblume', 'Die tödlichen Bienen', 'Wikipedia Diskussion:Redaktion Biologie/Archiv/August 2008', 'Benutzer:Uptojoe', 'Thomisus onustus', 'Weißstirnspint', 'Araucarioxylon', 'Wikipedia:Vandalismusmeldung/Archiv/2008/08/28', 'Benutzer Diskussion:Pborchard', 'Bienen (Begriffsklärung)', 'Zahntrost-Sägehornbiene', 'Orientalische Rauke', 'Summton', 'Wikipedia:Einbänder/Stichworte', 'Wikipedia:Einbänder/Stichworte/B', 'Benutzer:Carstor/Projekt Einleitungen', 'Schwalbenschwanzspint', 'Wikipedia:Auskunft/Archiv/2008/Woche 38', 'Opuntia quimilo', 'Benutzer:Comm. makatau/Werkstatt/geschützte Tiere', 'Fauna Schottlands', 'Büffelkopfwürger', 'Enoch Zander', 'Schlüsselart', 'Diffa', 'Histiostomatidae', 'Wikipedia Diskussion:Belege/Archiv/2008/Quartal/4', 'Hain-Felsenblümchen', 'Oophagie', 'Drüsenblättrige Kugeldistel', 'Schwirrflug', 'Cleistes', 'FI 58', 'Benutzer:Leo.Math/Bücher/Hautflügler', 'Knautien-Sandbiene', 'Verschiedenblättrige Kratzdistel', 'Wirtsvolk', 'Wikipedia:Vandalismusmeldung/Archiv/2009/03/15', 'Anna Maurizio', 'Bionik', 'Benutzer:Vernaccia/Bücher/inge lein aktuell', 'Benutzer:Vernaccia/Bücher/inge aktuell', 'Benutzer:Vernaccia/Bücher/FAST FERTIG', 'Flugstaffel Meinecke', 'Gemeine Trauerbiene', 'Trauerbienen', 'Maskenbienen', 'Murellenberge, Murellenschlucht und Schanzenwald', 'Schmuckbienen', 'Meloe', 'Fleckenbienen', 'Benutzer:GedSperber/sonst noch zu erledigen', 'Köstenerberg', 'Sipplinger Dreieck', 'Benutzer:Kingkompost/Bücher/Imkern - Grundlagen für Anfänger', 'Große Holzbiene', 'Xylocopa iris', 'Rothaarige Wespenbiene', 'Prachtscharte', 'Kärntner Tauernblümchen', 'Costus pulverulentus', 'Alpenhummel', 'Borretsch', 'Hesperaloe', 'Ammobates punctatus', 'Biene (Schiff)', 'Roystonea', 'Wikipedia:Suchhilfe/Archiv/2009/09/10', 'Liste der Windmühlen in Nordrhein-Westfalen', 'Benutzer:MSprotte62/Bücher/Bienen und Wespen', 'Wikipedia:Bücher/Imkerei', 'Protestsongcontest', 'Briefmarken-Jahrgang 2010 der Bundesrepublik Deutschland', 'Heilkräutergarten Klaffer am Hochficht', 'Masoala-Halle', 'Ptychococcus', 'Wikipedia:Vandalismusmeldung/Archiv/2009/11/26', 'Wikipedia:Bücher/Imkern - Grundlagen für Anfänger', 'Benutzer:Sebbot/Log/2009-12-12/01:01', 'Buntbienen', 'Pasites maculatus', 'Bombus sporadicus', 'Kategorie:Bienen', 'Kategorie:Apiformes', 'Eugenia dysenterica', 'Platanen-Hahnenfuß', 'Landnutzung in den Tropen', 'Benutzer:WikiKarlo/Bücher/Bienen', 'Aufrechter Sauerklee', 'Benutzer:MSprotte62/Bücher/Insekten - eine Einführung', 'Park der Sinne (Laatzen)', 'Long Distance Calling', 'Plectocomia', 'Gelbschale', 'Galea (Insekt)', 'Crabronidae', 'Liste der Straßen und Plätze in Berlin-Grunewald', 'Teufelsblume', 'Diskussion:Wladimir Iljitsch Lenin/Archiv/2', 'Wikipedia:Löschprüfung/Archiv/2010/Woche 26', 'Benutzer:Kapitke/Bücher/Gliederfüßer (Arthropoden, Arthropoda, Euarthropoda) Buch 1', 'Schwarze Mörtelbiene', 'Philanthus', 'Weißspecht', 'Knotenwespen', 'Haus Empel', 'Teleonomie', 'Hosenbiene', 'Asclepias asperula', 'Gonapophyse', 'Baccharis', 'Liste der Straßennamen von Soltau', 'Poschfenn', 'Euscorpius', 'Euscorpius italicus', 'Pluto singt den Blues', 'Melisses', 'Wikipedia:Auskunft/Archiv/2011/Woche 01', 'Wikipedia:Artikel, die es in allen Wikipedias geben sollte/Tabelle', 'Elternaufwand', 'Nihoa-Rohrsänger', 'Benutzer Diskussion:Eike sauer/Archiv 2010', 'Empel (Rees)', 'Alfred von Planta', 'Diskussion:Mundwerkzeuge', 'Ludwig Armbruster', 'Gemeine Sandbiene', 'Hubland', 'Gewöhnliche Sternhyazinthe', 'Luzerne-Blattschneiderbiene', 'Alpenheilglöckchen', 'Benutzer:Birgid24/Bücher/Buch01', 'Ammobatoides abdominalis', 'Anthophora aestivalis', 'Anthophora albigena', 'Anthophora balneorum', 'Anthophora biciliata', 'Anthophora bimaculata', 'Anthophora canescens', 'Anthophora crassipes', 'Anthophora crinipes', 'Anthophora fulvitarsis', 'Anthophora furcata', 'Amegilla garrula', 'Anthophora mucida', 'Anthophora plagiata', 'Anthophora pubescens', 'Amegilla quadrifasciata', 'Vierfleck-Pelzbiene', 'Anthophora retusa', 'Anthophora salviae', 'Biastes brevicornis', 'Biastes emarginatus', 'Biastes truncatus', 'Ceratina callosa', 'Ceratina chalcites', 'Ceratina chalybea', 'Ceratina cucurbitina', 'Ceratina cyanea', 'Ceratina dentiventris', 'Ceratina gravidula', 'Ceratina nigrolabiata', 'Dasypoda argentata', 'Epeoloides coecutiens', 'Epeolus alpinus', 'Epeolus cruciger', 'Epeolus productulus', 'Triepeolus tristis', 'Epeolus variegatus', 'Eucera cineraria', 'Eucera interrupta', 'Eucera longicornis', 'Eucera nigrescens', 'Eucera pollinosa', 'Auen-Schenkelbiene', 'Macropis fulvipes', 'Melecta festiva', 'Melecta luctuosa', 'Melitta dimidiata', 'Melitta haemorrhoidalis', 'Melitta leporina', 'Melitta nigricans', 'Nomada alboguttata', 'Nomada argentata', 'Rote Wespenbiene', 'Nomada atroscutellaris', 'Nomada baccata', 'Nomada basalis', 'Nomada bifasciata', 'Nomada blepharipes', 'Nomada bluethgeni', 'Nomada braunsiana', 'Nomada carnifex', 'Nomada castellana', 'Nomada chrysopyga', 'Nomada confinis', 'Nomada conjungens', 'Nomada connectens', 'Nomada discrepans', 'Nomada flavoguttata', 'Nomada distinguenda', 'Nomada emarginata', 'Nomada flavopicta', 'Nomada errans', 'Nomada fabriciana', 'Nomada facilis', 'Nomada femoralis', 'Nomada ferruginata', 'Nomada flava', 'Nomada flavilabris', 'Nomada fucata', 'Nomada fulvicornis', 'Nomada furva', 'Nomada fuscicornis', 'Nomada goodeniana', 'Nomada gransassoi', 'Nomada gribodoi', 'Nomada guttulata', 'Nomada hirtipes', 'Nomada integra', 'Nomada italica', 'Nomada kohli', 'Nomada leucophthalma', 'Nomada linsenmaieri', 'Nomada marshamella', 'Nomada melathoracica', 'Nomada minuscula', 'Nomada moeschleri', 'Nomada mutabilis', 'Nomada mutica', 'Nomada nobilis', 'Nomada obscura', 'Nomada obtusifrons', 'Nomada opaca', 'Nomada panurgina', 'Nomada panzeri', 'Nomada piccioliana', 'Nomada pleurosticta', 'Nomada posthuma', 'Nomada rhenana', 'Nomada roberjeotiana', 'Gespaltene Wespenbiene', 'Nomada rufipes', 'Nomada sexfasciata', 'Nomada sheppardana', 'Nomada signata', 'Nomada similis', 'Nomada stigma', 'Nomada striata', 'Nomada succincta', 'Nomada symphyti', 'Nomada trapeziformis', 'Nomada tridentirostris', 'Nomada villosa', 'Nomada zonata', 'Megachile pluto', 'John Alcock (Biologe)', 'Mittleres Leinblatt', 'Megachile alpicola', 'Megachile bombycina', 'Megachile analis', 'Südlicher Tamandua', 'Rhabdomer', 'Gesetz zur Neugliederung von Gemeinden des Landkreises Rees', 'Wolfgang Weisser', 'Naturwissenschaftlicher Verein zu Bremen', 'Fayyum (Fossillagerstätte)', 'Eciton hamatum', 'Veränderliche Hummel', 'Alexandra-Maria Klein', 'Sonnenstein (Wikinger)', 'Asclepias pumila', 'Ende der Menschheit', 'Wikipedia:Liste der am längsten geschützten Artikel/autoconfirmed', 'Narrabaum', 'Liste der Straßen und Plätze in Berlin-Dahlem', 'Liste der Straßen und Plätze in Berlin-Falkenhagener Feld', 'Kleine Klette', 'Heide-Blattschneiderbiene', 'Pontischer Beifuß', 'Figuren aus der Sonic-the-Hedgehog-Reihe', 'Benutzer Diskussion:Kohlrabitiger', 'Benutzer:Himbear/Konstruktionen durch Tiere/Alt', 'Benutzer:Himbear/Wohnbaue von Tieren', 'Benutzer:Rkla88085/Bücher/Georg 70. Geb.', 'Futter-Beinwell', 'Benutzer:Maliardo-1/Liste der bionischen Funktionalitäten in der Technik', 'Allagoptera', 'Herbst-Adonisröschen', 'Naturwissenschaftliches Museum Flensburg', 'William Lawson (Autor)', 'Benutzer:Der Polizist/Liste der Straßen und Plätze von Lieboch', 'Honigschlecker', 'Esparsetten-Tragant', 'Olivflanken-Schnäppertyrann', 'August von Berlepsch', 'Glattes Habichtskraut', 'Bright (Victoria)', 'Diskussion:Biene (Begriffsklärung)', 'Benutzer:Donkey shot/Menorca', 'Kaschmir-Bienen-Virus', 'Tabaluga (Zeichentrickserie)', 'Blutiger Sommer – Das Camp des Grauens', 'Futurama/Staffel 4', 'Puccinia monoica', 'Fieder-Zahnwurz', 'Co-operative Party', 'Wikipedia:Artikel, die es in allen Wikipedias geben sollte/Erweitert', 'Wikipedia:Artikel, die es in allen Wikipedias geben sollte/Erweitert/Biologie und Gesundheitswissenschaften', 'Megachile chrysopogon', 'Alte Schanzen (Stammersdorf)', 'Polarisationsmuster', 'Süderlügumer Binnendünen', 'Eucalyptus wandoo', 'Landschaftspark Johannisthal/Adlershof', 'Benutzer:Chriba1945/Bücher/Unser wertvollstes Insekt', 'Spatzenzunge', 'Flora und Fauna Südtirols', 'Eckfelder Maar', 'Thiocyclam', 'Spirotetramat', 'Rémy Chauvin', 'Benutzer:Nikater/Liste der Straßen in Oerlinghausen', 'Trippach', 'Benutzer:Kulac/Charts Insekten', 'Wikipedia:Redaktion Biologie/Artikelbewertung/Statistik/Lebewesen – systematische Übersicht', 'Joseph Kriechbaumer', 'Acker-Filzkraut', 'Klebriges Greiskraut', 'Anatolische Biene', 'Charles Butler (Imker)', 'Thanas Jorgji', 'Javaapfel', 'Kokospflaume', 'Rio-Palisander', 'Benutzer:Eandré/Studien', 'Liste der Straßen und Plätze in Spremberg', 'Wikipedia:Redaktion Biologie/Artikelbewertung/Statistik/Vielzellige Tiere', 'Dicistroviridae', 'Alpen-Mastkraut', 'Produktkönigin', 'Räumliches Riechen', 'Erlanger Magazinbeute', 'Heidehummel', 'Liste der Straßen und Plätze in Oerlinghausen', 'Berglandhummel', 'Grauweiße Hummel', 'Trughummel', 'Armeniacushummel', 'Gelbschnabelwürger', 'Würger', 'Tonerdhummel', 'Sandhummel', 'Saharabiene', 'Benutzer:Scoutladen/Bücher/Bienen', 'Grashummel', 'Benutzer:Anjanmdas/Bücher/Bienen, Hummeln & Co', 'Fossil Butte Member', 'Wikipedia Diskussion:Redaktion Biologie/Archiv/August 2014', 'Sparriger Schöterich', 'Biene', 'Saracho-Nachtschatten', 'Tataren-Leimkraut', 'Felsen-Miere', 'Ausdauernde Ochsenzunge', 'Francesco Stelluti', 'Linsen-Wicke', 'Rotschulterwürger', 'Lederblättrige Rose', 'Benutzer:Liberipedia/Honigbienen', 'Benutzer:Liberipedia/Westliche Honigbiene', 'Benutzer:Dr.Lantis/BNR 1', 'Gelber Regen', 'Liste der Straßen und Plätze in Flensburg/G', 'Feld-Kuckuckshummel', 'Schwebebussard', 'Wikipedia:Café/Archiv 2015 Q1', 'Acacia', 'Nerolsäure', 'Gemeine Löcherbiene', 'Johann Georg Beringer', 'Dufthummel', 'Holzbienen', 'Detarieae', 'Benutzer:Vogtwiki/Testseite', 'Wikipedia:Bücher/Bienen', 'Porzellanblümchen', 'Laline Paull', 'Klaus Warncke', 'Liste der Firmenarchive in der Burgerbibliothek Bern', 'Pyemotes', 'Benutzer:Boooomerang/Bienen', 'Benutzer:PaukileK/Bücher/Alpenflora', 'Zuchtring', 'Platymiscium', 'Benutzer:HRoestTypo/Tippfehler/20151102/hunspell xml/2', 'Schwarzbürstige Blattschneiderbiene', 'Gemeine Furchenbiene', 'Akte X – Die unheimlichen Fälle des FBI/Staffel 4', 'Cyrtandra', 'Mathilde Hertz', 'Diskussion:Wolf/Archiv/004', 'Kinderbauernhof Neuss', 'Synanthedon', 'Briefe eines amerikanischen Farmers', 'Bimerich', 'Osmia leaiana', 'Melipona', 'Stanleywürger', 'Blutbienen', 'Trigona (Gattung)', 'Physogastrie', 'Blockhausen', 'Benutzer:Uri.b', 'Aeroprogress T-101', 'Osmia rufohirta', 'Anthophora squammulosa', 'Gelbe Azalee', 'Andrena clarkella', 'Andrena bicolor', 'Andrena nitida', 'Kretische Biene', 'Andrenidae', 'Wikipedia:Redaktion Biologie/Bestimmung/Archiv/Keller/003', 'Andrena scotica', 'Zaunrüben-Sandbiene', 'Diskussion:Bienen/Archiv/1', 'Benutzer:Dr.Lantis/BNR 3', 'Mellifera', 'Buchstabierwettbewerb', 'Lasioglossum', 'Andrena gravida', 'Melittidae', 'Charles Duncan Michener', 'Halictus', 'Bienenkundler', 'Dünen-Steppenbiene', 'Pflanzen im Weltraum', 'Joseph Klek', 'Zoophobie', 'Nutka-Himbeere', 'Willi Schissler', 'Prokofi Akinfijewitsch Demidow', 'Wespen-Kernkeule', 'Wikipedia:Auskunft/Archiv/2018/Woche 06', 'Wildgehege Herborn', 'Apple Blossom (Rose)', 'Weltbienentag', 'Aristomachos von Soloi', 'Spinetoram', 'Isoprocarb', 'Alanycarb', 'Butoxycarboxim', 'Trimethacarb', 'Jameela Jamil', 'Gelbbindige Furchenbiene', 'Byblis pilbarana', 'Lajos Méhelÿ', 'Frühchristliche Mosaiken in Rom', 'Weiher Friedrichsfelde Nord', 'Karl Dreher (Bienenkundler)', 'Baum-Mikrohabitat', 'Zyprische Biene', 'Krieg der Königreiche – Battlefield Heroes', 'Syrische Biene', 'Sizilianische Biene', 'Peter Neumann (Bienenforscher)', '6-Methyl-5-hepten-2-on', 'Kurpark Bad Hall', 'Briefmarkenheftchen der Bundesrepublik Deutschland', 'Tellbiene', 'Rifbiene', 'Maltesische Biene', 'Ägyptische Biene', 'Makedonische Biene', 'Südgriechische Biene', 'Arabische Biene', 'Kaukasische Biene', 'Armenische Biene', 'Persische Biene', 'Ostafrikanische Küstenbiene', 'Westafrikanische Biene', 'Madagaskarbiene', 'Journey Into Spring', 'Japanische Honigbiene', 'Flumetralin', 'Senf-Blauschillersandbiene', 'Zweifarbige Schneckenhausbiene', 'Benutzerin:Studi22/Acetylcholin', 'Amegilla cingulata', 'Scheinlappenbienen', 'Oscar Theodor Baron', 'Halictidae', 'Rotbeinige Furchenbiene', 'Schwebebienen', 'Schenkelbienen', 'Sägehornbienen', 'Schwarzer Gürtelschweif', 'Bestiarium von Aberdeen', 'Vaccinium pallidum', 'Hosenbienen', 'Frangula californica', 'Wikipedia:Hauptseite/Archiv/20. Mai 2019', 'Stahlblaue Mauerbiene', 'Grüne Luchsspinne', 'KNM-ER 1808', 'Löcherbienen', 'Steinbienen', 'Dioxys', 'Scherenbienen', 'Amerikanische Stechpalme', 'Schwarzer Tupelobaum', 'Deutschland summt!', 'Sumpf-Tupelobaum', 'Ilex cassine', 'Benutzerin:Quod-erat-demonstrandum./Artikelwerkstatt/QI Episodenliste', 'Düsterbienen', 'Filzbienen', 'Grete Meyerhoff', 'Langhornbienen', 'Stenotritidae', 'Sisters of Providence of Saint Mary-of-the-Woods', 'Schopfwespenbussard', 'Keulhornbienen', 'Weißscheitelfälkchen', 'Oligolektie', 'Eucera', 'Anthophora', 'Lomatium grayi', 'Wikipedia:Auskunft/Archiv/2019/Woche 39', 'Lee Man FC', 'Grauer Königstyrann', 'Amegilla', 'Tetralonia', 'Tetraloniella', 'Blühstreifen', 'Wera Jewstafjewna Popowa', 'Hollow Knight', 'Osmia', 'Hoplitis', 'Warmhaus-Riesenkrabbenspinne', 'Sandgängerbienen', 'Steppenglanzbienen', 'Kurzhornbienen', 'Schienenbienen', 'Buschzaunkönig', 'Steppenbienen', 'Ceylalictus', 'Bunte Steppenbiene', 'Triepeolus', 'Graubienen', 'Anthidium', 'Anthidiellum', 'Icteranthidium', 'Pseudoanthidium', 'Rhodanthidium', 'Trachusa', 'Aglaoapis', 'Rostfarbiger Fingerhut', 'Zweizahnbienen', 'Keusche Kuckuckshummel', 'Paradioxys', 'Parammobatodes', 'Protosmia', 'Synhalonia', 'Elfenbein-Mannstreu', 'Benutzer:Aka/Fehlerlisten/unerwünschte Formatierungen/017', 'Andrena nycthemera', 'Der Bien muss', 'Wikipedia Diskussion:Kurier/Archiv/2020/05', 'Andrena minutula', 'Andrena helvola', 'Andrena labiata', 'Andrena dorsata', 'Aubrey Manning', 'Norwegische Kuckuckshummel', 'Prärie-Salbei', 'Benutzer:Bien-Zenker GmbH', 'Albert-Schweitzer-Gymnasium Neckarsulm', 'Gelber Sonnenhut (Echinacea)', 'Italienische Waldrebe', 'Grounded', 'Mosquito State', 'Mexikanischer Salbei', 'Anthidiellum strigatum', 'Megachile centuncularis', 'Schuppenhaarige Kegelbiene', 'Aromatische Aster', 'Benutzer:Clara bindi/Neue Fabel-Bilder in schönstem Farbendruck', 'Myrten-Aster', 'Neue Fabel-Bilder in schönstem Farbendruck', 'Gewächshausschmierlaus', 'Sumpf-Salbei', 'Scharlachroter Salbei', 'Strauchiger Salbei', 'Herbst-Salbei', 'Johannisbeer-Salbei', 'Salvia clevelandii', 'O’Neill-Zylinder', 'Megatech Industries', 'Iflavirus', 'Benutzer:Herbert Kaufmann/Baustellen/Zabeltitz', 'Verkannte Goldfurchenbiene', 'Vierbindige Furchenbiene', 'Dickkopf-Furchenbiene', 'Halictus sexcinctus', 'Lasioglossum malachurum', 'Xylocopa darwini', 'Gepunktete Laternenträgerzikade', 'Wikipedia:Auskunft/Archiv/2021/Woche 15', 'Pollenhöschen', 'Scopa (Biologie)', 'Fettwiesen-Margerite', 'Uferjäger', 'Bienenkundemuseum Münstertal', 'Wikipedia:Administratoren/Anfragen/Archiv/2021/Juli', 'Fritz Gusenleitner', 'Crithidia', 'Spalten-Wollbiene', 'Pogonosoma maroccanum', 'Gewöhnliche Maskenbiene', 'Wikipedia:Taxoboxen/Taxobot/Systematik/Hymenoptera', 'Florentiner Wollbiene', 'Dunkle Zweizahnbiene', 'Rote Zweizahnbiene', 'Berg-Wollbiene', 'Stängel-Blattschneiderbiene', 'Lasioglossum tarsatum', 'Lasioglossum pauxillum', 'Glockenblumen-Schmalbiene', 'Lasioglossum leucozonium', 'Breitkopf-Schmalbiene', 'Zweizellige Sandbiene', 'Braunschuppige Sandbiene', 'Andrena labialis', 'Andrena lapponica', 'Andrena proxima', 'Andrena subopaca', 'Andrena anthrisci', 'Andrena varians', 'Andrena praecox', 'Duparquetia orchidacea', 'Andrena wilkella', 'Andrena similis', 'Vagina', 'Kleinblütiger Fingerhut', 'Benutzer Diskussion:Schönitzer/Archiv', 'Spanischer Fingerhut', 'Kahler Fingerhut', 'Andrena denticulata', 'Andrena barbilabris', 'Andrena mitis', 'Andrena ovatula', 'Weißfleckige Wollbiene', 'Distel-Wollbiene', 'Andrena nigroaenea', 'Chelostoma rapunculi', 'Chelostoma florisomne', 'Chelostoma campanularum', 'Dufourea dentiventris', 'Rainfarn-Maskenbiene', 'Hylaeus cornutus', 'Hylaeus hyalinatus', 'Eraser (Album)', 'Benutzer:Z thomas/Mühlen', 'Wurzelnder Wald-Hahnenfuß', 'Rhynchostylis coelestis', 'Joseph Michael von Ehrenfels', 'Schilfgallen-Maskenbiene', 'Hylaeus confusus', 'Lauch-Maskenbiene', 'Hylaeus rinki', 'Reseden-Maskenbiene', 'Coelioxys elongata', 'Coelioxys inermis', 'De animalibus insectis libri septem', 'Christoph Bleidorn', 'Wikipedia:Auskunft/Archiv/2022/Woche 31', 'Asiatische Mörtelbiene', 'Niedrige Rauke', 'Eleanor Glanville', 'Lars Chittka', 'Braunschulterstärling', 'Mifeng Yu', 'Benutzer Diskussion:Fearmentor', 'Benutzer:S k y r/Werkstatt/R- und S-Sätze', 'Papyruswürger', 'Flötenwürger (Art)', 'Diskussion:Passerida', 'Hoplitis adunca', 'Hoplitis claviventris', 'Rophitinae', 'Glockenblumen-Felsenbiene', 'Knotiger Storchschnabel', 'Kaukasus-Gamander', 'Salz-Buntbiene', 'Ribes indecorum', 'Milch ohne Honig', 'Rhophitoides canus', 'Heilig-Geist-Kirche (Benefeld)', 'Pseudoanthidium tenellum', 'Rhodanthidium septemdentatum', 'Rophites algirus', 'Rophites quinquespinosus', 'Sphecodes crassus', 'Sphecodes ephippius', 'Sphecodes ferruginatus', 'Sphecodes gibbus', 'Sphecodes hyalinatus', 'Sphecodes pellucidus', 'Sphecodes puncticeps', 'Stelis breviuscula', 'Quellengrundpark', 'Fels-Löwenzahn', 'Liste der Straßennamen von Graz', 'Eisenhuthummel', 'Benutzer:TheRunnerUp/Straßennamen Graz', 'Kudin-Brücke', 'Krupa (Fluss)', 'Gasteruption hastator', 'Octadecanolid', 'Byblis filifolia', 'Fransenlilien', 'Albert Möschler', 'Triantha occidentalis', 'Brasidas lacerta', 'Apilactobacillus', 'Naßwiesen am Rothgrund und am Stöcklesschlag', 'Berg-Sesel', 'Diskussion:Ellen Smith Tupper', 'Strauchartige Gänsedistel', 'Sommerkardinal', 'Die Biene Maja und ihre Abenteuer (Roman)', 'White River Badlands', 'Ox-Cart Man', 'Platythomisus', 'Augarten (Graz)', 'Lasioglossum zephyrus', 'Vorratsmilben', 'Cheyletidae', 'Liste der Straßennamen von Syke', 'Liste von Bienenbrunnen', 'Nikolai Wiktorowitsch Nassonow', 'Wild Life (Protection) Act, 1972']\n"
     ]
    }
   ],
   "source": [
    "print(backlinks)"
   ],
   "metadata": {
    "collapsed": false,
    "ExecuteTime": {
     "end_time": "2024-11-26T17:28:45.366186800Z",
     "start_time": "2024-11-26T17:28:45.342919400Z"
    }
   },
   "id": "394fa514d764e2ad"
  },
  {
   "cell_type": "code",
   "execution_count": 16,
   "outputs": [],
   "source": [
    "backgraph = get_backgraph(bienen_page, 1)"
   ],
   "metadata": {
    "collapsed": false,
    "ExecuteTime": {
     "end_time": "2024-11-26T17:44:17.446140500Z",
     "start_time": "2024-11-26T17:30:35.430273400Z"
    }
   },
   "id": "b84f2086765b8e3a"
  },
  {
   "cell_type": "code",
   "execution_count": 17,
   "outputs": [],
   "source": [
    "complete_graph = nx.compose(graph, backgraph)"
   ],
   "metadata": {
    "collapsed": false,
    "ExecuteTime": {
     "end_time": "2024-11-26T18:07:47.386949800Z",
     "start_time": "2024-11-26T18:07:46.240120600Z"
    }
   },
   "id": "872edddc2ae6d521"
  },
  {
   "cell_type": "code",
   "execution_count": 12,
   "outputs": [],
   "source": [
    "# from graph, export edges as a tuple to a csv file\n",
    "edges = graph.edges\n",
    "with open('edges_original.csv', 'w', encoding='utf-8') as f:\n",
    "    for edge in edges:\n",
    "        f.write(f'{edge[0]},{edge[1]}\\n')"
   ],
   "metadata": {
    "collapsed": false,
    "ExecuteTime": {
     "end_time": "2024-11-18T08:18:13.159225Z",
     "start_time": "2024-11-18T08:18:13.130114500Z"
    }
   },
   "id": "90686d00cb16275c"
  },
  {
   "cell_type": "markdown",
   "source": [
    "# Versuchserklärung\n",
    "#### Ziel ist es, Artikelvorschläge zu generieren, die thematisch zu Bienen passen. Dabei werde ich 4 verschiedene Ansätze testen (dabei wird immer der höchste Grad der Knoten betrachtet):\n",
    "#### 1. Extrahiere die Knoten mit dem höchsten Grad (ungefiltert)\n",
    "#### 2. Betrachte nur die direkten Nachfolger von Bienen\n",
    "#### 3. Betrachte nur die Knoten, die zu Bienen verlinkt sind\n",
    "#### 4. Betrachte nur die direkten Nachfolger von Bienen, die auch eine Verbindung zurück zu Bienen haben (beide Bedingungen)\n",
    "\n",
    "#### Die Tests 2-4 wurde ich sowohl am Hauptgraphen, als auch an einem Subgraphen durchführen, um zu schauen ob dies ein Unterschied macht."
   ],
   "metadata": {
    "collapsed": false
   },
   "id": "2383b2dee7e06da8"
  },
  {
   "cell_type": "markdown",
   "source": [
    "# Versuch 1: Extrahiere die Knoten mit dem höchsten Grad\n",
    "#### Im ersten Versuch werden die Knoten mit dem höchsten Grad extrahiert. Man kann erkennen, dass die Artikelvorschläge zu oberflächlich sind. "
   ],
   "metadata": {
    "collapsed": false
   },
   "id": "7ef8a3b36869698c"
  },
  {
   "cell_type": "code",
   "execution_count": 13,
   "outputs": [
    {
     "name": "stdout",
     "output_type": "stream",
     "text": [
      "[('Deutschland', 2368), ('New York City', 871), ('Bernstein', 713)]\n"
     ]
    }
   ],
   "source": [
    "# print the top 3 nodes with the highest degree\n",
    "top_3_nodes = sorted(graph.degree, key=lambda x: x[1], reverse=True)[:3]\n",
    "print(top_3_nodes)"
   ],
   "metadata": {
    "collapsed": false,
    "ExecuteTime": {
     "end_time": "2024-11-18T08:18:13.171193Z",
     "start_time": "2024-11-18T08:18:13.156234Z"
    }
   },
   "id": "225409fbb91437cb"
  },
  {
   "cell_type": "markdown",
   "source": [
    "# Versuch 2: Extrahiere die direkten Nachfolger von Bienen\n",
    "#### Um die Auswahl passender Artikel einzuschränken, werden nur die direkten Nachfolger von Bienen betrachtet.\n",
    "#### Diese neue Bedingung soll dazu führen, nur Artikel in Betracht zu ziehen, die auch von der Biene refenziert werden.\n",
    "\n",
    "#### Getestet habe ich diese Bedinung an zwei Graphen:\n",
    "#### 1. Der ursprüngliche Graph\n",
    "#### 2. Ein Subgraph, der nur die Knoten enthält, die von Bienen referenziert werden.\n",
    " "
   ],
   "metadata": {
    "collapsed": false
   },
   "id": "4ecf83959c4a3895"
  },
  {
   "cell_type": "code",
   "execution_count": 14,
   "outputs": [],
   "source": [
    "links_bienen = get_links(bienen_page)"
   ],
   "metadata": {
    "collapsed": false,
    "ExecuteTime": {
     "end_time": "2024-11-18T08:18:13.180187800Z",
     "start_time": "2024-11-18T08:18:13.171193Z"
    }
   },
   "id": "465b96295624890a"
  },
  {
   "cell_type": "code",
   "execution_count": 15,
   "outputs": [],
   "source": [
    "reduced_node_list = [node for node in graph.nodes() if node in links_bienen]"
   ],
   "metadata": {
    "collapsed": false,
    "ExecuteTime": {
     "end_time": "2024-11-18T08:18:13.232075700Z",
     "start_time": "2024-11-18T08:18:13.178192700Z"
    }
   },
   "id": "b152ba4c2f58b3be"
  },
  {
   "cell_type": "markdown",
   "source": [
    "## Erstelle Subgraphen und extrahiere die Knoten mit dem höchsten Grad\n",
    "#### Hier wird ein Subgraph erstellt, der nur die Knoten enthält, die direkte Nachfolger von Bienen sind.\n",
    "#### Die Ergebnisse sind besser, als die des ursprünglichen Graphen."
   ],
   "metadata": {
    "collapsed": false
   },
   "id": "e5e65ada1b4330e9"
  },
  {
   "cell_type": "code",
   "execution_count": 16,
   "outputs": [],
   "source": [
    "# create a subgraph\n",
    "subgraph = graph.subgraph(reduced_node_list)"
   ],
   "metadata": {
    "collapsed": false,
    "ExecuteTime": {
     "end_time": "2024-11-18T08:18:13.242080300Z",
     "start_time": "2024-11-18T08:18:13.204123700Z"
    }
   },
   "id": "acf0c55938207a96"
  },
  {
   "cell_type": "code",
   "execution_count": 17,
   "outputs": [
    {
     "name": "stdout",
     "output_type": "stream",
     "text": [
      "[('Systematik (Biologie)', 92), ('Gemeinsame Normdatei', 89), ('Nomenklatur (Biologie)', 77)]\n"
     ]
    }
   ],
   "source": [
    "top_3_reduced_nodes = sorted(subgraph.degree(), key=lambda x: x[1], reverse=True)[:3]\n",
    "print(top_3_reduced_nodes)"
   ],
   "metadata": {
    "collapsed": false,
    "ExecuteTime": {
     "end_time": "2024-11-18T08:18:13.243077600Z",
     "start_time": "2024-11-18T08:18:13.213146900Z"
    }
   },
   "id": "a62f0beaa28f76c1"
  },
  {
   "cell_type": "markdown",
   "source": [
    "## Extrahiere Knoten mit dem höchsten Grad aus Hauptgraphen\n",
    "#### Hier zeigt die Zusatzbedingung keine Verbesserung."
   ],
   "metadata": {
    "collapsed": false
   },
   "id": "2d7f3c23e61bc87c"
  },
  {
   "cell_type": "code",
   "execution_count": 18,
   "outputs": [
    {
     "name": "stdout",
     "output_type": "stream",
     "text": [
      "[('Deutschland', 2368), ('New York City', 871), ('Bernstein', 713)]\n"
     ]
    }
   ],
   "source": [
    "top_3_reduced_nodes = sorted(graph.degree(reduced_node_list), key=lambda x: x[1], reverse=True)[:3]\n",
    "print(top_3_reduced_nodes)"
   ],
   "metadata": {
    "collapsed": false,
    "ExecuteTime": {
     "end_time": "2024-11-18T08:18:13.244074900Z",
     "start_time": "2024-11-18T08:18:13.230081300Z"
    }
   },
   "id": "f2a213c91a21883e"
  },
  {
   "cell_type": "markdown",
   "source": [
    "## Zusammenfassung Versuch 2\n",
    "#### Man kann sehen, dass die reine Bedingung an den Knoten des Hauptgraphen noch nicht aussreicht für gute Ergebnisse. -> Zu oberflächliche Themen. Der Subgraph hingegen, schlägt zu spezifische Artikel vor.  "
   ],
   "metadata": {
    "collapsed": false
   },
   "id": "708d75ae0297702d"
  },
  {
   "cell_type": "code",
   "execution_count": 19,
   "outputs": [],
   "source": [
    "# export the subgraph to a csv file\n",
    "edges = subgraph.edges\n",
    "with open('edges_reduced.csv', 'w', encoding='utf-8') as f:\n",
    "    for edge in edges:\n",
    "        f.write(f'{edge[0]},{edge[1]}\\n')"
   ],
   "metadata": {
    "collapsed": false,
    "ExecuteTime": {
     "end_time": "2024-11-18T08:18:13.258038800Z",
     "start_time": "2024-11-18T08:18:13.237094100Z"
    }
   },
   "id": "87c048996690dc8c"
  },
  {
   "cell_type": "markdown",
   "source": [
    "# Versuch 3: Extrahiere Knoten, die zu Bienen verlinkt sind\n",
    "#### Hier wird die Bedingung getestet, dass nur die Knoten betrachtet werden die zu Bienen verlinkt sind.\n",
    "\n",
    "#### Ebenfalls werde ich dies hier am Hauptgraphen und an einem Subgraphen testen."
   ],
   "metadata": {
    "collapsed": false
   },
   "id": "8f3fc4cd2676df85"
  },
  {
   "cell_type": "code",
   "execution_count": 20,
   "outputs": [],
   "source": [
    "nodes_with_edge_to_bienen = [node for node in graph.nodes() if graph.has_edge(node, 'Bienen')]"
   ],
   "metadata": {
    "collapsed": false,
    "ExecuteTime": {
     "end_time": "2024-11-18T08:18:13.324193600Z",
     "start_time": "2024-11-18T08:18:13.256044Z"
    }
   },
   "id": "27b6e4c2d7b6bd49"
  },
  {
   "cell_type": "markdown",
   "source": [
    "## Mit Ursprungsgaphen\n",
    "#### Es zeigt sich, dass wir ein durchwegs gute Themenvorschläge erhalten."
   ],
   "metadata": {
    "collapsed": false
   },
   "id": "559973a54a5c9380"
  },
  {
   "cell_type": "code",
   "execution_count": 21,
   "outputs": [
    {
     "name": "stdout",
     "output_type": "stream",
     "text": [
      "[('Insekten', 492), ('Holzbienen', 464), ('Tropen', 308)]\n"
     ]
    }
   ],
   "source": [
    "top_3_linked = sorted(graph.degree(nodes_with_edge_to_bienen), key=lambda x: x[1], reverse=True)[:3]\n",
    "print(top_3_linked)"
   ],
   "metadata": {
    "collapsed": false,
    "ExecuteTime": {
     "end_time": "2024-11-18T08:18:13.337429Z",
     "start_time": "2024-11-18T08:18:13.264023600Z"
    }
   },
   "id": "73105f60a37bd511"
  },
  {
   "cell_type": "markdown",
   "source": [
    "## Mit Subgraphen\n",
    "#### Deutlich erkennt man, dass die Themenvorschläge zu spezifisch sind."
   ],
   "metadata": {
    "collapsed": false
   },
   "id": "24030d4faa8d345c"
  },
  {
   "cell_type": "code",
   "execution_count": 29,
   "outputs": [
    {
     "name": "stdout",
     "output_type": "stream",
     "text": [
      "[('Apoidea', 80), ('Stechimmen', 73), ('Echte Bienen', 59), ('Taillenwespen', 46), ('Hummeln', 36)]\n"
     ]
    }
   ],
   "source": [
    "subgraph_linked = graph.subgraph(nodes_with_edge_to_bienen)\n",
    "top_3_linked = sorted(subgraph_linked.degree(), key=lambda x: x[1], reverse=True)[:5]\n",
    "print(top_3_linked)"
   ],
   "metadata": {
    "collapsed": false,
    "ExecuteTime": {
     "end_time": "2024-11-18T08:19:44.293210Z",
     "start_time": "2024-11-18T08:19:44.284234400Z"
    }
   },
   "id": "6cc3d6d555099f98"
  },
  {
   "cell_type": "code",
   "execution_count": 23,
   "outputs": [],
   "source": [
    "# export the subgraph to a csv file\n",
    "edges = subgraph_linked.edges\n",
    "with open('edges_linked.csv', 'w', encoding='utf-8') as f:\n",
    "    for edge in edges:\n",
    "        f.write(f'{edge[0]},{edge[1]}\\n')"
   ],
   "metadata": {
    "collapsed": false,
    "ExecuteTime": {
     "end_time": "2024-11-18T08:18:13.338426800Z",
     "start_time": "2024-11-18T08:18:13.279917Z"
    }
   },
   "id": "2717ee272f3d51ff"
  },
  {
   "cell_type": "markdown",
   "source": [
    "## Zusammenfassung Versuch 3\n",
    "#### Diese Bedingung sorgt für signifikant bessere Vorschläge am Hauptgraphen. Der Subgraph hingegen, schlägt zu spezifische Artikel vor."
   ],
   "metadata": {
    "collapsed": false
   },
   "id": "231fcef340d0316e"
  },
  {
   "cell_type": "markdown",
   "source": [
    "# Versuch 4: Extrahiere Knoten mit beiden Bedingungen\n",
    "#### Zum Schluss setzten wir beide Bedingungen vorraus. Auch hier wird dies am Hauptgraphen und an einem Subgraphen getestet."
   ],
   "metadata": {
    "collapsed": false
   },
   "id": "7622447e781d8b0b"
  },
  {
   "cell_type": "code",
   "execution_count": 24,
   "outputs": [
    {
     "name": "stdout",
     "output_type": "stream",
     "text": [
      "['Ackerwinde', 'Insekten', 'Spiralhornbienen', 'Anthophora', 'Apoidea', 'Schmuckbienen', 'Stechimmen', 'Taillenwespen', 'Glanzbienen', 'Halictidae', 'Wildbiene', 'Andrenidae', 'Colletidae', 'Grabwespen', 'Hautflügler', 'Melittidae', 'Stenotritidae', 'Tropen', 'Anthidium', 'Große Wollbiene', 'Fleckenbienen', 'Kegelbienen', 'Trauerbienen', 'Westliche Honigbiene', 'Anthophoridae', 'Holzbienen', 'Apinae', 'Eucera', 'Honigbienen', 'Hummeln', 'Kraftbienen', 'Kuckuckshummeln', 'Kurzhornbienen', 'Körbchensammler', 'Melipona', 'Prachtbienen', 'Stachellose Bienen', 'Tetralonia', 'Triepeolus', 'Trigona (Gattung)', 'Crabronidae', 'Imker', 'Arbeitsteilung', 'Subtropen', 'Biene (Begriffsklärung)', 'Bienen (Begriffsklärung)', 'Bienenkönigin', 'Giftstachel', 'Weltbienentag', 'Blutbienen', 'Halictus', 'Lasioglossum', 'Brut', 'Nest', 'Sandbienen', 'Buntbienen', 'Zottelbienen', 'Charles Duncan Michener', 'Osmia', 'Maskenbienen', 'Seidenbienen', 'Kaltgemäßigte Klimazone', 'Kühlgemäßigte Klimazone', 'Dioxys', 'Hoplitis', 'Gemeine Pelzbiene', 'Mauerbienen', 'Graubienen', 'Schlürfbienen', 'Jürgen Tautz', 'Hosenbiene', 'Sozialparasitismus', 'Randolf Menzel', 'Rote Mauerbiene', 'Lars Chittka', 'Schenkelbienen', 'Megachile pluto', 'Sägehornbienen']\n"
     ]
    }
   ],
   "source": [
    "nodes_with_edge_to_bienen_reduced = [node for node in reduced_node_list if graph.has_edge(node, 'Bienen')]\n",
    "print(nodes_with_edge_to_bienen_reduced)"
   ],
   "metadata": {
    "collapsed": false,
    "ExecuteTime": {
     "end_time": "2024-11-18T08:18:13.339424Z",
     "start_time": "2024-11-18T08:18:13.290522900Z"
    }
   },
   "id": "ff6d54ae636d177d"
  },
  {
   "cell_type": "markdown",
   "source": [
    "## Extraktion mit beiden Bedingungen am Hauptgraphen\n",
    "#### Hier wird die Kombination von beiden Bedingungen am Hauptgraphen getestet. Diese Erbnisse unterschieden sich jedoch nicht von den Ergebnissen des dritten Versuchs."
   ],
   "metadata": {
    "collapsed": false
   },
   "id": "e588821a704d1bb6"
  },
  {
   "cell_type": "code",
   "execution_count": 25,
   "outputs": [
    {
     "name": "stdout",
     "output_type": "stream",
     "text": [
      "[('Insekten', 492), ('Holzbienen', 464), ('Tropen', 308)]\n"
     ]
    }
   ],
   "source": [
    "top_3_clean = sorted(graph.degree(nodes_with_edge_to_bienen_reduced), key=lambda x: x[1], reverse=True)[:3]\n",
    "print(top_3_clean)"
   ],
   "metadata": {
    "collapsed": false,
    "ExecuteTime": {
     "end_time": "2024-11-18T08:18:13.339424Z",
     "start_time": "2024-11-18T08:18:13.298905600Z"
    }
   },
   "id": "b872704e0014af2b"
  },
  {
   "cell_type": "markdown",
   "source": [
    "## Erstellung und Extraktion mit beiden Bedingungen an eines Subgraphen\n",
    "#### Dieser Subgraph enthält nur die Knoten, die beide Bedingungen.\n",
    "#### Hier sind die ebenso wie in Versuch 3 die Themenvorschläge identisch. Das Einzige worin sich die Ergebnisse unterscheiden, ist eine abnahme im Degree."
   ],
   "metadata": {
    "collapsed": false
   },
   "id": "ae0f6fa43448b4c1"
  },
  {
   "cell_type": "code",
   "execution_count": 26,
   "outputs": [],
   "source": [
    "subgraph_clean = graph.subgraph(nodes_with_edge_to_bienen_reduced)"
   ],
   "metadata": {
    "collapsed": false,
    "ExecuteTime": {
     "end_time": "2024-11-18T08:18:13.340421400Z",
     "start_time": "2024-11-18T08:18:13.308954100Z"
    }
   },
   "id": "39d1917cdb74bb07"
  },
  {
   "cell_type": "code",
   "execution_count": 27,
   "outputs": [
    {
     "name": "stdout",
     "output_type": "stream",
     "text": [
      "[('Apoidea', 66), ('Stechimmen', 59), ('Taillenwespen', 35), ('Hummeln', 32), ('Halictidae', 27)]\n"
     ]
    }
   ],
   "source": [
    "top_3_clean = sorted(subgraph_clean.degree(nodes_with_edge_to_bienen_reduced), key=lambda x: x[1], reverse=True)[:5]\n",
    "print(top_3_clean)"
   ],
   "metadata": {
    "collapsed": false,
    "ExecuteTime": {
     "end_time": "2024-11-18T08:18:13.340421400Z",
     "start_time": "2024-11-18T08:18:13.314937700Z"
    }
   },
   "id": "eb21aec6fb544da8"
  },
  {
   "cell_type": "code",
   "execution_count": 28,
   "outputs": [],
   "source": [
    "# export the subgraph to a csv file\n",
    "edges = subgraph_clean.edges\n",
    "with open('edges_predecessors.csv', 'w', encoding='utf-8') as f:\n",
    "    for edge in edges:\n",
    "        f.write(f'{edge[0]},{edge[1]}\\n')"
   ],
   "metadata": {
    "collapsed": false,
    "ExecuteTime": {
     "end_time": "2024-11-18T08:18:13.341418400Z",
     "start_time": "2024-11-18T08:18:13.321202900Z"
    }
   },
   "id": "5f8ee229d3b46f61"
  },
  {
   "cell_type": "markdown",
   "source": [
    "## Zusammenfassung Versuch 4:\n",
    "#### Auch hier schneidet der Hauptgraph besser ab als der Subgraph.    "
   ],
   "metadata": {
    "collapsed": false
   },
   "id": "b3348f884a6a7276"
  },
  {
   "cell_type": "markdown",
   "source": [
    "# Fazit\n",
    "#### Die besten Ergebnissen wurden am Hauptgraphen mit der Bedingung erzielt, dass nur die Knoten betrachtet werden, die zu Bienen verlinkt sind. Dass beide Bedungungen erfüllt sein müssen, hat keinen Unterschied gemacht.\n",
    "#### Der Subgraph hat bei allen Versuchen zu spezifische Artikel vorgeschlagen. Dies könnte man damit erklären, dass Informationen vom Hauptgraphen verloren gehen, da nur ein Teil der Knoten betrachtet wird. Dadurch fehlen Ingoing und Outgoing Links, die den Degree beeinflussen.   "
   ],
   "metadata": {
    "collapsed": false
   },
   "id": "412e0ca76c144c90"
  },
  {
   "cell_type": "code",
   "execution_count": 31,
   "outputs": [],
   "source": [
    "backlinks = bienen_page.backlinks\n"
   ],
   "metadata": {
    "collapsed": false,
    "ExecuteTime": {
     "end_time": "2024-11-18T08:30:15.123281Z",
     "start_time": "2024-11-18T08:30:15.100341800Z"
    }
   },
   "id": "549b4ec57cb9434f"
  },
  {
   "cell_type": "code",
   "execution_count": 33,
   "outputs": [
    {
     "name": "stdout",
     "output_type": "stream",
     "text": [
      "['O’Neill-Zylinder', 'Kürbisgewächse', 'Nützling', 'Rübsen (Pflanze)', 'Würzburger Lügensteine']\n"
     ]
    }
   ],
   "source": [
    "top_x_backlinks = sorted(backlinks, key=lambda x: x[1], reverse=True)[:5]\n",
    "print(top_x_backlinks)"
   ],
   "metadata": {
    "collapsed": false,
    "ExecuteTime": {
     "end_time": "2024-11-18T08:31:10.172627Z",
     "start_time": "2024-11-18T08:31:10.153264500Z"
    }
   },
   "id": "4205a88956bbb4b0"
  },
  {
   "cell_type": "code",
   "execution_count": 19,
   "outputs": [],
   "source": [
    "pr_result = nx.pagerank(complete_graph)"
   ],
   "metadata": {
    "collapsed": false,
    "ExecuteTime": {
     "end_time": "2024-11-26T18:10:44.376726600Z",
     "start_time": "2024-11-26T18:10:43.387684Z"
    }
   },
   "id": "f70c8a5ee5a5e9f0"
  },
  {
   "cell_type": "code",
   "execution_count": 20,
   "outputs": [],
   "source": [
    "top_n_pr = sorted(pr_result, key=lambda x: pr_result[x], reverse=True)[:5]"
   ],
   "metadata": {
    "collapsed": false,
    "ExecuteTime": {
     "end_time": "2024-11-26T18:13:18.009699100Z",
     "start_time": "2024-11-26T18:13:17.946556800Z"
    }
   },
   "id": "3730b305d073f40b"
  },
  {
   "cell_type": "code",
   "execution_count": 21,
   "outputs": [
    {
     "name": "stdout",
     "output_type": "stream",
     "text": [
      "['Bienen', 'Systematik (Biologie)', 'Familie (Biologie)', 'Nomenklatur (Biologie)', 'Gattung (Biologie)']\n"
     ]
    }
   ],
   "source": [
    "print(top_n_pr)"
   ],
   "metadata": {
    "collapsed": false,
    "ExecuteTime": {
     "end_time": "2024-11-26T18:13:25.248793500Z",
     "start_time": "2024-11-26T18:13:25.214884900Z"
    }
   },
   "id": "8fcdb094eb0083f5"
  },
  {
   "cell_type": "code",
   "execution_count": null,
   "outputs": [],
   "source": [],
   "metadata": {
    "collapsed": false
   },
   "id": "4a7413ef91f652a3"
  }
 ],
 "metadata": {
  "kernelspec": {
   "display_name": "Python 3",
   "language": "python",
   "name": "python3"
  },
  "language_info": {
   "codemirror_mode": {
    "name": "ipython",
    "version": 2
   },
   "file_extension": ".py",
   "mimetype": "text/x-python",
   "name": "python",
   "nbconvert_exporter": "python",
   "pygments_lexer": "ipython2",
   "version": "2.7.6"
  }
 },
 "nbformat": 4,
 "nbformat_minor": 5
}
