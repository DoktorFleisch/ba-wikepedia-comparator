{
 "cells": [
  {
   "cell_type": "code",
   "execution_count": 11,
   "id": "initial_id",
   "metadata": {
    "collapsed": true,
    "ExecuteTime": {
     "end_time": "2024-11-17T18:11:56.703918400Z",
     "start_time": "2024-11-17T18:11:56.670624400Z"
    }
   },
   "outputs": [],
   "source": [
    "import networkx as nx\n",
    "import wikipediaapi\n",
    "import graphviz"
   ]
  },
  {
   "cell_type": "code",
   "execution_count": 2,
   "outputs": [],
   "source": [
    "user_agent = 'wikipedia-graph (danielwarkus@hotmail.com)'"
   ],
   "metadata": {
    "collapsed": false,
    "ExecuteTime": {
     "end_time": "2024-11-17T18:01:12.470749800Z",
     "start_time": "2024-11-17T18:01:12.442315200Z"
    }
   },
   "id": "6e1bb31c3fbe942"
  },
  {
   "cell_type": "code",
   "execution_count": 4,
   "outputs": [],
   "source": [
    "wiki = wikipediaapi.Wikipedia(user_agent=user_agent, language='de')"
   ],
   "metadata": {
    "collapsed": false,
    "ExecuteTime": {
     "end_time": "2024-11-17T18:01:58.683921200Z",
     "start_time": "2024-11-17T18:01:58.660983600Z"
    }
   },
   "id": "247236e677b90351"
  },
  {
   "cell_type": "code",
   "execution_count": 5,
   "outputs": [],
   "source": [
    "bienen_page = wiki.page('Bienen')"
   ],
   "metadata": {
    "collapsed": false,
    "ExecuteTime": {
     "end_time": "2024-11-17T18:02:10.763659900Z",
     "start_time": "2024-11-17T18:02:10.753178500Z"
    }
   },
   "id": "5a991852620ab071"
  },
  {
   "cell_type": "code",
   "execution_count": 6,
   "outputs": [],
   "source": [
    "def get_links(page):\n",
    "    links = []\n",
    "    for link in page.links.values():\n",
    "        links.append(link.title)\n",
    "    return links"
   ],
   "metadata": {
    "collapsed": false,
    "ExecuteTime": {
     "end_time": "2024-11-17T18:02:54.242179200Z",
     "start_time": "2024-11-17T18:02:54.230751700Z"
    }
   },
   "id": "be9673ee497f7d5"
  },
  {
   "cell_type": "code",
   "execution_count": 7,
   "outputs": [],
   "source": [
    "def get_page(link):\n",
    "    return wiki.page(link)"
   ],
   "metadata": {
    "collapsed": false,
    "ExecuteTime": {
     "end_time": "2024-11-17T18:03:14.136197500Z",
     "start_time": "2024-11-17T18:03:14.124717900Z"
    }
   },
   "id": "cc91aff117ac46f9"
  },
  {
   "cell_type": "code",
   "execution_count": 8,
   "outputs": [],
   "source": [
    "def get_graph(page, depth):\n",
    "    graph = nx.DiGraph()\n",
    "    graph.add_node(page.title)\n",
    "    links = get_links(page)\n",
    "    for link in links:\n",
    "        graph.add_edge(page.title, link)\n",
    "        if depth > 0:\n",
    "            next_page = get_page(link)\n",
    "            graph = nx.compose(graph, get_graph(next_page, depth-1))\n",
    "    return graph"
   ],
   "metadata": {
    "collapsed": false,
    "ExecuteTime": {
     "end_time": "2024-11-17T18:06:30.074424100Z",
     "start_time": "2024-11-17T18:06:30.064019Z"
    }
   },
   "id": "4c8091e0ebef5ba7"
  },
  {
   "cell_type": "markdown",
   "source": [
    "# Erstelle den Ursprungsgraphen\n",
    "### Hier wird ein Graph erstellt, der alle Links (und deren Links) von der Bienen-Seite enthält.\n",
    "### Die Artikelnamen sind dabei die Knoten und die Verlinkungen die Kanten. "
   ],
   "metadata": {
    "collapsed": false
   },
   "id": "5e4d04bdbcacf312"
  },
  {
   "cell_type": "code",
   "execution_count": 9,
   "outputs": [],
   "source": [
    "graph = get_graph(bienen_page, 1)"
   ],
   "metadata": {
    "collapsed": false,
    "ExecuteTime": {
     "end_time": "2024-11-17T18:07:33.571175Z",
     "start_time": "2024-11-17T18:06:39.883437200Z"
    }
   },
   "id": "2809b9fa6d47b72b"
  },
  {
   "cell_type": "code",
   "execution_count": 19,
   "outputs": [],
   "source": [
    "# unix_graph = graphviz.Digraph('unix', filename='unix.gv')\n",
    "# \n",
    "# for edge in graph.edges:\n",
    "#     unix_graph.edge(edge[0], edge[1])"
   ],
   "metadata": {
    "collapsed": false,
    "ExecuteTime": {
     "end_time": "2024-11-17T18:14:50.369356300Z",
     "start_time": "2024-11-17T18:14:50.231530300Z"
    }
   },
   "id": "b6a2b0d4cd2852dc"
  },
  {
   "cell_type": "code",
   "execution_count": 21,
   "outputs": [
    {
     "ename": "ExecutableNotFound",
     "evalue": "failed to execute WindowsPath('dot'), make sure the Graphviz executables are on your systems' PATH",
     "output_type": "error",
     "traceback": [
      "\u001B[1;31m---------------------------------------------------------------------------\u001B[0m",
      "\u001B[1;31mFileNotFoundError\u001B[0m                         Traceback (most recent call last)",
      "File \u001B[1;32m~\\Documents\\Uni\\Semester 15\\BA\\ba-translator\\venv\\Lib\\site-packages\\graphviz\\backend\\execute.py:78\u001B[0m, in \u001B[0;36mrun_check\u001B[1;34m(cmd, input_lines, encoding, quiet, **kwargs)\u001B[0m\n\u001B[0;32m     77\u001B[0m     \u001B[38;5;28;01melse\u001B[39;00m:\n\u001B[1;32m---> 78\u001B[0m         proc \u001B[38;5;241m=\u001B[39m \u001B[43msubprocess\u001B[49m\u001B[38;5;241;43m.\u001B[39;49m\u001B[43mrun\u001B[49m\u001B[43m(\u001B[49m\u001B[43mcmd\u001B[49m\u001B[43m,\u001B[49m\u001B[43m \u001B[49m\u001B[38;5;241;43m*\u001B[39;49m\u001B[38;5;241;43m*\u001B[39;49m\u001B[43mkwargs\u001B[49m\u001B[43m)\u001B[49m\n\u001B[0;32m     79\u001B[0m \u001B[38;5;28;01mexcept\u001B[39;00m \u001B[38;5;167;01mOSError\u001B[39;00m \u001B[38;5;28;01mas\u001B[39;00m e:\n",
      "File \u001B[1;32m~\\AppData\\Local\\Programs\\Python\\Python312\\Lib\\subprocess.py:548\u001B[0m, in \u001B[0;36mrun\u001B[1;34m(input, capture_output, timeout, check, *popenargs, **kwargs)\u001B[0m\n\u001B[0;32m    546\u001B[0m     kwargs[\u001B[38;5;124m'\u001B[39m\u001B[38;5;124mstderr\u001B[39m\u001B[38;5;124m'\u001B[39m] \u001B[38;5;241m=\u001B[39m PIPE\n\u001B[1;32m--> 548\u001B[0m \u001B[38;5;28;01mwith\u001B[39;00m \u001B[43mPopen\u001B[49m\u001B[43m(\u001B[49m\u001B[38;5;241;43m*\u001B[39;49m\u001B[43mpopenargs\u001B[49m\u001B[43m,\u001B[49m\u001B[43m \u001B[49m\u001B[38;5;241;43m*\u001B[39;49m\u001B[38;5;241;43m*\u001B[39;49m\u001B[43mkwargs\u001B[49m\u001B[43m)\u001B[49m \u001B[38;5;28;01mas\u001B[39;00m process:\n\u001B[0;32m    549\u001B[0m     \u001B[38;5;28;01mtry\u001B[39;00m:\n",
      "File \u001B[1;32m~\\AppData\\Local\\Programs\\Python\\Python312\\Lib\\subprocess.py:1026\u001B[0m, in \u001B[0;36mPopen.__init__\u001B[1;34m(self, args, bufsize, executable, stdin, stdout, stderr, preexec_fn, close_fds, shell, cwd, env, universal_newlines, startupinfo, creationflags, restore_signals, start_new_session, pass_fds, user, group, extra_groups, encoding, errors, text, umask, pipesize, process_group)\u001B[0m\n\u001B[0;32m   1023\u001B[0m             \u001B[38;5;28mself\u001B[39m\u001B[38;5;241m.\u001B[39mstderr \u001B[38;5;241m=\u001B[39m io\u001B[38;5;241m.\u001B[39mTextIOWrapper(\u001B[38;5;28mself\u001B[39m\u001B[38;5;241m.\u001B[39mstderr,\n\u001B[0;32m   1024\u001B[0m                     encoding\u001B[38;5;241m=\u001B[39mencoding, errors\u001B[38;5;241m=\u001B[39merrors)\n\u001B[1;32m-> 1026\u001B[0m     \u001B[38;5;28;43mself\u001B[39;49m\u001B[38;5;241;43m.\u001B[39;49m\u001B[43m_execute_child\u001B[49m\u001B[43m(\u001B[49m\u001B[43margs\u001B[49m\u001B[43m,\u001B[49m\u001B[43m \u001B[49m\u001B[43mexecutable\u001B[49m\u001B[43m,\u001B[49m\u001B[43m \u001B[49m\u001B[43mpreexec_fn\u001B[49m\u001B[43m,\u001B[49m\u001B[43m \u001B[49m\u001B[43mclose_fds\u001B[49m\u001B[43m,\u001B[49m\n\u001B[0;32m   1027\u001B[0m \u001B[43m                        \u001B[49m\u001B[43mpass_fds\u001B[49m\u001B[43m,\u001B[49m\u001B[43m \u001B[49m\u001B[43mcwd\u001B[49m\u001B[43m,\u001B[49m\u001B[43m \u001B[49m\u001B[43menv\u001B[49m\u001B[43m,\u001B[49m\n\u001B[0;32m   1028\u001B[0m \u001B[43m                        \u001B[49m\u001B[43mstartupinfo\u001B[49m\u001B[43m,\u001B[49m\u001B[43m \u001B[49m\u001B[43mcreationflags\u001B[49m\u001B[43m,\u001B[49m\u001B[43m \u001B[49m\u001B[43mshell\u001B[49m\u001B[43m,\u001B[49m\n\u001B[0;32m   1029\u001B[0m \u001B[43m                        \u001B[49m\u001B[43mp2cread\u001B[49m\u001B[43m,\u001B[49m\u001B[43m \u001B[49m\u001B[43mp2cwrite\u001B[49m\u001B[43m,\u001B[49m\n\u001B[0;32m   1030\u001B[0m \u001B[43m                        \u001B[49m\u001B[43mc2pread\u001B[49m\u001B[43m,\u001B[49m\u001B[43m \u001B[49m\u001B[43mc2pwrite\u001B[49m\u001B[43m,\u001B[49m\n\u001B[0;32m   1031\u001B[0m \u001B[43m                        \u001B[49m\u001B[43merrread\u001B[49m\u001B[43m,\u001B[49m\u001B[43m \u001B[49m\u001B[43merrwrite\u001B[49m\u001B[43m,\u001B[49m\n\u001B[0;32m   1032\u001B[0m \u001B[43m                        \u001B[49m\u001B[43mrestore_signals\u001B[49m\u001B[43m,\u001B[49m\n\u001B[0;32m   1033\u001B[0m \u001B[43m                        \u001B[49m\u001B[43mgid\u001B[49m\u001B[43m,\u001B[49m\u001B[43m \u001B[49m\u001B[43mgids\u001B[49m\u001B[43m,\u001B[49m\u001B[43m \u001B[49m\u001B[43muid\u001B[49m\u001B[43m,\u001B[49m\u001B[43m \u001B[49m\u001B[43mumask\u001B[49m\u001B[43m,\u001B[49m\n\u001B[0;32m   1034\u001B[0m \u001B[43m                        \u001B[49m\u001B[43mstart_new_session\u001B[49m\u001B[43m,\u001B[49m\u001B[43m \u001B[49m\u001B[43mprocess_group\u001B[49m\u001B[43m)\u001B[49m\n\u001B[0;32m   1035\u001B[0m \u001B[38;5;28;01mexcept\u001B[39;00m:\n\u001B[0;32m   1036\u001B[0m     \u001B[38;5;66;03m# Cleanup if the child failed starting.\u001B[39;00m\n",
      "File \u001B[1;32m~\\AppData\\Local\\Programs\\Python\\Python312\\Lib\\subprocess.py:1538\u001B[0m, in \u001B[0;36mPopen._execute_child\u001B[1;34m(self, args, executable, preexec_fn, close_fds, pass_fds, cwd, env, startupinfo, creationflags, shell, p2cread, p2cwrite, c2pread, c2pwrite, errread, errwrite, unused_restore_signals, unused_gid, unused_gids, unused_uid, unused_umask, unused_start_new_session, unused_process_group)\u001B[0m\n\u001B[0;32m   1537\u001B[0m \u001B[38;5;28;01mtry\u001B[39;00m:\n\u001B[1;32m-> 1538\u001B[0m     hp, ht, pid, tid \u001B[38;5;241m=\u001B[39m \u001B[43m_winapi\u001B[49m\u001B[38;5;241;43m.\u001B[39;49m\u001B[43mCreateProcess\u001B[49m\u001B[43m(\u001B[49m\u001B[43mexecutable\u001B[49m\u001B[43m,\u001B[49m\u001B[43m \u001B[49m\u001B[43margs\u001B[49m\u001B[43m,\u001B[49m\n\u001B[0;32m   1539\u001B[0m \u001B[43m                             \u001B[49m\u001B[38;5;66;43;03m# no special security\u001B[39;49;00m\n\u001B[0;32m   1540\u001B[0m \u001B[43m                             \u001B[49m\u001B[38;5;28;43;01mNone\u001B[39;49;00m\u001B[43m,\u001B[49m\u001B[43m \u001B[49m\u001B[38;5;28;43;01mNone\u001B[39;49;00m\u001B[43m,\u001B[49m\n\u001B[0;32m   1541\u001B[0m \u001B[43m                             \u001B[49m\u001B[38;5;28;43mint\u001B[39;49m\u001B[43m(\u001B[49m\u001B[38;5;129;43;01mnot\u001B[39;49;00m\u001B[43m \u001B[49m\u001B[43mclose_fds\u001B[49m\u001B[43m)\u001B[49m\u001B[43m,\u001B[49m\n\u001B[0;32m   1542\u001B[0m \u001B[43m                             \u001B[49m\u001B[43mcreationflags\u001B[49m\u001B[43m,\u001B[49m\n\u001B[0;32m   1543\u001B[0m \u001B[43m                             \u001B[49m\u001B[43menv\u001B[49m\u001B[43m,\u001B[49m\n\u001B[0;32m   1544\u001B[0m \u001B[43m                             \u001B[49m\u001B[43mcwd\u001B[49m\u001B[43m,\u001B[49m\n\u001B[0;32m   1545\u001B[0m \u001B[43m                             \u001B[49m\u001B[43mstartupinfo\u001B[49m\u001B[43m)\u001B[49m\n\u001B[0;32m   1546\u001B[0m \u001B[38;5;28;01mfinally\u001B[39;00m:\n\u001B[0;32m   1547\u001B[0m     \u001B[38;5;66;03m# Child is launched. Close the parent's copy of those pipe\u001B[39;00m\n\u001B[0;32m   1548\u001B[0m     \u001B[38;5;66;03m# handles that only the child should have open.  You need\u001B[39;00m\n\u001B[1;32m   (...)\u001B[0m\n\u001B[0;32m   1551\u001B[0m     \u001B[38;5;66;03m# pipe will not close when the child process exits and the\u001B[39;00m\n\u001B[0;32m   1552\u001B[0m     \u001B[38;5;66;03m# ReadFile will hang.\u001B[39;00m\n",
      "\u001B[1;31mFileNotFoundError\u001B[0m: [WinError 2] Das System kann die angegebene Datei nicht finden",
      "\nThe above exception was the direct cause of the following exception:\n",
      "\u001B[1;31mExecutableNotFound\u001B[0m                        Traceback (most recent call last)",
      "Cell \u001B[1;32mIn[21], line 2\u001B[0m\n\u001B[0;32m      1\u001B[0m \u001B[38;5;66;03m# here is error\u001B[39;00m\n\u001B[1;32m----> 2\u001B[0m \u001B[43munix_graph\u001B[49m\u001B[38;5;241;43m.\u001B[39;49m\u001B[43mview\u001B[49m\u001B[43m(\u001B[49m\u001B[43m)\u001B[49m\n",
      "File \u001B[1;32m~\\Documents\\Uni\\Semester 15\\BA\\ba-translator\\venv\\Lib\\site-packages\\graphviz\\_tools.py:171\u001B[0m, in \u001B[0;36mdeprecate_positional_args.<locals>.decorator.<locals>.wrapper\u001B[1;34m(*args, **kwargs)\u001B[0m\n\u001B[0;32m    162\u001B[0m     wanted \u001B[38;5;241m=\u001B[39m \u001B[38;5;124m'\u001B[39m\u001B[38;5;124m, \u001B[39m\u001B[38;5;124m'\u001B[39m\u001B[38;5;241m.\u001B[39mjoin(\u001B[38;5;124mf\u001B[39m\u001B[38;5;124m'\u001B[39m\u001B[38;5;132;01m{\u001B[39;00mname\u001B[38;5;132;01m}\u001B[39;00m\u001B[38;5;124m=\u001B[39m\u001B[38;5;132;01m{\u001B[39;00mvalue\u001B[38;5;132;01m!r}\u001B[39;00m\u001B[38;5;124m'\u001B[39m\n\u001B[0;32m    163\u001B[0m                        \u001B[38;5;28;01mfor\u001B[39;00m name, value \u001B[38;5;129;01min\u001B[39;00m deprecated\u001B[38;5;241m.\u001B[39mitems())\n\u001B[0;32m    164\u001B[0m     warnings\u001B[38;5;241m.\u001B[39mwarn(\u001B[38;5;124mf\u001B[39m\u001B[38;5;124m'\u001B[39m\u001B[38;5;124mThe signature of \u001B[39m\u001B[38;5;132;01m{\u001B[39;00mfunc\u001B[38;5;241m.\u001B[39m\u001B[38;5;18m__name__\u001B[39m\u001B[38;5;132;01m}\u001B[39;00m\u001B[38;5;124m will be reduced\u001B[39m\u001B[38;5;124m'\u001B[39m\n\u001B[0;32m    165\u001B[0m                   \u001B[38;5;124mf\u001B[39m\u001B[38;5;124m'\u001B[39m\u001B[38;5;124m to \u001B[39m\u001B[38;5;132;01m{\u001B[39;00msupported_number\u001B[38;5;132;01m}\u001B[39;00m\u001B[38;5;124m positional args\u001B[39m\u001B[38;5;124m'\u001B[39m\n\u001B[0;32m    166\u001B[0m                   \u001B[38;5;124mf\u001B[39m\u001B[38;5;124m'\u001B[39m\u001B[38;5;124m \u001B[39m\u001B[38;5;132;01m{\u001B[39;00m\u001B[38;5;28mlist\u001B[39m(supported)\u001B[38;5;132;01m}\u001B[39;00m\u001B[38;5;124m: pass \u001B[39m\u001B[38;5;132;01m{\u001B[39;00mwanted\u001B[38;5;132;01m}\u001B[39;00m\u001B[38;5;124m'\u001B[39m\n\u001B[0;32m    167\u001B[0m                   \u001B[38;5;124m'\u001B[39m\u001B[38;5;124m as keyword arg(s)\u001B[39m\u001B[38;5;124m'\u001B[39m,\n\u001B[0;32m    168\u001B[0m                   stacklevel\u001B[38;5;241m=\u001B[39mstacklevel,\n\u001B[0;32m    169\u001B[0m                   category\u001B[38;5;241m=\u001B[39mcategory)\n\u001B[1;32m--> 171\u001B[0m \u001B[38;5;28;01mreturn\u001B[39;00m \u001B[43mfunc\u001B[49m\u001B[43m(\u001B[49m\u001B[38;5;241;43m*\u001B[39;49m\u001B[43margs\u001B[49m\u001B[43m,\u001B[49m\u001B[43m \u001B[49m\u001B[38;5;241;43m*\u001B[39;49m\u001B[38;5;241;43m*\u001B[39;49m\u001B[43mkwargs\u001B[49m\u001B[43m)\u001B[49m\n",
      "File \u001B[1;32m~\\Documents\\Uni\\Semester 15\\BA\\ba-translator\\venv\\Lib\\site-packages\\graphviz\\rendering.py:185\u001B[0m, in \u001B[0;36mRender.view\u001B[1;34m(self, filename, directory, cleanup, quiet, quiet_view)\u001B[0m\n\u001B[0;32m    150\u001B[0m \u001B[38;5;129m@_tools\u001B[39m\u001B[38;5;241m.\u001B[39mdeprecate_positional_args(supported_number\u001B[38;5;241m=\u001B[39m\u001B[38;5;241m2\u001B[39m)\n\u001B[0;32m    151\u001B[0m \u001B[38;5;28;01mdef\u001B[39;00m \u001B[38;5;21mview\u001B[39m(\u001B[38;5;28mself\u001B[39m,\n\u001B[0;32m    152\u001B[0m          filename: typing\u001B[38;5;241m.\u001B[39mUnion[os\u001B[38;5;241m.\u001B[39mPathLike, \u001B[38;5;28mstr\u001B[39m, \u001B[38;5;28;01mNone\u001B[39;00m] \u001B[38;5;241m=\u001B[39m \u001B[38;5;28;01mNone\u001B[39;00m,\n\u001B[1;32m   (...)\u001B[0m\n\u001B[0;32m    155\u001B[0m          quiet: \u001B[38;5;28mbool\u001B[39m \u001B[38;5;241m=\u001B[39m \u001B[38;5;28;01mFalse\u001B[39;00m,\n\u001B[0;32m    156\u001B[0m          quiet_view: \u001B[38;5;28mbool\u001B[39m \u001B[38;5;241m=\u001B[39m \u001B[38;5;28;01mFalse\u001B[39;00m) \u001B[38;5;241m-\u001B[39m\u001B[38;5;241m>\u001B[39m \u001B[38;5;28mstr\u001B[39m:\n\u001B[0;32m    157\u001B[0m \u001B[38;5;250m    \u001B[39m\u001B[38;5;124;03m\"\"\"Save the source to file, open the rendered result in a viewer.\u001B[39;00m\n\u001B[0;32m    158\u001B[0m \n\u001B[0;32m    159\u001B[0m \u001B[38;5;124;03m    Convenience short-cut for running ``.render(view=True)``.\u001B[39;00m\n\u001B[1;32m   (...)\u001B[0m\n\u001B[0;32m    183\u001B[0m \u001B[38;5;124;03m        and no way to retrieve the application's exit status.\u001B[39;00m\n\u001B[0;32m    184\u001B[0m \u001B[38;5;124;03m    \"\"\"\u001B[39;00m\n\u001B[1;32m--> 185\u001B[0m     \u001B[38;5;28;01mreturn\u001B[39;00m \u001B[38;5;28;43mself\u001B[39;49m\u001B[38;5;241;43m.\u001B[39;49m\u001B[43mrender\u001B[49m\u001B[43m(\u001B[49m\u001B[43mfilename\u001B[49m\u001B[38;5;241;43m=\u001B[39;49m\u001B[43mfilename\u001B[49m\u001B[43m,\u001B[49m\u001B[43m \u001B[49m\u001B[43mdirectory\u001B[49m\u001B[38;5;241;43m=\u001B[39;49m\u001B[43mdirectory\u001B[49m\u001B[43m,\u001B[49m\u001B[43m \u001B[49m\u001B[43mview\u001B[49m\u001B[38;5;241;43m=\u001B[39;49m\u001B[38;5;28;43;01mTrue\u001B[39;49;00m\u001B[43m,\u001B[49m\n\u001B[0;32m    186\u001B[0m \u001B[43m                       \u001B[49m\u001B[43mcleanup\u001B[49m\u001B[38;5;241;43m=\u001B[39;49m\u001B[43mcleanup\u001B[49m\u001B[43m,\u001B[49m\u001B[43m \u001B[49m\u001B[43mquiet\u001B[49m\u001B[38;5;241;43m=\u001B[39;49m\u001B[43mquiet\u001B[49m\u001B[43m,\u001B[49m\u001B[43m \u001B[49m\u001B[43mquiet_view\u001B[49m\u001B[38;5;241;43m=\u001B[39;49m\u001B[43mquiet_view\u001B[49m\u001B[43m)\u001B[49m\n",
      "File \u001B[1;32m~\\Documents\\Uni\\Semester 15\\BA\\ba-translator\\venv\\Lib\\site-packages\\graphviz\\_tools.py:171\u001B[0m, in \u001B[0;36mdeprecate_positional_args.<locals>.decorator.<locals>.wrapper\u001B[1;34m(*args, **kwargs)\u001B[0m\n\u001B[0;32m    162\u001B[0m     wanted \u001B[38;5;241m=\u001B[39m \u001B[38;5;124m'\u001B[39m\u001B[38;5;124m, \u001B[39m\u001B[38;5;124m'\u001B[39m\u001B[38;5;241m.\u001B[39mjoin(\u001B[38;5;124mf\u001B[39m\u001B[38;5;124m'\u001B[39m\u001B[38;5;132;01m{\u001B[39;00mname\u001B[38;5;132;01m}\u001B[39;00m\u001B[38;5;124m=\u001B[39m\u001B[38;5;132;01m{\u001B[39;00mvalue\u001B[38;5;132;01m!r}\u001B[39;00m\u001B[38;5;124m'\u001B[39m\n\u001B[0;32m    163\u001B[0m                        \u001B[38;5;28;01mfor\u001B[39;00m name, value \u001B[38;5;129;01min\u001B[39;00m deprecated\u001B[38;5;241m.\u001B[39mitems())\n\u001B[0;32m    164\u001B[0m     warnings\u001B[38;5;241m.\u001B[39mwarn(\u001B[38;5;124mf\u001B[39m\u001B[38;5;124m'\u001B[39m\u001B[38;5;124mThe signature of \u001B[39m\u001B[38;5;132;01m{\u001B[39;00mfunc\u001B[38;5;241m.\u001B[39m\u001B[38;5;18m__name__\u001B[39m\u001B[38;5;132;01m}\u001B[39;00m\u001B[38;5;124m will be reduced\u001B[39m\u001B[38;5;124m'\u001B[39m\n\u001B[0;32m    165\u001B[0m                   \u001B[38;5;124mf\u001B[39m\u001B[38;5;124m'\u001B[39m\u001B[38;5;124m to \u001B[39m\u001B[38;5;132;01m{\u001B[39;00msupported_number\u001B[38;5;132;01m}\u001B[39;00m\u001B[38;5;124m positional args\u001B[39m\u001B[38;5;124m'\u001B[39m\n\u001B[0;32m    166\u001B[0m                   \u001B[38;5;124mf\u001B[39m\u001B[38;5;124m'\u001B[39m\u001B[38;5;124m \u001B[39m\u001B[38;5;132;01m{\u001B[39;00m\u001B[38;5;28mlist\u001B[39m(supported)\u001B[38;5;132;01m}\u001B[39;00m\u001B[38;5;124m: pass \u001B[39m\u001B[38;5;132;01m{\u001B[39;00mwanted\u001B[38;5;132;01m}\u001B[39;00m\u001B[38;5;124m'\u001B[39m\n\u001B[0;32m    167\u001B[0m                   \u001B[38;5;124m'\u001B[39m\u001B[38;5;124m as keyword arg(s)\u001B[39m\u001B[38;5;124m'\u001B[39m,\n\u001B[0;32m    168\u001B[0m                   stacklevel\u001B[38;5;241m=\u001B[39mstacklevel,\n\u001B[0;32m    169\u001B[0m                   category\u001B[38;5;241m=\u001B[39mcategory)\n\u001B[1;32m--> 171\u001B[0m \u001B[38;5;28;01mreturn\u001B[39;00m \u001B[43mfunc\u001B[49m\u001B[43m(\u001B[49m\u001B[38;5;241;43m*\u001B[39;49m\u001B[43margs\u001B[49m\u001B[43m,\u001B[49m\u001B[43m \u001B[49m\u001B[38;5;241;43m*\u001B[39;49m\u001B[38;5;241;43m*\u001B[39;49m\u001B[43mkwargs\u001B[49m\u001B[43m)\u001B[49m\n",
      "File \u001B[1;32m~\\Documents\\Uni\\Semester 15\\BA\\ba-translator\\venv\\Lib\\site-packages\\graphviz\\rendering.py:122\u001B[0m, in \u001B[0;36mRender.render\u001B[1;34m(self, filename, directory, view, cleanup, format, renderer, formatter, neato_no_op, quiet, quiet_view, outfile, engine, raise_if_result_exists, overwrite_source)\u001B[0m\n\u001B[0;32m    118\u001B[0m filepath \u001B[38;5;241m=\u001B[39m \u001B[38;5;28mself\u001B[39m\u001B[38;5;241m.\u001B[39msave(filename, directory\u001B[38;5;241m=\u001B[39mdirectory, skip_existing\u001B[38;5;241m=\u001B[39m\u001B[38;5;28;01mNone\u001B[39;00m)\n\u001B[0;32m    120\u001B[0m args\u001B[38;5;241m.\u001B[39mappend(filepath)\n\u001B[1;32m--> 122\u001B[0m rendered \u001B[38;5;241m=\u001B[39m \u001B[38;5;28;43mself\u001B[39;49m\u001B[38;5;241;43m.\u001B[39;49m\u001B[43m_render\u001B[49m\u001B[43m(\u001B[49m\u001B[38;5;241;43m*\u001B[39;49m\u001B[43margs\u001B[49m\u001B[43m,\u001B[49m\u001B[43m \u001B[49m\u001B[38;5;241;43m*\u001B[39;49m\u001B[38;5;241;43m*\u001B[39;49m\u001B[43mkwargs\u001B[49m\u001B[43m)\u001B[49m\n\u001B[0;32m    124\u001B[0m \u001B[38;5;28;01mif\u001B[39;00m cleanup:\n\u001B[0;32m    125\u001B[0m     log\u001B[38;5;241m.\u001B[39mdebug(\u001B[38;5;124m'\u001B[39m\u001B[38;5;124mdelete \u001B[39m\u001B[38;5;132;01m%r\u001B[39;00m\u001B[38;5;124m'\u001B[39m, filepath)\n",
      "File \u001B[1;32m~\\Documents\\Uni\\Semester 15\\BA\\ba-translator\\venv\\Lib\\site-packages\\graphviz\\_tools.py:171\u001B[0m, in \u001B[0;36mdeprecate_positional_args.<locals>.decorator.<locals>.wrapper\u001B[1;34m(*args, **kwargs)\u001B[0m\n\u001B[0;32m    162\u001B[0m     wanted \u001B[38;5;241m=\u001B[39m \u001B[38;5;124m'\u001B[39m\u001B[38;5;124m, \u001B[39m\u001B[38;5;124m'\u001B[39m\u001B[38;5;241m.\u001B[39mjoin(\u001B[38;5;124mf\u001B[39m\u001B[38;5;124m'\u001B[39m\u001B[38;5;132;01m{\u001B[39;00mname\u001B[38;5;132;01m}\u001B[39;00m\u001B[38;5;124m=\u001B[39m\u001B[38;5;132;01m{\u001B[39;00mvalue\u001B[38;5;132;01m!r}\u001B[39;00m\u001B[38;5;124m'\u001B[39m\n\u001B[0;32m    163\u001B[0m                        \u001B[38;5;28;01mfor\u001B[39;00m name, value \u001B[38;5;129;01min\u001B[39;00m deprecated\u001B[38;5;241m.\u001B[39mitems())\n\u001B[0;32m    164\u001B[0m     warnings\u001B[38;5;241m.\u001B[39mwarn(\u001B[38;5;124mf\u001B[39m\u001B[38;5;124m'\u001B[39m\u001B[38;5;124mThe signature of \u001B[39m\u001B[38;5;132;01m{\u001B[39;00mfunc\u001B[38;5;241m.\u001B[39m\u001B[38;5;18m__name__\u001B[39m\u001B[38;5;132;01m}\u001B[39;00m\u001B[38;5;124m will be reduced\u001B[39m\u001B[38;5;124m'\u001B[39m\n\u001B[0;32m    165\u001B[0m                   \u001B[38;5;124mf\u001B[39m\u001B[38;5;124m'\u001B[39m\u001B[38;5;124m to \u001B[39m\u001B[38;5;132;01m{\u001B[39;00msupported_number\u001B[38;5;132;01m}\u001B[39;00m\u001B[38;5;124m positional args\u001B[39m\u001B[38;5;124m'\u001B[39m\n\u001B[0;32m    166\u001B[0m                   \u001B[38;5;124mf\u001B[39m\u001B[38;5;124m'\u001B[39m\u001B[38;5;124m \u001B[39m\u001B[38;5;132;01m{\u001B[39;00m\u001B[38;5;28mlist\u001B[39m(supported)\u001B[38;5;132;01m}\u001B[39;00m\u001B[38;5;124m: pass \u001B[39m\u001B[38;5;132;01m{\u001B[39;00mwanted\u001B[38;5;132;01m}\u001B[39;00m\u001B[38;5;124m'\u001B[39m\n\u001B[0;32m    167\u001B[0m                   \u001B[38;5;124m'\u001B[39m\u001B[38;5;124m as keyword arg(s)\u001B[39m\u001B[38;5;124m'\u001B[39m,\n\u001B[0;32m    168\u001B[0m                   stacklevel\u001B[38;5;241m=\u001B[39mstacklevel,\n\u001B[0;32m    169\u001B[0m                   category\u001B[38;5;241m=\u001B[39mcategory)\n\u001B[1;32m--> 171\u001B[0m \u001B[38;5;28;01mreturn\u001B[39;00m \u001B[43mfunc\u001B[49m\u001B[43m(\u001B[49m\u001B[38;5;241;43m*\u001B[39;49m\u001B[43margs\u001B[49m\u001B[43m,\u001B[49m\u001B[43m \u001B[49m\u001B[38;5;241;43m*\u001B[39;49m\u001B[38;5;241;43m*\u001B[39;49m\u001B[43mkwargs\u001B[49m\u001B[43m)\u001B[49m\n",
      "File \u001B[1;32m~\\Documents\\Uni\\Semester 15\\BA\\ba-translator\\venv\\Lib\\site-packages\\graphviz\\backend\\rendering.py:326\u001B[0m, in \u001B[0;36mrender\u001B[1;34m(engine, format, filepath, renderer, formatter, neato_no_op, quiet, outfile, raise_if_result_exists, overwrite_filepath)\u001B[0m\n\u001B[0;32m    322\u001B[0m cmd \u001B[38;5;241m+\u001B[39m\u001B[38;5;241m=\u001B[39m args\n\u001B[0;32m    324\u001B[0m \u001B[38;5;28;01massert\u001B[39;00m filepath \u001B[38;5;129;01mis\u001B[39;00m \u001B[38;5;129;01mnot\u001B[39;00m \u001B[38;5;28;01mNone\u001B[39;00m, \u001B[38;5;124m'\u001B[39m\u001B[38;5;124mwork around pytype false alarm\u001B[39m\u001B[38;5;124m'\u001B[39m\n\u001B[1;32m--> 326\u001B[0m \u001B[43mexecute\u001B[49m\u001B[38;5;241;43m.\u001B[39;49m\u001B[43mrun_check\u001B[49m\u001B[43m(\u001B[49m\u001B[43mcmd\u001B[49m\u001B[43m,\u001B[49m\n\u001B[0;32m    327\u001B[0m \u001B[43m                  \u001B[49m\u001B[43mcwd\u001B[49m\u001B[38;5;241;43m=\u001B[39;49m\u001B[43mfilepath\u001B[49m\u001B[38;5;241;43m.\u001B[39;49m\u001B[43mparent\u001B[49m\u001B[43m \u001B[49m\u001B[38;5;28;43;01mif\u001B[39;49;00m\u001B[43m \u001B[49m\u001B[43mfilepath\u001B[49m\u001B[38;5;241;43m.\u001B[39;49m\u001B[43mparent\u001B[49m\u001B[38;5;241;43m.\u001B[39;49m\u001B[43mparts\u001B[49m\u001B[43m \u001B[49m\u001B[38;5;28;43;01melse\u001B[39;49;00m\u001B[43m \u001B[49m\u001B[38;5;28;43;01mNone\u001B[39;49;00m\u001B[43m,\u001B[49m\n\u001B[0;32m    328\u001B[0m \u001B[43m                  \u001B[49m\u001B[43mquiet\u001B[49m\u001B[38;5;241;43m=\u001B[39;49m\u001B[43mquiet\u001B[49m\u001B[43m,\u001B[49m\n\u001B[0;32m    329\u001B[0m \u001B[43m                  \u001B[49m\u001B[43mcapture_output\u001B[49m\u001B[38;5;241;43m=\u001B[39;49m\u001B[38;5;28;43;01mTrue\u001B[39;49;00m\u001B[43m)\u001B[49m\n\u001B[0;32m    331\u001B[0m \u001B[38;5;28;01mreturn\u001B[39;00m os\u001B[38;5;241m.\u001B[39mfspath(outfile)\n",
      "File \u001B[1;32m~\\Documents\\Uni\\Semester 15\\BA\\ba-translator\\venv\\Lib\\site-packages\\graphviz\\backend\\execute.py:81\u001B[0m, in \u001B[0;36mrun_check\u001B[1;34m(cmd, input_lines, encoding, quiet, **kwargs)\u001B[0m\n\u001B[0;32m     79\u001B[0m \u001B[38;5;28;01mexcept\u001B[39;00m \u001B[38;5;167;01mOSError\u001B[39;00m \u001B[38;5;28;01mas\u001B[39;00m e:\n\u001B[0;32m     80\u001B[0m     \u001B[38;5;28;01mif\u001B[39;00m e\u001B[38;5;241m.\u001B[39merrno \u001B[38;5;241m==\u001B[39m errno\u001B[38;5;241m.\u001B[39mENOENT:\n\u001B[1;32m---> 81\u001B[0m         \u001B[38;5;28;01mraise\u001B[39;00m ExecutableNotFound(cmd) \u001B[38;5;28;01mfrom\u001B[39;00m \u001B[38;5;21;01me\u001B[39;00m\n\u001B[0;32m     82\u001B[0m     \u001B[38;5;28;01mraise\u001B[39;00m\n\u001B[0;32m     84\u001B[0m \u001B[38;5;28;01mif\u001B[39;00m \u001B[38;5;129;01mnot\u001B[39;00m quiet \u001B[38;5;129;01mand\u001B[39;00m proc\u001B[38;5;241m.\u001B[39mstderr:\n",
      "\u001B[1;31mExecutableNotFound\u001B[0m: failed to execute WindowsPath('dot'), make sure the Graphviz executables are on your systems' PATH"
     ]
    }
   ],
   "source": [
    "# here is error\n",
    "# unix_graph.view()"
   ],
   "metadata": {
    "collapsed": false,
    "ExecuteTime": {
     "end_time": "2024-11-17T18:15:22.652652900Z",
     "start_time": "2024-11-17T18:15:22.468610700Z"
    }
   },
   "id": "d03f576e9ba0ed0f"
  },
  {
   "cell_type": "code",
   "execution_count": 23,
   "outputs": [],
   "source": [
    "# from graph, export edges as a tuple to a csv file\n",
    "edges = graph.edges\n",
    "with open('edges_original.csv', 'w', encoding='utf-8') as f:\n",
    "    for edge in edges:\n",
    "        f.write(f'{edge[0]},{edge[1]}\\n')"
   ],
   "metadata": {
    "collapsed": false,
    "ExecuteTime": {
     "end_time": "2024-11-17T18:17:49.680206800Z",
     "start_time": "2024-11-17T18:17:49.658474800Z"
    }
   },
   "id": "90686d00cb16275c"
  },
  {
   "cell_type": "markdown",
   "source": [
    "# Versuchserklärung\n",
    "#### Ziel ist es, Artikelvorschläge zu generieren, die thematisch zu Bienen passen. Dabei werde ich 4 verschiedene Ansätze testen (dabei wird immer der höchste Grad der Knoten betrachtet):\n",
    "#### 1. Extrahiere die Knoten mit dem höchsten Grad (ungefiltert)\n",
    "#### 2. Betrachte nur die direkten Nachfolger von Bienen\n",
    "#### 3. Betrachte nur die Knoten, die zu Bienen verlinkt sind\n",
    "#### 4. Betrachte nur die direkten Nachfolger von Bienen, die auch eine Verbindung zurück zu Bienen haben (beide Bedingungen)\n",
    "\n",
    "#### Die Tests 2-4 wurde ich sowohl am Hauptgraphen, als auch an einem Subgraphen durchführen, um zu schauen ob dies ein Unterschied macht."
   ],
   "metadata": {
    "collapsed": false
   },
   "id": "2383b2dee7e06da8"
  },
  {
   "cell_type": "markdown",
   "source": [
    "# Versuch 1: Extrahiere die Knoten mit dem höchsten Grad\n",
    "#### Im ersten Versuch werden die Knoten mit dem höchsten Grad extrahiert. Man kann erkennen, dass die Artikelvorschläge zu oberflächlich sind. "
   ],
   "metadata": {
    "collapsed": false
   },
   "id": "7ef8a3b36869698c"
  },
  {
   "cell_type": "code",
   "execution_count": 24,
   "outputs": [
    {
     "name": "stdout",
     "output_type": "stream",
     "text": [
      "[('Deutschland', 2368), ('New York City', 871), ('Bernstein', 713)]\n"
     ]
    }
   ],
   "source": [
    "# print the top 3 nodes with the highest degree\n",
    "top_3_nodes = sorted(graph.degree, key=lambda x: x[1], reverse=True)[:3]\n",
    "print(top_3_nodes)"
   ],
   "metadata": {
    "collapsed": false,
    "ExecuteTime": {
     "end_time": "2024-11-17T18:20:49.418938200Z",
     "start_time": "2024-11-17T18:20:49.389604400Z"
    }
   },
   "id": "225409fbb91437cb"
  },
  {
   "cell_type": "markdown",
   "source": [
    "# Versuch 2: Extrahiere die direkten Nachfolger von Bienen\n",
    "#### Um die Auswahl passender Artikel einzuschränken, werden nur die direkten Nachfolger von Bienen betrachtet.\n",
    "#### Diese neue Bedingung soll dazu führen, nur Artikel in Betracht zu ziehen, die auch von der Biene refenziert werden.\n",
    "\n",
    "#### Getestet habe ich diese Bedinung an zwei Graphen:\n",
    "#### 1. Der ursprüngliche Graph\n",
    "#### 2. Ein Subgraph, der nur die Knoten enthält, die von Bienen referenziert werden.\n",
    " "
   ],
   "metadata": {
    "collapsed": false
   },
   "id": "4ecf83959c4a3895"
  },
  {
   "cell_type": "code",
   "execution_count": 108,
   "outputs": [],
   "source": [
    "links_bienen = get_links(bienen_page)"
   ],
   "metadata": {
    "collapsed": false,
    "ExecuteTime": {
     "end_time": "2024-11-17T20:58:03.289521400Z",
     "start_time": "2024-11-17T20:58:03.272649200Z"
    }
   },
   "id": "465b96295624890a"
  },
  {
   "cell_type": "code",
   "execution_count": 109,
   "outputs": [],
   "source": [
    "reduced_node_list = [node for node in graph.nodes() if node in links_bienen]"
   ],
   "metadata": {
    "collapsed": false,
    "ExecuteTime": {
     "end_time": "2024-11-17T20:58:03.693372500Z",
     "start_time": "2024-11-17T20:58:03.669355600Z"
    }
   },
   "id": "b152ba4c2f58b3be"
  },
  {
   "cell_type": "markdown",
   "source": [
    "## Erstelle Subgraphen und extrahiere die Knoten mit dem höchsten Grad\n",
    "#### Hier wird ein Subgraph erstellt, der nur die Knoten enthält, die direkte Nachfolger von Bienen sind.\n",
    "#### Die Ergebnisse sind besser, als die des ursprünglichen Graphen."
   ],
   "metadata": {
    "collapsed": false
   },
   "id": "e5e65ada1b4330e9"
  },
  {
   "cell_type": "code",
   "execution_count": 99,
   "outputs": [],
   "source": [
    "# create a subgraph\n",
    "subgraph = graph.subgraph(reduced_node_list)"
   ],
   "metadata": {
    "collapsed": false,
    "ExecuteTime": {
     "end_time": "2024-11-17T20:57:07.510438900Z",
     "start_time": "2024-11-17T20:57:07.496342400Z"
    }
   },
   "id": "acf0c55938207a96"
  },
  {
   "cell_type": "code",
   "execution_count": 100,
   "outputs": [
    {
     "name": "stdout",
     "output_type": "stream",
     "text": [
      "[('Systematik (Biologie)', 92), ('Gemeinsame Normdatei', 89), ('Nomenklatur (Biologie)', 77)]\n"
     ]
    }
   ],
   "source": [
    "top_3_reduced_nodes = sorted(subgraph.degree(), key=lambda x: x[1], reverse=True)[:3]\n",
    "print(top_3_reduced_nodes)"
   ],
   "metadata": {
    "collapsed": false,
    "ExecuteTime": {
     "end_time": "2024-11-17T20:57:08.203843900Z",
     "start_time": "2024-11-17T20:57:08.191114100Z"
    }
   },
   "id": "a62f0beaa28f76c1"
  },
  {
   "cell_type": "markdown",
   "source": [
    "## Extrahiere Knoten mit dem höchsten Grad aus Hauptgraphen\n",
    "#### Hier zeigt die Zusatzbedingung keine Verbesserung."
   ],
   "metadata": {
    "collapsed": false
   },
   "id": "2d7f3c23e61bc87c"
  },
  {
   "cell_type": "code",
   "execution_count": 101,
   "outputs": [
    {
     "name": "stdout",
     "output_type": "stream",
     "text": [
      "[('Deutschland', 2368), ('New York City', 871), ('Bernstein', 713)]\n"
     ]
    }
   ],
   "source": [
    "top_3_reduced_nodes = sorted(graph.degree(reduced_node_list), key=lambda x: x[1], reverse=True)[:3]\n",
    "print(top_3_reduced_nodes)"
   ],
   "metadata": {
    "collapsed": false,
    "ExecuteTime": {
     "end_time": "2024-11-17T20:57:09.241558200Z",
     "start_time": "2024-11-17T20:57:09.229079Z"
    }
   },
   "id": "f2a213c91a21883e"
  },
  {
   "cell_type": "markdown",
   "source": [
    "## Zusammenfassung Versuch 2\n",
    "#### Man kann sehen, dass die reine Bedingung an den Knoten des Hauptgraphen noch nicht aussreicht für gute Ergebnisse. -> Zu oberflächliche Themen. Der Subgraph hingegen, schlägt zu spezifische Artikel vor.  "
   ],
   "metadata": {
    "collapsed": false
   },
   "id": "708d75ae0297702d"
  },
  {
   "cell_type": "code",
   "execution_count": 102,
   "outputs": [],
   "source": [
    "# export the subgraph to a csv file\n",
    "edges = subgraph.edges\n",
    "with open('edges_reduced.csv', 'w', encoding='utf-8') as f:\n",
    "    for edge in edges:\n",
    "        f.write(f'{edge[0]},{edge[1]}\\n')"
   ],
   "metadata": {
    "collapsed": false,
    "ExecuteTime": {
     "end_time": "2024-11-17T20:57:10.032824400Z",
     "start_time": "2024-11-17T20:57:10.011017300Z"
    }
   },
   "id": "87c048996690dc8c"
  },
  {
   "cell_type": "markdown",
   "source": [
    "# Versuch 3: Extrahiere Knoten, die zu Bienen verlinkt sind\n",
    "#### Hier wird die Bedingung getestet, dass nur die Knoten betrachtet werden die zu Bienen verlinkt sind.\n",
    "\n",
    "#### Ebenfalls werde ich dies hier am Hauptgraphen und an einem Subgraphen testen."
   ],
   "metadata": {
    "collapsed": false
   },
   "id": "8f3fc4cd2676df85"
  },
  {
   "cell_type": "code",
   "execution_count": 110,
   "outputs": [],
   "source": [
    "nodes_with_edge_to_bienen = [node for node in graph.nodes() if graph.has_edge(node, 'Bienen')]"
   ],
   "metadata": {
    "collapsed": false,
    "ExecuteTime": {
     "end_time": "2024-11-17T21:39:15.506386100Z",
     "start_time": "2024-11-17T21:39:15.489429100Z"
    }
   },
   "id": "27b6e4c2d7b6bd49"
  },
  {
   "cell_type": "markdown",
   "source": [
    "## Mit Ursprungsgaphen\n",
    "#### Es zeigt sich, dass wir ein durchwegs gute Themenvorschläge erhalten."
   ],
   "metadata": {
    "collapsed": false
   },
   "id": "559973a54a5c9380"
  },
  {
   "cell_type": "code",
   "execution_count": 111,
   "outputs": [
    {
     "name": "stdout",
     "output_type": "stream",
     "text": [
      "[('Insekten', 492), ('Holzbienen', 464), ('Tropen', 308)]\n"
     ]
    }
   ],
   "source": [
    "top_3_linked = sorted(graph.degree(nodes_with_edge_to_bienen), key=lambda x: x[1], reverse=True)[:3]\n",
    "print(top_3_linked)"
   ],
   "metadata": {
    "collapsed": false,
    "ExecuteTime": {
     "end_time": "2024-11-17T21:45:14.696825200Z",
     "start_time": "2024-11-17T21:45:14.682994200Z"
    }
   },
   "id": "73105f60a37bd511"
  },
  {
   "cell_type": "markdown",
   "source": [
    "## Mit Subgraphen\n",
    "#### Deutlich erkennt man, dass die Themenvorschläge zu spezifisch sind."
   ],
   "metadata": {
    "collapsed": false
   },
   "id": "24030d4faa8d345c"
  },
  {
   "cell_type": "code",
   "execution_count": 112,
   "outputs": [
    {
     "name": "stdout",
     "output_type": "stream",
     "text": [
      "[('Apoidea', 80), ('Stechimmen', 73), ('Echte Bienen', 59)]\n"
     ]
    }
   ],
   "source": [
    "subgraph_linked = graph.subgraph(nodes_with_edge_to_bienen)\n",
    "top_3_linked = sorted(subgraph_linked.degree(), key=lambda x: x[1], reverse=True)[:3]\n",
    "print(top_3_linked)"
   ],
   "metadata": {
    "collapsed": false,
    "ExecuteTime": {
     "end_time": "2024-11-17T21:48:41.385139Z",
     "start_time": "2024-11-17T21:48:41.366300Z"
    }
   },
   "id": "6cc3d6d555099f98"
  },
  {
   "cell_type": "code",
   "execution_count": 113,
   "outputs": [],
   "source": [
    "# export the subgraph to a csv file\n",
    "edges = subgraph_linked.edges\n",
    "with open('edges_linked.csv', 'w', encoding='utf-8') as f:\n",
    "    for edge in edges:\n",
    "        f.write(f'{edge[0]},{edge[1]}\\n')"
   ],
   "metadata": {
    "collapsed": false,
    "ExecuteTime": {
     "end_time": "2024-11-17T22:17:47.102919600Z",
     "start_time": "2024-11-17T22:17:47.094249600Z"
    }
   },
   "id": "2717ee272f3d51ff"
  },
  {
   "cell_type": "markdown",
   "source": [
    "## Zusammenfassung Versuch 3\n",
    "#### Diese Bedingung sorgt für signifikant bessere Vorschläge am Hauptgraphen. Der Subgraph hingegen, schlägt zu spezifische Artikel vor."
   ],
   "metadata": {
    "collapsed": false
   },
   "id": "231fcef340d0316e"
  },
  {
   "cell_type": "markdown",
   "source": [
    "# Versuch 4: Extrahiere Knoten mit beiden Bedingungen\n",
    "#### Zum Schluss setzten wir beide Bedingungen vorraus. Auch hier wird dies am Hauptgraphen und an einem Subgraphen getestet."
   ],
   "metadata": {
    "collapsed": false
   },
   "id": "7622447e781d8b0b"
  },
  {
   "cell_type": "code",
   "execution_count": 103,
   "outputs": [
    {
     "name": "stdout",
     "output_type": "stream",
     "text": [
      "['Ackerwinde', 'Insekten', 'Spiralhornbienen', 'Anthophora', 'Apoidea', 'Schmuckbienen', 'Stechimmen', 'Taillenwespen', 'Glanzbienen', 'Halictidae', 'Wildbiene', 'Andrenidae', 'Colletidae', 'Grabwespen', 'Hautflügler', 'Melittidae', 'Stenotritidae', 'Tropen', 'Anthidium', 'Große Wollbiene', 'Fleckenbienen', 'Kegelbienen', 'Trauerbienen', 'Westliche Honigbiene', 'Anthophoridae', 'Holzbienen', 'Apinae', 'Eucera', 'Honigbienen', 'Hummeln', 'Kraftbienen', 'Kuckuckshummeln', 'Kurzhornbienen', 'Körbchensammler', 'Melipona', 'Prachtbienen', 'Stachellose Bienen', 'Tetralonia', 'Triepeolus', 'Trigona (Gattung)', 'Crabronidae', 'Imker', 'Arbeitsteilung', 'Subtropen', 'Biene (Begriffsklärung)', 'Bienen (Begriffsklärung)', 'Bienenkönigin', 'Giftstachel', 'Weltbienentag', 'Blutbienen', 'Halictus', 'Lasioglossum', 'Brut', 'Nest', 'Sandbienen', 'Buntbienen', 'Zottelbienen', 'Charles Duncan Michener', 'Osmia', 'Maskenbienen', 'Seidenbienen', 'Kaltgemäßigte Klimazone', 'Kühlgemäßigte Klimazone', 'Dioxys', 'Hoplitis', 'Gemeine Pelzbiene', 'Mauerbienen', 'Graubienen', 'Schlürfbienen', 'Jürgen Tautz', 'Hosenbiene', 'Sozialparasitismus', 'Randolf Menzel', 'Rote Mauerbiene', 'Lars Chittka', 'Schenkelbienen', 'Megachile pluto', 'Sägehornbienen']\n"
     ]
    }
   ],
   "source": [
    "nodes_with_edge_to_bienen_reduced = [node for node in reduced_node_list if graph.has_edge(node, 'Bienen')]\n",
    "print(nodes_with_edge_to_bienen_reduced)"
   ],
   "metadata": {
    "collapsed": false,
    "ExecuteTime": {
     "end_time": "2024-11-17T20:57:10.809081700Z",
     "start_time": "2024-11-17T20:57:10.805308Z"
    }
   },
   "id": "ff6d54ae636d177d"
  },
  {
   "cell_type": "markdown",
   "source": [
    "## Extraktion mit beiden Bedingungen am Hauptgraphen\n",
    "#### Hier wird die Kombination von beiden Bedingungen am Hauptgraphen getestet. Diese Erbnisse unterschieden sich jedoch nicht von den Ergebnissen des dritten Versuchs."
   ],
   "metadata": {
    "collapsed": false
   },
   "id": "e588821a704d1bb6"
  },
  {
   "cell_type": "code",
   "execution_count": 105,
   "outputs": [
    {
     "name": "stdout",
     "output_type": "stream",
     "text": [
      "[('Insekten', 492), ('Holzbienen', 464), ('Tropen', 308)]\n"
     ]
    }
   ],
   "source": [
    "top_3_clean = sorted(graph.degree(nodes_with_edge_to_bienen_reduced), key=lambda x: x[1], reverse=True)[:3]\n",
    "print(top_3_clean)"
   ],
   "metadata": {
    "collapsed": false,
    "ExecuteTime": {
     "end_time": "2024-11-17T20:57:11.866439600Z",
     "start_time": "2024-11-17T20:57:11.855168600Z"
    }
   },
   "id": "b872704e0014af2b"
  },
  {
   "cell_type": "markdown",
   "source": [
    "## Erstellung und Extraktion mit beiden Bedingungen an eines Subgraphen\n",
    "#### Dieser Subgraph enthält nur die Knoten, die beide Bedingungen.\n",
    "#### Hier sind die ebenso wie in Versuch 3 die Themenvorschläge identisch. Das Einzige worin sich die Ergebnisse unterscheiden, ist eine abnahme im Degree."
   ],
   "metadata": {
    "collapsed": false
   },
   "id": "ae0f6fa43448b4c1"
  },
  {
   "cell_type": "code",
   "execution_count": 104,
   "outputs": [],
   "source": [
    "subgraph_clean = graph.subgraph(nodes_with_edge_to_bienen_reduced)"
   ],
   "metadata": {
    "collapsed": false,
    "ExecuteTime": {
     "start_time": "2024-11-17T20:57:11.157235200Z"
    }
   },
   "id": "39d1917cdb74bb07"
  },
  {
   "cell_type": "code",
   "execution_count": 106,
   "outputs": [
    {
     "name": "stdout",
     "output_type": "stream",
     "text": [
      "[('Apoidea', 66), ('Stechimmen', 59), ('Taillenwespen', 35)]\n"
     ]
    }
   ],
   "source": [
    "top_3_clean = sorted(subgraph_clean.degree(nodes_with_edge_to_bienen_reduced), key=lambda x: x[1], reverse=True)[:3]\n",
    "print(top_3_clean)"
   ],
   "metadata": {
    "collapsed": false,
    "ExecuteTime": {
     "end_time": "2024-11-17T20:57:12.993093800Z",
     "start_time": "2024-11-17T20:57:12.974086300Z"
    }
   },
   "id": "eb21aec6fb544da8"
  },
  {
   "cell_type": "code",
   "execution_count": 107,
   "outputs": [],
   "source": [
    "# export the subgraph to a csv file\n",
    "edges = subgraph_clean.edges\n",
    "with open('edges_predecessors.csv', 'w', encoding='utf-8') as f:\n",
    "    for edge in edges:\n",
    "        f.write(f'{edge[0]},{edge[1]}\\n')"
   ],
   "metadata": {
    "collapsed": false,
    "ExecuteTime": {
     "end_time": "2024-11-17T20:57:13.333826500Z",
     "start_time": "2024-11-17T20:57:13.327873900Z"
    }
   },
   "id": "5f8ee229d3b46f61"
  },
  {
   "cell_type": "markdown",
   "source": [
    "## Zusammenfassung Versuch 4:\n",
    "#### Auch hier schneidet der Hauptgraph besser ab als der Subgraph.    "
   ],
   "metadata": {
    "collapsed": false
   },
   "id": "b3348f884a6a7276"
  },
  {
   "cell_type": "markdown",
   "source": [
    "# Fazit\n",
    "#### Die besten Ergebnissen wurden am Hauptgraphen mit der Bedingung erzielt, dass nur die Knoten betrachtet werden, die zu Bienen verlinkt sind. Dass beide Bedungungen erfüllt sein müssen, hat keinen Unterschied gemacht.\n",
    "#### Der Subgraph hat bei allen Versuchen zu spezifische Artikel vorgeschlagen. Dies könnte man damit erklären, dass Informationen vom Hauptgraphen verloren gehen, da nur ein Teil der Knoten betrachtet wird. Dadurch fehlen Ingoing und Outgoing Links, die den Degree beeinflussen.   "
   ],
   "metadata": {
    "collapsed": false
   },
   "id": "412e0ca76c144c90"
  },
  {
   "cell_type": "code",
   "execution_count": null,
   "outputs": [],
   "source": [],
   "metadata": {
    "collapsed": false
   },
   "id": "549b4ec57cb9434f"
  }
 ],
 "metadata": {
  "kernelspec": {
   "display_name": "Python 3",
   "language": "python",
   "name": "python3"
  },
  "language_info": {
   "codemirror_mode": {
    "name": "ipython",
    "version": 2
   },
   "file_extension": ".py",
   "mimetype": "text/x-python",
   "name": "python",
   "nbconvert_exporter": "python",
   "pygments_lexer": "ipython2",
   "version": "2.7.6"
  }
 },
 "nbformat": 4,
 "nbformat_minor": 5
}
