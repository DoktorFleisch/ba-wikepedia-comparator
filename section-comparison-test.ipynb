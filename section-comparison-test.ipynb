{
 "cells": [
  {
   "cell_type": "code",
   "execution_count": 1,
   "id": "initial_id",
   "metadata": {
    "collapsed": true,
    "ExecuteTime": {
     "end_time": "2025-01-16T19:43:52.947265200Z",
     "start_time": "2025-01-16T19:43:45.085652600Z"
    }
   },
   "outputs": [
    {
     "name": "stderr",
     "output_type": "stream",
     "text": [
      "[nltk_data] Downloading package stopwords to\n",
      "[nltk_data]     C:\\Users\\danie\\AppData\\Roaming\\nltk_data...\n",
      "[nltk_data]   Package stopwords is already up-to-date!\n",
      "[nltk_data] Downloading package punkt to\n",
      "[nltk_data]     C:\\Users\\danie\\AppData\\Roaming\\nltk_data...\n",
      "[nltk_data]   Package punkt is already up-to-date!\n",
      "[nltk_data] Downloading package stopwords to\n",
      "[nltk_data]     C:\\Users\\danie\\AppData\\Roaming\\nltk_data...\n",
      "[nltk_data]   Package stopwords is already up-to-date!\n",
      "[nltk_data] Downloading package punkt to\n",
      "[nltk_data]     C:\\Users\\danie\\AppData\\Roaming\\nltk_data...\n",
      "[nltk_data]   Package punkt is already up-to-date!\n"
     ]
    }
   ],
   "source": [
    "from analyzer.WikiAnalyzer import WikiAnalyzer\n",
    "from analyzer.EmbeddingService import SentenceTransformerEmbeddingService\n",
    "from analyzer.ArticleProcessor import ArticleProcessor\n",
    "from analyzer.Comparator import SimpleDistanceComparator\n",
    "from analyzer.Translator import FaceBookTranslatorProvider"
   ]
  },
  {
   "cell_type": "code",
   "execution_count": 2,
   "outputs": [],
   "source": [
    "def get_similarity_matrix_with_simple_comparator(first_article,\n",
    "                          second_article,\n",
    "                          first_lang,\n",
    "                          second_lang,\n",
    "                          base_lang,\n",
    "                          translator,\n",
    "                          model, approach, splitting):\n",
    "\n",
    "  article_processor = ArticleProcessor(\n",
    "        first_article=first_article,\n",
    "        second_article=second_article,\n",
    "        first_lang=first_lang,\n",
    "        second_lang=second_lang,\n",
    "        base_lang=base_lang,\n",
    "        translator=translator\n",
    "    )\n",
    "\n",
    "  comparator = SimpleDistanceComparator(metric=\"average\",\n",
    "                                        approach=approach,\n",
    "                                        #tokenizer=tokenizer,\n",
    "                                        model=model,\n",
    "                                        splitting=splitting,\n",
    "                                        doPlots=False)\n",
    "\n",
    "  wikianalyzer = WikiAnalyzer(article_processor=article_processor, comparator=comparator)\n",
    "\n",
    "  return wikianalyzer.analyze()"
   ],
   "metadata": {
    "collapsed": false,
    "ExecuteTime": {
     "end_time": "2025-01-16T19:43:52.947265200Z",
     "start_time": "2025-01-16T19:43:52.939475600Z"
    }
   },
   "id": "f01e1ee59c0700b"
  },
  {
   "cell_type": "code",
   "execution_count": 3,
   "outputs": [
    {
     "name": "stderr",
     "output_type": "stream",
     "text": [
      "Some weights of FSMTForConditionalGeneration were not initialized from the model checkpoint at facebook/wmt19-de-en and are newly initialized: ['model.decoder.embed_positions.weight', 'model.encoder.embed_positions.weight']\n",
      "You should probably TRAIN this model on a down-stream task to be able to use it for predictions and inference.\n",
      "Some weights of FSMTForConditionalGeneration were not initialized from the model checkpoint at facebook/wmt19-en-de and are newly initialized: ['model.decoder.embed_positions.weight', 'model.encoder.embed_positions.weight']\n",
      "You should probably TRAIN this model on a down-stream task to be able to use it for predictions and inference.\n"
     ]
    }
   ],
   "source": [
    "translator_de_en = FaceBookTranslatorProvider(\"de\", \"en\")\n",
    "translator_en_de = FaceBookTranslatorProvider(\"en\", \"de\")"
   ],
   "metadata": {
    "collapsed": false,
    "ExecuteTime": {
     "end_time": "2025-01-16T19:43:57.462518500Z",
     "start_time": "2025-01-16T19:43:52.947265200Z"
    }
   },
   "id": "180c9507e779c879"
  },
  {
   "cell_type": "code",
   "execution_count": 4,
   "outputs": [],
   "source": [
    "sentence_transformer_service = SentenceTransformerEmbeddingService('sentence-transformers/all-mpnet-base-v2')"
   ],
   "metadata": {
    "collapsed": false,
    "ExecuteTime": {
     "end_time": "2025-01-16T19:43:59.331274500Z",
     "start_time": "2025-01-16T19:43:57.462518500Z"
    }
   },
   "id": "c7daa97f1444afb0"
  },
  {
   "cell_type": "code",
   "execution_count": 5,
   "outputs": [
    {
     "name": "stdout",
     "output_type": "stream",
     "text": [
      "caching the fileEntwicklungsgeschichte-Zielesubset_to_subset.pkl\n",
      "caching the fileDefinition and purpose-Historysubset_to_subset.pkl\n"
     ]
    }
   ],
   "source": [
    "result_pyth_de_en_simple_cos_sent = get_similarity_matrix_with_simple_comparator(\"Python (Programmiersprache)\", \"Operating system\", 'de', 'en', 'en', translator_de_en, sentence_transformer_service, \"test\", \"sentence-wise\") "
   ],
   "metadata": {
    "collapsed": false,
    "ExecuteTime": {
     "end_time": "2025-01-16T19:44:48.616902600Z",
     "start_time": "2025-01-16T19:43:59.331274500Z"
    }
   },
   "id": "cde35447b3059627"
  },
  {
   "cell_type": "code",
   "execution_count": 19,
   "outputs": [
    {
     "name": "stdout",
     "output_type": "stream",
     "text": [
      "caching the fileEntwicklungsgeschichte-Zielesubset_to_subset.pkl\n",
      "caching the fileDefinitions-Syntaxsubset_to_subset.pkl\n"
     ]
    }
   ],
   "source": [
    "result_pl_de_en_simple_cos_sent = get_similarity_matrix_with_simple_comparator(\"Python (Programmiersprache)\", \"Programming language\", 'de', 'en', 'en', translator_de_en, sentence_transformer_service, \"test\", \"sentence-wise\")"
   ],
   "metadata": {
    "collapsed": false,
    "ExecuteTime": {
     "end_time": "2025-01-16T20:07:13.777174900Z",
     "start_time": "2025-01-16T20:06:25.381554300Z"
    }
   },
   "id": "2aab75e98d37d815"
  },
  {
   "cell_type": "code",
   "execution_count": 28,
   "outputs": [],
   "source": [
    "result_list_op_cos = result_pyth_de_en_simple_cos_sent\n",
    "result_list_pl_cos = result_pl_de_en_simple_cos_sent"
   ],
   "metadata": {
    "collapsed": false,
    "ExecuteTime": {
     "end_time": "2025-01-16T20:08:27.921565200Z",
     "start_time": "2025-01-16T20:08:27.904290300Z"
    }
   },
   "id": "acac7a8dff5c25a2"
  },
  {
   "cell_type": "code",
   "execution_count": 29,
   "outputs": [
    {
     "name": "stdout",
     "output_type": "stream",
     "text": [
      "[('Entwicklungsgeschichte', 'Definition and purpose', 0.12388312816619873), ('Entwicklungsgeschichte', 'History', 0.16878806054592133), ('Entwicklungsgeschichte', 'Microcomputers', 0.1449604481458664), ('Entwicklungsgeschichte', 'Kernel', 0.07741142064332962), ('Entwicklungsgeschichte', 'Concurrency', 0.12214139848947525), ('Entwicklungsgeschichte', 'File system', 0.09072127193212509), ('Entwicklungsgeschichte', 'Security', 0.13604500889778137), ('Entwicklungsgeschichte', 'User interface', 0.08555351197719574), ('Entwicklungsgeschichte', 'Operating system development as a hobby', 0.2504715323448181), ('Entwicklungsgeschichte', 'Diversity of operating systems and portability', 0.1207830011844635), ('Entwicklungsgeschichte', 'Popular operating systems', 0.08548746258020401), ('Entwicklungsgeschichte', 'Linux', 0.17669008672237396), ('Entwicklungsgeschichte', 'Microsoft Windows', 0.18007750809192657), ('Ziele', 'Definition and purpose', 0.1758456826210022), ('Ziele', 'History', 0.1414002925157547), ('Ziele', 'Microcomputers', 0.1399964690208435), ('Ziele', 'Kernel', 0.0743214339017868), ('Ziele', 'Concurrency', 0.10602174699306488), ('Ziele', 'File system', 0.10399075597524643), ('Ziele', 'Security', 0.12858062982559204), ('Ziele', 'User interface', 0.08966667950153351), ('Ziele', 'Operating system development as a hobby', 0.2283085435628891), ('Ziele', 'Diversity of operating systems and portability', 0.12822653353214264), ('Ziele', 'Popular operating systems', 0.08703511208295822), ('Ziele', 'Linux', 0.19599245488643646), ('Ziele', 'Microsoft Windows', 0.20508815348148346), ('Datentypen und Strukturen', 'Definition and purpose', 0.1544494479894638), ('Datentypen und Strukturen', 'History', 0.13619151711463928), ('Datentypen und Strukturen', 'Microcomputers', 0.13977046310901642), ('Datentypen und Strukturen', 'Kernel', 0.08038642257452011), ('Datentypen und Strukturen', 'Concurrency', 0.11593920737504959), ('Datentypen und Strukturen', 'File system', 0.09673638641834259), ('Datentypen und Strukturen', 'Security', 0.12550653517246246), ('Datentypen und Strukturen', 'User interface', 0.0849556177854538), ('Datentypen und Strukturen', 'Operating system development as a hobby', 0.22267067432403564), ('Datentypen und Strukturen', 'Diversity of operating systems and portability', 0.13598603010177612), ('Datentypen und Strukturen', 'Popular operating systems', 0.08700747042894363), ('Datentypen und Strukturen', 'Linux', 0.2012501060962677), ('Datentypen und Strukturen', 'Microsoft Windows', 0.18562498688697815), ('Objektsystem', 'Definition and purpose', 0.10375349223613739), ('Objektsystem', 'History', 0.13826337456703186), ('Objektsystem', 'Microcomputers', 0.09844987839460373), ('Objektsystem', 'Kernel', 0.048144277185201645), ('Objektsystem', 'Concurrency', 0.10168713331222534), ('Objektsystem', 'File system', 0.09217190742492676), ('Objektsystem', 'Security', 0.11403664201498032), ('Objektsystem', 'User interface', 0.09012259542942047), ('Objektsystem', 'Operating system development as a hobby', 0.2113359421491623), ('Objektsystem', 'Diversity of operating systems and portability', 0.10099422186613083), ('Objektsystem', 'Popular operating systems', 0.06140688434243202), ('Objektsystem', 'Linux', 0.11229141801595688), ('Objektsystem', 'Microsoft Windows', 0.12785321474075317), ('Syntax', 'Definition and purpose', 0.09104441851377487), ('Syntax', 'History', 0.11621593683958054), ('Syntax', 'Microcomputers', 0.10749998688697815), ('Syntax', 'Kernel', 0.03537008538842201), ('Syntax', 'Concurrency', 0.09766267985105515), ('Syntax', 'File system', 0.08619371801614761), ('Syntax', 'Security', 0.09075068682432175), ('Syntax', 'User interface', 0.06291020661592484), ('Syntax', 'Operating system development as a hobby', 0.15689213573932648), ('Syntax', 'Diversity of operating systems and portability', 0.07383038103580475), ('Syntax', 'Popular operating systems', 0.08122143894433975), ('Syntax', 'Linux', 0.12329185009002686), ('Syntax', 'Microsoft Windows', 0.1561182588338852), ('Strukturierung durch Einrücken', 'Definition and purpose', 0.09835081547498703), ('Strukturierung durch Einrücken', 'History', 0.12992645800113678), ('Strukturierung durch Einrücken', 'Microcomputers', 0.1361500322818756), ('Strukturierung durch Einrücken', 'Kernel', 0.07641981542110443), ('Strukturierung durch Einrücken', 'Concurrency', 0.11449924856424332), ('Strukturierung durch Einrücken', 'File system', 0.0964445248246193), ('Strukturierung durch Einrücken', 'Security', 0.10621839761734009), ('Strukturierung durch Einrücken', 'User interface', 0.07289700210094452), ('Strukturierung durch Einrücken', 'Operating system development as a hobby', 0.1879502385854721), ('Strukturierung durch Einrücken', 'Diversity of operating systems and portability', 0.0626915991306305), ('Strukturierung durch Einrücken', 'Popular operating systems', 0.0896439254283905), ('Strukturierung durch Einrücken', 'Linux', 0.10714952647686005), ('Strukturierung durch Einrücken', 'Microsoft Windows', 0.1158408597111702), ('Funktionales Programmieren', 'Definition and purpose', 0.11169718950986862), ('Funktionales Programmieren', 'History', 0.1540808230638504), ('Funktionales Programmieren', 'Microcomputers', 0.11285849660634995), ('Funktionales Programmieren', 'Kernel', 0.04157138615846634), ('Funktionales Programmieren', 'Concurrency', 0.11548573523759842), ('Funktionales Programmieren', 'File system', 0.10123423486948013), ('Funktionales Programmieren', 'Security', 0.10908188670873642), ('Funktionales Programmieren', 'User interface', 0.08513329923152924), ('Funktionales Programmieren', 'Operating system development as a hobby', 0.21021035313606262), ('Funktionales Programmieren', 'Diversity of operating systems and portability', 0.11478213220834732), ('Funktionales Programmieren', 'Popular operating systems', 0.06463833153247833), ('Funktionales Programmieren', 'Linux', 0.14569330215454102), ('Funktionales Programmieren', 'Microsoft Windows', 0.17070245742797852), ('Ausnahmebehandlung', 'Definition and purpose', 0.14079003036022186), ('Ausnahmebehandlung', 'History', 0.18339070677757263), ('Ausnahmebehandlung', 'Microcomputers', 0.19236034154891968), ('Ausnahmebehandlung', 'Kernel', 0.10356774926185608), ('Ausnahmebehandlung', 'Concurrency', 0.18482892215251923), ('Ausnahmebehandlung', 'File system', 0.12603126466274261), ('Ausnahmebehandlung', 'Security', 0.15375833213329315), ('Ausnahmebehandlung', 'User interface', 0.08664378523826599), ('Ausnahmebehandlung', 'Operating system development as a hobby', 0.23578599095344543), ('Ausnahmebehandlung', 'Diversity of operating systems and portability', 0.21315668523311615), ('Ausnahmebehandlung', 'Popular operating systems', 0.1333400011062622), ('Ausnahmebehandlung', 'Linux', 0.28391358256340027), ('Ausnahmebehandlung', 'Microsoft Windows', 0.20036466419696808), ('Standardbibliothek', 'Definition and purpose', 0.15831004083156586), ('Standardbibliothek', 'History', 0.16961506009101868), ('Standardbibliothek', 'Microcomputers', 0.14007756114006042), ('Standardbibliothek', 'Kernel', 0.09546520560979843), ('Standardbibliothek', 'Concurrency', 0.10865584015846252), ('Standardbibliothek', 'File system', 0.10959606617689133), ('Standardbibliothek', 'Security', 0.12442363798618317), ('Standardbibliothek', 'User interface', 0.07639089226722717), ('Standardbibliothek', 'Operating system development as a hobby', 0.26031461358070374), ('Standardbibliothek', 'Diversity of operating systems and portability', 0.14825841784477234), ('Standardbibliothek', 'Popular operating systems', 0.08657143265008926), ('Standardbibliothek', 'Linux', 0.2002417892217636), ('Standardbibliothek', 'Microsoft Windows', 0.20007048547267914), ('Grafische Benutzeroberflächen (GUI)', 'Definition and purpose', 0.16089625656604767), ('Grafische Benutzeroberflächen (GUI)', 'History', 0.22037574648857117), ('Grafische Benutzeroberflächen (GUI)', 'Microcomputers', 0.17234009504318237), ('Grafische Benutzeroberflächen (GUI)', 'Kernel', 0.09039831906557083), ('Grafische Benutzeroberflächen (GUI)', 'Concurrency', 0.16455663740634918), ('Grafische Benutzeroberflächen (GUI)', 'File system', 0.13129979372024536), ('Grafische Benutzeroberflächen (GUI)', 'Security', 0.15304772555828094), ('Grafische Benutzeroberflächen (GUI)', 'User interface', 0.11453508585691452), ('Grafische Benutzeroberflächen (GUI)', 'Operating system development as a hobby', 0.29173529148101807), ('Grafische Benutzeroberflächen (GUI)', 'Diversity of operating systems and portability', 0.14102326333522797), ('Grafische Benutzeroberflächen (GUI)', 'Popular operating systems', 0.10002493858337402), ('Grafische Benutzeroberflächen (GUI)', 'Linux', 0.16963151097297668), ('Grafische Benutzeroberflächen (GUI)', 'Microsoft Windows', 0.2411678433418274), ('Beispiel', 'Definition and purpose', 0.06528784334659576), ('Beispiel', 'History', 0.04847828298807144), ('Beispiel', 'Microcomputers', 0.07897475361824036), ('Beispiel', 'Kernel', 0.06483960896730423), ('Beispiel', 'Concurrency', 0.04765545204281807), ('Beispiel', 'File system', 0.047630518674850464), ('Beispiel', 'Security', 0.04438016191124916), ('Beispiel', 'User interface', 0.05706636980175972), ('Beispiel', 'Operating system development as a hobby', 0.14342470467090607), ('Beispiel', 'Diversity of operating systems and portability', 0.09242461621761322), ('Beispiel', 'Popular operating systems', 0.05274919420480728), ('Beispiel', 'Linux', 0.11220766603946686), ('Beispiel', 'Microsoft Windows', 0.09664218872785568), ('Interaktive Benutzung', 'Definition and purpose', 0.14680328965187073), ('Interaktive Benutzung', 'History', 0.15189437568187714), ('Interaktive Benutzung', 'Microcomputers', 0.14253053069114685), ('Interaktive Benutzung', 'Kernel', 0.07878980785608292), ('Interaktive Benutzung', 'Concurrency', 0.12580138444900513), ('Interaktive Benutzung', 'File system', 0.11299064755439758), ('Interaktive Benutzung', 'Security', 0.14095138013362885), ('Interaktive Benutzung', 'User interface', 0.07608950138092041), ('Interaktive Benutzung', 'Operating system development as a hobby', 0.2649190425872803), ('Interaktive Benutzung', 'Diversity of operating systems and portability', 0.15860144793987274), ('Interaktive Benutzung', 'Popular operating systems', 0.08725592494010925), ('Interaktive Benutzung', 'Linux', 0.2068142294883728), ('Interaktive Benutzung', 'Microsoft Windows', 0.22017037868499756), ('Implementierungen', 'Definition and purpose', 0.11872842907905579), ('Implementierungen', 'History', 0.1349707543849945), ('Implementierungen', 'Microcomputers', 0.12698489427566528), ('Implementierungen', 'Kernel', 0.06734304875135422), ('Implementierungen', 'Concurrency', 0.09993371367454529), ('Implementierungen', 'File system', 0.07561898231506348), ('Implementierungen', 'Security', 0.1093982383608818), ('Implementierungen', 'User interface', 0.0811229720711708), ('Implementierungen', 'Operating system development as a hobby', 0.21188251674175262), ('Implementierungen', 'Diversity of operating systems and portability', 0.09265390038490295), ('Implementierungen', 'Popular operating systems', 0.0742657333612442), ('Implementierungen', 'Linux', 0.13009701669216156), ('Implementierungen', 'Microsoft Windows', 0.13258950412273407)]\n"
     ]
    }
   ],
   "source": [
    "print(result_list_op_cos)"
   ],
   "metadata": {
    "collapsed": false,
    "ExecuteTime": {
     "end_time": "2025-01-16T20:08:32.122071100Z",
     "start_time": "2025-01-16T20:08:32.104315100Z"
    }
   },
   "id": "43a244716fff1da9"
  },
  {
   "cell_type": "code",
   "execution_count": 11,
   "outputs": [
    {
     "name": "stdout",
     "output_type": "stream",
     "text": [
      "('Grafische Benutzeroberflächen (GUI)', 'History', 0.22037574648857117)\n"
     ]
    }
   ],
   "source": [
    "# print all tuples who contain the word \"History\" and their similarity is highest\n",
    "# Find the maximum similarity value among tuples that contain the word \"History\"\n",
    "max_similarity = max(tup[2] for tup in result_list_op_cos if \"History\" in tup[1])\n",
    "\n",
    "# Print all tuples that contain the word \"History\" and have the highest similarity\n",
    "for tup in result_list_op_cos:\n",
    "  if \"History\" in tup[1] and tup[2] == max_similarity:\n",
    "    print(tup)"
   ],
   "metadata": {
    "collapsed": false,
    "ExecuteTime": {
     "end_time": "2025-01-16T19:49:16.329223400Z",
     "start_time": "2025-01-16T19:49:16.329223400Z"
    }
   },
   "id": "1d6a6a2e6d4e0514"
  },
  {
   "cell_type": "markdown",
   "source": [
    "# Für Python (Programmiersprache) werden die Artikel Operating System und Programming Language vorgeschlagen.\n",
    "\n",
    "Vom Artikel Operating System werden die Abschnitte Popular operating systems, Kernel und Concurrency empfohlen.\n",
    "\n",
    "Vom Artikel Programming Language werden die Abschnitte Exception handling, Dialects, flavors and implementations und Implementation vorgeschlagen.\n",
    "\n",
    "Für diese Abschnitte verwenden wir nun Kosinus-Ähnlichkeit, um die Ähnlichkeit zwischen den Abschnitten zu berechnen."
   ],
   "metadata": {
    "collapsed": false
   },
   "id": "8b7546f428e92b1e"
  },
  {
   "cell_type": "code",
   "execution_count": 24,
   "outputs": [],
   "source": [
    "chapter_list_op = [\"Popular operating systems\", \"Kernel\", \"Concurrency\"]\n",
    "chapter_list_pl = [\"Exception handling\", \"Dialects, flavors and implementations\", \"Implementation\"]"
   ],
   "metadata": {
    "collapsed": false,
    "ExecuteTime": {
     "end_time": "2025-01-16T20:08:00.138437700Z",
     "start_time": "2025-01-16T20:08:00.131912100Z"
    }
   },
   "id": "4bb98cc98d179119"
  },
  {
   "cell_type": "code",
   "execution_count": 30,
   "outputs": [],
   "source": [
    "result_list_op = []\n",
    "result_list_pl = []\n",
    "\n",
    "for chapter in chapter_list_op:\n",
    "    chapter_tuples = [tup for tup in result_list_op_cos if chapter in tup[1]]\n",
    "    if chapter_tuples:\n",
    "        max_similarity_tuple = max(chapter_tuples, key=lambda x: x[2])\n",
    "        result_list_op.append(max_similarity_tuple)\n",
    "\n",
    "for chapter in chapter_list_pl:\n",
    "    chapter_tuples = [tup for tup in result_list_pl_cos if chapter in tup[1]]\n",
    "    if chapter_tuples:\n",
    "        max_similarity_tuple = max(chapter_tuples, key=lambda x: x[2])\n",
    "        result_list_pl.append(max_similarity_tuple)"
   ],
   "metadata": {
    "collapsed": false,
    "ExecuteTime": {
     "end_time": "2025-01-16T20:09:09.699135900Z",
     "start_time": "2025-01-16T20:09:09.684575500Z"
    }
   },
   "id": "50ee944c76481830"
  },
  {
   "cell_type": "code",
   "execution_count": 31,
   "outputs": [
    {
     "name": "stdout",
     "output_type": "stream",
     "text": [
      "[('Ausnahmebehandlung', 'Popular operating systems', 0.1333400011062622), ('Ausnahmebehandlung', 'Kernel', 0.10356774926185608), ('Ausnahmebehandlung', 'Concurrency', 0.18482892215251923)]\n"
     ]
    }
   ],
   "source": [
    "print(result_list_op)"
   ],
   "metadata": {
    "collapsed": false,
    "ExecuteTime": {
     "end_time": "2025-01-16T20:09:10.453273500Z",
     "start_time": "2025-01-16T20:09:10.337798600Z"
    }
   },
   "id": "42015b3ce4bc06f3"
  },
  {
   "cell_type": "code",
   "execution_count": 32,
   "outputs": [
    {
     "name": "stdout",
     "output_type": "stream",
     "text": [
      "[('Ausnahmebehandlung', 'Exception handling', 0.26699426770210266), ('Grafische Benutzeroberflächen (GUI)', 'Dialects, flavors and implementations', 0.3241777718067169), ('Interaktive Benutzung', 'Implementation', 0.2879509925842285)]\n"
     ]
    }
   ],
   "source": [
    "print(result_list_pl)"
   ],
   "metadata": {
    "collapsed": false,
    "ExecuteTime": {
     "end_time": "2025-01-16T20:09:15.602604800Z",
     "start_time": "2025-01-16T20:09:15.596163700Z"
    }
   },
   "id": "f027c30bb6f566aa"
  },
  {
   "cell_type": "code",
   "execution_count": null,
   "outputs": [],
   "source": [],
   "metadata": {
    "collapsed": false
   },
   "id": "9b43899ffa3475f6"
  }
 ],
 "metadata": {
  "kernelspec": {
   "display_name": "Python 3",
   "language": "python",
   "name": "python3"
  },
  "language_info": {
   "codemirror_mode": {
    "name": "ipython",
    "version": 2
   },
   "file_extension": ".py",
   "mimetype": "text/x-python",
   "name": "python",
   "nbconvert_exporter": "python",
   "pygments_lexer": "ipython2",
   "version": "2.7.6"
  }
 },
 "nbformat": 4,
 "nbformat_minor": 5
}
