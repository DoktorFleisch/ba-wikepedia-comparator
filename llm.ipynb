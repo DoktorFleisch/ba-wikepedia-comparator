{
 "cells": [
  {
   "cell_type": "code",
   "execution_count": 1,
   "id": "initial_id",
   "metadata": {
    "collapsed": true,
    "ExecuteTime": {
     "end_time": "2025-01-09T07:24:29.389931700Z",
     "start_time": "2025-01-09T07:24:20.504325800Z"
    }
   },
   "outputs": [],
   "source": [
    "from analyzer.Translator import FaceBookTranslatorProvider"
   ]
  },
  {
   "cell_type": "code",
   "execution_count": 3,
   "outputs": [],
   "source": [
    "from transformers import pipeline"
   ],
   "metadata": {
    "collapsed": false,
    "ExecuteTime": {
     "end_time": "2025-01-09T07:25:19.001353500Z",
     "start_time": "2025-01-09T07:25:17.159392200Z"
    }
   },
   "id": "1d5a62c6d6bb569b"
  },
  {
   "cell_type": "code",
   "execution_count": 2,
   "outputs": [
    {
     "name": "stderr",
     "output_type": "stream",
     "text": [
      "Some weights of FSMTForConditionalGeneration were not initialized from the model checkpoint at facebook/wmt19-en-de and are newly initialized: ['model.decoder.embed_positions.weight', 'model.encoder.embed_positions.weight']\n",
      "You should probably TRAIN this model on a down-stream task to be able to use it for predictions and inference.\n"
     ]
    }
   ],
   "source": [
    "translator_en_de = FaceBookTranslatorProvider(\"en\", \"de\")"
   ],
   "metadata": {
    "collapsed": false,
    "ExecuteTime": {
     "end_time": "2025-01-09T07:24:51.268023200Z",
     "start_time": "2025-01-09T07:24:45.938902Z"
    }
   },
   "id": "2da46cafc7f4bd3f"
  },
  {
   "cell_type": "code",
   "execution_count": 4,
   "outputs": [
    {
     "name": "stderr",
     "output_type": "stream",
     "text": [
      "Hardware accelerator e.g. GPU is available in the environment, but no `device` argument is passed to the `Pipeline` object. Model will be on CPU.\n"
     ]
    }
   ],
   "source": [
    "translator_opus = pipeline(\"translation\", model=\"Helsinki-NLP/opus-mt-en-de\")"
   ],
   "metadata": {
    "collapsed": false,
    "ExecuteTime": {
     "end_time": "2025-01-09T07:26:03.584350800Z",
     "start_time": "2025-01-09T07:26:00.688564300Z"
    }
   },
   "id": "902d9a60256dc857"
  },
  {
   "cell_type": "code",
   "execution_count": 5,
   "outputs": [],
   "source": [
    "text_to_translate = \"The cat (Felis catus), also referred to as the domestic cat, is a small domesticated carnivorous mammal. It is the only domesticated species of the family Felidae. Advances in archaeology and genetics have shown that the domestication of the cat occurred in the Near East around 7500 BC. It is commonly kept as a pet and farm cat, but also ranges freely as a feral cat avoiding human contact. It is valued by humans for companionship and its ability to kill vermin. Its retractable claws are adapted to killing small prey species such as mice and rats. It has a strong, flexible body, quick reflexes, and sharp teeth, and its night vision and sense of smell are well developed. It is a social species, but a solitary hunter and a crepuscular predator. Cat communication includes vocalizations—including meowing, purring, trilling, hissing, growling, and grunting—as well as body language. It can hear sounds too faint or too high in frequency for human ears, such as those made by small mammals. It secretes and perceives pheromones.\""
   ],
   "metadata": {
    "collapsed": false,
    "ExecuteTime": {
     "end_time": "2025-01-09T07:26:56.922623400Z",
     "start_time": "2025-01-09T07:26:56.922117400Z"
    }
   },
   "id": "1a809876e22d5fd4"
  },
  {
   "cell_type": "code",
   "execution_count": 6,
   "outputs": [],
   "source": [
    "translated_text_opus = translator_opus(text_to_translate)"
   ],
   "metadata": {
    "collapsed": false,
    "ExecuteTime": {
     "end_time": "2025-01-09T07:27:23.728847100Z",
     "start_time": "2025-01-09T07:27:17.624445100Z"
    }
   },
   "id": "7c2d15d6fdbecade"
  },
  {
   "cell_type": "code",
   "execution_count": 8,
   "outputs": [],
   "source": [
    "translated_text_en_de = translator_en_de.translate_text(text_to_translate)"
   ],
   "metadata": {
    "collapsed": false,
    "ExecuteTime": {
     "end_time": "2025-01-09T07:28:08.117839200Z",
     "start_time": "2025-01-09T07:28:04.707033200Z"
    }
   },
   "id": "cf40102fed7fe942"
  },
  {
   "cell_type": "code",
   "execution_count": 9,
   "outputs": [
    {
     "name": "stdout",
     "output_type": "stream",
     "text": [
      "[{'translation_text': 'Die Katze (Felis catus), auch als Hauskatze bezeichnet, ist ein kleines domestiziertes fleischfressendes Säugetier. Sie ist die einzige domestizierte Art der Familie Felidae. Fortschritte in der Archäologie und Genetik haben gezeigt, dass die Domestizierung der Katze im Nahen Osten um 7500 v. Chr. stattgefunden hat. Sie wird allgemein als Haustier- und Nutzkatze gehalten, reicht aber auch frei als Wildkatze, die menschlichen Kontakt vermeidet. Sie wird von Menschen für ihre Begleiterschaft und ihre Fähigkeit, Ungeziefer zu töten geschätzt. Ihre versenkbaren Krallen sind an das Töten kleiner Beutearten wie Mäuse und Ratten angepasst. Sie hat einen starken, flexiblen Körper, schnelle Reflexe und scharfe Zähne, und ihre Nachtsicht und Geruchssinn sind gut entwickelt. Sie ist eine soziale Spezies, aber ein einsamer Jäger und ein krepuskulöser Raubtier. Katzenkommunikation umfasst Vokalisierungen – einschließlich mähen, schnurren, trilling, zischen, knurren und grunzen – ebenso wie eine Körpersprache. Sie kann Töne zu schwach oder zu hoch in der Frequenz für menschliche Ohren hören, wie kleine Säugetiere.'}]\n"
     ]
    }
   ],
   "source": [
    "print(translated_text_opus)"
   ],
   "metadata": {
    "collapsed": false,
    "ExecuteTime": {
     "end_time": "2025-01-09T07:28:19.944874600Z",
     "start_time": "2025-01-09T07:28:19.934325200Z"
    }
   },
   "id": "11ed9cd4cd469eb9"
  },
  {
   "cell_type": "code",
   "execution_count": 10,
   "outputs": [
    {
     "name": "stdout",
     "output_type": "stream",
     "text": [
      "Die Katze (Felis catus), auch Hauskatze genannt, ist ein kleines domestiziertes, fleischfressendes Säugetier. Sie ist die einzige domestiziertes Säugetier der Familie Felidae. Fortschritte in der Archäologie und Genetik haben gezeigt, dass die Domestikation der Katze im Nahen Osten um 7500 v. Chr. Sie wird. Sie wird. Sie wird häufig als Haustier als Haustier und Nutzkatze gehalten, ist aber sie ist auch frei als Wildkatze und vermeidet, aber auch frei als Wildkatze. Sie ist auch als Wildkatze und meidet menschlichen Kontakt mit dem Menschen. Sie wird. Sie wird. Sie wird vom Menschen geschätzt. Sie ist aufgrund ihrer Gefährten. Sie ist bei der Gesellschaft und tötet Ungetier. Ihre Fähigkeit zur Tötung von Ungeziefer geschätzt. Ihre Klauen sind gut entwickelt. Ihre Klauen sind an\n"
     ]
    }
   ],
   "source": [
    "print(translated_text_en_de)"
   ],
   "metadata": {
    "collapsed": false,
    "ExecuteTime": {
     "end_time": "2025-01-09T07:28:28.144564100Z",
     "start_time": "2025-01-09T07:28:28.022190800Z"
    }
   },
   "id": "39ee21f9c9335b77"
  },
  {
   "cell_type": "code",
   "execution_count": 11,
   "outputs": [
    {
     "name": "stderr",
     "output_type": "stream",
     "text": [
      "Some weights of FSMTForConditionalGeneration were not initialized from the model checkpoint at facebook/wmt19-de-en and are newly initialized: ['model.decoder.embed_positions.weight', 'model.encoder.embed_positions.weight']\n",
      "You should probably TRAIN this model on a down-stream task to be able to use it for predictions and inference.\n"
     ]
    },
    {
     "data": {
      "text/plain": "config.json:   0%|          | 0.00/1.38k [00:00<?, ?B/s]",
      "application/vnd.jupyter.widget-view+json": {
       "version_major": 2,
       "version_minor": 0,
       "model_id": "ae6b0e20a85d4f638d3cb8ed2fdfba41"
      }
     },
     "metadata": {},
     "output_type": "display_data"
    },
    {
     "name": "stderr",
     "output_type": "stream",
     "text": [
      "C:\\Users\\danie\\Documents\\Uni\\Semester 15\\BA\\ba-translator\\venv\\Lib\\site-packages\\huggingface_hub\\file_download.py:139: UserWarning: `huggingface_hub` cache-system uses symlinks by default to efficiently store duplicated files but your machine does not support them in C:\\Users\\danie\\.cache\\huggingface\\hub\\models--Helsinki-NLP--opus-mt-de-en. Caching files will still work but in a degraded version that might require more space on your disk. This warning can be disabled by setting the `HF_HUB_DISABLE_SYMLINKS_WARNING` environment variable. For more details, see https://huggingface.co/docs/huggingface_hub/how-to-cache#limitations.\n",
      "To support symlinks on Windows, you either need to activate Developer Mode or to run Python as an administrator. In order to activate developer mode, see this article: https://docs.microsoft.com/en-us/windows/apps/get-started/enable-your-device-for-development\n",
      "  warnings.warn(message)\n"
     ]
    },
    {
     "data": {
      "text/plain": "pytorch_model.bin:   0%|          | 0.00/298M [00:00<?, ?B/s]",
      "application/vnd.jupyter.widget-view+json": {
       "version_major": 2,
       "version_minor": 0,
       "model_id": "d5ec5537cdca4bda99ba5a18dae0e353"
      }
     },
     "metadata": {},
     "output_type": "display_data"
    },
    {
     "data": {
      "text/plain": "generation_config.json:   0%|          | 0.00/293 [00:00<?, ?B/s]",
      "application/vnd.jupyter.widget-view+json": {
       "version_major": 2,
       "version_minor": 0,
       "model_id": "0415f1ef566e4361a8b9ccff74233b2b"
      }
     },
     "metadata": {},
     "output_type": "display_data"
    },
    {
     "data": {
      "text/plain": "tokenizer_config.json:   0%|          | 0.00/42.0 [00:00<?, ?B/s]",
      "application/vnd.jupyter.widget-view+json": {
       "version_major": 2,
       "version_minor": 0,
       "model_id": "6b9566b91cc94acdb1df0b7a3f412486"
      }
     },
     "metadata": {},
     "output_type": "display_data"
    },
    {
     "data": {
      "text/plain": "source.spm:   0%|          | 0.00/797k [00:00<?, ?B/s]",
      "application/vnd.jupyter.widget-view+json": {
       "version_major": 2,
       "version_minor": 0,
       "model_id": "55e86a4561534fecb9bc19138fe12e83"
      }
     },
     "metadata": {},
     "output_type": "display_data"
    },
    {
     "data": {
      "text/plain": "target.spm:   0%|          | 0.00/768k [00:00<?, ?B/s]",
      "application/vnd.jupyter.widget-view+json": {
       "version_major": 2,
       "version_minor": 0,
       "model_id": "956699823ac74f39a84198be9425522f"
      }
     },
     "metadata": {},
     "output_type": "display_data"
    },
    {
     "data": {
      "text/plain": "vocab.json:   0%|          | 0.00/1.27M [00:00<?, ?B/s]",
      "application/vnd.jupyter.widget-view+json": {
       "version_major": 2,
       "version_minor": 0,
       "model_id": "fabf8417774741cdbfba8e9bfbf1d9d1"
      }
     },
     "metadata": {},
     "output_type": "display_data"
    },
    {
     "name": "stderr",
     "output_type": "stream",
     "text": [
      "Hardware accelerator e.g. GPU is available in the environment, but no `device` argument is passed to the `Pipeline` object. Model will be on CPU.\n"
     ]
    }
   ],
   "source": [
    "translator_de_en = FaceBookTranslatorProvider(\"de\", \"en\")\n",
    "translator_opus_de_en = pipeline(\"translation\", model=\"Helsinki-NLP/opus-mt-de-en\")"
   ],
   "metadata": {
    "collapsed": false,
    "ExecuteTime": {
     "end_time": "2025-01-09T07:44:50.835773200Z",
     "start_time": "2025-01-09T07:44:09.982719800Z"
    }
   },
   "id": "2721ecc318bcd9b"
  },
  {
   "cell_type": "code",
   "execution_count": 13,
   "outputs": [],
   "source": [
    "text_to_translate_de = \"Die Katzen (Felidae) sind eine Familie aus der Ordnung der Raubtiere (Carnivora) innerhalb der Überfamilie der Katzenartigen (Feloidea). Sie sind auf allen Kontinenten außer in den Polarregionen und Australasien und Ozeanien verbreitet, wobei die domestizierte Hauskatze durch den Menschen auch in diese Regionen vorgedrungen ist. Eingeteilt werden sie in Großkatzen wie beispielsweise Löwe, Tiger und Leopard und Kleinkatzen wie Wildkatze, Luchs und Ozelot, wobei zu den Kleinkatzen auch große Vertreter wie der Puma und der Gepard gehören. Fossil sind die Katzen vor allem durch die zu ihnen gehörenden Säbelzahnkatzen bekannt, die ältesten Katzenfunde sind etwa 30 Millionen Jahre alt. Mit der von der afrikanischen Falbkatze abstammenden Hauskatze wurde ein Vertreter der Familie durch Domestizierung zu einem weltweit gehaltenen Haustier. Katzen sind nahezu ausschließlich Fleischfresser und aktive Jäger. Im Erscheinungsbild und im Verhalten sind sich die meisten der heute lebenden Katzenarten sehr ähnlich.\""
   ],
   "metadata": {
    "collapsed": false,
    "ExecuteTime": {
     "end_time": "2025-01-09T07:46:10.447129600Z",
     "start_time": "2025-01-09T07:46:10.416189800Z"
    }
   },
   "id": "cac387960912716d"
  },
  {
   "cell_type": "code",
   "execution_count": 14,
   "outputs": [],
   "source": [
    "translated_opus_de_en = translator_opus_de_en(text_to_translate_de)\n",
    "translated_fb_de_en = translator_de_en.translate_text(text_to_translate_de)"
   ],
   "metadata": {
    "collapsed": false,
    "ExecuteTime": {
     "end_time": "2025-01-09T07:47:09.332680200Z",
     "start_time": "2025-01-09T07:47:01.660673100Z"
    }
   },
   "id": "21bf76c31f5e8c7f"
  },
  {
   "cell_type": "code",
   "execution_count": 15,
   "outputs": [
    {
     "name": "stdout",
     "output_type": "stream",
     "text": [
      "[{'translation_text': 'The cats (Felidae) are a family from the order of the predators (Carnivora) within the superfamily of the cat species (Feloidea). They are common on all continents except in the polar regions and Australasia and Oceania, whereby the domesticated domestic cat has also penetrated through the humans into these regions. They are classified in large cats such as lion, tiger and leopard and small cats such as wildcat, lynx and Ozelot, whereby among the small cats also large representatives such as the Puma and the Gepard. Fossil the cats are mainly known by the belonging saber tooth cats, the oldest cat finds are about 30 million years old. With the house cat descending from the African Falbcat became a representative of the family by domestication to a worldwide kept pet. Cats are almost exclusively meat-eaters and active hunters. In appearance and behavior most of the cat species living today are very similar.'}]\n"
     ]
    }
   ],
   "source": [
    "print(translated_opus_de_en)"
   ],
   "metadata": {
    "collapsed": false,
    "ExecuteTime": {
     "end_time": "2025-01-09T07:47:31.275126900Z",
     "start_time": "2025-01-09T07:47:31.262869500Z"
    }
   },
   "id": "b44d67d9c79ea86e"
  },
  {
   "cell_type": "code",
   "execution_count": 16,
   "outputs": [
    {
     "name": "stdout",
     "output_type": "stream",
     "text": [
      "The cats (Felidae) are a family from the order of the predators (Carnivora) within the superfamily of the feloids (Feloidea). They are widespread on all continents except in the polar regions and Australasia and Oceania and Oceania, whereby the domesticated the domesticated domestic cats by the humans also into these regions has penetrated into these regions. They are divided them, they are divided them, they are divided them, they are divided them, they are divided them, they are divided them, they are divided into them, they are them, they are divided into them, into them, they are them, they are divided into them, in the big cats, into them, into them, they, they, they, they, they, they, into them, into them, into them, into them, they, they, they, they are, are\n"
     ]
    }
   ],
   "source": [
    "print(translated_fb_de_en)"
   ],
   "metadata": {
    "collapsed": false,
    "ExecuteTime": {
     "end_time": "2025-01-09T07:47:41.553546100Z",
     "start_time": "2025-01-09T07:47:41.553546100Z"
    }
   },
   "id": "d5292bb5963d4f7c"
  },
  {
   "cell_type": "code",
   "execution_count": null,
   "outputs": [],
   "source": [],
   "metadata": {
    "collapsed": false
   },
   "id": "d8369e72a83d2aaa"
  }
 ],
 "metadata": {
  "kernelspec": {
   "display_name": "Python 3",
   "language": "python",
   "name": "python3"
  },
  "language_info": {
   "codemirror_mode": {
    "name": "ipython",
    "version": 2
   },
   "file_extension": ".py",
   "mimetype": "text/x-python",
   "name": "python",
   "nbconvert_exporter": "python",
   "pygments_lexer": "ipython2",
   "version": "2.7.6"
  }
 },
 "nbformat": 4,
 "nbformat_minor": 5
}
