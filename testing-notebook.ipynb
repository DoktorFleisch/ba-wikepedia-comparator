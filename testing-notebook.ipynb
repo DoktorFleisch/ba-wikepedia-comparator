{
 "cells": [
  {
   "cell_type": "code",
   "execution_count": 1,
   "id": "initial_id",
   "metadata": {
    "collapsed": true,
    "ExecuteTime": {
     "end_time": "2025-01-17T08:40:31.028397600Z",
     "start_time": "2025-01-17T08:40:23.995518700Z"
    }
   },
   "outputs": [
    {
     "name": "stderr",
     "output_type": "stream",
     "text": [
      "[nltk_data] Downloading package punkt to\n",
      "[nltk_data]     C:\\Users\\danie\\AppData\\Roaming\\nltk_data...\n",
      "[nltk_data]   Package punkt is already up-to-date!\n",
      "[nltk_data] Downloading package stopwords to\n",
      "[nltk_data]     C:\\Users\\danie\\AppData\\Roaming\\nltk_data...\n",
      "[nltk_data]   Package stopwords is already up-to-date!\n",
      "[nltk_data] Downloading package punkt to\n",
      "[nltk_data]     C:\\Users\\danie\\AppData\\Roaming\\nltk_data...\n",
      "[nltk_data]   Package punkt is already up-to-date!\n",
      "[nltk_data] Downloading package stopwords to\n",
      "[nltk_data]     C:\\Users\\danie\\AppData\\Roaming\\nltk_data...\n",
      "[nltk_data]   Package stopwords is already up-to-date!\n",
      "[nltk_data] Downloading package punkt_tab to\n",
      "[nltk_data]     C:\\Users\\danie\\AppData\\Roaming\\nltk_data...\n",
      "[nltk_data]   Package punkt_tab is already up-to-date!\n",
      "[nltk_data] Downloading package stopwords to\n",
      "[nltk_data]     C:\\Users\\danie\\AppData\\Roaming\\nltk_data...\n",
      "[nltk_data]   Package stopwords is already up-to-date!\n"
     ]
    },
    {
     "data": {
      "text/plain": "True"
     },
     "execution_count": 1,
     "metadata": {},
     "output_type": "execute_result"
    }
   ],
   "source": [
    "from analyzer.Translator import FaceBookTranslatorProvider\n",
    "from analyzer.Comparator import PCAComparator\n",
    "from analyzer.WikiAnalyzer import WikiAnalyzer\n",
    "from analyzer.EmbeddingService import SentenceTransformerEmbeddingService\n",
    "from analyzer.ArticleProcessor import ArticleProcessor\n",
    "\n",
    "import wikipediaapi\n",
    "import nltk\n",
    "nltk.download(\"punkt_tab\")  #note: maybe import this in the ArticleProcessor\n",
    "nltk.download('stopwords')"
   ]
  },
  {
   "cell_type": "code",
   "execution_count": 2,
   "outputs": [
    {
     "name": "stderr",
     "output_type": "stream",
     "text": [
      "Some weights of FSMTForConditionalGeneration were not initialized from the model checkpoint at facebook/wmt19-de-en and are newly initialized: ['model.decoder.embed_positions.weight', 'model.encoder.embed_positions.weight']\n",
      "You should probably TRAIN this model on a down-stream task to be able to use it for predictions and inference.\n",
      "Some weights of FSMTForConditionalGeneration were not initialized from the model checkpoint at facebook/wmt19-en-de and are newly initialized: ['model.decoder.embed_positions.weight', 'model.encoder.embed_positions.weight']\n",
      "You should probably TRAIN this model on a down-stream task to be able to use it for predictions and inference.\n"
     ]
    }
   ],
   "source": [
    "translator_de_en = FaceBookTranslatorProvider(\"de\", \"en\")\n",
    "translator_en_de = FaceBookTranslatorProvider(\"en\", \"de\")"
   ],
   "metadata": {
    "collapsed": false,
    "ExecuteTime": {
     "end_time": "2024-10-30T19:15:52.281046Z",
     "start_time": "2024-10-30T19:15:43.945178Z"
    }
   },
   "id": "c1b1cae5ea13469b"
  },
  {
   "cell_type": "code",
   "execution_count": 3,
   "outputs": [],
   "source": [
    "sentence_transformer_service = SentenceTransformerEmbeddingService('sentence-transformers/all-mpnet-base-v2')"
   ],
   "metadata": {
    "collapsed": false,
    "ExecuteTime": {
     "end_time": "2024-10-30T19:16:02.232192900Z",
     "start_time": "2024-10-30T19:16:00.051900300Z"
    }
   },
   "id": "d87fb3cbc4ccd7e5"
  },
  {
   "cell_type": "code",
   "execution_count": 6,
   "outputs": [],
   "source": [
    "article_processor = ArticleProcessor(\"Python (Programmiersprache)\", \"Python (programming language)\", 'de', 'en', 'en', translator_de_en)"
   ],
   "metadata": {
    "collapsed": false,
    "ExecuteTime": {
     "end_time": "2024-10-30T19:16:37.521071900Z",
     "start_time": "2024-10-30T19:16:37.511149800Z"
    }
   },
   "id": "db2376ebbc7ee9bb"
  },
  {
   "cell_type": "code",
   "execution_count": 14,
   "outputs": [],
   "source": [
    "comparator = PCAComparator('pairwise', 'article_to_subset', sentence_transformer_service, 0.5, 'sentence-wise', False)"
   ],
   "metadata": {
    "collapsed": false,
    "ExecuteTime": {
     "end_time": "2024-10-30T19:30:56.992987200Z",
     "start_time": "2024-10-30T19:30:56.982304900Z"
    }
   },
   "id": "3ca7965be3e09626"
  },
  {
   "cell_type": "code",
   "execution_count": 15,
   "outputs": [],
   "source": [
    "wikiana = WikiAnalyzer(article_processor, comparator)"
   ],
   "metadata": {
    "collapsed": false,
    "ExecuteTime": {
     "end_time": "2024-10-30T19:30:58.687441500Z",
     "start_time": "2024-10-30T19:30:58.677574500Z"
    }
   },
   "id": "8518f46cbf01c962"
  },
  {
   "cell_type": "code",
   "execution_count": 16,
   "outputs": [
    {
     "name": "stdout",
     "output_type": "stream",
     "text": [
      "caching the fileEntwicklungsgeschichte-Zielesubset_to_subset.pkl\n",
      "caching the fileHistory-Design philosophy and featuressubset_to_subset.pkl\n"
     ]
    }
   ],
   "source": [
    "test = wikiana.analyze()"
   ],
   "metadata": {
    "collapsed": false,
    "ExecuteTime": {
     "end_time": "2024-10-30T19:34:21.453177Z",
     "start_time": "2024-10-30T19:30:59.653700300Z"
    }
   },
   "id": "c50c0790a1141af"
  },
  {
   "cell_type": "code",
   "execution_count": 17,
   "outputs": [
    {
     "data": {
      "text/plain": "[('Indentation', 0.11007854342460632),\n ('Arithmetic operations', 0.11872213333845139),\n ('Methods', 0.12023129314184189)]"
     },
     "execution_count": 17,
     "metadata": {},
     "output_type": "execute_result"
    }
   ],
   "source": [
    "test"
   ],
   "metadata": {
    "collapsed": false,
    "ExecuteTime": {
     "end_time": "2024-10-30T19:34:55.570901700Z",
     "start_time": "2024-10-30T19:34:55.550676600Z"
    }
   },
   "id": "b2c6b6fec317b9ae"
  },
  {
   "cell_type": "code",
   "execution_count": 20,
   "outputs": [
    {
     "name": "stdout",
     "output_type": "stream",
     "text": [
      "Indentation\n"
     ]
    }
   ],
   "source": [
    "# print type of test\n",
    "type(test)\n",
    "print(test[0][0])"
   ],
   "metadata": {
    "collapsed": false,
    "ExecuteTime": {
     "end_time": "2024-10-30T19:37:42.321216800Z",
     "start_time": "2024-10-30T19:37:42.307400200Z"
    }
   },
   "id": "8bf9a01213bd374d"
  },
  {
   "cell_type": "code",
   "execution_count": 5,
   "outputs": [],
   "source": [
    "from nltk.corpus import stopwords\n",
    "import string\n",
    "\n",
    "def filter_stop_words(text, lang):\n",
    "    # Get the list of stop words from nltk\n",
    "    stop_words = set(stopwords.words('english' if lang == 'en' else 'german')) if lang in ['en', 'de'] else set()\n",
    "\n",
    "    #stop_words = set(stopwords.words('english'))\n",
    "\n",
    "    # Tokenize the text into words and punctuation\n",
    "    words = nltk.word_tokenize(text)\n",
    "\n",
    "    # Filter out the stop words\n",
    "    filtered_words = [word for word in words if word.lower() not in stop_words or word in string.punctuation]\n",
    "\n",
    "    # Reconstruct the text\n",
    "    filtered_text = \" \".join(filtered_words)\n",
    "\n",
    "    # Correct spacing around punctuation\n",
    "    filtered_text = filtered_text.replace(\" ,\", \",\").replace(\" .\", \".\").replace(\" !\", \"!\").replace(\" ?\", \"?\")\n",
    "    filtered_text = filtered_text.replace(\" ;\", \";\").replace(\" :\", \":\").replace(\" '\", \"'\")\n",
    "\n",
    "    return filtered_text"
   ],
   "metadata": {
    "collapsed": false,
    "ExecuteTime": {
     "end_time": "2024-10-30T18:49:50.030207200Z",
     "start_time": "2024-10-30T18:49:50.013249800Z"
    }
   },
   "id": "c9407495393c3df4"
  },
  {
   "cell_type": "code",
   "execution_count": 13,
   "outputs": [],
   "source": [
    " stop_section_names = ['Einzelnachweise', 'Weiterführende Literatur', 'Notes', 'Quellen',\n",
    "                         'Weblinks', 'Literatur', 'External links', 'Further reading', 'Sources',\n",
    "                         'See also', 'References', 'Further reading']\n",
    "\n",
    "user_agent = 'ba-thesis-comperator (daniel.warkus@hhu.de)'\n",
    "wiki = wikipediaapi.Wikipedia(user_agent=user_agent , language='de')\n",
    "page = wiki.page('Python (Programmiersprache)')\n",
    "\n",
    "sections = {}\n",
    "for section in page.sections:\n",
    "   if section.text != '' and section.title not in stop_section_names:\n",
    "       sections[section.title] = filter_stop_words(section.text, \"de\")\n",
    "       for subsection in section.sections:\n",
    "           if subsection.text != '' and subsection.title not in stop_section_names:\n",
    "               sections[subsection.title] = filter_stop_words(subsection.text,\"de\")\n"
   ],
   "metadata": {
    "collapsed": false,
    "ExecuteTime": {
     "end_time": "2024-10-30T18:53:45.260060700Z",
     "start_time": "2024-10-30T18:53:44.623654700Z"
    }
   },
   "id": "1e32b81915b3bfeb"
  },
  {
   "cell_type": "code",
   "execution_count": 15,
   "outputs": [],
   "source": [
    "import json\n",
    "with open('data.json', 'w') as f:\n",
    "    json.dump(sections, f, indent=4)"
   ],
   "metadata": {
    "collapsed": false,
    "ExecuteTime": {
     "end_time": "2024-10-30T18:54:39.905691800Z",
     "start_time": "2024-10-30T18:54:39.889210900Z"
    }
   },
   "id": "8cca178884de8861"
  },
  {
   "cell_type": "code",
   "execution_count": null,
   "outputs": [],
   "source": [
    "# refactored Comparator at line 140 and all other lines like name =... with os.path.join"
   ],
   "metadata": {
    "collapsed": false
   },
   "id": "f5eb57e5a466bbc0"
  },
  {
   "cell_type": "code",
   "execution_count": 3,
   "outputs": [],
   "source": [
    "wiki_wiki = wikipediaapi.Wikipedia('Bachelor-Thesis-Comparator (daniel.warkus@hhu.e)', 'de')\n",
    "page_py = wiki_wiki.page('Python (Programmiersprache)')"
   ],
   "metadata": {
    "collapsed": false,
    "ExecuteTime": {
     "end_time": "2024-10-31T08:41:52.544052800Z",
     "start_time": "2024-10-31T08:41:52.533082700Z"
    }
   },
   "id": "fcaf3b65eae89526"
  },
  {
   "cell_type": "code",
   "execution_count": 5,
   "outputs": [
    {
     "data": {
      "text/plain": "{'.Net-Framework': .Net-Framework (id: ??, ns: 0),\n '100-Dollar-Laptop': 100-Dollar-Laptop (id: ??, ns: 0),\n 'ABC (Programmiersprache)': ABC (Programmiersprache) (id: ??, ns: 0),\n 'APL (Programmiersprache)': APL (Programmiersprache) (id: ??, ns: 0),\n 'Algol 68': Algol 68 (id: ??, ns: 0),\n 'Allzweck-Programmiersprache': Allzweck-Programmiersprache (id: ??, ns: 0),\n 'AmigaOS': AmigaOS (id: ??, ns: 0),\n 'Amoeba (Betriebssystem)': Amoeba (Betriebssystem) (id: ??, ns: 0),\n 'Amsterdam': Amsterdam (id: ??, ns: 0),\n 'Anaconda (Python-Distribution)': Anaconda (Python-Distribution) (id: ??, ns: 0),\n 'Apache OpenOffice': Apache OpenOffice (id: ??, ns: 0),\n 'Arithmetik': Arithmetik (id: ??, ns: 0),\n 'Aspektorientierte Programmierung': Aspektorientierte Programmierung (id: ??, ns: 0),\n 'Assoziation (Psychologie)': Assoziation (Psychologie) (id: ??, ns: 0),\n 'Assoziatives Datenfeld': Assoziatives Datenfeld (id: ??, ns: 0),\n 'Ausnahmebehandlung': Ausnahmebehandlung (id: ??, ns: 0),\n 'Betriebssystem': Betriebssystem (id: ??, ns: 0),\n 'Blender (Software)': Blender (Software) (id: ??, ns: 0),\n 'Blockstruktur': Blockstruktur (id: ??, ns: 0),\n 'Books on Demand': Books on Demand (id: ??, ns: 0),\n 'Boost (C++-Bibliothek)': Boost (C++-Bibliothek) (id: ??, ns: 0),\n 'C++': C++ (id: ??, ns: 0),\n 'CLU (Programmiersprache)': CLU (Programmiersprache) (id: ??, ns: 0),\n 'C (Programmiersprache)': C (Programmiersprache) (id: ??, ns: 0),\n 'Centrum Wiskunde & Informatica': Centrum Wiskunde & Informatica (id: ??, ns: 0),\n 'Cinema 4D': Cinema 4D (id: ??, ns: 0),\n 'Civilization IV': Civilization IV (id: ??, ns: 0),\n 'Closure (Funktion)': Closure (Funktion) (id: ??, ns: 0),\n 'Cobra (Programmiersprache)': Cobra (Programmiersprache) (id: ??, ns: 0),\n 'Common Gateway Interface': Common Gateway Interface (id: ??, ns: 0),\n 'Compiler': Compiler (id: ??, ns: 0),\n 'Conda (Paketverwaltung)': Conda (Paketverwaltung) (id: ??, ns: 0),\n 'Continuation-Passing Style': Continuation-Passing Style (id: ??, ns: 0),\n 'Currying': Currying (id: ??, ns: 0),\n 'Cython': Cython (id: ??, ns: 0),\n 'Dart (Programmiersprache)': Dart (Programmiersprache) (id: ??, ns: 0),\n 'Datentyp': Datentyp (id: ??, ns: 0),\n 'Deep Learning': Deep Learning (id: ??, ns: 0),\n 'Django (Framework)': Django (Framework) (id: ??, ns: 0),\n 'Donald Knuth': Donald Knuth (id: ??, ns: 0),\n 'Don’t repeat yourself': Don’t repeat yourself (id: ??, ns: 0),\n 'Duck-Typing': Duck-Typing (id: ??, ns: 0),\n 'Dylan (Programmiersprache)': Dylan (Programmiersprache) (id: ??, ns: 0),\n 'Dynamische Programmiersprache': Dynamische Programmiersprache (id: ??, ns: 0),\n 'Dynamische Typisierung': Dynamische Typisierung (id: ??, ns: 0),\n 'EVE Online': EVE Online (id: ??, ns: 0),\n 'Eclipse (IDE)': Eclipse (IDE) (id: ??, ns: 0),\n 'Einrückungsstil': Einrückungsstil (id: ??, ns: 0),\n 'Emacs': Emacs (id: ??, ns: 0),\n 'Englische Sprache': Englische Sprache (id: ??, ns: 0),\n 'Eric Python IDE': Eric Python IDE (id: ??, ns: 0),\n 'Fakultät (Mathematik)': Fakultät (Mathematik) (id: ??, ns: 0),\n 'Fast Light Toolkit': Fast Light Toolkit (id: ??, ns: 0),\n 'Feld (Datentyp)': Feld (Datentyp) (id: ??, ns: 0),\n 'Flask': Flask (id: ??, ns: 0),\n 'Framework': Framework (id: ??, ns: 0),\n 'Funktionale Programmierung': Funktionale Programmierung (id: ??, ns: 0),\n 'GIMP': GIMP (id: ??, ns: 0),\n 'GUI-Builder': GUI-Builder (id: ??, ns: 0),\n 'GUI-Toolkit': GUI-Toolkit (id: ??, ns: 0),\n 'Garbage Collection': Garbage Collection (id: ??, ns: 0),\n 'Gemeinsame Normdatei': Gemeinsame Normdatei (id: ??, ns: 0),\n 'Glade (Programmierwerkzeug)': Glade (Programmierwerkzeug) (id: ??, ns: 0),\n 'Google Suche': Google Suche (id: ??, ns: 0),\n 'Grafische Benutzeroberfläche': Grafische Benutzeroberfläche (id: ??, ns: 0),\n 'Groovy': Groovy (id: ??, ns: 0),\n 'Guido van Rossum': Guido van Rossum (id: ??, ns: 0),\n 'Haskell (Programmiersprache)': Haskell (Programmiersprache) (id: ??, ns: 0),\n 'Haskell Brooks Curry': Haskell Brooks Curry (id: ??, ns: 0),\n 'Hypertext Transfer Protocol': Hypertext Transfer Protocol (id: ??, ns: 0),\n 'Höhere Programmiersprache': Höhere Programmiersprache (id: ??, ns: 0),\n 'IDLE': IDLE (id: ??, ns: 0),\n 'IPython': IPython (id: ??, ns: 0),\n 'Identität (Logik)': Identität (Logik) (id: ??, ns: 0),\n 'Imperative Programmierung': Imperative Programmierung (id: ??, ns: 0),\n 'Implementierung': Implementierung (id: ??, ns: 0),\n 'Integrierte Entwicklungsumgebung': Integrierte Entwicklungsumgebung (id: ??, ns: 0),\n 'IntelliJ IDEA': IntelliJ IDEA (id: ??, ns: 0),\n 'Internet Archive': Internet Archive (id: ??, ns: 0),\n 'Interpreter': Interpreter (id: ??, ns: 0),\n 'Interrupt': Interrupt (id: ??, ns: 0),\n 'IronPython': IronPython (id: ??, ns: 0),\n 'Iteration': Iteration (id: ??, ns: 0),\n 'Java-Laufzeitumgebung': Java-Laufzeitumgebung (id: ??, ns: 0),\n 'Java (Programmiersprache)': Java (Programmiersprache) (id: ??, ns: 0),\n 'Just-in-time-Kompilierung': Just-in-time-Kompilierung (id: ??, ns: 0),\n 'Jython': Jython (id: ??, ns: 0),\n 'Keras': Keras (id: ??, ns: 0),\n 'KiCad': KiCad (id: ??, ns: 0),\n 'Kivy': Kivy (id: ??, ns: 0),\n 'Klasse (Objektorientierung)': Klasse (Objektorientierung) (id: ??, ns: 0),\n 'Kommandozeile': Kommandozeile (id: ??, ns: 0),\n 'Kommandozeileninterpreter': Kommandozeileninterpreter (id: ??, ns: 0),\n 'Komplexe Zahl': Komplexe Zahl (id: ??, ns: 0),\n 'Künstliche Intelligenz': Künstliche Intelligenz (id: ??, ns: 0),\n 'Laufzeitfehler': Laufzeitfehler (id: ??, ns: 0),\n 'Leerraum': Leerraum (id: ??, ns: 0),\n 'Library of Congress Control Number': Library of Congress Control Number (id: ??, ns: 0),\n 'LibreOffice': LibreOffice (id: ??, ns: 0),\n 'Lisp': Lisp (id: ??, ns: 0),\n 'Liste der IPA-Zeichen': Liste der IPA-Zeichen (id: ??, ns: 0),\n 'Lizenz': Lizenz (id: ??, ns: 0),\n 'MacOS': MacOS (id: ??, ns: 0),\n 'Maschinelles Lernen': Maschinelles Lernen (id: ??, ns: 0),\n 'Matplotlib': Matplotlib (id: ??, ns: 0),\n 'Maya (Software)': Maya (Software) (id: ??, ns: 0),\n 'Mehrfachvererbung': Mehrfachvererbung (id: ??, ns: 0),\n 'Menge (Datenstruktur)': Menge (Datenstruktur) (id: ??, ns: 0),\n 'Menge (Mathematik)': Menge (Mathematik) (id: ??, ns: 0),\n 'Mengenlehre': Mengenlehre (id: ??, ns: 0),\n 'MicroPython': MicroPython (id: ??, ns: 0),\n 'Microsoft Windows': Microsoft Windows (id: ??, ns: 0),\n 'Mikrocontroller': Mikrocontroller (id: ??, ns: 0),\n 'Miranda (Programmiersprache)': Miranda (Programmiersprache) (id: ??, ns: 0),\n 'Mobiltelefon': Mobiltelefon (id: ??, ns: 0),\n 'Modula-3': Modula-3 (id: ??, ns: 0),\n 'Mono (Software)': Mono (Software) (id: ??, ns: 0),\n 'Monty Python': Monty Python (id: ??, ns: 0),\n 'Monty Python’s Flying Circus': Monty Python’s Flying Circus (id: ??, ns: 0),\n 'Multiprozessor': Multiprozessor (id: ??, ns: 0),\n 'Multipurpose Internet Mail Extensions': Multipurpose Internet Mail Extensions (id: ??, ns: 0),\n 'NetBeans IDE': NetBeans IDE (id: ??, ns: 0),\n 'NumPy': NumPy (id: ??, ns: 0),\n 'Objective CAML': Objective CAML (id: ??, ns: 0),\n 'Objektorientierte Programmierung': Objektorientierte Programmierung (id: ??, ns: 0),\n 'PHP': PHP (id: ??, ns: 0),\n 'Paketverwaltung': Paketverwaltung (id: ??, ns: 0),\n 'Parrot': Parrot (id: ??, ns: 0),\n 'Parser': Parser (id: ??, ns: 0),\n 'Pattern Matching': Pattern Matching (id: ??, ns: 0),\n 'Perl (Programmiersprache)': Perl (Programmiersprache) (id: ??, ns: 0),\n 'Peter J. Landin': Peter J. Landin (id: ??, ns: 0),\n 'Pip (Python)': Pip (Python) (id: ??, ns: 0),\n 'Plattformunabhängigkeit': Plattformunabhängigkeit (id: ??, ns: 0),\n 'Plug-in': Plug-in (id: ??, ns: 0),\n 'Programmierparadigma': Programmierparadigma (id: ??, ns: 0),\n 'Project Jupyter': Project Jupyter (id: ??, ns: 0),\n 'Prozedurale Programmierung': Prozedurale Programmierung (id: ??, ns: 0),\n 'PyCharm': PyCharm (id: ??, ns: 0),\n 'PyFLTK': PyFLTK (id: ??, ns: 0),\n 'PyGTK': PyGTK (id: ??, ns: 0),\n 'PyMOL': PyMOL (id: ??, ns: 0),\n 'PyObjC': PyObjC (id: ??, ns: 0),\n 'PyPy': PyPy (id: ??, ns: 0),\n 'PyQt': PyQt (id: ??, ns: 0),\n 'PyTorch': PyTorch (id: ??, ns: 0),\n 'Python Software Foundation': Python Software Foundation (id: ??, ns: 0),\n 'Pythons': Pythons (id: ??, ns: 0),\n 'QGIS': QGIS (id: ??, ns: 0),\n 'Qt Designer': Qt Designer (id: ??, ns: 0),\n 'Quellcode': Quellcode (id: ??, ns: 0),\n 'Quicksort': Quicksort (id: ??, ns: 0),\n 'ROM': ROM (id: ??, ns: 0),\n 'Race Condition': Race Condition (id: ??, ns: 0),\n 'Raspberry Pi': Raspberry Pi (id: ??, ns: 0),\n 'Referenzzählung': Referenzzählung (id: ??, ns: 0),\n 'Reflexion (Programmierung)': Reflexion (Programmierung) (id: ??, ns: 0),\n 'Regulärer Ausdruck': Regulärer Ausdruck (id: ??, ns: 0),\n 'Relationale Datenbank': Relationale Datenbank (id: ??, ns: 0),\n 'Ruby (Programmiersprache)': Ruby (Programmiersprache) (id: ??, ns: 0),\n 'SPSS': SPSS (id: ??, ns: 0),\n 'SQLAlchemy': SQLAlchemy (id: ??, ns: 0),\n 'Schlüsselwort (Programmierung)': Schlüsselwort (Programmierung) (id: ??, ns: 0),\n 'SciPy': SciPy (id: ??, ns: 0),\n 'Scikit-learn': Scikit-learn (id: ??, ns: 0),\n 'Shell (Betriebssystem)': Shell (Betriebssystem) (id: ??, ns: 0),\n 'Skriptsprache': Skriptsprache (id: ??, ns: 0),\n 'Smalltalk (Programmiersprache)': Smalltalk (Programmiersprache) (id: ??, ns: 0),\n 'Softwareseitiges Multithreading': Softwareseitiges Multithreading (id: ??, ns: 0),\n 'Spyder (Software)': Spyder (Software) (id: ??, ns: 0),\n 'Standard ML': Standard ML (id: ??, ns: 0),\n 'Standardbibliothek': Standardbibliothek (id: ??, ns: 0),\n 'Stapelspeicher': Stapelspeicher (id: ??, ns: 0),\n 'Starke Typisierung': Starke Typisierung (id: ??, ns: 0),\n 'Strukturierte Programmierung': Strukturierte Programmierung (id: ??, ns: 0),\n 'Symbian-Plattform': Symbian-Plattform (id: ??, ns: 0),\n 'Syntaxfehler': Syntaxfehler (id: ??, ns: 0),\n 'Tabulatorzeichen': Tabulatorzeichen (id: ??, ns: 0),\n 'Tcl': Tcl (id: ??, ns: 0),\n 'TensorFlow': TensorFlow (id: ??, ns: 0),\n 'Ternärer Operator': Ternärer Operator (id: ??, ns: 0),\n 'Thread (Informatik)': Thread (Informatik) (id: ??, ns: 0),\n 'Tk (Toolkit)': Tk (Toolkit) (id: ??, ns: 0),\n 'Tkinter': Tkinter (id: ??, ns: 0),\n 'Tony Hoare': Tony Hoare (id: ??, ns: 0),\n 'Tupel (Informatik)': Tupel (Informatik) (id: ??, ns: 0),\n 'Turtle-Grafik': Turtle-Grafik (id: ??, ns: 0),\n 'Typisierung (Informatik)': Typisierung (Informatik) (id: ??, ns: 0),\n 'Typsicherheit': Typsicherheit (id: ??, ns: 0),\n 'Typsystem': Typsystem (id: ??, ns: 0),\n 'Unicode': Unicode (id: ??, ns: 0),\n 'University of Waterloo': University of Waterloo (id: ??, ns: 0),\n 'Unix': Unix (id: ??, ns: 0),\n 'Unixoid': Unixoid (id: ??, ns: 0),\n 'Vererbung (Programmierung)': Vererbung (Programmierung) (id: ??, ns: 0),\n 'Version (Software)': Version (Software) (id: ??, ns: 0),\n 'Vim': Vim (id: ??, ns: 0),\n 'Visual Studio': Visual Studio (id: ??, ns: 0),\n 'Web-Archivierung': Web-Archivierung (id: ??, ns: 0),\n 'Web2py': Web2py (id: ??, ns: 0),\n 'Web Server Gateway Interface': Web Server Gateway Interface (id: ??, ns: 0),\n 'Wiki': Wiki (id: ??, ns: 0),\n 'Wissenschaftsgemeinde': Wissenschaftsgemeinde (id: ??, ns: 0),\n 'World in Conflict': World in Conflict (id: ??, ns: 0),\n 'Wrapper (Software)': Wrapper (Software) (id: ??, ns: 0),\n 'WxPython': WxPython (id: ??, ns: 0),\n 'YouTube': YouTube (id: ??, ns: 0),\n 'Zeichenkette': Zeichenkette (id: ??, ns: 0),\n 'Zope (Webanwendungsserver)': Zope (Webanwendungsserver) (id: ??, ns: 0),\n 'Wikipedia:Lesenswerte Artikel': Wikipedia:Lesenswerte Artikel (id: ??, ns: 4),\n 'Portal:Gesprochene Wikipedia': Portal:Gesprochene Wikipedia (id: ??, ns: 100)}"
     },
     "execution_count": 5,
     "metadata": {},
     "output_type": "execute_result"
    }
   ],
   "source": [
    "# print langlinks\n",
    "page_py.links\n"
   ],
   "metadata": {
    "collapsed": false,
    "ExecuteTime": {
     "end_time": "2024-10-31T08:42:55.298352100Z",
     "start_time": "2024-10-31T08:42:55.127231200Z"
    }
   },
   "id": "8f7d3c8b4ffa97c8"
  },
  {
   "cell_type": "code",
   "execution_count": 34,
   "outputs": [
    {
     "data": {
      "text/plain": "'Python (programming language)'"
     },
     "execution_count": 34,
     "metadata": {},
     "output_type": "execute_result"
    }
   ],
   "source": [
    "langlinks = page_py.langlinks\n",
    "en_link = langlinks['en']\n",
    "# get the english title from the langlinks\n",
    "en_title = en_link.title\n",
    "en_title"
   ],
   "metadata": {
    "collapsed": false,
    "ExecuteTime": {
     "end_time": "2024-10-30T20:52:15.587957800Z",
     "start_time": "2024-10-30T20:52:15.571249300Z"
    }
   },
   "id": "a895f9ebed72ffa8"
  },
  {
   "cell_type": "code",
   "execution_count": 10,
   "outputs": [
    {
     "ename": "TypeError",
     "evalue": "Object of type set is not JSON serializable",
     "output_type": "error",
     "traceback": [
      "\u001B[1;31m---------------------------------------------------------------------------\u001B[0m",
      "\u001B[1;31mTypeError\u001B[0m                                 Traceback (most recent call last)",
      "Cell \u001B[1;32mIn[10], line 4\u001B[0m\n\u001B[0;32m      2\u001B[0m \u001B[38;5;28;01mimport\u001B[39;00m \u001B[38;5;21;01mjson\u001B[39;00m\n\u001B[0;32m      3\u001B[0m \u001B[38;5;28;01mwith\u001B[39;00m \u001B[38;5;28mopen\u001B[39m(\u001B[38;5;124m'\u001B[39m\u001B[38;5;124mdata.json\u001B[39m\u001B[38;5;124m'\u001B[39m, \u001B[38;5;124m'\u001B[39m\u001B[38;5;124mw\u001B[39m\u001B[38;5;124m'\u001B[39m) \u001B[38;5;28;01mas\u001B[39;00m f:\n\u001B[1;32m----> 4\u001B[0m     \u001B[43mjson\u001B[49m\u001B[38;5;241;43m.\u001B[39;49m\u001B[43mdump\u001B[49m\u001B[43m(\u001B[49m\u001B[43mloaded_data\u001B[49m\u001B[43m,\u001B[49m\u001B[43m \u001B[49m\u001B[43mf\u001B[49m\u001B[43m)\u001B[49m\n",
      "File \u001B[1;32m~\\AppData\\Local\\Programs\\Python\\Python312\\Lib\\json\\__init__.py:179\u001B[0m, in \u001B[0;36mdump\u001B[1;34m(obj, fp, skipkeys, ensure_ascii, check_circular, allow_nan, cls, indent, separators, default, sort_keys, **kw)\u001B[0m\n\u001B[0;32m    173\u001B[0m     iterable \u001B[38;5;241m=\u001B[39m \u001B[38;5;28mcls\u001B[39m(skipkeys\u001B[38;5;241m=\u001B[39mskipkeys, ensure_ascii\u001B[38;5;241m=\u001B[39mensure_ascii,\n\u001B[0;32m    174\u001B[0m         check_circular\u001B[38;5;241m=\u001B[39mcheck_circular, allow_nan\u001B[38;5;241m=\u001B[39mallow_nan, indent\u001B[38;5;241m=\u001B[39mindent,\n\u001B[0;32m    175\u001B[0m         separators\u001B[38;5;241m=\u001B[39mseparators,\n\u001B[0;32m    176\u001B[0m         default\u001B[38;5;241m=\u001B[39mdefault, sort_keys\u001B[38;5;241m=\u001B[39msort_keys, \u001B[38;5;241m*\u001B[39m\u001B[38;5;241m*\u001B[39mkw)\u001B[38;5;241m.\u001B[39miterencode(obj)\n\u001B[0;32m    177\u001B[0m \u001B[38;5;66;03m# could accelerate with writelines in some versions of Python, at\u001B[39;00m\n\u001B[0;32m    178\u001B[0m \u001B[38;5;66;03m# a debuggability cost\u001B[39;00m\n\u001B[1;32m--> 179\u001B[0m \u001B[43m\u001B[49m\u001B[38;5;28;43;01mfor\u001B[39;49;00m\u001B[43m \u001B[49m\u001B[43mchunk\u001B[49m\u001B[43m \u001B[49m\u001B[38;5;129;43;01min\u001B[39;49;00m\u001B[43m \u001B[49m\u001B[43miterable\u001B[49m\u001B[43m:\u001B[49m\n\u001B[0;32m    180\u001B[0m \u001B[43m    \u001B[49m\u001B[43mfp\u001B[49m\u001B[38;5;241;43m.\u001B[39;49m\u001B[43mwrite\u001B[49m\u001B[43m(\u001B[49m\u001B[43mchunk\u001B[49m\u001B[43m)\u001B[49m\n",
      "File \u001B[1;32m~\\AppData\\Local\\Programs\\Python\\Python312\\Lib\\json\\encoder.py:432\u001B[0m, in \u001B[0;36m_make_iterencode.<locals>._iterencode\u001B[1;34m(o, _current_indent_level)\u001B[0m\n\u001B[0;32m    430\u001B[0m     \u001B[38;5;28;01myield from\u001B[39;00m _iterencode_list(o, _current_indent_level)\n\u001B[0;32m    431\u001B[0m \u001B[38;5;28;01melif\u001B[39;00m \u001B[38;5;28misinstance\u001B[39m(o, \u001B[38;5;28mdict\u001B[39m):\n\u001B[1;32m--> 432\u001B[0m     \u001B[38;5;28;01myield from\u001B[39;00m _iterencode_dict(o, _current_indent_level)\n\u001B[0;32m    433\u001B[0m \u001B[38;5;28;01melse\u001B[39;00m:\n\u001B[0;32m    434\u001B[0m     \u001B[38;5;28;01mif\u001B[39;00m markers \u001B[38;5;129;01mis\u001B[39;00m \u001B[38;5;129;01mnot\u001B[39;00m \u001B[38;5;28;01mNone\u001B[39;00m:\n",
      "File \u001B[1;32m~\\AppData\\Local\\Programs\\Python\\Python312\\Lib\\json\\encoder.py:406\u001B[0m, in \u001B[0;36m_make_iterencode.<locals>._iterencode_dict\u001B[1;34m(dct, _current_indent_level)\u001B[0m\n\u001B[0;32m    404\u001B[0m         \u001B[38;5;28;01melse\u001B[39;00m:\n\u001B[0;32m    405\u001B[0m             chunks \u001B[38;5;241m=\u001B[39m _iterencode(value, _current_indent_level)\n\u001B[1;32m--> 406\u001B[0m         \u001B[38;5;28;01myield from\u001B[39;00m chunks\n\u001B[0;32m    407\u001B[0m \u001B[38;5;28;01mif\u001B[39;00m newline_indent \u001B[38;5;129;01mis\u001B[39;00m \u001B[38;5;129;01mnot\u001B[39;00m \u001B[38;5;28;01mNone\u001B[39;00m:\n\u001B[0;32m    408\u001B[0m     _current_indent_level \u001B[38;5;241m-\u001B[39m\u001B[38;5;241m=\u001B[39m \u001B[38;5;241m1\u001B[39m\n",
      "File \u001B[1;32m~\\AppData\\Local\\Programs\\Python\\Python312\\Lib\\json\\encoder.py:439\u001B[0m, in \u001B[0;36m_make_iterencode.<locals>._iterencode\u001B[1;34m(o, _current_indent_level)\u001B[0m\n\u001B[0;32m    437\u001B[0m         \u001B[38;5;28;01mraise\u001B[39;00m \u001B[38;5;167;01mValueError\u001B[39;00m(\u001B[38;5;124m\"\u001B[39m\u001B[38;5;124mCircular reference detected\u001B[39m\u001B[38;5;124m\"\u001B[39m)\n\u001B[0;32m    438\u001B[0m     markers[markerid] \u001B[38;5;241m=\u001B[39m o\n\u001B[1;32m--> 439\u001B[0m o \u001B[38;5;241m=\u001B[39m \u001B[43m_default\u001B[49m\u001B[43m(\u001B[49m\u001B[43mo\u001B[49m\u001B[43m)\u001B[49m\n\u001B[0;32m    440\u001B[0m \u001B[38;5;28;01myield from\u001B[39;00m _iterencode(o, _current_indent_level)\n\u001B[0;32m    441\u001B[0m \u001B[38;5;28;01mif\u001B[39;00m markers \u001B[38;5;129;01mis\u001B[39;00m \u001B[38;5;129;01mnot\u001B[39;00m \u001B[38;5;28;01mNone\u001B[39;00m:\n",
      "File \u001B[1;32m~\\AppData\\Local\\Programs\\Python\\Python312\\Lib\\json\\encoder.py:180\u001B[0m, in \u001B[0;36mJSONEncoder.default\u001B[1;34m(self, o)\u001B[0m\n\u001B[0;32m    161\u001B[0m \u001B[38;5;28;01mdef\u001B[39;00m \u001B[38;5;21mdefault\u001B[39m(\u001B[38;5;28mself\u001B[39m, o):\n\u001B[0;32m    162\u001B[0m \u001B[38;5;250m    \u001B[39m\u001B[38;5;124;03m\"\"\"Implement this method in a subclass such that it returns\u001B[39;00m\n\u001B[0;32m    163\u001B[0m \u001B[38;5;124;03m    a serializable object for ``o``, or calls the base implementation\u001B[39;00m\n\u001B[0;32m    164\u001B[0m \u001B[38;5;124;03m    (to raise a ``TypeError``).\u001B[39;00m\n\u001B[1;32m   (...)\u001B[0m\n\u001B[0;32m    178\u001B[0m \n\u001B[0;32m    179\u001B[0m \u001B[38;5;124;03m    \"\"\"\u001B[39;00m\n\u001B[1;32m--> 180\u001B[0m     \u001B[38;5;28;01mraise\u001B[39;00m \u001B[38;5;167;01mTypeError\u001B[39;00m(\u001B[38;5;124mf\u001B[39m\u001B[38;5;124m'\u001B[39m\u001B[38;5;124mObject of type \u001B[39m\u001B[38;5;132;01m{\u001B[39;00mo\u001B[38;5;241m.\u001B[39m\u001B[38;5;18m__class__\u001B[39m\u001B[38;5;241m.\u001B[39m\u001B[38;5;18m__name__\u001B[39m\u001B[38;5;132;01m}\u001B[39;00m\u001B[38;5;124m \u001B[39m\u001B[38;5;124m'\u001B[39m\n\u001B[0;32m    181\u001B[0m                     \u001B[38;5;124mf\u001B[39m\u001B[38;5;124m'\u001B[39m\u001B[38;5;124mis not JSON serializable\u001B[39m\u001B[38;5;124m'\u001B[39m)\n",
      "\u001B[1;31mTypeError\u001B[0m: Object of type set is not JSON serializable"
     ]
    }
   ],
   "source": [
    "# safe the data in a json file\n",
    "import json\n",
    "with open('data.json', 'w') as f:\n",
    "    json.dump(loaded_data, f)"
   ],
   "metadata": {
    "collapsed": false,
    "ExecuteTime": {
     "end_time": "2024-10-29T16:30:32.743206900Z",
     "start_time": "2024-10-29T16:30:31.652598700Z"
    }
   },
   "id": "795fa33a839b4222"
  },
  {
   "cell_type": "code",
   "execution_count": 21,
   "outputs": [],
   "source": [
    "import Controlling"
   ],
   "metadata": {
    "collapsed": false,
    "ExecuteTime": {
     "end_time": "2024-10-30T20:07:00.561012200Z",
     "start_time": "2024-10-30T20:07:00.530863Z"
    }
   },
   "id": "4863e7fe50165773"
  },
  {
   "cell_type": "code",
   "execution_count": 24,
   "outputs": [],
   "source": [
    "page_test = Controlling.get_article(\"Bienen2\")"
   ],
   "metadata": {
    "collapsed": false,
    "ExecuteTime": {
     "end_time": "2024-10-30T20:07:43.220588500Z",
     "start_time": "2024-10-30T20:07:43.024300600Z"
    }
   },
   "id": "ece3788b186533ec"
  },
  {
   "cell_type": "code",
   "execution_count": 25,
   "outputs": [
    {
     "data": {
      "text/plain": "'No article found'"
     },
     "execution_count": 25,
     "metadata": {},
     "output_type": "execute_result"
    }
   ],
   "source": [
    "page_test"
   ],
   "metadata": {
    "collapsed": false,
    "ExecuteTime": {
     "end_time": "2024-10-30T20:07:43.983763200Z",
     "start_time": "2024-10-30T20:07:43.976056200Z"
    }
   },
   "id": "1d5e541179d45fb5"
  },
  {
   "cell_type": "code",
   "execution_count": 1,
   "outputs": [],
   "source": [
    "import sentencepiece\n"
   ],
   "metadata": {
    "collapsed": false,
    "ExecuteTime": {
     "end_time": "2024-10-30T22:28:43.585544200Z",
     "start_time": "2024-10-30T22:28:43.576150700Z"
    }
   },
   "id": "4c43dfc3b62b5d4e"
  },
  {
   "cell_type": "code",
   "execution_count": 2,
   "outputs": [
    {
     "data": {
      "text/plain": "source.spm:   0%|          | 0.00/768k [00:00<?, ?B/s]",
      "application/vnd.jupyter.widget-view+json": {
       "version_major": 2,
       "version_minor": 0,
       "model_id": "f5449a62a42548be9704c77ce1208217"
      }
     },
     "metadata": {},
     "output_type": "display_data"
    },
    {
     "name": "stderr",
     "output_type": "stream",
     "text": [
      "C:\\Users\\danie\\Documents\\Uni\\Semester 15\\BA\\ba-translator\\venv\\Lib\\site-packages\\huggingface_hub\\file_download.py:139: UserWarning: `huggingface_hub` cache-system uses symlinks by default to efficiently store duplicated files but your machine does not support them in C:\\Users\\danie\\.cache\\huggingface\\hub\\models--Helsinki-NLP--opus-mt-en-de. Caching files will still work but in a degraded version that might require more space on your disk. This warning can be disabled by setting the `HF_HUB_DISABLE_SYMLINKS_WARNING` environment variable. For more details, see https://huggingface.co/docs/huggingface_hub/how-to-cache#limitations.\n",
      "To support symlinks on Windows, you either need to activate Developer Mode or to run Python as an administrator. In order to activate developer mode, see this article: https://docs.microsoft.com/en-us/windows/apps/get-started/enable-your-device-for-development\n",
      "  warnings.warn(message)\n"
     ]
    },
    {
     "data": {
      "text/plain": "target.spm:   0%|          | 0.00/797k [00:00<?, ?B/s]",
      "application/vnd.jupyter.widget-view+json": {
       "version_major": 2,
       "version_minor": 0,
       "model_id": "ec27d4c953e34306b3a6bc8daa39f3c9"
      }
     },
     "metadata": {},
     "output_type": "display_data"
    },
    {
     "data": {
      "text/plain": "vocab.json:   0%|          | 0.00/1.27M [00:00<?, ?B/s]",
      "application/vnd.jupyter.widget-view+json": {
       "version_major": 2,
       "version_minor": 0,
       "model_id": "0d15d8fe49c24b8b8914af15a4cbbf27"
      }
     },
     "metadata": {},
     "output_type": "display_data"
    },
    {
     "name": "stdout",
     "output_type": "stream",
     "text": [
      "[{'translation_text': 'Dies ist ein Satz, der vom Englischen ins Deutsche übersetzt werden soll.'}]\n"
     ]
    }
   ],
   "source": [
    "from transformers import pipeline\n",
    "import torch\n",
    "translator = pipeline('translation', model='Helsinki-NLP/opus-mt-en-de')\n",
    "translated_text = translator(\"This is a sentence to translate from English to German.\")\n",
    "print(translated_text)"
   ],
   "metadata": {
    "collapsed": false,
    "ExecuteTime": {
     "end_time": "2024-10-30T22:28:57.196956900Z",
     "start_time": "2024-10-30T22:28:44.760870900Z"
    }
   },
   "id": "f85a3bc71ba85ee2"
  },
  {
   "cell_type": "code",
   "execution_count": 3,
   "outputs": [
    {
     "data": {
      "text/plain": "list"
     },
     "execution_count": 3,
     "metadata": {},
     "output_type": "execute_result"
    }
   ],
   "source": [
    "type(translated_text)"
   ],
   "metadata": {
    "collapsed": false,
    "ExecuteTime": {
     "end_time": "2024-10-30T22:29:09.846447300Z",
     "start_time": "2024-10-30T22:29:09.826160700Z"
    }
   },
   "id": "ca1cd9a571422bc"
  },
  {
   "cell_type": "code",
   "execution_count": 4,
   "outputs": [
    {
     "data": {
      "text/plain": "'Dies ist ein Satz, der vom Englischen ins Deutsche übersetzt werden soll.'"
     },
     "execution_count": 4,
     "metadata": {},
     "output_type": "execute_result"
    }
   ],
   "source": [
    "translated_text[0]['translation_text']"
   ],
   "metadata": {
    "collapsed": false,
    "ExecuteTime": {
     "end_time": "2024-10-30T22:29:15.772127900Z",
     "start_time": "2024-10-30T22:29:15.747761800Z"
    }
   },
   "id": "17d1a97655426609"
  },
  {
   "cell_type": "markdown",
   "source": [
    "Cprofile zum testen für geschwindigkeit\n",
    "\n",
    "output ascii -> lerne zu lesen (obersten 5-10 Einträge)\n",
    "\n",
    "Codeblock parallelisieren\n",
    "\n",
    "Bessre Überssetzung?\n",
    "\n",
    "timemodul start:stop"
   ],
   "metadata": {
    "collapsed": false
   },
   "id": "fa4f62d81be2dabc"
  }
 ],
 "metadata": {
  "kernelspec": {
   "display_name": "Python 3",
   "language": "python",
   "name": "python3"
  },
  "language_info": {
   "codemirror_mode": {
    "name": "ipython",
    "version": 2
   },
   "file_extension": ".py",
   "mimetype": "text/x-python",
   "name": "python",
   "nbconvert_exporter": "python",
   "pygments_lexer": "ipython2",
   "version": "2.7.6"
  }
 },
 "nbformat": 4,
 "nbformat_minor": 5
}
